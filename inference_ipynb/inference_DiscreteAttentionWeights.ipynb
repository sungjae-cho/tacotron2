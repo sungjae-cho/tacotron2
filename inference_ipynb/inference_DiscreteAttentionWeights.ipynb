{
 "cells": [
  {
   "cell_type": "markdown",
   "metadata": {},
   "source": [
    "# Generate audios by the trained model with discrete attention weights\n",
    "\n",
    "- Running date: 2020-07-21\n",
    "- Purpose: Check how audio results vary with discrete attention weights.\n",
    "\n",
    "## Cases to check\n",
    "1. Continous attention weights\n",
    "1. Discrete attention weights\n",
    "  - At each decoding step, the maximum attention weight is discretized to 1 and the others to 0.\n",
    "  - The discretized attention weights are cumulated to the cumulative attention, which is an input of the attention network.\n",
    "1. Discrete attention weights: Only nonmax values\n",
    "  - At each decoding step, the only nonmax attention weights are discretized to 0.\n",
    "1. Discrete attention weights: Only maximums\n",
    "  - At each decoding step, the only maximum attention weight is discretized to 1."
   ]
  },
  {
   "cell_type": "markdown",
   "metadata": {},
   "source": [
    "## 1. Load a trained model"
   ]
  },
  {
   "cell_type": "code",
   "execution_count": 1,
   "metadata": {},
   "outputs": [
    {
     "name": "stdout",
     "output_type": "stream",
     "text": [
      "The working directory is moved from /data2/sungjaecho/Projects/tacotron2/inference_ipynb to /data2/sungjaecho/Projects/tacotron2.\n"
     ]
    }
   ],
   "source": [
    "import os\n",
    "cwd_old = os.getcwd()\n",
    "os.chdir('..')\n",
    "cwd_new = os.getcwd()\n",
    "print(\"The working directory is moved from {} to {}.\".format(cwd_old, cwd_new))"
   ]
  },
  {
   "cell_type": "code",
   "execution_count": 2,
   "metadata": {},
   "outputs": [],
   "source": [
    "# Hide warning to make the notebook clear.\n",
    "import warnings\n",
    "#warnings.filterwarnings('ignore')"
   ]
  },
  {
   "cell_type": "code",
   "execution_count": 3,
   "metadata": {},
   "outputs": [],
   "source": [
    "import os\n",
    "os.environ[\"CUDA_VISIBLE_DEVICES\"]=\"4\""
   ]
  },
  {
   "cell_type": "markdown",
   "metadata": {},
   "source": [
    "#### Import libraries and setup matplotlib"
   ]
  },
  {
   "cell_type": "code",
   "execution_count": 4,
   "metadata": {},
   "outputs": [],
   "source": [
    "import matplotlib\n",
    "%matplotlib inline\n",
    "import matplotlib.pylab as plt\n",
    "\n",
    "import IPython.display as ipd\n",
    "\n",
    "import sys\n",
    "sys.path.append('waveglow/')\n",
    "import numpy as np\n",
    "import torch\n",
    "\n",
    "from hparams import create_hparams\n",
    "from data_utils import TextMelLoader\n",
    "from model import Tacotron2\n",
    "from layers import TacotronSTFT, STFT\n",
    "from train import load_model\n",
    "from text import text_to_sequence\n",
    "from denoiser import Denoiser\n",
    "from utils import load_pretrained_model"
   ]
  },
  {
   "cell_type": "code",
   "execution_count": 5,
   "metadata": {},
   "outputs": [],
   "source": [
    "def plot_data(data, figsize=(16, 4)):\n",
    "    fig, axes = plt.subplots(1, len(data), figsize=figsize)\n",
    "    for i in range(len(data)):\n",
    "        axes[i].imshow(data[i], aspect='auto', origin='bottom', \n",
    "                       interpolation='none')\n",
    "    # Turn interactive plotting off\n",
    "    plt.ioff()"
   ]
  },
  {
   "cell_type": "markdown",
   "metadata": {},
   "source": [
    "#### Setup hparams"
   ]
  },
  {
   "cell_type": "code",
   "execution_count": 6,
   "metadata": {},
   "outputs": [
    {
     "name": "stdout",
     "output_type": "stream",
     "text": [
      "WARNING:tensorflow:\n",
      "The TensorFlow contrib module will not be included in TensorFlow 2.0.\n",
      "For more information, please see:\n",
      "  * https://github.com/tensorflow/community/blob/master/rfcs/20180907-contrib-sunset.md\n",
      "  * https://github.com/tensorflow/addons\n",
      "  * https://github.com/tensorflow/io (for I/O related ops)\n",
      "If you depend on functionality not listed there, please file an issue.\n",
      "\n"
     ]
    }
   ],
   "source": [
    "hparams = create_hparams()\n",
    "hparams.batch_size=32\n",
    "hparams.all_dbs=['ljspeech']\n",
    "hparams.all_speakers=['ljs-w']\n",
    "hparams.all_emotions=['neutral']\n",
    "hparams.dbs=['ljspeech']\n",
    "hparams.speakers=['ljs-w']\n",
    "hparams.emotions=['neutral']\n",
    "hparams.has_style_token_lstm_1=False\n",
    "hparams.has_style_token_lstm_2=False\n",
    "hparams.neutral_zero_vector=False"
   ]
  },
  {
   "cell_type": "markdown",
   "metadata": {},
   "source": [
    "#### Load model from checkpoint"
   ]
  },
  {
   "cell_type": "code",
   "execution_count": 7,
   "metadata": {},
   "outputs": [
    {
     "name": "stdout",
     "output_type": "stream",
     "text": [
      "embedding.weight\ttorch.Size([148, 512])\tTrue\n",
      "encoder.convolutions.0.0.conv.weight\ttorch.Size([512, 512, 5])\tTrue\n",
      "encoder.convolutions.0.0.conv.bias\ttorch.Size([512])\tTrue\n",
      "encoder.convolutions.0.1.weight\ttorch.Size([512])\tTrue\n",
      "encoder.convolutions.0.1.bias\ttorch.Size([512])\tTrue\n",
      "encoder.convolutions.1.0.conv.weight\ttorch.Size([512, 512, 5])\tTrue\n",
      "encoder.convolutions.1.0.conv.bias\ttorch.Size([512])\tTrue\n",
      "encoder.convolutions.1.1.weight\ttorch.Size([512])\tTrue\n",
      "encoder.convolutions.1.1.bias\ttorch.Size([512])\tTrue\n",
      "encoder.convolutions.2.0.conv.weight\ttorch.Size([512, 512, 5])\tTrue\n",
      "encoder.convolutions.2.0.conv.bias\ttorch.Size([512])\tTrue\n",
      "encoder.convolutions.2.1.weight\ttorch.Size([512])\tTrue\n",
      "encoder.convolutions.2.1.bias\ttorch.Size([512])\tTrue\n",
      "encoder.lstm.weight_ih_l0\ttorch.Size([1024, 512])\tTrue\n",
      "encoder.lstm.weight_hh_l0\ttorch.Size([1024, 256])\tTrue\n",
      "encoder.lstm.bias_ih_l0\ttorch.Size([1024])\tTrue\n",
      "encoder.lstm.bias_hh_l0\ttorch.Size([1024])\tTrue\n",
      "encoder.lstm.weight_ih_l0_reverse\ttorch.Size([1024, 512])\tTrue\n",
      "encoder.lstm.weight_hh_l0_reverse\ttorch.Size([1024, 256])\tTrue\n",
      "encoder.lstm.bias_ih_l0_reverse\ttorch.Size([1024])\tTrue\n",
      "encoder.lstm.bias_hh_l0_reverse\ttorch.Size([1024])\tTrue\n",
      "decoder.prenet.layers.0.linear_layer.weight\ttorch.Size([256, 80])\tTrue\n",
      "decoder.prenet.layers.1.linear_layer.weight\ttorch.Size([256, 256])\tTrue\n",
      "decoder.attention_rnn.weight_ih\ttorch.Size([4096, 768])\tTrue\n",
      "decoder.attention_rnn.weight_hh\ttorch.Size([4096, 1024])\tTrue\n",
      "decoder.attention_rnn.bias_ih\ttorch.Size([4096])\tTrue\n",
      "decoder.attention_rnn.bias_hh\ttorch.Size([4096])\tTrue\n",
      "decoder.attention_layer.query_layer.linear_layer.weight\ttorch.Size([128, 1024])\tTrue\n",
      "decoder.attention_layer.memory_layer.linear_layer.weight\ttorch.Size([128, 512])\tTrue\n",
      "decoder.attention_layer.v.linear_layer.weight\ttorch.Size([1, 128])\tTrue\n",
      "decoder.attention_layer.location_layer.location_conv.conv.weight\ttorch.Size([32, 2, 31])\tTrue\n",
      "decoder.attention_layer.location_layer.location_dense.linear_layer.weight\ttorch.Size([128, 32])\tTrue\n",
      "decoder.decoder_rnn.weight_ih\ttorch.Size([4096, 1536])\tTrue\n",
      "decoder.decoder_rnn.weight_hh\ttorch.Size([4096, 1024])\tTrue\n",
      "decoder.decoder_rnn.bias_ih\ttorch.Size([4096])\tTrue\n",
      "decoder.decoder_rnn.bias_hh\ttorch.Size([4096])\tTrue\n",
      "decoder.linear_projection.linear_layer.weight\ttorch.Size([80, 1536])\tTrue\n",
      "decoder.linear_projection.linear_layer.bias\ttorch.Size([80])\tTrue\n",
      "decoder.gate_layer.linear_layer.weight\ttorch.Size([1, 1536])\tTrue\n",
      "decoder.gate_layer.linear_layer.bias\ttorch.Size([1])\tTrue\n",
      "postnet.convolutions.0.0.conv.weight\ttorch.Size([512, 80, 5])\tTrue\n",
      "postnet.convolutions.0.0.conv.bias\ttorch.Size([512])\tTrue\n",
      "postnet.convolutions.0.1.weight\ttorch.Size([512])\tTrue\n",
      "postnet.convolutions.0.1.bias\ttorch.Size([512])\tTrue\n",
      "postnet.convolutions.1.0.conv.weight\ttorch.Size([512, 512, 5])\tTrue\n",
      "postnet.convolutions.1.0.conv.bias\ttorch.Size([512])\tTrue\n",
      "postnet.convolutions.1.1.weight\ttorch.Size([512])\tTrue\n",
      "postnet.convolutions.1.1.bias\ttorch.Size([512])\tTrue\n",
      "postnet.convolutions.2.0.conv.weight\ttorch.Size([512, 512, 5])\tTrue\n",
      "postnet.convolutions.2.0.conv.bias\ttorch.Size([512])\tTrue\n",
      "postnet.convolutions.2.1.weight\ttorch.Size([512])\tTrue\n",
      "postnet.convolutions.2.1.bias\ttorch.Size([512])\tTrue\n",
      "postnet.convolutions.3.0.conv.weight\ttorch.Size([512, 512, 5])\tTrue\n",
      "postnet.convolutions.3.0.conv.bias\ttorch.Size([512])\tTrue\n",
      "postnet.convolutions.3.1.weight\ttorch.Size([512])\tTrue\n",
      "postnet.convolutions.3.1.bias\ttorch.Size([512])\tTrue\n",
      "postnet.convolutions.4.0.conv.weight\ttorch.Size([80, 512, 5])\tTrue\n",
      "postnet.convolutions.4.0.conv.bias\ttorch.Size([80])\tTrue\n",
      "postnet.convolutions.4.1.weight\ttorch.Size([80])\tTrue\n",
      "postnet.convolutions.4.1.bias\ttorch.Size([80])\tTrue\n",
      "speaker_embedding_layer.linear_projection.weight\ttorch.Size([1, 3])\tTrue\n",
      "emotion_embedding_layer.linear_projection.weight\ttorch.Size([3, 1])\tTrue\n",
      "loaded checkpoint ../../pretrained/tacotron2_statedict.pt\n"
     ]
    }
   ],
   "source": [
    "prj_name = 'DiscreteAttentionWeights'\n",
    "run_name = 'DiscreteAttentionWeights'\n",
    "checkpoint_name = 'tacotron2_statedict.pt'\n",
    "checkpoint_path = \"../../pretrained/tacotron2_statedict.pt\"\n",
    "\n",
    "model = load_model(hparams)\n",
    "model = load_pretrained_model(model, checkpoint_path)[0]\n",
    "_ = model.cuda().eval().half()"
   ]
  },
  {
   "cell_type": "markdown",
   "metadata": {},
   "source": [
    "#### Load WaveGlow for mel2audio synthesis and denoiser"
   ]
  },
  {
   "cell_type": "code",
   "execution_count": 8,
   "metadata": {},
   "outputs": [],
   "source": [
    "waveglow_path = '/data2/sungjaecho/pretrained/waveglow_256channels_ljs_v2.pt'\n",
    "waveglow = torch.load(waveglow_path)['model']\n",
    "waveglow.cuda().eval().half()\n",
    "for k in waveglow.convinv:\n",
    "    k.float()\n",
    "denoiser = Denoiser(waveglow)"
   ]
  },
  {
   "cell_type": "markdown",
   "metadata": {},
   "source": [
    "## 2. Generate audios of the 4 cases on a single sentence"
   ]
  },
  {
   "cell_type": "markdown",
   "metadata": {},
   "source": [
    "### 2.1. Functionalize the generating process"
   ]
  },
  {
   "cell_type": "code",
   "execution_count": 9,
   "metadata": {},
   "outputs": [],
   "source": [
    "import matplotlib.pylab as plt\n",
    "import soundfile as sf\n",
    "import os\n",
    "from measures import forward_attention_ratio, attention_ratio, attention_range_ratio, multiple_attention_ratio\n",
    "\n",
    "import matplotlib\n",
    "matplotlib.use('Agg')\n",
    "# Turn interactive plotting off\n",
    "plt.ioff()\n",
    "\n",
    "def synthesize_speech(text, str_speaker, str_emotion, discrete_attention_weight, png_path):\n",
    "    # Prepare a text input.\n",
    "    val_set = TextMelLoader(hparams, 'val')\n",
    "    sequence = np.array(text_to_sequence(text, ['english_cleaners']))[None, :]\n",
    "    sequence = torch.autograd.Variable(\n",
    "        torch.from_numpy(sequence)).cuda().long()\n",
    "\n",
    "    speaker_index = val_set.get_speaker(str_speaker).long().cuda()\n",
    "    emotion_vector = val_set.get_emotion_input(str_emotion).half().cuda().view(1,-1)\n",
    "    \n",
    "    mel_outputs, mel_outputs_postnet, gate_outputs, alignments = model.inference(sequence, speaker_index, emotion_vector, discrete_attention_weight)\n",
    "    \n",
    "    alignments = alignments.squeeze(dim=2)\n",
    "    \n",
    "    input_lengths = torch.Tensor([sequence.size(1)]).long().cuda()\n",
    "    far, _ = forward_attention_ratio(alignments, input_lengths, gate_outputs=gate_outputs, mode_mel_length=\"stop_token\")\n",
    "    ar_tuple = attention_ratio(alignments, input_lengths, sequence, gate_outputs=gate_outputs, mode_mel_length=\"stop_token\")\n",
    "    ar = ar_tuple[0][0]\n",
    "    arr, _ = attention_range_ratio(alignments, input_lengths, gate_outputs=gate_outputs, mode_mel_length=\"stop_token\")\n",
    "    mar, _ = multiple_attention_ratio(alignments, input_lengths, gate_outputs=gate_outputs, mode_mel_length=\"stop_token\")\n",
    "    att_quality = far * ar * arr * (1 - mar)\n",
    "    \n",
    "    print(\"Speaker: {}\".format(str_speaker))\n",
    "    print(\"Emotion: {}\".format(str_emotion))\n",
    "    print(\"Text   : {}\".format(text))\n",
    "    print(\"Attention quality:        {:.4f}\".format(att_quality))\n",
    "    print(\"Forward attentoin ratio:  {:.4f}\".format(far))\n",
    "    print(\"Attentoin ratio:          {:.4f}\".format(ar))\n",
    "    print(\"Range attentoin ratio:    {:.4f}\".format(arr))\n",
    "    print(\"Multiple attentoin ratio: {:.4f}\".format(mar))\n",
    "    \n",
    "    plot_data((mel_outputs.float().data.cpu().numpy()[0],\n",
    "               mel_outputs_postnet.float().data.cpu().numpy()[0],\n",
    "               alignments.float().data.cpu().numpy()[0].T))\n",
    "    plt.show()\n",
    "    #plt.ioff()\n",
    "\n",
    "    \n",
    "    with torch.no_grad():\n",
    "        audio = waveglow.infer(mel_outputs_postnet, sigma=1)\n",
    "        #audio = waveglow.infer(mel_outputs_postnet, sigma=0.666)\n",
    "        \n",
    "    np_audio = audio[0].data.cpu().numpy()\n",
    "    sample_rate = hparams.sampling_rate\n",
    "    return np_audio, sample_rate, sequence\n",
    "\n",
    "\n",
    "def make_wav_dir(prj_name, run_name, checkpoint_name):\n",
    "    top_dir = 'inference_ipynb'\n",
    "    \n",
    "    wav_dir = os.path.join(top_dir, prj_name)\n",
    "    if not os.path.exists(wav_dir):\n",
    "        os.mkdir(wav_dir)\n",
    "    \n",
    "    wav_dir = os.path.join(top_dir, prj_name, run_name)\n",
    "    if not os.path.exists(wav_dir):\n",
    "        os.mkdir(wav_dir)\n",
    "    \n",
    "    wav_dir = os.path.join(top_dir, prj_name, run_name, checkpoint_name)\n",
    "    if not os.path.exists(wav_dir):\n",
    "        os.mkdir(wav_dir)\n",
    "        \n",
    "    return wav_dir\n",
    "\n",
    "def drop_top_dir(path):\n",
    "    return os.path.join(*(path.split(os.path.sep)[1:]))\n",
    "\n",
    "\n",
    "def slugify(text):\n",
    "    \"\"\"\n",
    "    From: https://stackoverflow.com/questions/295135/turn-a-string-into-a-valid-filename\n",
    "    Normalizes string, converts to lowercase, removes non-alpha characters,\n",
    "    and converts spaces to hyphens.\n",
    "    \n",
    "    I have added replacing the blank with the underscore.\n",
    "    \"\"\"\n",
    "    import string\n",
    "    valid_chars = \"-_() %s%s\" % (string.ascii_letters, string.digits)\n",
    "\n",
    "    text = ''.join(c for c in text if c in valid_chars)\n",
    "    text = text.replace(' ', '_')\n",
    "    \n",
    "    return text"
   ]
  },
  {
   "cell_type": "markdown",
   "metadata": {},
   "source": [
    "### 2.2. Generation"
   ]
  },
  {
   "cell_type": "code",
   "execution_count": 10,
   "metadata": {},
   "outputs": [],
   "source": [
    "wav_dir = make_wav_dir(prj_name, run_name, checkpoint_name)"
   ]
  },
  {
   "cell_type": "code",
   "execution_count": 11,
   "metadata": {},
   "outputs": [
    {
     "name": "stdout",
     "output_type": "stream",
     "text": [
      "Speaker: ljs-w\n",
      "Emotion: neutral\n",
      "Text   : This is audio generated by Tacotron 2.\n",
      "Attention quality:        0.8278\n",
      "Forward attentoin ratio:  0.9958\n",
      "Attentoin ratio:          0.8750\n",
      "Range attentoin ratio:    1.0000\n",
      "Multiple attentoin ratio: 0.0500\n",
      "Saved inference_ipynb/DiscreteAttentionWeights/DiscreteAttentionWeights/tacotron2_statedict.pt/ljs-w_neutral_This_is_audio_generated_by_Tacotron_2_[Discrete(False,False)].wav\n",
      "Saved inference_ipynb/DiscreteAttentionWeights/DiscreteAttentionWeights/tacotron2_statedict.pt/ljs-w_neutral_This_is_audio_generated_by_Tacotron_2_[Discrete(False,False)].png\n"
     ]
    },
    {
     "data": {
      "text/html": [
       "<audio controls><source src=\"DiscreteAttentionWeights/DiscreteAttentionWeights/tacotron2_statedict.pt/ljs-w_neutral_This_is_audio_generated_by_Tacotron_2_[Discrete(False,False)].wav\" type=\"audio/wav\"></audio>"
      ],
      "text/plain": [
       "<IPython.core.display.HTML object>"
      ]
     },
     "metadata": {},
     "output_type": "display_data"
    },
    {
     "data": {
      "text/html": [
       "<img src=\"DiscreteAttentionWeights/DiscreteAttentionWeights/tacotron2_statedict.pt/ljs-w_neutral_This_is_audio_generated_by_Tacotron_2_[Discrete(False,False)].png\"></img>"
      ],
      "text/plain": [
       "<IPython.core.display.HTML object>"
      ]
     },
     "metadata": {},
     "output_type": "display_data"
    }
   ],
   "source": [
    "text = \"This is audio generated by Tacotron 2.\"\n",
    "speaker = 'ljs-w'\n",
    "emotion = 'neutral'\n",
    "discrete_attention_weight=[False,False]\n",
    "daw = discrete_attention_weight\n",
    "\n",
    "wav_name = \"{}_{}_{}_[Discrete({},{})].wav\".format(speaker, emotion, slugify(text).replace(' ', '_'), daw[0], daw[1])\n",
    "png_name = \"{}_{}_{}_[Discrete({},{})].png\".format(speaker, emotion, slugify(text), daw[0], daw[1])\n",
    "wav_path = os.path.join(wav_dir, wav_name)\n",
    "png_path = os.path.join(wav_dir, png_name)\n",
    "np_audio, sample_rate, sequence = synthesize_speech(text, speaker, emotion, discrete_attention_weight, png_path)\n",
    "sf.write(wav_path, np_audio.reshape(-1,1).astype('float32'), hparams.sampling_rate)\n",
    "plt.savefig(png_path, bbox_inches='tight')\n",
    "print(\"Saved {}\".format(wav_path))\n",
    "print(\"Saved {}\".format(png_path))\n",
    "#ipd.display(ipd.Audio(wav_path, rate=hparams.sampling_rate))\n",
    "ipd.display(ipd.HTML('<audio controls><source src=\"{}\" type=\"audio/wav\"></audio>'.format(drop_top_dir(wav_path))))\n",
    "ipd.display(ipd.HTML('<img src=\"{}\"></img>'.format(drop_top_dir(png_path))))"
   ]
  },
  {
   "cell_type": "code",
   "execution_count": 12,
   "metadata": {},
   "outputs": [
    {
     "name": "stdout",
     "output_type": "stream",
     "text": [
      "Speaker: ljs-w\n",
      "Emotion: neutral\n",
      "Text   : This is audio generated by Tacotron 2.\n",
      "Attention quality:        0.9500\n",
      "Forward attentoin ratio:  1.0000\n",
      "Attentoin ratio:          0.9500\n",
      "Range attentoin ratio:    1.0000\n",
      "Multiple attentoin ratio: 0.0000\n",
      "Saved inference_ipynb/DiscreteAttentionWeights/DiscreteAttentionWeights/tacotron2_statedict.pt/ljs-w_neutral_This_is_audio_generated_by_Tacotron_2_[Discrete(True,True)].wav\n",
      "Saved inference_ipynb/DiscreteAttentionWeights/DiscreteAttentionWeights/tacotron2_statedict.pt/ljs-w_neutral_This_is_audio_generated_by_Tacotron_2_[Discrete(True,True)].png\n"
     ]
    },
    {
     "data": {
      "text/html": [
       "<audio controls><source src=\"DiscreteAttentionWeights/DiscreteAttentionWeights/tacotron2_statedict.pt/ljs-w_neutral_This_is_audio_generated_by_Tacotron_2_[Discrete(True,True)].wav\" type=\"audio/wav\"></audio>"
      ],
      "text/plain": [
       "<IPython.core.display.HTML object>"
      ]
     },
     "metadata": {},
     "output_type": "display_data"
    },
    {
     "data": {
      "text/html": [
       "<img src=\"DiscreteAttentionWeights/DiscreteAttentionWeights/tacotron2_statedict.pt/ljs-w_neutral_This_is_audio_generated_by_Tacotron_2_[Discrete(True,True)].png\"></img>"
      ],
      "text/plain": [
       "<IPython.core.display.HTML object>"
      ]
     },
     "metadata": {},
     "output_type": "display_data"
    }
   ],
   "source": [
    "text = \"This is audio generated by Tacotron 2.\"\n",
    "speaker = 'ljs-w'\n",
    "emotion = 'neutral'\n",
    "discrete_attention_weight=[True,True]\n",
    "daw = discrete_attention_weight\n",
    "\n",
    "wav_name = \"{}_{}_{}_[Discrete({},{})].wav\".format(speaker, emotion, slugify(text), daw[0], daw[1])\n",
    "png_name = \"{}_{}_{}_[Discrete({},{})].png\".format(speaker, emotion, slugify(text), daw[0], daw[1])\n",
    "wav_path = os.path.join(wav_dir, wav_name)\n",
    "png_path = os.path.join(wav_dir, png_name)\n",
    "np_audio, sample_rate, sequence = synthesize_speech(text, speaker, emotion, discrete_attention_weight, png_path)\n",
    "sf.write(wav_path, np_audio.reshape(-1,1).astype('float32'), hparams.sampling_rate)\n",
    "plt.savefig(png_path, bbox_inches='tight')\n",
    "print(\"Saved {}\".format(wav_path))\n",
    "print(\"Saved {}\".format(png_path))\n",
    "#ipd.display(ipd.Audio(wav_path, rate=hparams.sampling_rate))\n",
    "ipd.display(ipd.HTML('<audio controls><source src=\"{}\" type=\"audio/wav\"></audio>'.format(drop_top_dir(wav_path))))\n",
    "ipd.display(ipd.HTML('<img src=\"{}\"></img>'.format(drop_top_dir(png_path))))"
   ]
  },
  {
   "cell_type": "code",
   "execution_count": 13,
   "metadata": {},
   "outputs": [
    {
     "name": "stdout",
     "output_type": "stream",
     "text": [
      "Speaker: ljs-w\n",
      "Emotion: neutral\n",
      "Text   : This is audio generated by Tacotron 2.\n",
      "Attention quality:        0.8495\n",
      "Forward attentoin ratio:  0.9957\n",
      "Attentoin ratio:          0.8750\n",
      "Range attentoin ratio:    1.0000\n",
      "Multiple attentoin ratio: 0.0250\n",
      "Saved inference_ipynb/DiscreteAttentionWeights/DiscreteAttentionWeights/tacotron2_statedict.pt/ljs-w_neutral_This_is_audio_generated_by_Tacotron_2_[Discrete(False,True)].wav\n",
      "Saved inference_ipynb/DiscreteAttentionWeights/DiscreteAttentionWeights/tacotron2_statedict.pt/ljs-w_neutral_This_is_audio_generated_by_Tacotron_2_[Discrete(False,True)].png\n"
     ]
    },
    {
     "data": {
      "text/html": [
       "<audio controls><source src=\"DiscreteAttentionWeights/DiscreteAttentionWeights/tacotron2_statedict.pt/ljs-w_neutral_This_is_audio_generated_by_Tacotron_2_[Discrete(False,True)].wav\" type=\"audio/wav\"></audio>"
      ],
      "text/plain": [
       "<IPython.core.display.HTML object>"
      ]
     },
     "metadata": {},
     "output_type": "display_data"
    },
    {
     "data": {
      "text/html": [
       "<img src=\"DiscreteAttentionWeights/DiscreteAttentionWeights/tacotron2_statedict.pt/ljs-w_neutral_This_is_audio_generated_by_Tacotron_2_[Discrete(False,True)].png\"></img>"
      ],
      "text/plain": [
       "<IPython.core.display.HTML object>"
      ]
     },
     "metadata": {},
     "output_type": "display_data"
    }
   ],
   "source": [
    "text = \"This is audio generated by Tacotron 2.\"\n",
    "speaker = 'ljs-w'\n",
    "emotion = 'neutral'\n",
    "discrete_attention_weight=[False,True]\n",
    "daw = discrete_attention_weight\n",
    "\n",
    "wav_name = \"{}_{}_{}_[Discrete({},{})].wav\".format(speaker, emotion, slugify(text), daw[0], daw[1])\n",
    "png_name = \"{}_{}_{}_[Discrete({},{})].png\".format(speaker, emotion, slugify(text), daw[0], daw[1])\n",
    "wav_path = os.path.join(wav_dir, wav_name)\n",
    "png_path = os.path.join(wav_dir, png_name)\n",
    "np_audio, sample_rate, sequence = synthesize_speech(text, speaker, emotion, discrete_attention_weight, png_path)\n",
    "sf.write(wav_path, np_audio.reshape(-1,1).astype('float32'), hparams.sampling_rate)\n",
    "plt.savefig(png_path, bbox_inches='tight')\n",
    "print(\"Saved {}\".format(wav_path))\n",
    "print(\"Saved {}\".format(png_path))\n",
    "#ipd.display(ipd.Audio(wav_path, rate=hparams.sampling_rate))\n",
    "ipd.display(ipd.HTML('<audio controls><source src=\"{}\" type=\"audio/wav\"></audio>'.format(drop_top_dir(wav_path))))\n",
    "ipd.display(ipd.HTML('<img src=\"{}\"></img>'.format(drop_top_dir(png_path))))"
   ]
  },
  {
   "cell_type": "code",
   "execution_count": 14,
   "metadata": {},
   "outputs": [
    {
     "name": "stdout",
     "output_type": "stream",
     "text": [
      "Speaker: ljs-w\n",
      "Emotion: neutral\n",
      "Text   : This is audio generated by Tacotron 2.\n",
      "Attention quality:        0.6131\n",
      "Forward attentoin ratio:  0.9949\n",
      "Attentoin ratio:          0.7250\n",
      "Range attentoin ratio:    1.0000\n",
      "Multiple attentoin ratio: 0.1500\n",
      "Saved inference_ipynb/DiscreteAttentionWeights/DiscreteAttentionWeights/tacotron2_statedict.pt/ljs-w_neutral_This_is_audio_generated_by_Tacotron_2_[Discrete(True,False)].wav\n",
      "Saved inference_ipynb/DiscreteAttentionWeights/DiscreteAttentionWeights/tacotron2_statedict.pt/ljs-w_neutral_This_is_audio_generated_by_Tacotron_2_[Discrete(True,False)].png\n"
     ]
    },
    {
     "data": {
      "text/html": [
       "<audio controls><source src=\"DiscreteAttentionWeights/DiscreteAttentionWeights/tacotron2_statedict.pt/ljs-w_neutral_This_is_audio_generated_by_Tacotron_2_[Discrete(True,False)].wav\" type=\"audio/wav\"></audio>"
      ],
      "text/plain": [
       "<IPython.core.display.HTML object>"
      ]
     },
     "metadata": {},
     "output_type": "display_data"
    },
    {
     "data": {
      "text/html": [
       "<img src=\"DiscreteAttentionWeights/DiscreteAttentionWeights/tacotron2_statedict.pt/ljs-w_neutral_This_is_audio_generated_by_Tacotron_2_[Discrete(True,False)].png\"></img>"
      ],
      "text/plain": [
       "<IPython.core.display.HTML object>"
      ]
     },
     "metadata": {},
     "output_type": "display_data"
    }
   ],
   "source": [
    "text = \"This is audio generated by Tacotron 2.\"\n",
    "speaker = 'ljs-w'\n",
    "emotion = 'neutral'\n",
    "discrete_attention_weight=[True,False]\n",
    "daw = discrete_attention_weight\n",
    "\n",
    "wav_name = \"{}_{}_{}_[Discrete({},{})].wav\".format(speaker, emotion, slugify(text), daw[0], daw[1])\n",
    "png_name = \"{}_{}_{}_[Discrete({},{})].png\".format(speaker, emotion, slugify(text), daw[0], daw[1])\n",
    "wav_path = os.path.join(wav_dir, wav_name)\n",
    "png_path = os.path.join(wav_dir, png_name)\n",
    "np_audio, sample_rate, sequence = synthesize_speech(text, speaker, emotion, discrete_attention_weight, png_path)\n",
    "sf.write(wav_path, np_audio.reshape(-1,1).astype('float32'), hparams.sampling_rate)\n",
    "plt.savefig(png_path, bbox_inches='tight')\n",
    "print(\"Saved {}\".format(wav_path))\n",
    "print(\"Saved {}\".format(png_path))\n",
    "#ipd.display(ipd.Audio(wav_path, rate=hparams.sampling_rate))\n",
    "ipd.display(ipd.HTML('<audio controls><source src=\"{}\" type=\"audio/wav\"></audio>'.format(drop_top_dir(wav_path))))\n",
    "ipd.display(ipd.HTML('<img src=\"{}\"></img>'.format(drop_top_dir(png_path))))"
   ]
  },
  {
   "cell_type": "markdown",
   "metadata": {},
   "source": [
    "## 3. Generate audios of the 4 cases on 10 validation sentences"
   ]
  },
  {
   "cell_type": "code",
   "execution_count": 15,
   "metadata": {},
   "outputs": [],
   "source": [
    "from utils import load_wavpath_text_speaker_sex_emotion_lang"
   ]
  },
  {
   "cell_type": "code",
   "execution_count": 16,
   "metadata": {},
   "outputs": [],
   "source": [
    "valsets = dict()"
   ]
  },
  {
   "cell_type": "code",
   "execution_count": 17,
   "metadata": {},
   "outputs": [
    {
     "name": "stdout",
     "output_type": "stream",
     "text": [
      "len(valsets[(ljs-w, neutral)]) = 100\n"
     ]
    }
   ],
   "source": [
    "speaker = 'ljs-w'\n",
    "emotion = 'neutral'\n",
    "valsets[(speaker, emotion)] = load_wavpath_text_speaker_sex_emotion_lang(hparams, 'val', speaker, emotion, 0)[0]\n",
    "print(\"len(valsets[({speaker}, {emotion})]) = {length}\".format(\n",
    "    speaker=speaker,\n",
    "    emotion=emotion,\n",
    "    length=len(valsets[(speaker, emotion)])\n",
    "))"
   ]
  },
  {
   "cell_type": "code",
   "execution_count": 18,
   "metadata": {},
   "outputs": [
    {
     "name": "stdout",
     "output_type": "stream",
     "text": [
      "Speaker: ljs-w\n",
      "Emotion: neutral\n",
      "Text   : he was reported to have fallen away to a shadow.\n",
      "Attention quality:        0.8542\n",
      "Forward attentoin ratio:  1.0000\n",
      "Attentoin ratio:          0.8542\n",
      "Range attentoin ratio:    1.0000\n",
      "Multiple attentoin ratio: 0.0000\n",
      "Saved inference_ipynb/DiscreteAttentionWeights/DiscreteAttentionWeights/tacotron2_statedict.pt/[000]ljs-w_neutral_he_was_reported_to_have_fallen_away_to_a_shadow_[Discrete(False,False)].wav\n",
      "Saved inference_ipynb/DiscreteAttentionWeights/DiscreteAttentionWeights/tacotron2_statedict.pt/[000]ljs-w_neutral_he_was_reported_to_have_fallen_away_to_a_shadow_[Discrete(False,False)].png\n"
     ]
    },
    {
     "data": {
      "text/html": [
       "<audio controls><source src=\"DiscreteAttentionWeights/DiscreteAttentionWeights/tacotron2_statedict.pt/[000]ljs-w_neutral_he_was_reported_to_have_fallen_away_to_a_shadow_[Discrete(False,False)].wav\" type=\"audio/wav\"></audio>"
      ],
      "text/plain": [
       "<IPython.core.display.HTML object>"
      ]
     },
     "metadata": {},
     "output_type": "display_data"
    },
    {
     "data": {
      "text/html": [
       "<img src=\"DiscreteAttentionWeights/DiscreteAttentionWeights/tacotron2_statedict.pt/[000]ljs-w_neutral_he_was_reported_to_have_fallen_away_to_a_shadow_[Discrete(False,False)].png\"></img>"
      ],
      "text/plain": [
       "<IPython.core.display.HTML object>"
      ]
     },
     "metadata": {},
     "output_type": "display_data"
    },
    {
     "name": "stdout",
     "output_type": "stream",
     "text": [
      "Speaker: ljs-w\n",
      "Emotion: neutral\n",
      "Text   : he was reported to have fallen away to a shadow.\n",
      "Attention quality:        0.9375\n",
      "Forward attentoin ratio:  1.0000\n",
      "Attentoin ratio:          0.9375\n",
      "Range attentoin ratio:    1.0000\n",
      "Multiple attentoin ratio: 0.0000\n",
      "Saved inference_ipynb/DiscreteAttentionWeights/DiscreteAttentionWeights/tacotron2_statedict.pt/[000]ljs-w_neutral_he_was_reported_to_have_fallen_away_to_a_shadow_[Discrete(True,True)].wav\n",
      "Saved inference_ipynb/DiscreteAttentionWeights/DiscreteAttentionWeights/tacotron2_statedict.pt/[000]ljs-w_neutral_he_was_reported_to_have_fallen_away_to_a_shadow_[Discrete(True,True)].png\n"
     ]
    },
    {
     "data": {
      "text/html": [
       "<audio controls><source src=\"DiscreteAttentionWeights/DiscreteAttentionWeights/tacotron2_statedict.pt/[000]ljs-w_neutral_he_was_reported_to_have_fallen_away_to_a_shadow_[Discrete(True,True)].wav\" type=\"audio/wav\"></audio>"
      ],
      "text/plain": [
       "<IPython.core.display.HTML object>"
      ]
     },
     "metadata": {},
     "output_type": "display_data"
    },
    {
     "data": {
      "text/html": [
       "<img src=\"DiscreteAttentionWeights/DiscreteAttentionWeights/tacotron2_statedict.pt/[000]ljs-w_neutral_he_was_reported_to_have_fallen_away_to_a_shadow_[Discrete(True,True)].png\"></img>"
      ],
      "text/plain": [
       "<IPython.core.display.HTML object>"
      ]
     },
     "metadata": {},
     "output_type": "display_data"
    },
    {
     "name": "stdout",
     "output_type": "stream",
     "text": [
      "Speaker: ljs-w\n",
      "Emotion: neutral\n",
      "Text   : he was reported to have fallen away to a shadow.\n",
      "Attention quality:        0.8333\n",
      "Forward attentoin ratio:  1.0000\n",
      "Attentoin ratio:          0.8333\n",
      "Range attentoin ratio:    1.0000\n",
      "Multiple attentoin ratio: 0.0000\n",
      "Saved inference_ipynb/DiscreteAttentionWeights/DiscreteAttentionWeights/tacotron2_statedict.pt/[000]ljs-w_neutral_he_was_reported_to_have_fallen_away_to_a_shadow_[Discrete(False,True)].wav\n",
      "Saved inference_ipynb/DiscreteAttentionWeights/DiscreteAttentionWeights/tacotron2_statedict.pt/[000]ljs-w_neutral_he_was_reported_to_have_fallen_away_to_a_shadow_[Discrete(False,True)].png\n"
     ]
    },
    {
     "data": {
      "text/html": [
       "<audio controls><source src=\"DiscreteAttentionWeights/DiscreteAttentionWeights/tacotron2_statedict.pt/[000]ljs-w_neutral_he_was_reported_to_have_fallen_away_to_a_shadow_[Discrete(False,True)].wav\" type=\"audio/wav\"></audio>"
      ],
      "text/plain": [
       "<IPython.core.display.HTML object>"
      ]
     },
     "metadata": {},
     "output_type": "display_data"
    },
    {
     "data": {
      "text/html": [
       "<img src=\"DiscreteAttentionWeights/DiscreteAttentionWeights/tacotron2_statedict.pt/[000]ljs-w_neutral_he_was_reported_to_have_fallen_away_to_a_shadow_[Discrete(False,True)].png\"></img>"
      ],
      "text/plain": [
       "<IPython.core.display.HTML object>"
      ]
     },
     "metadata": {},
     "output_type": "display_data"
    },
    {
     "name": "stdout",
     "output_type": "stream",
     "text": [
      "Speaker: ljs-w\n",
      "Emotion: neutral\n",
      "Text   : he was reported to have fallen away to a shadow.\n",
      "Attention quality:        0.0864\n",
      "Forward attentoin ratio:  0.9866\n",
      "Attentoin ratio:          0.2083\n",
      "Range attentoin ratio:    0.4583\n",
      "Multiple attentoin ratio: 0.0833\n",
      "Saved inference_ipynb/DiscreteAttentionWeights/DiscreteAttentionWeights/tacotron2_statedict.pt/[000]ljs-w_neutral_he_was_reported_to_have_fallen_away_to_a_shadow_[Discrete(True,False)].wav\n",
      "Saved inference_ipynb/DiscreteAttentionWeights/DiscreteAttentionWeights/tacotron2_statedict.pt/[000]ljs-w_neutral_he_was_reported_to_have_fallen_away_to_a_shadow_[Discrete(True,False)].png\n"
     ]
    },
    {
     "data": {
      "text/html": [
       "<audio controls><source src=\"DiscreteAttentionWeights/DiscreteAttentionWeights/tacotron2_statedict.pt/[000]ljs-w_neutral_he_was_reported_to_have_fallen_away_to_a_shadow_[Discrete(True,False)].wav\" type=\"audio/wav\"></audio>"
      ],
      "text/plain": [
       "<IPython.core.display.HTML object>"
      ]
     },
     "metadata": {},
     "output_type": "display_data"
    },
    {
     "data": {
      "text/html": [
       "<img src=\"DiscreteAttentionWeights/DiscreteAttentionWeights/tacotron2_statedict.pt/[000]ljs-w_neutral_he_was_reported_to_have_fallen_away_to_a_shadow_[Discrete(True,False)].png\"></img>"
      ],
      "text/plain": [
       "<IPython.core.display.HTML object>"
      ]
     },
     "metadata": {},
     "output_type": "display_data"
    },
    {
     "name": "stdout",
     "output_type": "stream",
     "text": [
      "[1 Done!]======================================================================================================================================================\n",
      "Speaker: ljs-w\n",
      "Emotion: neutral\n",
      "Text   : Speaking on a debate on prison matters, he declared that\n",
      "Attention quality:        0.7896\n",
      "Forward attentoin ratio:  0.9940\n",
      "Attentoin ratio:          0.8393\n",
      "Range attentoin ratio:    1.0000\n",
      "Multiple attentoin ratio: 0.0536\n",
      "Saved inference_ipynb/DiscreteAttentionWeights/DiscreteAttentionWeights/tacotron2_statedict.pt/[001]ljs-w_neutral_Speaking_on_a_debate_on_prison_matters_he_declared_that_[Discrete(False,False)].wav\n",
      "Saved inference_ipynb/DiscreteAttentionWeights/DiscreteAttentionWeights/tacotron2_statedict.pt/[001]ljs-w_neutral_Speaking_on_a_debate_on_prison_matters_he_declared_that_[Discrete(False,False)].png\n"
     ]
    },
    {
     "data": {
      "text/html": [
       "<audio controls><source src=\"DiscreteAttentionWeights/DiscreteAttentionWeights/tacotron2_statedict.pt/[001]ljs-w_neutral_Speaking_on_a_debate_on_prison_matters_he_declared_that_[Discrete(False,False)].wav\" type=\"audio/wav\"></audio>"
      ],
      "text/plain": [
       "<IPython.core.display.HTML object>"
      ]
     },
     "metadata": {},
     "output_type": "display_data"
    },
    {
     "data": {
      "text/html": [
       "<img src=\"DiscreteAttentionWeights/DiscreteAttentionWeights/tacotron2_statedict.pt/[001]ljs-w_neutral_Speaking_on_a_debate_on_prison_matters_he_declared_that_[Discrete(False,False)].png\"></img>"
      ],
      "text/plain": [
       "<IPython.core.display.HTML object>"
      ]
     },
     "metadata": {},
     "output_type": "display_data"
    },
    {
     "name": "stdout",
     "output_type": "stream",
     "text": [
      "Warning! Reached max decoder steps\n",
      "Speaker: ljs-w\n",
      "Emotion: neutral\n",
      "Text   : Speaking on a debate on prison matters, he declared that\n",
      "Attention quality:        0.9286\n",
      "Forward attentoin ratio:  1.0000\n",
      "Attentoin ratio:          0.9286\n",
      "Range attentoin ratio:    1.0000\n",
      "Multiple attentoin ratio: 0.0000\n",
      "Saved inference_ipynb/DiscreteAttentionWeights/DiscreteAttentionWeights/tacotron2_statedict.pt/[001]ljs-w_neutral_Speaking_on_a_debate_on_prison_matters_he_declared_that_[Discrete(True,True)].wav\n",
      "Saved inference_ipynb/DiscreteAttentionWeights/DiscreteAttentionWeights/tacotron2_statedict.pt/[001]ljs-w_neutral_Speaking_on_a_debate_on_prison_matters_he_declared_that_[Discrete(True,True)].png\n"
     ]
    },
    {
     "data": {
      "text/html": [
       "<audio controls><source src=\"DiscreteAttentionWeights/DiscreteAttentionWeights/tacotron2_statedict.pt/[001]ljs-w_neutral_Speaking_on_a_debate_on_prison_matters_he_declared_that_[Discrete(True,True)].wav\" type=\"audio/wav\"></audio>"
      ],
      "text/plain": [
       "<IPython.core.display.HTML object>"
      ]
     },
     "metadata": {},
     "output_type": "display_data"
    },
    {
     "data": {
      "text/html": [
       "<img src=\"DiscreteAttentionWeights/DiscreteAttentionWeights/tacotron2_statedict.pt/[001]ljs-w_neutral_Speaking_on_a_debate_on_prison_matters_he_declared_that_[Discrete(True,True)].png\"></img>"
      ],
      "text/plain": [
       "<IPython.core.display.HTML object>"
      ]
     },
     "metadata": {},
     "output_type": "display_data"
    },
    {
     "name": "stdout",
     "output_type": "stream",
     "text": [
      "Warning! Reached max decoder steps\n",
      "Speaker: ljs-w\n",
      "Emotion: neutral\n",
      "Text   : Speaking on a debate on prison matters, he declared that\n",
      "Attention quality:        0.3972\n",
      "Forward attentoin ratio:  0.9980\n",
      "Attentoin ratio:          0.9286\n",
      "Range attentoin ratio:    1.0000\n",
      "Multiple attentoin ratio: 0.5714\n",
      "Saved inference_ipynb/DiscreteAttentionWeights/DiscreteAttentionWeights/tacotron2_statedict.pt/[001]ljs-w_neutral_Speaking_on_a_debate_on_prison_matters_he_declared_that_[Discrete(False,True)].wav\n",
      "Saved inference_ipynb/DiscreteAttentionWeights/DiscreteAttentionWeights/tacotron2_statedict.pt/[001]ljs-w_neutral_Speaking_on_a_debate_on_prison_matters_he_declared_that_[Discrete(False,True)].png\n"
     ]
    },
    {
     "data": {
      "text/html": [
       "<audio controls><source src=\"DiscreteAttentionWeights/DiscreteAttentionWeights/tacotron2_statedict.pt/[001]ljs-w_neutral_Speaking_on_a_debate_on_prison_matters_he_declared_that_[Discrete(False,True)].wav\" type=\"audio/wav\"></audio>"
      ],
      "text/plain": [
       "<IPython.core.display.HTML object>"
      ]
     },
     "metadata": {},
     "output_type": "display_data"
    },
    {
     "data": {
      "text/html": [
       "<img src=\"DiscreteAttentionWeights/DiscreteAttentionWeights/tacotron2_statedict.pt/[001]ljs-w_neutral_Speaking_on_a_debate_on_prison_matters_he_declared_that_[Discrete(False,True)].png\"></img>"
      ],
      "text/plain": [
       "<IPython.core.display.HTML object>"
      ]
     },
     "metadata": {},
     "output_type": "display_data"
    },
    {
     "name": "stdout",
     "output_type": "stream",
     "text": [
      "Warning! Reached max decoder steps\n",
      "Speaker: ljs-w\n",
      "Emotion: neutral\n",
      "Text   : Speaking on a debate on prison matters, he declared that\n",
      "Attention quality:        0.3782\n",
      "Forward attentoin ratio:  0.9810\n",
      "Attentoin ratio:          0.5536\n",
      "Range attentoin ratio:    1.0000\n",
      "Multiple attentoin ratio: 0.3036\n",
      "Saved inference_ipynb/DiscreteAttentionWeights/DiscreteAttentionWeights/tacotron2_statedict.pt/[001]ljs-w_neutral_Speaking_on_a_debate_on_prison_matters_he_declared_that_[Discrete(True,False)].wav\n",
      "Saved inference_ipynb/DiscreteAttentionWeights/DiscreteAttentionWeights/tacotron2_statedict.pt/[001]ljs-w_neutral_Speaking_on_a_debate_on_prison_matters_he_declared_that_[Discrete(True,False)].png\n"
     ]
    },
    {
     "data": {
      "text/html": [
       "<audio controls><source src=\"DiscreteAttentionWeights/DiscreteAttentionWeights/tacotron2_statedict.pt/[001]ljs-w_neutral_Speaking_on_a_debate_on_prison_matters_he_declared_that_[Discrete(True,False)].wav\" type=\"audio/wav\"></audio>"
      ],
      "text/plain": [
       "<IPython.core.display.HTML object>"
      ]
     },
     "metadata": {},
     "output_type": "display_data"
    },
    {
     "data": {
      "text/html": [
       "<img src=\"DiscreteAttentionWeights/DiscreteAttentionWeights/tacotron2_statedict.pt/[001]ljs-w_neutral_Speaking_on_a_debate_on_prison_matters_he_declared_that_[Discrete(True,False)].png\"></img>"
      ],
      "text/plain": [
       "<IPython.core.display.HTML object>"
      ]
     },
     "metadata": {},
     "output_type": "display_data"
    },
    {
     "name": "stdout",
     "output_type": "stream",
     "text": [
      "[2 Done!]======================================================================================================================================================\n",
      "Speaker: ljs-w\n",
      "Emotion: neutral\n",
      "Text   : These pungent and well-grounded strictures applied with still greater force to the unconvicted prisoner, the man who came to the prison innocent, and still uncontaminated,\n",
      "Attention quality:        0.8655\n",
      "Forward attentoin ratio:  1.0000\n",
      "Attentoin ratio:          0.8655\n",
      "Range attentoin ratio:    1.0000\n",
      "Multiple attentoin ratio: 0.0000\n",
      "Saved inference_ipynb/DiscreteAttentionWeights/DiscreteAttentionWeights/tacotron2_statedict.pt/[002]ljs-w_neutral_These_pungent_and_well-grounded_strictures_applied_with_still_greater_force_to_the_unconvicted_prisoner_the_man_who_came_to_the_prison_innocent_and_still_uncontaminated_[Discrete(False,False)].wav\n",
      "Saved inference_ipynb/DiscreteAttentionWeights/DiscreteAttentionWeights/tacotron2_statedict.pt/[002]ljs-w_neutral_These_pungent_and_well-grounded_strictures_applied_with_still_greater_force_to_the_unconvicted_prisoner_the_man_who_came_to_the_prison_innocent_and_still_uncontaminated_[Discrete(False,False)].png\n"
     ]
    },
    {
     "data": {
      "text/html": [
       "<audio controls><source src=\"DiscreteAttentionWeights/DiscreteAttentionWeights/tacotron2_statedict.pt/[002]ljs-w_neutral_These_pungent_and_well-grounded_strictures_applied_with_still_greater_force_to_the_unconvicted_prisoner_the_man_who_came_to_the_prison_innocent_and_still_uncontaminated_[Discrete(False,False)].wav\" type=\"audio/wav\"></audio>"
      ],
      "text/plain": [
       "<IPython.core.display.HTML object>"
      ]
     },
     "metadata": {},
     "output_type": "display_data"
    },
    {
     "data": {
      "text/html": [
       "<img src=\"DiscreteAttentionWeights/DiscreteAttentionWeights/tacotron2_statedict.pt/[002]ljs-w_neutral_These_pungent_and_well-grounded_strictures_applied_with_still_greater_force_to_the_unconvicted_prisoner_the_man_who_came_to_the_prison_innocent_and_still_uncontaminated_[Discrete(False,False)].png\"></img>"
      ],
      "text/plain": [
       "<IPython.core.display.HTML object>"
      ]
     },
     "metadata": {},
     "output_type": "display_data"
    },
    {
     "name": "stdout",
     "output_type": "stream",
     "text": [
      "Warning! Reached max decoder steps\n",
      "Speaker: ljs-w\n",
      "Emotion: neutral\n",
      "Text   : These pungent and well-grounded strictures applied with still greater force to the unconvicted prisoner, the man who came to the prison innocent, and still uncontaminated,\n",
      "Attention quality:        0.1600\n",
      "Forward attentoin ratio:  1.0000\n",
      "Attentoin ratio:          0.3801\n",
      "Range attentoin ratio:    0.4211\n",
      "Multiple attentoin ratio: 0.0000\n",
      "Saved inference_ipynb/DiscreteAttentionWeights/DiscreteAttentionWeights/tacotron2_statedict.pt/[002]ljs-w_neutral_These_pungent_and_well-grounded_strictures_applied_with_still_greater_force_to_the_unconvicted_prisoner_the_man_who_came_to_the_prison_innocent_and_still_uncontaminated_[Discrete(True,True)].wav\n",
      "Saved inference_ipynb/DiscreteAttentionWeights/DiscreteAttentionWeights/tacotron2_statedict.pt/[002]ljs-w_neutral_These_pungent_and_well-grounded_strictures_applied_with_still_greater_force_to_the_unconvicted_prisoner_the_man_who_came_to_the_prison_innocent_and_still_uncontaminated_[Discrete(True,True)].png\n"
     ]
    },
    {
     "data": {
      "text/html": [
       "<audio controls><source src=\"DiscreteAttentionWeights/DiscreteAttentionWeights/tacotron2_statedict.pt/[002]ljs-w_neutral_These_pungent_and_well-grounded_strictures_applied_with_still_greater_force_to_the_unconvicted_prisoner_the_man_who_came_to_the_prison_innocent_and_still_uncontaminated_[Discrete(True,True)].wav\" type=\"audio/wav\"></audio>"
      ],
      "text/plain": [
       "<IPython.core.display.HTML object>"
      ]
     },
     "metadata": {},
     "output_type": "display_data"
    },
    {
     "data": {
      "text/html": [
       "<img src=\"DiscreteAttentionWeights/DiscreteAttentionWeights/tacotron2_statedict.pt/[002]ljs-w_neutral_These_pungent_and_well-grounded_strictures_applied_with_still_greater_force_to_the_unconvicted_prisoner_the_man_who_came_to_the_prison_innocent_and_still_uncontaminated_[Discrete(True,True)].png\"></img>"
      ],
      "text/plain": [
       "<IPython.core.display.HTML object>"
      ]
     },
     "metadata": {},
     "output_type": "display_data"
    },
    {
     "name": "stdout",
     "output_type": "stream",
     "text": [
      "Warning! Reached max decoder steps\n",
      "Speaker: ljs-w\n",
      "Emotion: neutral\n",
      "Text   : These pungent and well-grounded strictures applied with still greater force to the unconvicted prisoner, the man who came to the prison innocent, and still uncontaminated,\n",
      "Attention quality:        0.7628\n",
      "Forward attentoin ratio:  1.0000\n",
      "Attentoin ratio:          0.7953\n",
      "Range attentoin ratio:    0.9591\n",
      "Multiple attentoin ratio: 0.0000\n",
      "Saved inference_ipynb/DiscreteAttentionWeights/DiscreteAttentionWeights/tacotron2_statedict.pt/[002]ljs-w_neutral_These_pungent_and_well-grounded_strictures_applied_with_still_greater_force_to_the_unconvicted_prisoner_the_man_who_came_to_the_prison_innocent_and_still_uncontaminated_[Discrete(False,True)].wav\n",
      "Saved inference_ipynb/DiscreteAttentionWeights/DiscreteAttentionWeights/tacotron2_statedict.pt/[002]ljs-w_neutral_These_pungent_and_well-grounded_strictures_applied_with_still_greater_force_to_the_unconvicted_prisoner_the_man_who_came_to_the_prison_innocent_and_still_uncontaminated_[Discrete(False,True)].png\n"
     ]
    },
    {
     "data": {
      "text/html": [
       "<audio controls><source src=\"DiscreteAttentionWeights/DiscreteAttentionWeights/tacotron2_statedict.pt/[002]ljs-w_neutral_These_pungent_and_well-grounded_strictures_applied_with_still_greater_force_to_the_unconvicted_prisoner_the_man_who_came_to_the_prison_innocent_and_still_uncontaminated_[Discrete(False,True)].wav\" type=\"audio/wav\"></audio>"
      ],
      "text/plain": [
       "<IPython.core.display.HTML object>"
      ]
     },
     "metadata": {},
     "output_type": "display_data"
    },
    {
     "data": {
      "text/html": [
       "<img src=\"DiscreteAttentionWeights/DiscreteAttentionWeights/tacotron2_statedict.pt/[002]ljs-w_neutral_These_pungent_and_well-grounded_strictures_applied_with_still_greater_force_to_the_unconvicted_prisoner_the_man_who_came_to_the_prison_innocent_and_still_uncontaminated_[Discrete(False,True)].png\"></img>"
      ],
      "text/plain": [
       "<IPython.core.display.HTML object>"
      ]
     },
     "metadata": {},
     "output_type": "display_data"
    },
    {
     "name": "stdout",
     "output_type": "stream",
     "text": [
      "Warning! Reached max decoder steps\n",
      "Speaker: ljs-w\n",
      "Emotion: neutral\n",
      "Text   : These pungent and well-grounded strictures applied with still greater force to the unconvicted prisoner, the man who came to the prison innocent, and still uncontaminated,\n",
      "Attention quality:        0.0218\n",
      "Forward attentoin ratio:  0.9429\n",
      "Attentoin ratio:          0.1228\n",
      "Range attentoin ratio:    0.2047\n",
      "Multiple attentoin ratio: 0.0819\n",
      "Saved inference_ipynb/DiscreteAttentionWeights/DiscreteAttentionWeights/tacotron2_statedict.pt/[002]ljs-w_neutral_These_pungent_and_well-grounded_strictures_applied_with_still_greater_force_to_the_unconvicted_prisoner_the_man_who_came_to_the_prison_innocent_and_still_uncontaminated_[Discrete(True,False)].wav\n",
      "Saved inference_ipynb/DiscreteAttentionWeights/DiscreteAttentionWeights/tacotron2_statedict.pt/[002]ljs-w_neutral_These_pungent_and_well-grounded_strictures_applied_with_still_greater_force_to_the_unconvicted_prisoner_the_man_who_came_to_the_prison_innocent_and_still_uncontaminated_[Discrete(True,False)].png\n"
     ]
    },
    {
     "data": {
      "text/html": [
       "<audio controls><source src=\"DiscreteAttentionWeights/DiscreteAttentionWeights/tacotron2_statedict.pt/[002]ljs-w_neutral_These_pungent_and_well-grounded_strictures_applied_with_still_greater_force_to_the_unconvicted_prisoner_the_man_who_came_to_the_prison_innocent_and_still_uncontaminated_[Discrete(True,False)].wav\" type=\"audio/wav\"></audio>"
      ],
      "text/plain": [
       "<IPython.core.display.HTML object>"
      ]
     },
     "metadata": {},
     "output_type": "display_data"
    },
    {
     "data": {
      "text/html": [
       "<img src=\"DiscreteAttentionWeights/DiscreteAttentionWeights/tacotron2_statedict.pt/[002]ljs-w_neutral_These_pungent_and_well-grounded_strictures_applied_with_still_greater_force_to_the_unconvicted_prisoner_the_man_who_came_to_the_prison_innocent_and_still_uncontaminated_[Discrete(True,False)].png\"></img>"
      ],
      "text/plain": [
       "<IPython.core.display.HTML object>"
      ]
     },
     "metadata": {},
     "output_type": "display_data"
    },
    {
     "name": "stdout",
     "output_type": "stream",
     "text": [
      "[3 Done!]======================================================================================================================================================\n",
      "Speaker: ljs-w\n",
      "Emotion: neutral\n",
      "Text   : although at Mr. Buxton's visit a new jail was in process of erection, the first step towards reform since Howard's visitation in seventeen seventy-four.\n",
      "Attention quality:        0.8645\n",
      "Forward attentoin ratio:  1.0000\n",
      "Attentoin ratio:          0.8645\n",
      "Range attentoin ratio:    1.0000\n",
      "Multiple attentoin ratio: 0.0000\n",
      "Saved inference_ipynb/DiscreteAttentionWeights/DiscreteAttentionWeights/tacotron2_statedict.pt/[003]ljs-w_neutral_although_at_Mr_Buxtons_visit_a_new_jail_was_in_process_of_erection_the_first_step_towards_reform_since_Howards_visitation_in_seventeen_seventy-four_[Discrete(False,False)].wav\n",
      "Saved inference_ipynb/DiscreteAttentionWeights/DiscreteAttentionWeights/tacotron2_statedict.pt/[003]ljs-w_neutral_although_at_Mr_Buxtons_visit_a_new_jail_was_in_process_of_erection_the_first_step_towards_reform_since_Howards_visitation_in_seventeen_seventy-four_[Discrete(False,False)].png\n"
     ]
    },
    {
     "data": {
      "text/html": [
       "<audio controls><source src=\"DiscreteAttentionWeights/DiscreteAttentionWeights/tacotron2_statedict.pt/[003]ljs-w_neutral_although_at_Mr_Buxtons_visit_a_new_jail_was_in_process_of_erection_the_first_step_towards_reform_since_Howards_visitation_in_seventeen_seventy-four_[Discrete(False,False)].wav\" type=\"audio/wav\"></audio>"
      ],
      "text/plain": [
       "<IPython.core.display.HTML object>"
      ]
     },
     "metadata": {},
     "output_type": "display_data"
    },
    {
     "data": {
      "text/html": [
       "<img src=\"DiscreteAttentionWeights/DiscreteAttentionWeights/tacotron2_statedict.pt/[003]ljs-w_neutral_although_at_Mr_Buxtons_visit_a_new_jail_was_in_process_of_erection_the_first_step_towards_reform_since_Howards_visitation_in_seventeen_seventy-four_[Discrete(False,False)].png\"></img>"
      ],
      "text/plain": [
       "<IPython.core.display.HTML object>"
      ]
     },
     "metadata": {},
     "output_type": "display_data"
    },
    {
     "name": "stdout",
     "output_type": "stream",
     "text": [
      "Warning! Reached max decoder steps\n",
      "Speaker: ljs-w\n",
      "Emotion: neutral\n",
      "Text   : although at Mr. Buxton's visit a new jail was in process of erection, the first step towards reform since Howard's visitation in seventeen seventy-four.\n",
      "Attention quality:        0.1169\n",
      "Forward attentoin ratio:  1.0000\n",
      "Attentoin ratio:          0.3355\n",
      "Range attentoin ratio:    0.3484\n",
      "Multiple attentoin ratio: 0.0000\n",
      "Saved inference_ipynb/DiscreteAttentionWeights/DiscreteAttentionWeights/tacotron2_statedict.pt/[003]ljs-w_neutral_although_at_Mr_Buxtons_visit_a_new_jail_was_in_process_of_erection_the_first_step_towards_reform_since_Howards_visitation_in_seventeen_seventy-four_[Discrete(True,True)].wav\n",
      "Saved inference_ipynb/DiscreteAttentionWeights/DiscreteAttentionWeights/tacotron2_statedict.pt/[003]ljs-w_neutral_although_at_Mr_Buxtons_visit_a_new_jail_was_in_process_of_erection_the_first_step_towards_reform_since_Howards_visitation_in_seventeen_seventy-four_[Discrete(True,True)].png\n"
     ]
    },
    {
     "data": {
      "text/html": [
       "<audio controls><source src=\"DiscreteAttentionWeights/DiscreteAttentionWeights/tacotron2_statedict.pt/[003]ljs-w_neutral_although_at_Mr_Buxtons_visit_a_new_jail_was_in_process_of_erection_the_first_step_towards_reform_since_Howards_visitation_in_seventeen_seventy-four_[Discrete(True,True)].wav\" type=\"audio/wav\"></audio>"
      ],
      "text/plain": [
       "<IPython.core.display.HTML object>"
      ]
     },
     "metadata": {},
     "output_type": "display_data"
    },
    {
     "data": {
      "text/html": [
       "<img src=\"DiscreteAttentionWeights/DiscreteAttentionWeights/tacotron2_statedict.pt/[003]ljs-w_neutral_although_at_Mr_Buxtons_visit_a_new_jail_was_in_process_of_erection_the_first_step_towards_reform_since_Howards_visitation_in_seventeen_seventy-four_[Discrete(True,True)].png\"></img>"
      ],
      "text/plain": [
       "<IPython.core.display.HTML object>"
      ]
     },
     "metadata": {},
     "output_type": "display_data"
    },
    {
     "name": "stdout",
     "output_type": "stream",
     "text": [
      "Speaker: ljs-w\n",
      "Emotion: neutral\n",
      "Text   : although at Mr. Buxton's visit a new jail was in process of erection, the first step towards reform since Howard's visitation in seventeen seventy-four.\n",
      "Attention quality:        0.8323\n",
      "Forward attentoin ratio:  1.0000\n",
      "Attentoin ratio:          0.8323\n",
      "Range attentoin ratio:    1.0000\n",
      "Multiple attentoin ratio: 0.0000\n",
      "Saved inference_ipynb/DiscreteAttentionWeights/DiscreteAttentionWeights/tacotron2_statedict.pt/[003]ljs-w_neutral_although_at_Mr_Buxtons_visit_a_new_jail_was_in_process_of_erection_the_first_step_towards_reform_since_Howards_visitation_in_seventeen_seventy-four_[Discrete(False,True)].wav\n",
      "Saved inference_ipynb/DiscreteAttentionWeights/DiscreteAttentionWeights/tacotron2_statedict.pt/[003]ljs-w_neutral_although_at_Mr_Buxtons_visit_a_new_jail_was_in_process_of_erection_the_first_step_towards_reform_since_Howards_visitation_in_seventeen_seventy-four_[Discrete(False,True)].png\n"
     ]
    },
    {
     "data": {
      "text/html": [
       "<audio controls><source src=\"DiscreteAttentionWeights/DiscreteAttentionWeights/tacotron2_statedict.pt/[003]ljs-w_neutral_although_at_Mr_Buxtons_visit_a_new_jail_was_in_process_of_erection_the_first_step_towards_reform_since_Howards_visitation_in_seventeen_seventy-four_[Discrete(False,True)].wav\" type=\"audio/wav\"></audio>"
      ],
      "text/plain": [
       "<IPython.core.display.HTML object>"
      ]
     },
     "metadata": {},
     "output_type": "display_data"
    },
    {
     "data": {
      "text/html": [
       "<img src=\"DiscreteAttentionWeights/DiscreteAttentionWeights/tacotron2_statedict.pt/[003]ljs-w_neutral_although_at_Mr_Buxtons_visit_a_new_jail_was_in_process_of_erection_the_first_step_towards_reform_since_Howards_visitation_in_seventeen_seventy-four_[Discrete(False,True)].png\"></img>"
      ],
      "text/plain": [
       "<IPython.core.display.HTML object>"
      ]
     },
     "metadata": {},
     "output_type": "display_data"
    },
    {
     "name": "stdout",
     "output_type": "stream",
     "text": [
      "Warning! Reached max decoder steps\n",
      "Speaker: ljs-w\n",
      "Emotion: neutral\n",
      "Text   : although at Mr. Buxton's visit a new jail was in process of erection, the first step towards reform since Howard's visitation in seventeen seventy-four.\n",
      "Attention quality:        0.0625\n",
      "Forward attentoin ratio:  0.9860\n",
      "Attentoin ratio:          0.1935\n",
      "Range attentoin ratio:    0.3548\n",
      "Multiple attentoin ratio: 0.0774\n",
      "Saved inference_ipynb/DiscreteAttentionWeights/DiscreteAttentionWeights/tacotron2_statedict.pt/[003]ljs-w_neutral_although_at_Mr_Buxtons_visit_a_new_jail_was_in_process_of_erection_the_first_step_towards_reform_since_Howards_visitation_in_seventeen_seventy-four_[Discrete(True,False)].wav\n",
      "Saved inference_ipynb/DiscreteAttentionWeights/DiscreteAttentionWeights/tacotron2_statedict.pt/[003]ljs-w_neutral_although_at_Mr_Buxtons_visit_a_new_jail_was_in_process_of_erection_the_first_step_towards_reform_since_Howards_visitation_in_seventeen_seventy-four_[Discrete(True,False)].png\n"
     ]
    },
    {
     "data": {
      "text/html": [
       "<audio controls><source src=\"DiscreteAttentionWeights/DiscreteAttentionWeights/tacotron2_statedict.pt/[003]ljs-w_neutral_although_at_Mr_Buxtons_visit_a_new_jail_was_in_process_of_erection_the_first_step_towards_reform_since_Howards_visitation_in_seventeen_seventy-four_[Discrete(True,False)].wav\" type=\"audio/wav\"></audio>"
      ],
      "text/plain": [
       "<IPython.core.display.HTML object>"
      ]
     },
     "metadata": {},
     "output_type": "display_data"
    },
    {
     "data": {
      "text/html": [
       "<img src=\"DiscreteAttentionWeights/DiscreteAttentionWeights/tacotron2_statedict.pt/[003]ljs-w_neutral_although_at_Mr_Buxtons_visit_a_new_jail_was_in_process_of_erection_the_first_step_towards_reform_since_Howards_visitation_in_seventeen_seventy-four_[Discrete(True,False)].png\"></img>"
      ],
      "text/plain": [
       "<IPython.core.display.HTML object>"
      ]
     },
     "metadata": {},
     "output_type": "display_data"
    },
    {
     "name": "stdout",
     "output_type": "stream",
     "text": [
      "[4 Done!]======================================================================================================================================================\n",
      "Speaker: ljs-w\n",
      "Emotion: neutral\n",
      "Text   : together with a great increase in the payrolls, there has come a substantial rise in the total of industrial profits\n",
      "Attention quality:        0.8448\n",
      "Forward attentoin ratio:  1.0000\n",
      "Attentoin ratio:          0.8448\n",
      "Range attentoin ratio:    1.0000\n",
      "Multiple attentoin ratio: 0.0000\n",
      "Saved inference_ipynb/DiscreteAttentionWeights/DiscreteAttentionWeights/tacotron2_statedict.pt/[004]ljs-w_neutral_together_with_a_great_increase_in_the_payrolls_there_has_come_a_substantial_rise_in_the_total_of_industrial_profits_[Discrete(False,False)].wav\n",
      "Saved inference_ipynb/DiscreteAttentionWeights/DiscreteAttentionWeights/tacotron2_statedict.pt/[004]ljs-w_neutral_together_with_a_great_increase_in_the_payrolls_there_has_come_a_substantial_rise_in_the_total_of_industrial_profits_[Discrete(False,False)].png\n"
     ]
    },
    {
     "data": {
      "text/html": [
       "<audio controls><source src=\"DiscreteAttentionWeights/DiscreteAttentionWeights/tacotron2_statedict.pt/[004]ljs-w_neutral_together_with_a_great_increase_in_the_payrolls_there_has_come_a_substantial_rise_in_the_total_of_industrial_profits_[Discrete(False,False)].wav\" type=\"audio/wav\"></audio>"
      ],
      "text/plain": [
       "<IPython.core.display.HTML object>"
      ]
     },
     "metadata": {},
     "output_type": "display_data"
    },
    {
     "data": {
      "text/html": [
       "<img src=\"DiscreteAttentionWeights/DiscreteAttentionWeights/tacotron2_statedict.pt/[004]ljs-w_neutral_together_with_a_great_increase_in_the_payrolls_there_has_come_a_substantial_rise_in_the_total_of_industrial_profits_[Discrete(False,False)].png\"></img>"
      ],
      "text/plain": [
       "<IPython.core.display.HTML object>"
      ]
     },
     "metadata": {},
     "output_type": "display_data"
    },
    {
     "name": "stdout",
     "output_type": "stream",
     "text": [
      "Warning! Reached max decoder steps\n",
      "Speaker: ljs-w\n",
      "Emotion: neutral\n",
      "Text   : together with a great increase in the payrolls, there has come a substantial rise in the total of industrial profits\n",
      "Attention quality:        0.2493\n",
      "Forward attentoin ratio:  1.0000\n",
      "Attentoin ratio:          0.4741\n",
      "Range attentoin ratio:    0.5259\n",
      "Multiple attentoin ratio: 0.0000\n",
      "Saved inference_ipynb/DiscreteAttentionWeights/DiscreteAttentionWeights/tacotron2_statedict.pt/[004]ljs-w_neutral_together_with_a_great_increase_in_the_payrolls_there_has_come_a_substantial_rise_in_the_total_of_industrial_profits_[Discrete(True,True)].wav\n",
      "Saved inference_ipynb/DiscreteAttentionWeights/DiscreteAttentionWeights/tacotron2_statedict.pt/[004]ljs-w_neutral_together_with_a_great_increase_in_the_payrolls_there_has_come_a_substantial_rise_in_the_total_of_industrial_profits_[Discrete(True,True)].png\n"
     ]
    },
    {
     "data": {
      "text/html": [
       "<audio controls><source src=\"DiscreteAttentionWeights/DiscreteAttentionWeights/tacotron2_statedict.pt/[004]ljs-w_neutral_together_with_a_great_increase_in_the_payrolls_there_has_come_a_substantial_rise_in_the_total_of_industrial_profits_[Discrete(True,True)].wav\" type=\"audio/wav\"></audio>"
      ],
      "text/plain": [
       "<IPython.core.display.HTML object>"
      ]
     },
     "metadata": {},
     "output_type": "display_data"
    },
    {
     "data": {
      "text/html": [
       "<img src=\"DiscreteAttentionWeights/DiscreteAttentionWeights/tacotron2_statedict.pt/[004]ljs-w_neutral_together_with_a_great_increase_in_the_payrolls_there_has_come_a_substantial_rise_in_the_total_of_industrial_profits_[Discrete(True,True)].png\"></img>"
      ],
      "text/plain": [
       "<IPython.core.display.HTML object>"
      ]
     },
     "metadata": {},
     "output_type": "display_data"
    },
    {
     "name": "stdout",
     "output_type": "stream",
     "text": [
      "Warning! Reached max decoder steps\n",
      "Speaker: ljs-w\n",
      "Emotion: neutral\n",
      "Text   : together with a great increase in the payrolls, there has come a substantial rise in the total of industrial profits\n",
      "Attention quality:        0.7546\n",
      "Forward attentoin ratio:  0.9970\n",
      "Attentoin ratio:          0.8362\n",
      "Range attentoin ratio:    1.0000\n",
      "Multiple attentoin ratio: 0.0948\n",
      "Saved inference_ipynb/DiscreteAttentionWeights/DiscreteAttentionWeights/tacotron2_statedict.pt/[004]ljs-w_neutral_together_with_a_great_increase_in_the_payrolls_there_has_come_a_substantial_rise_in_the_total_of_industrial_profits_[Discrete(False,True)].wav\n",
      "Saved inference_ipynb/DiscreteAttentionWeights/DiscreteAttentionWeights/tacotron2_statedict.pt/[004]ljs-w_neutral_together_with_a_great_increase_in_the_payrolls_there_has_come_a_substantial_rise_in_the_total_of_industrial_profits_[Discrete(False,True)].png\n"
     ]
    },
    {
     "data": {
      "text/html": [
       "<audio controls><source src=\"DiscreteAttentionWeights/DiscreteAttentionWeights/tacotron2_statedict.pt/[004]ljs-w_neutral_together_with_a_great_increase_in_the_payrolls_there_has_come_a_substantial_rise_in_the_total_of_industrial_profits_[Discrete(False,True)].wav\" type=\"audio/wav\"></audio>"
      ],
      "text/plain": [
       "<IPython.core.display.HTML object>"
      ]
     },
     "metadata": {},
     "output_type": "display_data"
    },
    {
     "data": {
      "text/html": [
       "<img src=\"DiscreteAttentionWeights/DiscreteAttentionWeights/tacotron2_statedict.pt/[004]ljs-w_neutral_together_with_a_great_increase_in_the_payrolls_there_has_come_a_substantial_rise_in_the_total_of_industrial_profits_[Discrete(False,True)].png\"></img>"
      ],
      "text/plain": [
       "<IPython.core.display.HTML object>"
      ]
     },
     "metadata": {},
     "output_type": "display_data"
    },
    {
     "name": "stdout",
     "output_type": "stream",
     "text": [
      "Speaker: ljs-w\n",
      "Emotion: neutral\n",
      "Text   : together with a great increase in the payrolls, there has come a substantial rise in the total of industrial profits\n",
      "Attention quality:        0.0385\n",
      "Forward attentoin ratio:  0.9628\n",
      "Attentoin ratio:          0.1034\n",
      "Range attentoin ratio:    0.3966\n",
      "Multiple attentoin ratio: 0.0259\n",
      "Saved inference_ipynb/DiscreteAttentionWeights/DiscreteAttentionWeights/tacotron2_statedict.pt/[004]ljs-w_neutral_together_with_a_great_increase_in_the_payrolls_there_has_come_a_substantial_rise_in_the_total_of_industrial_profits_[Discrete(True,False)].wav\n",
      "Saved inference_ipynb/DiscreteAttentionWeights/DiscreteAttentionWeights/tacotron2_statedict.pt/[004]ljs-w_neutral_together_with_a_great_increase_in_the_payrolls_there_has_come_a_substantial_rise_in_the_total_of_industrial_profits_[Discrete(True,False)].png\n"
     ]
    },
    {
     "data": {
      "text/html": [
       "<audio controls><source src=\"DiscreteAttentionWeights/DiscreteAttentionWeights/tacotron2_statedict.pt/[004]ljs-w_neutral_together_with_a_great_increase_in_the_payrolls_there_has_come_a_substantial_rise_in_the_total_of_industrial_profits_[Discrete(True,False)].wav\" type=\"audio/wav\"></audio>"
      ],
      "text/plain": [
       "<IPython.core.display.HTML object>"
      ]
     },
     "metadata": {},
     "output_type": "display_data"
    },
    {
     "data": {
      "text/html": [
       "<img src=\"DiscreteAttentionWeights/DiscreteAttentionWeights/tacotron2_statedict.pt/[004]ljs-w_neutral_together_with_a_great_increase_in_the_payrolls_there_has_come_a_substantial_rise_in_the_total_of_industrial_profits_[Discrete(True,False)].png\"></img>"
      ],
      "text/plain": [
       "<IPython.core.display.HTML object>"
      ]
     },
     "metadata": {},
     "output_type": "display_data"
    },
    {
     "name": "stdout",
     "output_type": "stream",
     "text": [
      "[5 Done!]======================================================================================================================================================\n",
      "Speaker: ljs-w\n",
      "Emotion: neutral\n",
      "Text   : Let me retrace my steps, and speak more in detail of the treatment of the condemned in those bloodthirsty and brutally indifferent days,\n",
      "Attention quality:        0.8309\n",
      "Forward attentoin ratio:  0.9986\n",
      "Attentoin ratio:          0.8382\n",
      "Range attentoin ratio:    1.0000\n",
      "Multiple attentoin ratio: 0.0074\n",
      "Saved inference_ipynb/DiscreteAttentionWeights/DiscreteAttentionWeights/tacotron2_statedict.pt/[005]ljs-w_neutral_Let_me_retrace_my_steps_and_speak_more_in_detail_of_the_treatment_of_the_condemned_in_those_bloodthirsty_and_brutally_indifferent_days_[Discrete(False,False)].wav\n",
      "Saved inference_ipynb/DiscreteAttentionWeights/DiscreteAttentionWeights/tacotron2_statedict.pt/[005]ljs-w_neutral_Let_me_retrace_my_steps_and_speak_more_in_detail_of_the_treatment_of_the_condemned_in_those_bloodthirsty_and_brutally_indifferent_days_[Discrete(False,False)].png\n"
     ]
    },
    {
     "data": {
      "text/html": [
       "<audio controls><source src=\"DiscreteAttentionWeights/DiscreteAttentionWeights/tacotron2_statedict.pt/[005]ljs-w_neutral_Let_me_retrace_my_steps_and_speak_more_in_detail_of_the_treatment_of_the_condemned_in_those_bloodthirsty_and_brutally_indifferent_days_[Discrete(False,False)].wav\" type=\"audio/wav\"></audio>"
      ],
      "text/plain": [
       "<IPython.core.display.HTML object>"
      ]
     },
     "metadata": {},
     "output_type": "display_data"
    },
    {
     "data": {
      "text/html": [
       "<img src=\"DiscreteAttentionWeights/DiscreteAttentionWeights/tacotron2_statedict.pt/[005]ljs-w_neutral_Let_me_retrace_my_steps_and_speak_more_in_detail_of_the_treatment_of_the_condemned_in_those_bloodthirsty_and_brutally_indifferent_days_[Discrete(False,False)].png\"></img>"
      ],
      "text/plain": [
       "<IPython.core.display.HTML object>"
      ]
     },
     "metadata": {},
     "output_type": "display_data"
    },
    {
     "name": "stdout",
     "output_type": "stream",
     "text": [
      "Warning! Reached max decoder steps\n",
      "Speaker: ljs-w\n",
      "Emotion: neutral\n",
      "Text   : Let me retrace my steps, and speak more in detail of the treatment of the condemned in those bloodthirsty and brutally indifferent days,\n",
      "Attention quality:        0.0931\n",
      "Forward attentoin ratio:  1.0000\n",
      "Attentoin ratio:          0.3015\n",
      "Range attentoin ratio:    0.3088\n",
      "Multiple attentoin ratio: 0.0000\n",
      "Saved inference_ipynb/DiscreteAttentionWeights/DiscreteAttentionWeights/tacotron2_statedict.pt/[005]ljs-w_neutral_Let_me_retrace_my_steps_and_speak_more_in_detail_of_the_treatment_of_the_condemned_in_those_bloodthirsty_and_brutally_indifferent_days_[Discrete(True,True)].wav\n",
      "Saved inference_ipynb/DiscreteAttentionWeights/DiscreteAttentionWeights/tacotron2_statedict.pt/[005]ljs-w_neutral_Let_me_retrace_my_steps_and_speak_more_in_detail_of_the_treatment_of_the_condemned_in_those_bloodthirsty_and_brutally_indifferent_days_[Discrete(True,True)].png\n"
     ]
    },
    {
     "data": {
      "text/html": [
       "<audio controls><source src=\"DiscreteAttentionWeights/DiscreteAttentionWeights/tacotron2_statedict.pt/[005]ljs-w_neutral_Let_me_retrace_my_steps_and_speak_more_in_detail_of_the_treatment_of_the_condemned_in_those_bloodthirsty_and_brutally_indifferent_days_[Discrete(True,True)].wav\" type=\"audio/wav\"></audio>"
      ],
      "text/plain": [
       "<IPython.core.display.HTML object>"
      ]
     },
     "metadata": {},
     "output_type": "display_data"
    },
    {
     "data": {
      "text/html": [
       "<img src=\"DiscreteAttentionWeights/DiscreteAttentionWeights/tacotron2_statedict.pt/[005]ljs-w_neutral_Let_me_retrace_my_steps_and_speak_more_in_detail_of_the_treatment_of_the_condemned_in_those_bloodthirsty_and_brutally_indifferent_days_[Discrete(True,True)].png\"></img>"
      ],
      "text/plain": [
       "<IPython.core.display.HTML object>"
      ]
     },
     "metadata": {},
     "output_type": "display_data"
    },
    {
     "name": "stdout",
     "output_type": "stream",
     "text": [
      "Speaker: ljs-w\n",
      "Emotion: neutral\n",
      "Text   : Let me retrace my steps, and speak more in detail of the treatment of the condemned in those bloodthirsty and brutally indifferent days,\n",
      "Attention quality:        0.8162\n",
      "Forward attentoin ratio:  1.0000\n",
      "Attentoin ratio:          0.8162\n",
      "Range attentoin ratio:    1.0000\n",
      "Multiple attentoin ratio: 0.0000\n",
      "Saved inference_ipynb/DiscreteAttentionWeights/DiscreteAttentionWeights/tacotron2_statedict.pt/[005]ljs-w_neutral_Let_me_retrace_my_steps_and_speak_more_in_detail_of_the_treatment_of_the_condemned_in_those_bloodthirsty_and_brutally_indifferent_days_[Discrete(False,True)].wav\n",
      "Saved inference_ipynb/DiscreteAttentionWeights/DiscreteAttentionWeights/tacotron2_statedict.pt/[005]ljs-w_neutral_Let_me_retrace_my_steps_and_speak_more_in_detail_of_the_treatment_of_the_condemned_in_those_bloodthirsty_and_brutally_indifferent_days_[Discrete(False,True)].png\n"
     ]
    },
    {
     "data": {
      "text/html": [
       "<audio controls><source src=\"DiscreteAttentionWeights/DiscreteAttentionWeights/tacotron2_statedict.pt/[005]ljs-w_neutral_Let_me_retrace_my_steps_and_speak_more_in_detail_of_the_treatment_of_the_condemned_in_those_bloodthirsty_and_brutally_indifferent_days_[Discrete(False,True)].wav\" type=\"audio/wav\"></audio>"
      ],
      "text/plain": [
       "<IPython.core.display.HTML object>"
      ]
     },
     "metadata": {},
     "output_type": "display_data"
    },
    {
     "data": {
      "text/html": [
       "<img src=\"DiscreteAttentionWeights/DiscreteAttentionWeights/tacotron2_statedict.pt/[005]ljs-w_neutral_Let_me_retrace_my_steps_and_speak_more_in_detail_of_the_treatment_of_the_condemned_in_those_bloodthirsty_and_brutally_indifferent_days_[Discrete(False,True)].png\"></img>"
      ],
      "text/plain": [
       "<IPython.core.display.HTML object>"
      ]
     },
     "metadata": {},
     "output_type": "display_data"
    },
    {
     "name": "stdout",
     "output_type": "stream",
     "text": [
      "Speaker: ljs-w\n",
      "Emotion: neutral\n",
      "Text   : Let me retrace my steps, and speak more in detail of the treatment of the condemned in those bloodthirsty and brutally indifferent days,\n",
      "Attention quality:        0.0032\n",
      "Forward attentoin ratio:  0.9910\n",
      "Attentoin ratio:          0.0368\n",
      "Range attentoin ratio:    0.0882\n",
      "Multiple attentoin ratio: 0.0147\n",
      "Saved inference_ipynb/DiscreteAttentionWeights/DiscreteAttentionWeights/tacotron2_statedict.pt/[005]ljs-w_neutral_Let_me_retrace_my_steps_and_speak_more_in_detail_of_the_treatment_of_the_condemned_in_those_bloodthirsty_and_brutally_indifferent_days_[Discrete(True,False)].wav\n",
      "Saved inference_ipynb/DiscreteAttentionWeights/DiscreteAttentionWeights/tacotron2_statedict.pt/[005]ljs-w_neutral_Let_me_retrace_my_steps_and_speak_more_in_detail_of_the_treatment_of_the_condemned_in_those_bloodthirsty_and_brutally_indifferent_days_[Discrete(True,False)].png\n"
     ]
    },
    {
     "data": {
      "text/html": [
       "<audio controls><source src=\"DiscreteAttentionWeights/DiscreteAttentionWeights/tacotron2_statedict.pt/[005]ljs-w_neutral_Let_me_retrace_my_steps_and_speak_more_in_detail_of_the_treatment_of_the_condemned_in_those_bloodthirsty_and_brutally_indifferent_days_[Discrete(True,False)].wav\" type=\"audio/wav\"></audio>"
      ],
      "text/plain": [
       "<IPython.core.display.HTML object>"
      ]
     },
     "metadata": {},
     "output_type": "display_data"
    },
    {
     "data": {
      "text/html": [
       "<img src=\"DiscreteAttentionWeights/DiscreteAttentionWeights/tacotron2_statedict.pt/[005]ljs-w_neutral_Let_me_retrace_my_steps_and_speak_more_in_detail_of_the_treatment_of_the_condemned_in_those_bloodthirsty_and_brutally_indifferent_days_[Discrete(True,False)].png\"></img>"
      ],
      "text/plain": [
       "<IPython.core.display.HTML object>"
      ]
     },
     "metadata": {},
     "output_type": "display_data"
    },
    {
     "name": "stdout",
     "output_type": "stream",
     "text": [
      "[6 Done!]======================================================================================================================================================\n",
      "Speaker: ljs-w\n",
      "Emotion: neutral\n",
      "Text   : The inadequacy of the jail was noticed and reported upon again and again by the grand juries of the city of London,\n",
      "Attention quality:        0.8088\n",
      "Forward attentoin ratio:  0.9982\n",
      "Attentoin ratio:          0.8174\n",
      "Range attentoin ratio:    1.0000\n",
      "Multiple attentoin ratio: 0.0087\n",
      "Saved inference_ipynb/DiscreteAttentionWeights/DiscreteAttentionWeights/tacotron2_statedict.pt/[006]ljs-w_neutral_The_inadequacy_of_the_jail_was_noticed_and_reported_upon_again_and_again_by_the_grand_juries_of_the_city_of_London_[Discrete(False,False)].wav\n",
      "Saved inference_ipynb/DiscreteAttentionWeights/DiscreteAttentionWeights/tacotron2_statedict.pt/[006]ljs-w_neutral_The_inadequacy_of_the_jail_was_noticed_and_reported_upon_again_and_again_by_the_grand_juries_of_the_city_of_London_[Discrete(False,False)].png\n"
     ]
    },
    {
     "data": {
      "text/html": [
       "<audio controls><source src=\"DiscreteAttentionWeights/DiscreteAttentionWeights/tacotron2_statedict.pt/[006]ljs-w_neutral_The_inadequacy_of_the_jail_was_noticed_and_reported_upon_again_and_again_by_the_grand_juries_of_the_city_of_London_[Discrete(False,False)].wav\" type=\"audio/wav\"></audio>"
      ],
      "text/plain": [
       "<IPython.core.display.HTML object>"
      ]
     },
     "metadata": {},
     "output_type": "display_data"
    },
    {
     "data": {
      "text/html": [
       "<img src=\"DiscreteAttentionWeights/DiscreteAttentionWeights/tacotron2_statedict.pt/[006]ljs-w_neutral_The_inadequacy_of_the_jail_was_noticed_and_reported_upon_again_and_again_by_the_grand_juries_of_the_city_of_London_[Discrete(False,False)].png\"></img>"
      ],
      "text/plain": [
       "<IPython.core.display.HTML object>"
      ]
     },
     "metadata": {},
     "output_type": "display_data"
    },
    {
     "name": "stdout",
     "output_type": "stream",
     "text": [
      "Warning! Reached max decoder steps\n",
      "Speaker: ljs-w\n",
      "Emotion: neutral\n",
      "Text   : The inadequacy of the jail was noticed and reported upon again and again by the grand juries of the city of London,\n",
      "Attention quality:        0.2625\n",
      "Forward attentoin ratio:  1.0000\n",
      "Attentoin ratio:          0.4870\n",
      "Range attentoin ratio:    0.5391\n",
      "Multiple attentoin ratio: 0.0000\n",
      "Saved inference_ipynb/DiscreteAttentionWeights/DiscreteAttentionWeights/tacotron2_statedict.pt/[006]ljs-w_neutral_The_inadequacy_of_the_jail_was_noticed_and_reported_upon_again_and_again_by_the_grand_juries_of_the_city_of_London_[Discrete(True,True)].wav\n",
      "Saved inference_ipynb/DiscreteAttentionWeights/DiscreteAttentionWeights/tacotron2_statedict.pt/[006]ljs-w_neutral_The_inadequacy_of_the_jail_was_noticed_and_reported_upon_again_and_again_by_the_grand_juries_of_the_city_of_London_[Discrete(True,True)].png\n"
     ]
    },
    {
     "data": {
      "text/html": [
       "<audio controls><source src=\"DiscreteAttentionWeights/DiscreteAttentionWeights/tacotron2_statedict.pt/[006]ljs-w_neutral_The_inadequacy_of_the_jail_was_noticed_and_reported_upon_again_and_again_by_the_grand_juries_of_the_city_of_London_[Discrete(True,True)].wav\" type=\"audio/wav\"></audio>"
      ],
      "text/plain": [
       "<IPython.core.display.HTML object>"
      ]
     },
     "metadata": {},
     "output_type": "display_data"
    },
    {
     "data": {
      "text/html": [
       "<img src=\"DiscreteAttentionWeights/DiscreteAttentionWeights/tacotron2_statedict.pt/[006]ljs-w_neutral_The_inadequacy_of_the_jail_was_noticed_and_reported_upon_again_and_again_by_the_grand_juries_of_the_city_of_London_[Discrete(True,True)].png\"></img>"
      ],
      "text/plain": [
       "<IPython.core.display.HTML object>"
      ]
     },
     "metadata": {},
     "output_type": "display_data"
    },
    {
     "name": "stdout",
     "output_type": "stream",
     "text": [
      "Speaker: ljs-w\n",
      "Emotion: neutral\n",
      "Text   : The inadequacy of the jail was noticed and reported upon again and again by the grand juries of the city of London,\n",
      "Attention quality:        0.8000\n",
      "Forward attentoin ratio:  1.0000\n",
      "Attentoin ratio:          0.8000\n",
      "Range attentoin ratio:    1.0000\n",
      "Multiple attentoin ratio: 0.0000\n",
      "Saved inference_ipynb/DiscreteAttentionWeights/DiscreteAttentionWeights/tacotron2_statedict.pt/[006]ljs-w_neutral_The_inadequacy_of_the_jail_was_noticed_and_reported_upon_again_and_again_by_the_grand_juries_of_the_city_of_London_[Discrete(False,True)].wav\n",
      "Saved inference_ipynb/DiscreteAttentionWeights/DiscreteAttentionWeights/tacotron2_statedict.pt/[006]ljs-w_neutral_The_inadequacy_of_the_jail_was_noticed_and_reported_upon_again_and_again_by_the_grand_juries_of_the_city_of_London_[Discrete(False,True)].png\n"
     ]
    },
    {
     "data": {
      "text/html": [
       "<audio controls><source src=\"DiscreteAttentionWeights/DiscreteAttentionWeights/tacotron2_statedict.pt/[006]ljs-w_neutral_The_inadequacy_of_the_jail_was_noticed_and_reported_upon_again_and_again_by_the_grand_juries_of_the_city_of_London_[Discrete(False,True)].wav\" type=\"audio/wav\"></audio>"
      ],
      "text/plain": [
       "<IPython.core.display.HTML object>"
      ]
     },
     "metadata": {},
     "output_type": "display_data"
    },
    {
     "data": {
      "text/html": [
       "<img src=\"DiscreteAttentionWeights/DiscreteAttentionWeights/tacotron2_statedict.pt/[006]ljs-w_neutral_The_inadequacy_of_the_jail_was_noticed_and_reported_upon_again_and_again_by_the_grand_juries_of_the_city_of_London_[Discrete(False,True)].png\"></img>"
      ],
      "text/plain": [
       "<IPython.core.display.HTML object>"
      ]
     },
     "metadata": {},
     "output_type": "display_data"
    },
    {
     "name": "stdout",
     "output_type": "stream",
     "text": [
      "Warning! Reached max decoder steps\n",
      "Speaker: ljs-w\n",
      "Emotion: neutral\n",
      "Text   : The inadequacy of the jail was noticed and reported upon again and again by the grand juries of the city of London,\n",
      "Attention quality:        0.1343\n",
      "Forward attentoin ratio:  0.9439\n",
      "Attentoin ratio:          0.2087\n",
      "Range attentoin ratio:    0.8000\n",
      "Multiple attentoin ratio: 0.1478\n",
      "Saved inference_ipynb/DiscreteAttentionWeights/DiscreteAttentionWeights/tacotron2_statedict.pt/[006]ljs-w_neutral_The_inadequacy_of_the_jail_was_noticed_and_reported_upon_again_and_again_by_the_grand_juries_of_the_city_of_London_[Discrete(True,False)].wav\n",
      "Saved inference_ipynb/DiscreteAttentionWeights/DiscreteAttentionWeights/tacotron2_statedict.pt/[006]ljs-w_neutral_The_inadequacy_of_the_jail_was_noticed_and_reported_upon_again_and_again_by_the_grand_juries_of_the_city_of_London_[Discrete(True,False)].png\n"
     ]
    },
    {
     "data": {
      "text/html": [
       "<audio controls><source src=\"DiscreteAttentionWeights/DiscreteAttentionWeights/tacotron2_statedict.pt/[006]ljs-w_neutral_The_inadequacy_of_the_jail_was_noticed_and_reported_upon_again_and_again_by_the_grand_juries_of_the_city_of_London_[Discrete(True,False)].wav\" type=\"audio/wav\"></audio>"
      ],
      "text/plain": [
       "<IPython.core.display.HTML object>"
      ]
     },
     "metadata": {},
     "output_type": "display_data"
    },
    {
     "data": {
      "text/html": [
       "<img src=\"DiscreteAttentionWeights/DiscreteAttentionWeights/tacotron2_statedict.pt/[006]ljs-w_neutral_The_inadequacy_of_the_jail_was_noticed_and_reported_upon_again_and_again_by_the_grand_juries_of_the_city_of_London_[Discrete(True,False)].png\"></img>"
      ],
      "text/plain": [
       "<IPython.core.display.HTML object>"
      ]
     },
     "metadata": {},
     "output_type": "display_data"
    },
    {
     "name": "stdout",
     "output_type": "stream",
     "text": [
      "[7 Done!]======================================================================================================================================================\n",
      "Speaker: ljs-w\n",
      "Emotion: neutral\n",
      "Text   : The criteria in effect prior to November twenty-two, nineteen sixty-three, for determining whether to accept material for the PRS general files\n",
      "Attention quality:        0.8264\n",
      "Forward attentoin ratio:  0.9988\n",
      "Attentoin ratio:          0.8392\n",
      "Range attentoin ratio:    1.0000\n",
      "Multiple attentoin ratio: 0.0140\n",
      "Saved inference_ipynb/DiscreteAttentionWeights/DiscreteAttentionWeights/tacotron2_statedict.pt/[007]ljs-w_neutral_The_criteria_in_effect_prior_to_November_twenty-two_nineteen_sixty-three_for_determining_whether_to_accept_material_for_the_PRS_general_files_[Discrete(False,False)].wav\n",
      "Saved inference_ipynb/DiscreteAttentionWeights/DiscreteAttentionWeights/tacotron2_statedict.pt/[007]ljs-w_neutral_The_criteria_in_effect_prior_to_November_twenty-two_nineteen_sixty-three_for_determining_whether_to_accept_material_for_the_PRS_general_files_[Discrete(False,False)].png\n"
     ]
    },
    {
     "data": {
      "text/html": [
       "<audio controls><source src=\"DiscreteAttentionWeights/DiscreteAttentionWeights/tacotron2_statedict.pt/[007]ljs-w_neutral_The_criteria_in_effect_prior_to_November_twenty-two_nineteen_sixty-three_for_determining_whether_to_accept_material_for_the_PRS_general_files_[Discrete(False,False)].wav\" type=\"audio/wav\"></audio>"
      ],
      "text/plain": [
       "<IPython.core.display.HTML object>"
      ]
     },
     "metadata": {},
     "output_type": "display_data"
    },
    {
     "data": {
      "text/html": [
       "<img src=\"DiscreteAttentionWeights/DiscreteAttentionWeights/tacotron2_statedict.pt/[007]ljs-w_neutral_The_criteria_in_effect_prior_to_November_twenty-two_nineteen_sixty-three_for_determining_whether_to_accept_material_for_the_PRS_general_files_[Discrete(False,False)].png\"></img>"
      ],
      "text/plain": [
       "<IPython.core.display.HTML object>"
      ]
     },
     "metadata": {},
     "output_type": "display_data"
    },
    {
     "name": "stdout",
     "output_type": "stream",
     "text": [
      "Warning! Reached max decoder steps\n",
      "Speaker: ljs-w\n",
      "Emotion: neutral\n",
      "Text   : The criteria in effect prior to November twenty-two, nineteen sixty-three, for determining whether to accept material for the PRS general files\n",
      "Attention quality:        0.2019\n",
      "Forward attentoin ratio:  0.9990\n",
      "Attentoin ratio:          0.4406\n",
      "Range attentoin ratio:    0.4685\n",
      "Multiple attentoin ratio: 0.0210\n",
      "Saved inference_ipynb/DiscreteAttentionWeights/DiscreteAttentionWeights/tacotron2_statedict.pt/[007]ljs-w_neutral_The_criteria_in_effect_prior_to_November_twenty-two_nineteen_sixty-three_for_determining_whether_to_accept_material_for_the_PRS_general_files_[Discrete(True,True)].wav\n",
      "Saved inference_ipynb/DiscreteAttentionWeights/DiscreteAttentionWeights/tacotron2_statedict.pt/[007]ljs-w_neutral_The_criteria_in_effect_prior_to_November_twenty-two_nineteen_sixty-three_for_determining_whether_to_accept_material_for_the_PRS_general_files_[Discrete(True,True)].png\n"
     ]
    },
    {
     "data": {
      "text/html": [
       "<audio controls><source src=\"DiscreteAttentionWeights/DiscreteAttentionWeights/tacotron2_statedict.pt/[007]ljs-w_neutral_The_criteria_in_effect_prior_to_November_twenty-two_nineteen_sixty-three_for_determining_whether_to_accept_material_for_the_PRS_general_files_[Discrete(True,True)].wav\" type=\"audio/wav\"></audio>"
      ],
      "text/plain": [
       "<IPython.core.display.HTML object>"
      ]
     },
     "metadata": {},
     "output_type": "display_data"
    },
    {
     "data": {
      "text/html": [
       "<img src=\"DiscreteAttentionWeights/DiscreteAttentionWeights/tacotron2_statedict.pt/[007]ljs-w_neutral_The_criteria_in_effect_prior_to_November_twenty-two_nineteen_sixty-three_for_determining_whether_to_accept_material_for_the_PRS_general_files_[Discrete(True,True)].png\"></img>"
      ],
      "text/plain": [
       "<IPython.core.display.HTML object>"
      ]
     },
     "metadata": {},
     "output_type": "display_data"
    },
    {
     "name": "stdout",
     "output_type": "stream",
     "text": [
      "Warning! Reached max decoder steps\n",
      "Speaker: ljs-w\n",
      "Emotion: neutral\n",
      "Text   : The criteria in effect prior to November twenty-two, nineteen sixty-three, for determining whether to accept material for the PRS general files\n",
      "Attention quality:        0.7558\n",
      "Forward attentoin ratio:  0.9990\n",
      "Attentoin ratio:          0.8322\n",
      "Range attentoin ratio:    1.0000\n",
      "Multiple attentoin ratio: 0.0909\n",
      "Saved inference_ipynb/DiscreteAttentionWeights/DiscreteAttentionWeights/tacotron2_statedict.pt/[007]ljs-w_neutral_The_criteria_in_effect_prior_to_November_twenty-two_nineteen_sixty-three_for_determining_whether_to_accept_material_for_the_PRS_general_files_[Discrete(False,True)].wav\n",
      "Saved inference_ipynb/DiscreteAttentionWeights/DiscreteAttentionWeights/tacotron2_statedict.pt/[007]ljs-w_neutral_The_criteria_in_effect_prior_to_November_twenty-two_nineteen_sixty-three_for_determining_whether_to_accept_material_for_the_PRS_general_files_[Discrete(False,True)].png\n"
     ]
    },
    {
     "data": {
      "text/html": [
       "<audio controls><source src=\"DiscreteAttentionWeights/DiscreteAttentionWeights/tacotron2_statedict.pt/[007]ljs-w_neutral_The_criteria_in_effect_prior_to_November_twenty-two_nineteen_sixty-three_for_determining_whether_to_accept_material_for_the_PRS_general_files_[Discrete(False,True)].wav\" type=\"audio/wav\"></audio>"
      ],
      "text/plain": [
       "<IPython.core.display.HTML object>"
      ]
     },
     "metadata": {},
     "output_type": "display_data"
    },
    {
     "data": {
      "text/html": [
       "<img src=\"DiscreteAttentionWeights/DiscreteAttentionWeights/tacotron2_statedict.pt/[007]ljs-w_neutral_The_criteria_in_effect_prior_to_November_twenty-two_nineteen_sixty-three_for_determining_whether_to_accept_material_for_the_PRS_general_files_[Discrete(False,True)].png\"></img>"
      ],
      "text/plain": [
       "<IPython.core.display.HTML object>"
      ]
     },
     "metadata": {},
     "output_type": "display_data"
    },
    {
     "name": "stdout",
     "output_type": "stream",
     "text": [
      "Speaker: ljs-w\n",
      "Emotion: neutral\n",
      "Text   : The criteria in effect prior to November twenty-two, nineteen sixty-three, for determining whether to accept material for the PRS general files\n",
      "Attention quality:        0.0403\n",
      "Forward attentoin ratio:  0.9669\n",
      "Attentoin ratio:          0.1469\n",
      "Range attentoin ratio:    0.3077\n",
      "Multiple attentoin ratio: 0.0769\n",
      "Saved inference_ipynb/DiscreteAttentionWeights/DiscreteAttentionWeights/tacotron2_statedict.pt/[007]ljs-w_neutral_The_criteria_in_effect_prior_to_November_twenty-two_nineteen_sixty-three_for_determining_whether_to_accept_material_for_the_PRS_general_files_[Discrete(True,False)].wav\n",
      "Saved inference_ipynb/DiscreteAttentionWeights/DiscreteAttentionWeights/tacotron2_statedict.pt/[007]ljs-w_neutral_The_criteria_in_effect_prior_to_November_twenty-two_nineteen_sixty-three_for_determining_whether_to_accept_material_for_the_PRS_general_files_[Discrete(True,False)].png\n"
     ]
    },
    {
     "data": {
      "text/html": [
       "<audio controls><source src=\"DiscreteAttentionWeights/DiscreteAttentionWeights/tacotron2_statedict.pt/[007]ljs-w_neutral_The_criteria_in_effect_prior_to_November_twenty-two_nineteen_sixty-three_for_determining_whether_to_accept_material_for_the_PRS_general_files_[Discrete(True,False)].wav\" type=\"audio/wav\"></audio>"
      ],
      "text/plain": [
       "<IPython.core.display.HTML object>"
      ]
     },
     "metadata": {},
     "output_type": "display_data"
    },
    {
     "data": {
      "text/html": [
       "<img src=\"DiscreteAttentionWeights/DiscreteAttentionWeights/tacotron2_statedict.pt/[007]ljs-w_neutral_The_criteria_in_effect_prior_to_November_twenty-two_nineteen_sixty-three_for_determining_whether_to_accept_material_for_the_PRS_general_files_[Discrete(True,False)].png\"></img>"
      ],
      "text/plain": [
       "<IPython.core.display.HTML object>"
      ]
     },
     "metadata": {},
     "output_type": "display_data"
    },
    {
     "name": "stdout",
     "output_type": "stream",
     "text": [
      "[8 Done!]======================================================================================================================================================\n",
      "Speaker: ljs-w\n",
      "Emotion: neutral\n",
      "Text   : On October twenty-five,\n",
      "Attention quality:        0.9130\n",
      "Forward attentoin ratio:  1.0000\n",
      "Attentoin ratio:          0.9130\n",
      "Range attentoin ratio:    1.0000\n",
      "Multiple attentoin ratio: 0.0000\n",
      "Saved inference_ipynb/DiscreteAttentionWeights/DiscreteAttentionWeights/tacotron2_statedict.pt/[008]ljs-w_neutral_On_October_twenty-five_[Discrete(False,False)].wav\n",
      "Saved inference_ipynb/DiscreteAttentionWeights/DiscreteAttentionWeights/tacotron2_statedict.pt/[008]ljs-w_neutral_On_October_twenty-five_[Discrete(False,False)].png\n"
     ]
    },
    {
     "data": {
      "text/html": [
       "<audio controls><source src=\"DiscreteAttentionWeights/DiscreteAttentionWeights/tacotron2_statedict.pt/[008]ljs-w_neutral_On_October_twenty-five_[Discrete(False,False)].wav\" type=\"audio/wav\"></audio>"
      ],
      "text/plain": [
       "<IPython.core.display.HTML object>"
      ]
     },
     "metadata": {},
     "output_type": "display_data"
    },
    {
     "data": {
      "text/html": [
       "<img src=\"DiscreteAttentionWeights/DiscreteAttentionWeights/tacotron2_statedict.pt/[008]ljs-w_neutral_On_October_twenty-five_[Discrete(False,False)].png\"></img>"
      ],
      "text/plain": [
       "<IPython.core.display.HTML object>"
      ]
     },
     "metadata": {},
     "output_type": "display_data"
    },
    {
     "name": "stdout",
     "output_type": "stream",
     "text": [
      "Speaker: ljs-w\n",
      "Emotion: neutral\n",
      "Text   : On October twenty-five,\n",
      "Attention quality:        0.8733\n",
      "Forward attentoin ratio:  1.0000\n",
      "Attentoin ratio:          0.9130\n",
      "Range attentoin ratio:    0.9565\n",
      "Multiple attentoin ratio: 0.0000\n",
      "Saved inference_ipynb/DiscreteAttentionWeights/DiscreteAttentionWeights/tacotron2_statedict.pt/[008]ljs-w_neutral_On_October_twenty-five_[Discrete(True,True)].wav\n",
      "Saved inference_ipynb/DiscreteAttentionWeights/DiscreteAttentionWeights/tacotron2_statedict.pt/[008]ljs-w_neutral_On_October_twenty-five_[Discrete(True,True)].png\n"
     ]
    },
    {
     "data": {
      "text/html": [
       "<audio controls><source src=\"DiscreteAttentionWeights/DiscreteAttentionWeights/tacotron2_statedict.pt/[008]ljs-w_neutral_On_October_twenty-five_[Discrete(True,True)].wav\" type=\"audio/wav\"></audio>"
      ],
      "text/plain": [
       "<IPython.core.display.HTML object>"
      ]
     },
     "metadata": {},
     "output_type": "display_data"
    },
    {
     "data": {
      "text/html": [
       "<img src=\"DiscreteAttentionWeights/DiscreteAttentionWeights/tacotron2_statedict.pt/[008]ljs-w_neutral_On_October_twenty-five_[Discrete(True,True)].png\"></img>"
      ],
      "text/plain": [
       "<IPython.core.display.HTML object>"
      ]
     },
     "metadata": {},
     "output_type": "display_data"
    },
    {
     "name": "stdout",
     "output_type": "stream",
     "text": [
      "Speaker: ljs-w\n",
      "Emotion: neutral\n",
      "Text   : On October twenty-five,\n",
      "Attention quality:        0.8284\n",
      "Forward attentoin ratio:  0.9959\n",
      "Attentoin ratio:          0.8696\n",
      "Range attentoin ratio:    1.0000\n",
      "Multiple attentoin ratio: 0.0435\n",
      "Saved inference_ipynb/DiscreteAttentionWeights/DiscreteAttentionWeights/tacotron2_statedict.pt/[008]ljs-w_neutral_On_October_twenty-five_[Discrete(False,True)].wav\n",
      "Saved inference_ipynb/DiscreteAttentionWeights/DiscreteAttentionWeights/tacotron2_statedict.pt/[008]ljs-w_neutral_On_October_twenty-five_[Discrete(False,True)].png\n"
     ]
    },
    {
     "data": {
      "text/html": [
       "<audio controls><source src=\"DiscreteAttentionWeights/DiscreteAttentionWeights/tacotron2_statedict.pt/[008]ljs-w_neutral_On_October_twenty-five_[Discrete(False,True)].wav\" type=\"audio/wav\"></audio>"
      ],
      "text/plain": [
       "<IPython.core.display.HTML object>"
      ]
     },
     "metadata": {},
     "output_type": "display_data"
    },
    {
     "data": {
      "text/html": [
       "<img src=\"DiscreteAttentionWeights/DiscreteAttentionWeights/tacotron2_statedict.pt/[008]ljs-w_neutral_On_October_twenty-five_[Discrete(False,True)].png\"></img>"
      ],
      "text/plain": [
       "<IPython.core.display.HTML object>"
      ]
     },
     "metadata": {},
     "output_type": "display_data"
    },
    {
     "name": "stdout",
     "output_type": "stream",
     "text": [
      "Speaker: ljs-w\n",
      "Emotion: neutral\n",
      "Text   : On October twenty-five,\n",
      "Attention quality:        0.6622\n",
      "Forward attentoin ratio:  0.9952\n",
      "Attentoin ratio:          0.6957\n",
      "Range attentoin ratio:    1.0000\n",
      "Multiple attentoin ratio: 0.0435\n",
      "Saved inference_ipynb/DiscreteAttentionWeights/DiscreteAttentionWeights/tacotron2_statedict.pt/[008]ljs-w_neutral_On_October_twenty-five_[Discrete(True,False)].wav\n",
      "Saved inference_ipynb/DiscreteAttentionWeights/DiscreteAttentionWeights/tacotron2_statedict.pt/[008]ljs-w_neutral_On_October_twenty-five_[Discrete(True,False)].png\n"
     ]
    },
    {
     "data": {
      "text/html": [
       "<audio controls><source src=\"DiscreteAttentionWeights/DiscreteAttentionWeights/tacotron2_statedict.pt/[008]ljs-w_neutral_On_October_twenty-five_[Discrete(True,False)].wav\" type=\"audio/wav\"></audio>"
      ],
      "text/plain": [
       "<IPython.core.display.HTML object>"
      ]
     },
     "metadata": {},
     "output_type": "display_data"
    },
    {
     "data": {
      "text/html": [
       "<img src=\"DiscreteAttentionWeights/DiscreteAttentionWeights/tacotron2_statedict.pt/[008]ljs-w_neutral_On_October_twenty-five_[Discrete(True,False)].png\"></img>"
      ],
      "text/plain": [
       "<IPython.core.display.HTML object>"
      ]
     },
     "metadata": {},
     "output_type": "display_data"
    },
    {
     "name": "stdout",
     "output_type": "stream",
     "text": [
      "[9 Done!]======================================================================================================================================================\n",
      "Speaker: ljs-w\n",
      "Emotion: neutral\n",
      "Text   : is closely reproduced in the life-history of existing deer. Or, in other words,\n",
      "Attention quality:        0.8606\n",
      "Forward attentoin ratio:  0.9980\n",
      "Attentoin ratio:          0.8734\n",
      "Range attentoin ratio:    1.0000\n",
      "Multiple attentoin ratio: 0.0127\n",
      "Saved inference_ipynb/DiscreteAttentionWeights/DiscreteAttentionWeights/tacotron2_statedict.pt/[009]ljs-w_neutral_is_closely_reproduced_in_the_life-history_of_existing_deer_Or_in_other_words_[Discrete(False,False)].wav\n",
      "Saved inference_ipynb/DiscreteAttentionWeights/DiscreteAttentionWeights/tacotron2_statedict.pt/[009]ljs-w_neutral_is_closely_reproduced_in_the_life-history_of_existing_deer_Or_in_other_words_[Discrete(False,False)].png\n"
     ]
    },
    {
     "data": {
      "text/html": [
       "<audio controls><source src=\"DiscreteAttentionWeights/DiscreteAttentionWeights/tacotron2_statedict.pt/[009]ljs-w_neutral_is_closely_reproduced_in_the_life-history_of_existing_deer_Or_in_other_words_[Discrete(False,False)].wav\" type=\"audio/wav\"></audio>"
      ],
      "text/plain": [
       "<IPython.core.display.HTML object>"
      ]
     },
     "metadata": {},
     "output_type": "display_data"
    },
    {
     "data": {
      "text/html": [
       "<img src=\"DiscreteAttentionWeights/DiscreteAttentionWeights/tacotron2_statedict.pt/[009]ljs-w_neutral_is_closely_reproduced_in_the_life-history_of_existing_deer_Or_in_other_words_[Discrete(False,False)].png\"></img>"
      ],
      "text/plain": [
       "<IPython.core.display.HTML object>"
      ]
     },
     "metadata": {},
     "output_type": "display_data"
    },
    {
     "name": "stdout",
     "output_type": "stream",
     "text": [
      "Warning! Reached max decoder steps\n",
      "Speaker: ljs-w\n",
      "Emotion: neutral\n",
      "Text   : is closely reproduced in the life-history of existing deer. Or, in other words,\n",
      "Attention quality:        0.5199\n",
      "Forward attentoin ratio:  1.0000\n",
      "Attentoin ratio:          0.6962\n",
      "Range attentoin ratio:    0.7468\n",
      "Multiple attentoin ratio: 0.0000\n",
      "Saved inference_ipynb/DiscreteAttentionWeights/DiscreteAttentionWeights/tacotron2_statedict.pt/[009]ljs-w_neutral_is_closely_reproduced_in_the_life-history_of_existing_deer_Or_in_other_words_[Discrete(True,True)].wav\n",
      "Saved inference_ipynb/DiscreteAttentionWeights/DiscreteAttentionWeights/tacotron2_statedict.pt/[009]ljs-w_neutral_is_closely_reproduced_in_the_life-history_of_existing_deer_Or_in_other_words_[Discrete(True,True)].png\n"
     ]
    },
    {
     "data": {
      "text/html": [
       "<audio controls><source src=\"DiscreteAttentionWeights/DiscreteAttentionWeights/tacotron2_statedict.pt/[009]ljs-w_neutral_is_closely_reproduced_in_the_life-history_of_existing_deer_Or_in_other_words_[Discrete(True,True)].wav\" type=\"audio/wav\"></audio>"
      ],
      "text/plain": [
       "<IPython.core.display.HTML object>"
      ]
     },
     "metadata": {},
     "output_type": "display_data"
    },
    {
     "data": {
      "text/html": [
       "<img src=\"DiscreteAttentionWeights/DiscreteAttentionWeights/tacotron2_statedict.pt/[009]ljs-w_neutral_is_closely_reproduced_in_the_life-history_of_existing_deer_Or_in_other_words_[Discrete(True,True)].png\"></img>"
      ],
      "text/plain": [
       "<IPython.core.display.HTML object>"
      ]
     },
     "metadata": {},
     "output_type": "display_data"
    },
    {
     "name": "stdout",
     "output_type": "stream",
     "text": [
      "Speaker: ljs-w\n",
      "Emotion: neutral\n",
      "Text   : is closely reproduced in the life-history of existing deer. Or, in other words,\n",
      "Attention quality:        0.8481\n",
      "Forward attentoin ratio:  1.0000\n",
      "Attentoin ratio:          0.8481\n",
      "Range attentoin ratio:    1.0000\n",
      "Multiple attentoin ratio: 0.0000\n",
      "Saved inference_ipynb/DiscreteAttentionWeights/DiscreteAttentionWeights/tacotron2_statedict.pt/[009]ljs-w_neutral_is_closely_reproduced_in_the_life-history_of_existing_deer_Or_in_other_words_[Discrete(False,True)].wav\n",
      "Saved inference_ipynb/DiscreteAttentionWeights/DiscreteAttentionWeights/tacotron2_statedict.pt/[009]ljs-w_neutral_is_closely_reproduced_in_the_life-history_of_existing_deer_Or_in_other_words_[Discrete(False,True)].png\n"
     ]
    },
    {
     "data": {
      "text/html": [
       "<audio controls><source src=\"DiscreteAttentionWeights/DiscreteAttentionWeights/tacotron2_statedict.pt/[009]ljs-w_neutral_is_closely_reproduced_in_the_life-history_of_existing_deer_Or_in_other_words_[Discrete(False,True)].wav\" type=\"audio/wav\"></audio>"
      ],
      "text/plain": [
       "<IPython.core.display.HTML object>"
      ]
     },
     "metadata": {},
     "output_type": "display_data"
    },
    {
     "data": {
      "text/html": [
       "<img src=\"DiscreteAttentionWeights/DiscreteAttentionWeights/tacotron2_statedict.pt/[009]ljs-w_neutral_is_closely_reproduced_in_the_life-history_of_existing_deer_Or_in_other_words_[Discrete(False,True)].png\"></img>"
      ],
      "text/plain": [
       "<IPython.core.display.HTML object>"
      ]
     },
     "metadata": {},
     "output_type": "display_data"
    },
    {
     "name": "stdout",
     "output_type": "stream",
     "text": [
      "Warning! Reached max decoder steps\n",
      "Speaker: ljs-w\n",
      "Emotion: neutral\n",
      "Text   : is closely reproduced in the life-history of existing deer. Or, in other words,\n",
      "Attention quality:        0.1581\n",
      "Forward attentoin ratio:  0.9640\n",
      "Attentoin ratio:          0.3165\n",
      "Range attentoin ratio:    0.6203\n",
      "Multiple attentoin ratio: 0.1646\n",
      "Saved inference_ipynb/DiscreteAttentionWeights/DiscreteAttentionWeights/tacotron2_statedict.pt/[009]ljs-w_neutral_is_closely_reproduced_in_the_life-history_of_existing_deer_Or_in_other_words_[Discrete(True,False)].wav\n",
      "Saved inference_ipynb/DiscreteAttentionWeights/DiscreteAttentionWeights/tacotron2_statedict.pt/[009]ljs-w_neutral_is_closely_reproduced_in_the_life-history_of_existing_deer_Or_in_other_words_[Discrete(True,False)].png\n"
     ]
    },
    {
     "data": {
      "text/html": [
       "<audio controls><source src=\"DiscreteAttentionWeights/DiscreteAttentionWeights/tacotron2_statedict.pt/[009]ljs-w_neutral_is_closely_reproduced_in_the_life-history_of_existing_deer_Or_in_other_words_[Discrete(True,False)].wav\" type=\"audio/wav\"></audio>"
      ],
      "text/plain": [
       "<IPython.core.display.HTML object>"
      ]
     },
     "metadata": {},
     "output_type": "display_data"
    },
    {
     "data": {
      "text/html": [
       "<img src=\"DiscreteAttentionWeights/DiscreteAttentionWeights/tacotron2_statedict.pt/[009]ljs-w_neutral_is_closely_reproduced_in_the_life-history_of_existing_deer_Or_in_other_words_[Discrete(True,False)].png\"></img>"
      ],
      "text/plain": [
       "<IPython.core.display.HTML object>"
      ]
     },
     "metadata": {},
     "output_type": "display_data"
    },
    {
     "name": "stdout",
     "output_type": "stream",
     "text": [
      "[10 Done!]======================================================================================================================================================\n",
      "Speaker: ljs-w\n",
      "Emotion: neutral\n",
      "Text   : afterwards express a wish to murder the Recorder for having kept them so long in suspense.\n",
      "Attention quality:        0.8667\n",
      "Forward attentoin ratio:  1.0000\n",
      "Attentoin ratio:          0.8667\n",
      "Range attentoin ratio:    1.0000\n",
      "Multiple attentoin ratio: 0.0000\n",
      "Saved inference_ipynb/DiscreteAttentionWeights/DiscreteAttentionWeights/tacotron2_statedict.pt/[010]ljs-w_neutral_afterwards_express_a_wish_to_murder_the_Recorder_for_having_kept_them_so_long_in_suspense_[Discrete(False,False)].wav\n",
      "Saved inference_ipynb/DiscreteAttentionWeights/DiscreteAttentionWeights/tacotron2_statedict.pt/[010]ljs-w_neutral_afterwards_express_a_wish_to_murder_the_Recorder_for_having_kept_them_so_long_in_suspense_[Discrete(False,False)].png\n"
     ]
    },
    {
     "data": {
      "text/html": [
       "<audio controls><source src=\"DiscreteAttentionWeights/DiscreteAttentionWeights/tacotron2_statedict.pt/[010]ljs-w_neutral_afterwards_express_a_wish_to_murder_the_Recorder_for_having_kept_them_so_long_in_suspense_[Discrete(False,False)].wav\" type=\"audio/wav\"></audio>"
      ],
      "text/plain": [
       "<IPython.core.display.HTML object>"
      ]
     },
     "metadata": {},
     "output_type": "display_data"
    },
    {
     "data": {
      "text/html": [
       "<img src=\"DiscreteAttentionWeights/DiscreteAttentionWeights/tacotron2_statedict.pt/[010]ljs-w_neutral_afterwards_express_a_wish_to_murder_the_Recorder_for_having_kept_them_so_long_in_suspense_[Discrete(False,False)].png\"></img>"
      ],
      "text/plain": [
       "<IPython.core.display.HTML object>"
      ]
     },
     "metadata": {},
     "output_type": "display_data"
    },
    {
     "name": "stdout",
     "output_type": "stream",
     "text": [
      "Warning! Reached max decoder steps\n",
      "Speaker: ljs-w\n",
      "Emotion: neutral\n",
      "Text   : afterwards express a wish to murder the Recorder for having kept them so long in suspense.\n",
      "Attention quality:        0.3425\n",
      "Forward attentoin ratio:  0.9990\n",
      "Attentoin ratio:          0.5778\n",
      "Range attentoin ratio:    0.6000\n",
      "Multiple attentoin ratio: 0.0111\n",
      "Saved inference_ipynb/DiscreteAttentionWeights/DiscreteAttentionWeights/tacotron2_statedict.pt/[010]ljs-w_neutral_afterwards_express_a_wish_to_murder_the_Recorder_for_having_kept_them_so_long_in_suspense_[Discrete(True,True)].wav\n",
      "Saved inference_ipynb/DiscreteAttentionWeights/DiscreteAttentionWeights/tacotron2_statedict.pt/[010]ljs-w_neutral_afterwards_express_a_wish_to_murder_the_Recorder_for_having_kept_them_so_long_in_suspense_[Discrete(True,True)].png\n"
     ]
    },
    {
     "data": {
      "text/html": [
       "<audio controls><source src=\"DiscreteAttentionWeights/DiscreteAttentionWeights/tacotron2_statedict.pt/[010]ljs-w_neutral_afterwards_express_a_wish_to_murder_the_Recorder_for_having_kept_them_so_long_in_suspense_[Discrete(True,True)].wav\" type=\"audio/wav\"></audio>"
      ],
      "text/plain": [
       "<IPython.core.display.HTML object>"
      ]
     },
     "metadata": {},
     "output_type": "display_data"
    },
    {
     "data": {
      "text/html": [
       "<img src=\"DiscreteAttentionWeights/DiscreteAttentionWeights/tacotron2_statedict.pt/[010]ljs-w_neutral_afterwards_express_a_wish_to_murder_the_Recorder_for_having_kept_them_so_long_in_suspense_[Discrete(True,True)].png\"></img>"
      ],
      "text/plain": [
       "<IPython.core.display.HTML object>"
      ]
     },
     "metadata": {},
     "output_type": "display_data"
    },
    {
     "name": "stdout",
     "output_type": "stream",
     "text": [
      "Speaker: ljs-w\n",
      "Emotion: neutral\n",
      "Text   : afterwards express a wish to murder the Recorder for having kept them so long in suspense.\n",
      "Attention quality:        0.8556\n",
      "Forward attentoin ratio:  1.0000\n",
      "Attentoin ratio:          0.8556\n",
      "Range attentoin ratio:    1.0000\n",
      "Multiple attentoin ratio: 0.0000\n",
      "Saved inference_ipynb/DiscreteAttentionWeights/DiscreteAttentionWeights/tacotron2_statedict.pt/[010]ljs-w_neutral_afterwards_express_a_wish_to_murder_the_Recorder_for_having_kept_them_so_long_in_suspense_[Discrete(False,True)].wav\n",
      "Saved inference_ipynb/DiscreteAttentionWeights/DiscreteAttentionWeights/tacotron2_statedict.pt/[010]ljs-w_neutral_afterwards_express_a_wish_to_murder_the_Recorder_for_having_kept_them_so_long_in_suspense_[Discrete(False,True)].png\n"
     ]
    },
    {
     "data": {
      "text/html": [
       "<audio controls><source src=\"DiscreteAttentionWeights/DiscreteAttentionWeights/tacotron2_statedict.pt/[010]ljs-w_neutral_afterwards_express_a_wish_to_murder_the_Recorder_for_having_kept_them_so_long_in_suspense_[Discrete(False,True)].wav\" type=\"audio/wav\"></audio>"
      ],
      "text/plain": [
       "<IPython.core.display.HTML object>"
      ]
     },
     "metadata": {},
     "output_type": "display_data"
    },
    {
     "data": {
      "text/html": [
       "<img src=\"DiscreteAttentionWeights/DiscreteAttentionWeights/tacotron2_statedict.pt/[010]ljs-w_neutral_afterwards_express_a_wish_to_murder_the_Recorder_for_having_kept_them_so_long_in_suspense_[Discrete(False,True)].png\"></img>"
      ],
      "text/plain": [
       "<IPython.core.display.HTML object>"
      ]
     },
     "metadata": {},
     "output_type": "display_data"
    },
    {
     "name": "stdout",
     "output_type": "stream",
     "text": [
      "Speaker: ljs-w\n",
      "Emotion: neutral\n",
      "Text   : afterwards express a wish to murder the Recorder for having kept them so long in suspense.\n",
      "Attention quality:        0.1760\n",
      "Forward attentoin ratio:  0.9844\n",
      "Attentoin ratio:          0.2444\n",
      "Range attentoin ratio:    0.8333\n",
      "Multiple attentoin ratio: 0.1222\n",
      "Saved inference_ipynb/DiscreteAttentionWeights/DiscreteAttentionWeights/tacotron2_statedict.pt/[010]ljs-w_neutral_afterwards_express_a_wish_to_murder_the_Recorder_for_having_kept_them_so_long_in_suspense_[Discrete(True,False)].wav\n",
      "Saved inference_ipynb/DiscreteAttentionWeights/DiscreteAttentionWeights/tacotron2_statedict.pt/[010]ljs-w_neutral_afterwards_express_a_wish_to_murder_the_Recorder_for_having_kept_them_so_long_in_suspense_[Discrete(True,False)].png\n"
     ]
    },
    {
     "data": {
      "text/html": [
       "<audio controls><source src=\"DiscreteAttentionWeights/DiscreteAttentionWeights/tacotron2_statedict.pt/[010]ljs-w_neutral_afterwards_express_a_wish_to_murder_the_Recorder_for_having_kept_them_so_long_in_suspense_[Discrete(True,False)].wav\" type=\"audio/wav\"></audio>"
      ],
      "text/plain": [
       "<IPython.core.display.HTML object>"
      ]
     },
     "metadata": {},
     "output_type": "display_data"
    },
    {
     "data": {
      "text/html": [
       "<img src=\"DiscreteAttentionWeights/DiscreteAttentionWeights/tacotron2_statedict.pt/[010]ljs-w_neutral_afterwards_express_a_wish_to_murder_the_Recorder_for_having_kept_them_so_long_in_suspense_[Discrete(True,False)].png\"></img>"
      ],
      "text/plain": [
       "<IPython.core.display.HTML object>"
      ]
     },
     "metadata": {},
     "output_type": "display_data"
    },
    {
     "name": "stdout",
     "output_type": "stream",
     "text": [
      "[11 Done!]======================================================================================================================================================\n",
      "Speaker: ljs-w\n",
      "Emotion: neutral\n",
      "Text   : According to O'Donnell, quote, we had a motorcade wherever we went, end quote.\n",
      "Attention quality:        0.7982\n",
      "Forward attentoin ratio:  0.9929\n",
      "Attentoin ratio:          0.8590\n",
      "Range attentoin ratio:    1.0000\n",
      "Multiple attentoin ratio: 0.0641\n",
      "Saved inference_ipynb/DiscreteAttentionWeights/DiscreteAttentionWeights/tacotron2_statedict.pt/[011]ljs-w_neutral_According_to_ODonnell_quote_we_had_a_motorcade_wherever_we_went_end_quote_[Discrete(False,False)].wav\n",
      "Saved inference_ipynb/DiscreteAttentionWeights/DiscreteAttentionWeights/tacotron2_statedict.pt/[011]ljs-w_neutral_According_to_ODonnell_quote_we_had_a_motorcade_wherever_we_went_end_quote_[Discrete(False,False)].png\n"
     ]
    },
    {
     "data": {
      "text/html": [
       "<audio controls><source src=\"DiscreteAttentionWeights/DiscreteAttentionWeights/tacotron2_statedict.pt/[011]ljs-w_neutral_According_to_ODonnell_quote_we_had_a_motorcade_wherever_we_went_end_quote_[Discrete(False,False)].wav\" type=\"audio/wav\"></audio>"
      ],
      "text/plain": [
       "<IPython.core.display.HTML object>"
      ]
     },
     "metadata": {},
     "output_type": "display_data"
    },
    {
     "data": {
      "text/html": [
       "<img src=\"DiscreteAttentionWeights/DiscreteAttentionWeights/tacotron2_statedict.pt/[011]ljs-w_neutral_According_to_ODonnell_quote_we_had_a_motorcade_wherever_we_went_end_quote_[Discrete(False,False)].png\"></img>"
      ],
      "text/plain": [
       "<IPython.core.display.HTML object>"
      ]
     },
     "metadata": {},
     "output_type": "display_data"
    },
    {
     "name": "stdout",
     "output_type": "stream",
     "text": [
      "Warning! Reached max decoder steps\n",
      "Speaker: ljs-w\n",
      "Emotion: neutral\n",
      "Text   : According to O'Donnell, quote, we had a motorcade wherever we went, end quote.\n",
      "Attention quality:        0.6509\n",
      "Forward attentoin ratio:  1.0000\n",
      "Attentoin ratio:          0.7692\n",
      "Range attentoin ratio:    0.8462\n",
      "Multiple attentoin ratio: 0.0000\n",
      "Saved inference_ipynb/DiscreteAttentionWeights/DiscreteAttentionWeights/tacotron2_statedict.pt/[011]ljs-w_neutral_According_to_ODonnell_quote_we_had_a_motorcade_wherever_we_went_end_quote_[Discrete(True,True)].wav\n",
      "Saved inference_ipynb/DiscreteAttentionWeights/DiscreteAttentionWeights/tacotron2_statedict.pt/[011]ljs-w_neutral_According_to_ODonnell_quote_we_had_a_motorcade_wherever_we_went_end_quote_[Discrete(True,True)].png\n"
     ]
    },
    {
     "data": {
      "text/html": [
       "<audio controls><source src=\"DiscreteAttentionWeights/DiscreteAttentionWeights/tacotron2_statedict.pt/[011]ljs-w_neutral_According_to_ODonnell_quote_we_had_a_motorcade_wherever_we_went_end_quote_[Discrete(True,True)].wav\" type=\"audio/wav\"></audio>"
      ],
      "text/plain": [
       "<IPython.core.display.HTML object>"
      ]
     },
     "metadata": {},
     "output_type": "display_data"
    },
    {
     "data": {
      "text/html": [
       "<img src=\"DiscreteAttentionWeights/DiscreteAttentionWeights/tacotron2_statedict.pt/[011]ljs-w_neutral_According_to_ODonnell_quote_we_had_a_motorcade_wherever_we_went_end_quote_[Discrete(True,True)].png\"></img>"
      ],
      "text/plain": [
       "<IPython.core.display.HTML object>"
      ]
     },
     "metadata": {},
     "output_type": "display_data"
    },
    {
     "name": "stdout",
     "output_type": "stream",
     "text": [
      "Speaker: ljs-w\n",
      "Emotion: neutral\n",
      "Text   : According to O'Donnell, quote, we had a motorcade wherever we went, end quote.\n",
      "Attention quality:        0.8333\n",
      "Forward attentoin ratio:  1.0000\n",
      "Attentoin ratio:          0.8333\n",
      "Range attentoin ratio:    1.0000\n",
      "Multiple attentoin ratio: 0.0000\n",
      "Saved inference_ipynb/DiscreteAttentionWeights/DiscreteAttentionWeights/tacotron2_statedict.pt/[011]ljs-w_neutral_According_to_ODonnell_quote_we_had_a_motorcade_wherever_we_went_end_quote_[Discrete(False,True)].wav\n",
      "Saved inference_ipynb/DiscreteAttentionWeights/DiscreteAttentionWeights/tacotron2_statedict.pt/[011]ljs-w_neutral_According_to_ODonnell_quote_we_had_a_motorcade_wherever_we_went_end_quote_[Discrete(False,True)].png\n"
     ]
    },
    {
     "data": {
      "text/html": [
       "<audio controls><source src=\"DiscreteAttentionWeights/DiscreteAttentionWeights/tacotron2_statedict.pt/[011]ljs-w_neutral_According_to_ODonnell_quote_we_had_a_motorcade_wherever_we_went_end_quote_[Discrete(False,True)].wav\" type=\"audio/wav\"></audio>"
      ],
      "text/plain": [
       "<IPython.core.display.HTML object>"
      ]
     },
     "metadata": {},
     "output_type": "display_data"
    },
    {
     "data": {
      "text/html": [
       "<img src=\"DiscreteAttentionWeights/DiscreteAttentionWeights/tacotron2_statedict.pt/[011]ljs-w_neutral_According_to_ODonnell_quote_we_had_a_motorcade_wherever_we_went_end_quote_[Discrete(False,True)].png\"></img>"
      ],
      "text/plain": [
       "<IPython.core.display.HTML object>"
      ]
     },
     "metadata": {},
     "output_type": "display_data"
    },
    {
     "name": "stdout",
     "output_type": "stream",
     "text": [
      "Speaker: ljs-w\n",
      "Emotion: neutral\n",
      "Text   : According to O'Donnell, quote, we had a motorcade wherever we went, end quote.\n",
      "Attention quality:        0.1446\n",
      "Forward attentoin ratio:  0.9778\n",
      "Attentoin ratio:          0.1667\n",
      "Range attentoin ratio:    0.9615\n",
      "Multiple attentoin ratio: 0.0769\n",
      "Saved inference_ipynb/DiscreteAttentionWeights/DiscreteAttentionWeights/tacotron2_statedict.pt/[011]ljs-w_neutral_According_to_ODonnell_quote_we_had_a_motorcade_wherever_we_went_end_quote_[Discrete(True,False)].wav\n",
      "Saved inference_ipynb/DiscreteAttentionWeights/DiscreteAttentionWeights/tacotron2_statedict.pt/[011]ljs-w_neutral_According_to_ODonnell_quote_we_had_a_motorcade_wherever_we_went_end_quote_[Discrete(True,False)].png\n"
     ]
    },
    {
     "data": {
      "text/html": [
       "<audio controls><source src=\"DiscreteAttentionWeights/DiscreteAttentionWeights/tacotron2_statedict.pt/[011]ljs-w_neutral_According_to_ODonnell_quote_we_had_a_motorcade_wherever_we_went_end_quote_[Discrete(True,False)].wav\" type=\"audio/wav\"></audio>"
      ],
      "text/plain": [
       "<IPython.core.display.HTML object>"
      ]
     },
     "metadata": {},
     "output_type": "display_data"
    },
    {
     "data": {
      "text/html": [
       "<img src=\"DiscreteAttentionWeights/DiscreteAttentionWeights/tacotron2_statedict.pt/[011]ljs-w_neutral_According_to_ODonnell_quote_we_had_a_motorcade_wherever_we_went_end_quote_[Discrete(True,False)].png\"></img>"
      ],
      "text/plain": [
       "<IPython.core.display.HTML object>"
      ]
     },
     "metadata": {},
     "output_type": "display_data"
    },
    {
     "name": "stdout",
     "output_type": "stream",
     "text": [
      "[12 Done!]======================================================================================================================================================\n",
      "Speaker: ljs-w\n",
      "Emotion: neutral\n",
      "Text   : Energy enters the plant, to a small extent,\n",
      "Attention quality:        0.8803\n",
      "Forward attentoin ratio:  0.9961\n",
      "Attentoin ratio:          0.8837\n",
      "Range attentoin ratio:    1.0000\n",
      "Multiple attentoin ratio: 0.0000\n",
      "Saved inference_ipynb/DiscreteAttentionWeights/DiscreteAttentionWeights/tacotron2_statedict.pt/[012]ljs-w_neutral_Energy_enters_the_plant_to_a_small_extent_[Discrete(False,False)].wav\n",
      "Saved inference_ipynb/DiscreteAttentionWeights/DiscreteAttentionWeights/tacotron2_statedict.pt/[012]ljs-w_neutral_Energy_enters_the_plant_to_a_small_extent_[Discrete(False,False)].png\n"
     ]
    },
    {
     "data": {
      "text/html": [
       "<audio controls><source src=\"DiscreteAttentionWeights/DiscreteAttentionWeights/tacotron2_statedict.pt/[012]ljs-w_neutral_Energy_enters_the_plant_to_a_small_extent_[Discrete(False,False)].wav\" type=\"audio/wav\"></audio>"
      ],
      "text/plain": [
       "<IPython.core.display.HTML object>"
      ]
     },
     "metadata": {},
     "output_type": "display_data"
    },
    {
     "data": {
      "text/html": [
       "<img src=\"DiscreteAttentionWeights/DiscreteAttentionWeights/tacotron2_statedict.pt/[012]ljs-w_neutral_Energy_enters_the_plant_to_a_small_extent_[Discrete(False,False)].png\"></img>"
      ],
      "text/plain": [
       "<IPython.core.display.HTML object>"
      ]
     },
     "metadata": {},
     "output_type": "display_data"
    },
    {
     "name": "stdout",
     "output_type": "stream",
     "text": [
      "Speaker: ljs-w\n",
      "Emotion: neutral\n",
      "Text   : Energy enters the plant, to a small extent,\n",
      "Attention quality:        0.9313\n",
      "Forward attentoin ratio:  1.0000\n",
      "Attentoin ratio:          0.9535\n",
      "Range attentoin ratio:    0.9767\n",
      "Multiple attentoin ratio: 0.0000\n",
      "Saved inference_ipynb/DiscreteAttentionWeights/DiscreteAttentionWeights/tacotron2_statedict.pt/[012]ljs-w_neutral_Energy_enters_the_plant_to_a_small_extent_[Discrete(True,True)].wav\n",
      "Saved inference_ipynb/DiscreteAttentionWeights/DiscreteAttentionWeights/tacotron2_statedict.pt/[012]ljs-w_neutral_Energy_enters_the_plant_to_a_small_extent_[Discrete(True,True)].png\n"
     ]
    },
    {
     "data": {
      "text/html": [
       "<audio controls><source src=\"DiscreteAttentionWeights/DiscreteAttentionWeights/tacotron2_statedict.pt/[012]ljs-w_neutral_Energy_enters_the_plant_to_a_small_extent_[Discrete(True,True)].wav\" type=\"audio/wav\"></audio>"
      ],
      "text/plain": [
       "<IPython.core.display.HTML object>"
      ]
     },
     "metadata": {},
     "output_type": "display_data"
    },
    {
     "data": {
      "text/html": [
       "<img src=\"DiscreteAttentionWeights/DiscreteAttentionWeights/tacotron2_statedict.pt/[012]ljs-w_neutral_Energy_enters_the_plant_to_a_small_extent_[Discrete(True,True)].png\"></img>"
      ],
      "text/plain": [
       "<IPython.core.display.HTML object>"
      ]
     },
     "metadata": {},
     "output_type": "display_data"
    },
    {
     "name": "stdout",
     "output_type": "stream",
     "text": [
      "Speaker: ljs-w\n",
      "Emotion: neutral\n",
      "Text   : Energy enters the plant, to a small extent,\n",
      "Attention quality:        0.8140\n",
      "Forward attentoin ratio:  1.0000\n",
      "Attentoin ratio:          0.8140\n",
      "Range attentoin ratio:    1.0000\n",
      "Multiple attentoin ratio: 0.0000\n",
      "Saved inference_ipynb/DiscreteAttentionWeights/DiscreteAttentionWeights/tacotron2_statedict.pt/[012]ljs-w_neutral_Energy_enters_the_plant_to_a_small_extent_[Discrete(False,True)].wav\n",
      "Saved inference_ipynb/DiscreteAttentionWeights/DiscreteAttentionWeights/tacotron2_statedict.pt/[012]ljs-w_neutral_Energy_enters_the_plant_to_a_small_extent_[Discrete(False,True)].png\n"
     ]
    },
    {
     "data": {
      "text/html": [
       "<audio controls><source src=\"DiscreteAttentionWeights/DiscreteAttentionWeights/tacotron2_statedict.pt/[012]ljs-w_neutral_Energy_enters_the_plant_to_a_small_extent_[Discrete(False,True)].wav\" type=\"audio/wav\"></audio>"
      ],
      "text/plain": [
       "<IPython.core.display.HTML object>"
      ]
     },
     "metadata": {},
     "output_type": "display_data"
    },
    {
     "data": {
      "text/html": [
       "<img src=\"DiscreteAttentionWeights/DiscreteAttentionWeights/tacotron2_statedict.pt/[012]ljs-w_neutral_Energy_enters_the_plant_to_a_small_extent_[Discrete(False,True)].png\"></img>"
      ],
      "text/plain": [
       "<IPython.core.display.HTML object>"
      ]
     },
     "metadata": {},
     "output_type": "display_data"
    },
    {
     "name": "stdout",
     "output_type": "stream",
     "text": [
      "Warning! Reached max decoder steps\n",
      "Speaker: ljs-w\n",
      "Emotion: neutral\n",
      "Text   : Energy enters the plant, to a small extent,\n",
      "Attention quality:        0.6159\n",
      "Forward attentoin ratio:  0.9860\n",
      "Attentoin ratio:          0.8140\n",
      "Range attentoin ratio:    1.0000\n",
      "Multiple attentoin ratio: 0.2326\n",
      "Saved inference_ipynb/DiscreteAttentionWeights/DiscreteAttentionWeights/tacotron2_statedict.pt/[012]ljs-w_neutral_Energy_enters_the_plant_to_a_small_extent_[Discrete(True,False)].wav\n",
      "Saved inference_ipynb/DiscreteAttentionWeights/DiscreteAttentionWeights/tacotron2_statedict.pt/[012]ljs-w_neutral_Energy_enters_the_plant_to_a_small_extent_[Discrete(True,False)].png\n"
     ]
    },
    {
     "data": {
      "text/html": [
       "<audio controls><source src=\"DiscreteAttentionWeights/DiscreteAttentionWeights/tacotron2_statedict.pt/[012]ljs-w_neutral_Energy_enters_the_plant_to_a_small_extent_[Discrete(True,False)].wav\" type=\"audio/wav\"></audio>"
      ],
      "text/plain": [
       "<IPython.core.display.HTML object>"
      ]
     },
     "metadata": {},
     "output_type": "display_data"
    },
    {
     "data": {
      "text/html": [
       "<img src=\"DiscreteAttentionWeights/DiscreteAttentionWeights/tacotron2_statedict.pt/[012]ljs-w_neutral_Energy_enters_the_plant_to_a_small_extent_[Discrete(True,False)].png\"></img>"
      ],
      "text/plain": [
       "<IPython.core.display.HTML object>"
      ]
     },
     "metadata": {},
     "output_type": "display_data"
    },
    {
     "name": "stdout",
     "output_type": "stream",
     "text": [
      "[13 Done!]======================================================================================================================================================\n",
      "Speaker: ljs-w\n",
      "Emotion: neutral\n",
      "Text   : even when the high sheriff had told him there was no possibility of a reprieve, and within a few hours of execution.\n",
      "Attention quality:        0.8276\n",
      "Forward attentoin ratio:  1.0000\n",
      "Attentoin ratio:          0.8276\n",
      "Range attentoin ratio:    1.0000\n",
      "Multiple attentoin ratio: 0.0000\n",
      "Saved inference_ipynb/DiscreteAttentionWeights/DiscreteAttentionWeights/tacotron2_statedict.pt/[013]ljs-w_neutral_even_when_the_high_sheriff_had_told_him_there_was_no_possibility_of_a_reprieve_and_within_a_few_hours_of_execution_[Discrete(False,False)].wav\n",
      "Saved inference_ipynb/DiscreteAttentionWeights/DiscreteAttentionWeights/tacotron2_statedict.pt/[013]ljs-w_neutral_even_when_the_high_sheriff_had_told_him_there_was_no_possibility_of_a_reprieve_and_within_a_few_hours_of_execution_[Discrete(False,False)].png\n"
     ]
    },
    {
     "data": {
      "text/html": [
       "<audio controls><source src=\"DiscreteAttentionWeights/DiscreteAttentionWeights/tacotron2_statedict.pt/[013]ljs-w_neutral_even_when_the_high_sheriff_had_told_him_there_was_no_possibility_of_a_reprieve_and_within_a_few_hours_of_execution_[Discrete(False,False)].wav\" type=\"audio/wav\"></audio>"
      ],
      "text/plain": [
       "<IPython.core.display.HTML object>"
      ]
     },
     "metadata": {},
     "output_type": "display_data"
    },
    {
     "data": {
      "text/html": [
       "<img src=\"DiscreteAttentionWeights/DiscreteAttentionWeights/tacotron2_statedict.pt/[013]ljs-w_neutral_even_when_the_high_sheriff_had_told_him_there_was_no_possibility_of_a_reprieve_and_within_a_few_hours_of_execution_[Discrete(False,False)].png\"></img>"
      ],
      "text/plain": [
       "<IPython.core.display.HTML object>"
      ]
     },
     "metadata": {},
     "output_type": "display_data"
    },
    {
     "name": "stdout",
     "output_type": "stream",
     "text": [
      "Warning! Reached max decoder steps\n",
      "Speaker: ljs-w\n",
      "Emotion: neutral\n",
      "Text   : even when the high sheriff had told him there was no possibility of a reprieve, and within a few hours of execution.\n",
      "Attention quality:        0.1391\n",
      "Forward attentoin ratio:  1.0000\n",
      "Attentoin ratio:          0.3362\n",
      "Range attentoin ratio:    0.4138\n",
      "Multiple attentoin ratio: 0.0000\n",
      "Saved inference_ipynb/DiscreteAttentionWeights/DiscreteAttentionWeights/tacotron2_statedict.pt/[013]ljs-w_neutral_even_when_the_high_sheriff_had_told_him_there_was_no_possibility_of_a_reprieve_and_within_a_few_hours_of_execution_[Discrete(True,True)].wav\n",
      "Saved inference_ipynb/DiscreteAttentionWeights/DiscreteAttentionWeights/tacotron2_statedict.pt/[013]ljs-w_neutral_even_when_the_high_sheriff_had_told_him_there_was_no_possibility_of_a_reprieve_and_within_a_few_hours_of_execution_[Discrete(True,True)].png\n"
     ]
    },
    {
     "data": {
      "text/html": [
       "<audio controls><source src=\"DiscreteAttentionWeights/DiscreteAttentionWeights/tacotron2_statedict.pt/[013]ljs-w_neutral_even_when_the_high_sheriff_had_told_him_there_was_no_possibility_of_a_reprieve_and_within_a_few_hours_of_execution_[Discrete(True,True)].wav\" type=\"audio/wav\"></audio>"
      ],
      "text/plain": [
       "<IPython.core.display.HTML object>"
      ]
     },
     "metadata": {},
     "output_type": "display_data"
    },
    {
     "data": {
      "text/html": [
       "<img src=\"DiscreteAttentionWeights/DiscreteAttentionWeights/tacotron2_statedict.pt/[013]ljs-w_neutral_even_when_the_high_sheriff_had_told_him_there_was_no_possibility_of_a_reprieve_and_within_a_few_hours_of_execution_[Discrete(True,True)].png\"></img>"
      ],
      "text/plain": [
       "<IPython.core.display.HTML object>"
      ]
     },
     "metadata": {},
     "output_type": "display_data"
    },
    {
     "name": "stdout",
     "output_type": "stream",
     "text": [
      "Speaker: ljs-w\n",
      "Emotion: neutral\n",
      "Text   : even when the high sheriff had told him there was no possibility of a reprieve, and within a few hours of execution.\n",
      "Attention quality:        0.7953\n",
      "Forward attentoin ratio:  0.9986\n",
      "Attentoin ratio:          0.8103\n",
      "Range attentoin ratio:    1.0000\n",
      "Multiple attentoin ratio: 0.0172\n",
      "Saved inference_ipynb/DiscreteAttentionWeights/DiscreteAttentionWeights/tacotron2_statedict.pt/[013]ljs-w_neutral_even_when_the_high_sheriff_had_told_him_there_was_no_possibility_of_a_reprieve_and_within_a_few_hours_of_execution_[Discrete(False,True)].wav\n",
      "Saved inference_ipynb/DiscreteAttentionWeights/DiscreteAttentionWeights/tacotron2_statedict.pt/[013]ljs-w_neutral_even_when_the_high_sheriff_had_told_him_there_was_no_possibility_of_a_reprieve_and_within_a_few_hours_of_execution_[Discrete(False,True)].png\n"
     ]
    },
    {
     "data": {
      "text/html": [
       "<audio controls><source src=\"DiscreteAttentionWeights/DiscreteAttentionWeights/tacotron2_statedict.pt/[013]ljs-w_neutral_even_when_the_high_sheriff_had_told_him_there_was_no_possibility_of_a_reprieve_and_within_a_few_hours_of_execution_[Discrete(False,True)].wav\" type=\"audio/wav\"></audio>"
      ],
      "text/plain": [
       "<IPython.core.display.HTML object>"
      ]
     },
     "metadata": {},
     "output_type": "display_data"
    },
    {
     "data": {
      "text/html": [
       "<img src=\"DiscreteAttentionWeights/DiscreteAttentionWeights/tacotron2_statedict.pt/[013]ljs-w_neutral_even_when_the_high_sheriff_had_told_him_there_was_no_possibility_of_a_reprieve_and_within_a_few_hours_of_execution_[Discrete(False,True)].png\"></img>"
      ],
      "text/plain": [
       "<IPython.core.display.HTML object>"
      ]
     },
     "metadata": {},
     "output_type": "display_data"
    },
    {
     "name": "stdout",
     "output_type": "stream",
     "text": [
      "Speaker: ljs-w\n",
      "Emotion: neutral\n",
      "Text   : even when the high sheriff had told him there was no possibility of a reprieve, and within a few hours of execution.\n",
      "Attention quality:        0.0636\n",
      "Forward attentoin ratio:  0.9738\n",
      "Attentoin ratio:          0.1724\n",
      "Range attentoin ratio:    0.4224\n",
      "Multiple attentoin ratio: 0.1034\n",
      "Saved inference_ipynb/DiscreteAttentionWeights/DiscreteAttentionWeights/tacotron2_statedict.pt/[013]ljs-w_neutral_even_when_the_high_sheriff_had_told_him_there_was_no_possibility_of_a_reprieve_and_within_a_few_hours_of_execution_[Discrete(True,False)].wav\n",
      "Saved inference_ipynb/DiscreteAttentionWeights/DiscreteAttentionWeights/tacotron2_statedict.pt/[013]ljs-w_neutral_even_when_the_high_sheriff_had_told_him_there_was_no_possibility_of_a_reprieve_and_within_a_few_hours_of_execution_[Discrete(True,False)].png\n"
     ]
    },
    {
     "data": {
      "text/html": [
       "<audio controls><source src=\"DiscreteAttentionWeights/DiscreteAttentionWeights/tacotron2_statedict.pt/[013]ljs-w_neutral_even_when_the_high_sheriff_had_told_him_there_was_no_possibility_of_a_reprieve_and_within_a_few_hours_of_execution_[Discrete(True,False)].wav\" type=\"audio/wav\"></audio>"
      ],
      "text/plain": [
       "<IPython.core.display.HTML object>"
      ]
     },
     "metadata": {},
     "output_type": "display_data"
    },
    {
     "data": {
      "text/html": [
       "<img src=\"DiscreteAttentionWeights/DiscreteAttentionWeights/tacotron2_statedict.pt/[013]ljs-w_neutral_even_when_the_high_sheriff_had_told_him_there_was_no_possibility_of_a_reprieve_and_within_a_few_hours_of_execution_[Discrete(True,False)].png\"></img>"
      ],
      "text/plain": [
       "<IPython.core.display.HTML object>"
      ]
     },
     "metadata": {},
     "output_type": "display_data"
    },
    {
     "name": "stdout",
     "output_type": "stream",
     "text": [
      "[14 Done!]======================================================================================================================================================\n",
      "Speaker: ljs-w\n",
      "Emotion: neutral\n",
      "Text   : once you know that you must put the crosshairs on the target and that is all that is necessary.\n",
      "Attention quality:        0.7895\n",
      "Forward attentoin ratio:  1.0000\n",
      "Attentoin ratio:          0.7895\n",
      "Range attentoin ratio:    1.0000\n",
      "Multiple attentoin ratio: 0.0000\n",
      "Saved inference_ipynb/DiscreteAttentionWeights/DiscreteAttentionWeights/tacotron2_statedict.pt/[014]ljs-w_neutral_once_you_know_that_you_must_put_the_crosshairs_on_the_target_and_that_is_all_that_is_necessary_[Discrete(False,False)].wav\n",
      "Saved inference_ipynb/DiscreteAttentionWeights/DiscreteAttentionWeights/tacotron2_statedict.pt/[014]ljs-w_neutral_once_you_know_that_you_must_put_the_crosshairs_on_the_target_and_that_is_all_that_is_necessary_[Discrete(False,False)].png\n"
     ]
    },
    {
     "data": {
      "text/html": [
       "<audio controls><source src=\"DiscreteAttentionWeights/DiscreteAttentionWeights/tacotron2_statedict.pt/[014]ljs-w_neutral_once_you_know_that_you_must_put_the_crosshairs_on_the_target_and_that_is_all_that_is_necessary_[Discrete(False,False)].wav\" type=\"audio/wav\"></audio>"
      ],
      "text/plain": [
       "<IPython.core.display.HTML object>"
      ]
     },
     "metadata": {},
     "output_type": "display_data"
    },
    {
     "data": {
      "text/html": [
       "<img src=\"DiscreteAttentionWeights/DiscreteAttentionWeights/tacotron2_statedict.pt/[014]ljs-w_neutral_once_you_know_that_you_must_put_the_crosshairs_on_the_target_and_that_is_all_that_is_necessary_[Discrete(False,False)].png\"></img>"
      ],
      "text/plain": [
       "<IPython.core.display.HTML object>"
      ]
     },
     "metadata": {},
     "output_type": "display_data"
    },
    {
     "name": "stdout",
     "output_type": "stream",
     "text": [
      "Warning! Reached max decoder steps\n",
      "Speaker: ljs-w\n",
      "Emotion: neutral\n",
      "Text   : once you know that you must put the crosshairs on the target and that is all that is necessary.\n",
      "Attention quality:        0.4370\n",
      "Forward attentoin ratio:  1.0000\n",
      "Attentoin ratio:          0.6105\n",
      "Range attentoin ratio:    0.7158\n",
      "Multiple attentoin ratio: 0.0000\n",
      "Saved inference_ipynb/DiscreteAttentionWeights/DiscreteAttentionWeights/tacotron2_statedict.pt/[014]ljs-w_neutral_once_you_know_that_you_must_put_the_crosshairs_on_the_target_and_that_is_all_that_is_necessary_[Discrete(True,True)].wav\n",
      "Saved inference_ipynb/DiscreteAttentionWeights/DiscreteAttentionWeights/tacotron2_statedict.pt/[014]ljs-w_neutral_once_you_know_that_you_must_put_the_crosshairs_on_the_target_and_that_is_all_that_is_necessary_[Discrete(True,True)].png\n"
     ]
    },
    {
     "data": {
      "text/html": [
       "<audio controls><source src=\"DiscreteAttentionWeights/DiscreteAttentionWeights/tacotron2_statedict.pt/[014]ljs-w_neutral_once_you_know_that_you_must_put_the_crosshairs_on_the_target_and_that_is_all_that_is_necessary_[Discrete(True,True)].wav\" type=\"audio/wav\"></audio>"
      ],
      "text/plain": [
       "<IPython.core.display.HTML object>"
      ]
     },
     "metadata": {},
     "output_type": "display_data"
    },
    {
     "data": {
      "text/html": [
       "<img src=\"DiscreteAttentionWeights/DiscreteAttentionWeights/tacotron2_statedict.pt/[014]ljs-w_neutral_once_you_know_that_you_must_put_the_crosshairs_on_the_target_and_that_is_all_that_is_necessary_[Discrete(True,True)].png\"></img>"
      ],
      "text/plain": [
       "<IPython.core.display.HTML object>"
      ]
     },
     "metadata": {},
     "output_type": "display_data"
    },
    {
     "name": "stdout",
     "output_type": "stream",
     "text": [
      "Speaker: ljs-w\n",
      "Emotion: neutral\n",
      "Text   : once you know that you must put the crosshairs on the target and that is all that is necessary.\n",
      "Attention quality:        0.6947\n",
      "Forward attentoin ratio:  1.0000\n",
      "Attentoin ratio:          0.6947\n",
      "Range attentoin ratio:    1.0000\n",
      "Multiple attentoin ratio: 0.0000\n",
      "Saved inference_ipynb/DiscreteAttentionWeights/DiscreteAttentionWeights/tacotron2_statedict.pt/[014]ljs-w_neutral_once_you_know_that_you_must_put_the_crosshairs_on_the_target_and_that_is_all_that_is_necessary_[Discrete(False,True)].wav\n",
      "Saved inference_ipynb/DiscreteAttentionWeights/DiscreteAttentionWeights/tacotron2_statedict.pt/[014]ljs-w_neutral_once_you_know_that_you_must_put_the_crosshairs_on_the_target_and_that_is_all_that_is_necessary_[Discrete(False,True)].png\n"
     ]
    },
    {
     "data": {
      "text/html": [
       "<audio controls><source src=\"DiscreteAttentionWeights/DiscreteAttentionWeights/tacotron2_statedict.pt/[014]ljs-w_neutral_once_you_know_that_you_must_put_the_crosshairs_on_the_target_and_that_is_all_that_is_necessary_[Discrete(False,True)].wav\" type=\"audio/wav\"></audio>"
      ],
      "text/plain": [
       "<IPython.core.display.HTML object>"
      ]
     },
     "metadata": {},
     "output_type": "display_data"
    },
    {
     "data": {
      "text/html": [
       "<img src=\"DiscreteAttentionWeights/DiscreteAttentionWeights/tacotron2_statedict.pt/[014]ljs-w_neutral_once_you_know_that_you_must_put_the_crosshairs_on_the_target_and_that_is_all_that_is_necessary_[Discrete(False,True)].png\"></img>"
      ],
      "text/plain": [
       "<IPython.core.display.HTML object>"
      ]
     },
     "metadata": {},
     "output_type": "display_data"
    },
    {
     "name": "stdout",
     "output_type": "stream",
     "text": [
      "Warning! Reached max decoder steps\n",
      "Speaker: ljs-w\n",
      "Emotion: neutral\n",
      "Text   : once you know that you must put the crosshairs on the target and that is all that is necessary.\n",
      "Attention quality:        0.1125\n",
      "Forward attentoin ratio:  0.9630\n",
      "Attentoin ratio:          0.2737\n",
      "Range attentoin ratio:    0.4947\n",
      "Multiple attentoin ratio: 0.1368\n",
      "Saved inference_ipynb/DiscreteAttentionWeights/DiscreteAttentionWeights/tacotron2_statedict.pt/[014]ljs-w_neutral_once_you_know_that_you_must_put_the_crosshairs_on_the_target_and_that_is_all_that_is_necessary_[Discrete(True,False)].wav\n",
      "Saved inference_ipynb/DiscreteAttentionWeights/DiscreteAttentionWeights/tacotron2_statedict.pt/[014]ljs-w_neutral_once_you_know_that_you_must_put_the_crosshairs_on_the_target_and_that_is_all_that_is_necessary_[Discrete(True,False)].png\n"
     ]
    },
    {
     "data": {
      "text/html": [
       "<audio controls><source src=\"DiscreteAttentionWeights/DiscreteAttentionWeights/tacotron2_statedict.pt/[014]ljs-w_neutral_once_you_know_that_you_must_put_the_crosshairs_on_the_target_and_that_is_all_that_is_necessary_[Discrete(True,False)].wav\" type=\"audio/wav\"></audio>"
      ],
      "text/plain": [
       "<IPython.core.display.HTML object>"
      ]
     },
     "metadata": {},
     "output_type": "display_data"
    },
    {
     "data": {
      "text/html": [
       "<img src=\"DiscreteAttentionWeights/DiscreteAttentionWeights/tacotron2_statedict.pt/[014]ljs-w_neutral_once_you_know_that_you_must_put_the_crosshairs_on_the_target_and_that_is_all_that_is_necessary_[Discrete(True,False)].png\"></img>"
      ],
      "text/plain": [
       "<IPython.core.display.HTML object>"
      ]
     },
     "metadata": {},
     "output_type": "display_data"
    },
    {
     "name": "stdout",
     "output_type": "stream",
     "text": [
      "[15 Done!]======================================================================================================================================================\n",
      "Speaker: ljs-w\n",
      "Emotion: neutral\n",
      "Text   : long narrow rooms -- one thirty-six feet, six twenty-three feet, and the eighth eighteen,\n",
      "Attention quality:        0.8443\n",
      "Forward attentoin ratio:  0.9983\n",
      "Attentoin ratio:          0.8652\n",
      "Range attentoin ratio:    1.0000\n",
      "Multiple attentoin ratio: 0.0225\n",
      "Saved inference_ipynb/DiscreteAttentionWeights/DiscreteAttentionWeights/tacotron2_statedict.pt/[015]ljs-w_neutral_long_narrow_rooms_--_one_thirty-six_feet_six_twenty-three_feet_and_the_eighth_eighteen_[Discrete(False,False)].wav\n",
      "Saved inference_ipynb/DiscreteAttentionWeights/DiscreteAttentionWeights/tacotron2_statedict.pt/[015]ljs-w_neutral_long_narrow_rooms_--_one_thirty-six_feet_six_twenty-three_feet_and_the_eighth_eighteen_[Discrete(False,False)].png\n"
     ]
    },
    {
     "data": {
      "text/html": [
       "<audio controls><source src=\"DiscreteAttentionWeights/DiscreteAttentionWeights/tacotron2_statedict.pt/[015]ljs-w_neutral_long_narrow_rooms_--_one_thirty-six_feet_six_twenty-three_feet_and_the_eighth_eighteen_[Discrete(False,False)].wav\" type=\"audio/wav\"></audio>"
      ],
      "text/plain": [
       "<IPython.core.display.HTML object>"
      ]
     },
     "metadata": {},
     "output_type": "display_data"
    },
    {
     "data": {
      "text/html": [
       "<img src=\"DiscreteAttentionWeights/DiscreteAttentionWeights/tacotron2_statedict.pt/[015]ljs-w_neutral_long_narrow_rooms_--_one_thirty-six_feet_six_twenty-three_feet_and_the_eighth_eighteen_[Discrete(False,False)].png\"></img>"
      ],
      "text/plain": [
       "<IPython.core.display.HTML object>"
      ]
     },
     "metadata": {},
     "output_type": "display_data"
    },
    {
     "name": "stdout",
     "output_type": "stream",
     "text": [
      "Warning! Reached max decoder steps\n",
      "Speaker: ljs-w\n",
      "Emotion: neutral\n",
      "Text   : long narrow rooms -- one thirty-six feet, six twenty-three feet, and the eighth eighteen,\n",
      "Attention quality:        0.3040\n",
      "Forward attentoin ratio:  1.0000\n",
      "Attentoin ratio:          0.4831\n",
      "Range attentoin ratio:    0.6292\n",
      "Multiple attentoin ratio: 0.0000\n",
      "Saved inference_ipynb/DiscreteAttentionWeights/DiscreteAttentionWeights/tacotron2_statedict.pt/[015]ljs-w_neutral_long_narrow_rooms_--_one_thirty-six_feet_six_twenty-three_feet_and_the_eighth_eighteen_[Discrete(True,True)].wav\n",
      "Saved inference_ipynb/DiscreteAttentionWeights/DiscreteAttentionWeights/tacotron2_statedict.pt/[015]ljs-w_neutral_long_narrow_rooms_--_one_thirty-six_feet_six_twenty-three_feet_and_the_eighth_eighteen_[Discrete(True,True)].png\n"
     ]
    },
    {
     "data": {
      "text/html": [
       "<audio controls><source src=\"DiscreteAttentionWeights/DiscreteAttentionWeights/tacotron2_statedict.pt/[015]ljs-w_neutral_long_narrow_rooms_--_one_thirty-six_feet_six_twenty-three_feet_and_the_eighth_eighteen_[Discrete(True,True)].wav\" type=\"audio/wav\"></audio>"
      ],
      "text/plain": [
       "<IPython.core.display.HTML object>"
      ]
     },
     "metadata": {},
     "output_type": "display_data"
    },
    {
     "data": {
      "text/html": [
       "<img src=\"DiscreteAttentionWeights/DiscreteAttentionWeights/tacotron2_statedict.pt/[015]ljs-w_neutral_long_narrow_rooms_--_one_thirty-six_feet_six_twenty-three_feet_and_the_eighth_eighteen_[Discrete(True,True)].png\"></img>"
      ],
      "text/plain": [
       "<IPython.core.display.HTML object>"
      ]
     },
     "metadata": {},
     "output_type": "display_data"
    },
    {
     "name": "stdout",
     "output_type": "stream",
     "text": [
      "Warning! Reached max decoder steps\n",
      "Speaker: ljs-w\n",
      "Emotion: neutral\n",
      "Text   : long narrow rooms -- one thirty-six feet, six twenty-three feet, and the eighth eighteen,\n",
      "Attention quality:        0.5569\n",
      "Forward attentoin ratio:  0.9980\n",
      "Attentoin ratio:          0.5843\n",
      "Range attentoin ratio:    0.9551\n",
      "Multiple attentoin ratio: 0.0000\n",
      "Saved inference_ipynb/DiscreteAttentionWeights/DiscreteAttentionWeights/tacotron2_statedict.pt/[015]ljs-w_neutral_long_narrow_rooms_--_one_thirty-six_feet_six_twenty-three_feet_and_the_eighth_eighteen_[Discrete(False,True)].wav\n",
      "Saved inference_ipynb/DiscreteAttentionWeights/DiscreteAttentionWeights/tacotron2_statedict.pt/[015]ljs-w_neutral_long_narrow_rooms_--_one_thirty-six_feet_six_twenty-three_feet_and_the_eighth_eighteen_[Discrete(False,True)].png\n"
     ]
    },
    {
     "data": {
      "text/html": [
       "<audio controls><source src=\"DiscreteAttentionWeights/DiscreteAttentionWeights/tacotron2_statedict.pt/[015]ljs-w_neutral_long_narrow_rooms_--_one_thirty-six_feet_six_twenty-three_feet_and_the_eighth_eighteen_[Discrete(False,True)].wav\" type=\"audio/wav\"></audio>"
      ],
      "text/plain": [
       "<IPython.core.display.HTML object>"
      ]
     },
     "metadata": {},
     "output_type": "display_data"
    },
    {
     "data": {
      "text/html": [
       "<img src=\"DiscreteAttentionWeights/DiscreteAttentionWeights/tacotron2_statedict.pt/[015]ljs-w_neutral_long_narrow_rooms_--_one_thirty-six_feet_six_twenty-three_feet_and_the_eighth_eighteen_[Discrete(False,True)].png\"></img>"
      ],
      "text/plain": [
       "<IPython.core.display.HTML object>"
      ]
     },
     "metadata": {},
     "output_type": "display_data"
    },
    {
     "name": "stdout",
     "output_type": "stream",
     "text": [
      "Warning! Reached max decoder steps\n",
      "Speaker: ljs-w\n",
      "Emotion: neutral\n",
      "Text   : long narrow rooms -- one thirty-six feet, six twenty-three feet, and the eighth eighteen,\n",
      "Attention quality:        0.1306\n",
      "Forward attentoin ratio:  0.9710\n",
      "Attentoin ratio:          0.2697\n",
      "Range attentoin ratio:    0.5843\n",
      "Multiple attentoin ratio: 0.1461\n",
      "Saved inference_ipynb/DiscreteAttentionWeights/DiscreteAttentionWeights/tacotron2_statedict.pt/[015]ljs-w_neutral_long_narrow_rooms_--_one_thirty-six_feet_six_twenty-three_feet_and_the_eighth_eighteen_[Discrete(True,False)].wav\n",
      "Saved inference_ipynb/DiscreteAttentionWeights/DiscreteAttentionWeights/tacotron2_statedict.pt/[015]ljs-w_neutral_long_narrow_rooms_--_one_thirty-six_feet_six_twenty-three_feet_and_the_eighth_eighteen_[Discrete(True,False)].png\n"
     ]
    },
    {
     "data": {
      "text/html": [
       "<audio controls><source src=\"DiscreteAttentionWeights/DiscreteAttentionWeights/tacotron2_statedict.pt/[015]ljs-w_neutral_long_narrow_rooms_--_one_thirty-six_feet_six_twenty-three_feet_and_the_eighth_eighteen_[Discrete(True,False)].wav\" type=\"audio/wav\"></audio>"
      ],
      "text/plain": [
       "<IPython.core.display.HTML object>"
      ]
     },
     "metadata": {},
     "output_type": "display_data"
    },
    {
     "data": {
      "text/html": [
       "<img src=\"DiscreteAttentionWeights/DiscreteAttentionWeights/tacotron2_statedict.pt/[015]ljs-w_neutral_long_narrow_rooms_--_one_thirty-six_feet_six_twenty-three_feet_and_the_eighth_eighteen_[Discrete(True,False)].png\"></img>"
      ],
      "text/plain": [
       "<IPython.core.display.HTML object>"
      ]
     },
     "metadata": {},
     "output_type": "display_data"
    },
    {
     "name": "stdout",
     "output_type": "stream",
     "text": [
      "[16 Done!]======================================================================================================================================================\n",
      "Speaker: ljs-w\n",
      "Emotion: neutral\n",
      "Text   : which Sir Joshua Jebb told the committee he considered the proper elements of penal discipline.\n",
      "Attention quality:        0.8421\n",
      "Forward attentoin ratio:  1.0000\n",
      "Attentoin ratio:          0.8421\n",
      "Range attentoin ratio:    1.0000\n",
      "Multiple attentoin ratio: 0.0000\n",
      "Saved inference_ipynb/DiscreteAttentionWeights/DiscreteAttentionWeights/tacotron2_statedict.pt/[016]ljs-w_neutral_which_Sir_Joshua_Jebb_told_the_committee_he_considered_the_proper_elements_of_penal_discipline_[Discrete(False,False)].wav\n",
      "Saved inference_ipynb/DiscreteAttentionWeights/DiscreteAttentionWeights/tacotron2_statedict.pt/[016]ljs-w_neutral_which_Sir_Joshua_Jebb_told_the_committee_he_considered_the_proper_elements_of_penal_discipline_[Discrete(False,False)].png\n"
     ]
    },
    {
     "data": {
      "text/html": [
       "<audio controls><source src=\"DiscreteAttentionWeights/DiscreteAttentionWeights/tacotron2_statedict.pt/[016]ljs-w_neutral_which_Sir_Joshua_Jebb_told_the_committee_he_considered_the_proper_elements_of_penal_discipline_[Discrete(False,False)].wav\" type=\"audio/wav\"></audio>"
      ],
      "text/plain": [
       "<IPython.core.display.HTML object>"
      ]
     },
     "metadata": {},
     "output_type": "display_data"
    },
    {
     "data": {
      "text/html": [
       "<img src=\"DiscreteAttentionWeights/DiscreteAttentionWeights/tacotron2_statedict.pt/[016]ljs-w_neutral_which_Sir_Joshua_Jebb_told_the_committee_he_considered_the_proper_elements_of_penal_discipline_[Discrete(False,False)].png\"></img>"
      ],
      "text/plain": [
       "<IPython.core.display.HTML object>"
      ]
     },
     "metadata": {},
     "output_type": "display_data"
    },
    {
     "name": "stdout",
     "output_type": "stream",
     "text": [
      "Warning! Reached max decoder steps\n",
      "Speaker: ljs-w\n",
      "Emotion: neutral\n",
      "Text   : which Sir Joshua Jebb told the committee he considered the proper elements of penal discipline.\n",
      "Attention quality:        0.4664\n",
      "Forward attentoin ratio:  1.0000\n",
      "Attentoin ratio:          0.6421\n",
      "Range attentoin ratio:    0.7263\n",
      "Multiple attentoin ratio: 0.0000\n",
      "Saved inference_ipynb/DiscreteAttentionWeights/DiscreteAttentionWeights/tacotron2_statedict.pt/[016]ljs-w_neutral_which_Sir_Joshua_Jebb_told_the_committee_he_considered_the_proper_elements_of_penal_discipline_[Discrete(True,True)].wav\n",
      "Saved inference_ipynb/DiscreteAttentionWeights/DiscreteAttentionWeights/tacotron2_statedict.pt/[016]ljs-w_neutral_which_Sir_Joshua_Jebb_told_the_committee_he_considered_the_proper_elements_of_penal_discipline_[Discrete(True,True)].png\n"
     ]
    },
    {
     "data": {
      "text/html": [
       "<audio controls><source src=\"DiscreteAttentionWeights/DiscreteAttentionWeights/tacotron2_statedict.pt/[016]ljs-w_neutral_which_Sir_Joshua_Jebb_told_the_committee_he_considered_the_proper_elements_of_penal_discipline_[Discrete(True,True)].wav\" type=\"audio/wav\"></audio>"
      ],
      "text/plain": [
       "<IPython.core.display.HTML object>"
      ]
     },
     "metadata": {},
     "output_type": "display_data"
    },
    {
     "data": {
      "text/html": [
       "<img src=\"DiscreteAttentionWeights/DiscreteAttentionWeights/tacotron2_statedict.pt/[016]ljs-w_neutral_which_Sir_Joshua_Jebb_told_the_committee_he_considered_the_proper_elements_of_penal_discipline_[Discrete(True,True)].png\"></img>"
      ],
      "text/plain": [
       "<IPython.core.display.HTML object>"
      ]
     },
     "metadata": {},
     "output_type": "display_data"
    },
    {
     "name": "stdout",
     "output_type": "stream",
     "text": [
      "Speaker: ljs-w\n",
      "Emotion: neutral\n",
      "Text   : which Sir Joshua Jebb told the committee he considered the proper elements of penal discipline.\n",
      "Attention quality:        0.7789\n",
      "Forward attentoin ratio:  1.0000\n",
      "Attentoin ratio:          0.7789\n",
      "Range attentoin ratio:    1.0000\n",
      "Multiple attentoin ratio: 0.0000\n",
      "Saved inference_ipynb/DiscreteAttentionWeights/DiscreteAttentionWeights/tacotron2_statedict.pt/[016]ljs-w_neutral_which_Sir_Joshua_Jebb_told_the_committee_he_considered_the_proper_elements_of_penal_discipline_[Discrete(False,True)].wav\n",
      "Saved inference_ipynb/DiscreteAttentionWeights/DiscreteAttentionWeights/tacotron2_statedict.pt/[016]ljs-w_neutral_which_Sir_Joshua_Jebb_told_the_committee_he_considered_the_proper_elements_of_penal_discipline_[Discrete(False,True)].png\n"
     ]
    },
    {
     "data": {
      "text/html": [
       "<audio controls><source src=\"DiscreteAttentionWeights/DiscreteAttentionWeights/tacotron2_statedict.pt/[016]ljs-w_neutral_which_Sir_Joshua_Jebb_told_the_committee_he_considered_the_proper_elements_of_penal_discipline_[Discrete(False,True)].wav\" type=\"audio/wav\"></audio>"
      ],
      "text/plain": [
       "<IPython.core.display.HTML object>"
      ]
     },
     "metadata": {},
     "output_type": "display_data"
    },
    {
     "data": {
      "text/html": [
       "<img src=\"DiscreteAttentionWeights/DiscreteAttentionWeights/tacotron2_statedict.pt/[016]ljs-w_neutral_which_Sir_Joshua_Jebb_told_the_committee_he_considered_the_proper_elements_of_penal_discipline_[Discrete(False,True)].png\"></img>"
      ],
      "text/plain": [
       "<IPython.core.display.HTML object>"
      ]
     },
     "metadata": {},
     "output_type": "display_data"
    },
    {
     "name": "stdout",
     "output_type": "stream",
     "text": [
      "Speaker: ljs-w\n",
      "Emotion: neutral\n",
      "Text   : which Sir Joshua Jebb told the committee he considered the proper elements of penal discipline.\n",
      "Attention quality:        0.0502\n",
      "Forward attentoin ratio:  0.9863\n",
      "Attentoin ratio:          0.1684\n",
      "Range attentoin ratio:    0.3158\n",
      "Multiple attentoin ratio: 0.0421\n",
      "Saved inference_ipynb/DiscreteAttentionWeights/DiscreteAttentionWeights/tacotron2_statedict.pt/[016]ljs-w_neutral_which_Sir_Joshua_Jebb_told_the_committee_he_considered_the_proper_elements_of_penal_discipline_[Discrete(True,False)].wav\n",
      "Saved inference_ipynb/DiscreteAttentionWeights/DiscreteAttentionWeights/tacotron2_statedict.pt/[016]ljs-w_neutral_which_Sir_Joshua_Jebb_told_the_committee_he_considered_the_proper_elements_of_penal_discipline_[Discrete(True,False)].png\n"
     ]
    },
    {
     "data": {
      "text/html": [
       "<audio controls><source src=\"DiscreteAttentionWeights/DiscreteAttentionWeights/tacotron2_statedict.pt/[016]ljs-w_neutral_which_Sir_Joshua_Jebb_told_the_committee_he_considered_the_proper_elements_of_penal_discipline_[Discrete(True,False)].wav\" type=\"audio/wav\"></audio>"
      ],
      "text/plain": [
       "<IPython.core.display.HTML object>"
      ]
     },
     "metadata": {},
     "output_type": "display_data"
    },
    {
     "data": {
      "text/html": [
       "<img src=\"DiscreteAttentionWeights/DiscreteAttentionWeights/tacotron2_statedict.pt/[016]ljs-w_neutral_which_Sir_Joshua_Jebb_told_the_committee_he_considered_the_proper_elements_of_penal_discipline_[Discrete(True,False)].png\"></img>"
      ],
      "text/plain": [
       "<IPython.core.display.HTML object>"
      ]
     },
     "metadata": {},
     "output_type": "display_data"
    },
    {
     "name": "stdout",
     "output_type": "stream",
     "text": [
      "[17 Done!]======================================================================================================================================================\n",
      "Speaker: ljs-w\n",
      "Emotion: neutral\n",
      "Text   : If somebody did that to me, a lousy trick like that, to take my wife away, and all the furniture, I would be mad as hell, too.\n",
      "Attention quality:        0.8571\n",
      "Forward attentoin ratio:  0.9976\n",
      "Attentoin ratio:          0.8730\n",
      "Range attentoin ratio:    1.0000\n",
      "Multiple attentoin ratio: 0.0159\n",
      "Saved inference_ipynb/DiscreteAttentionWeights/DiscreteAttentionWeights/tacotron2_statedict.pt/[017]ljs-w_neutral_If_somebody_did_that_to_me_a_lousy_trick_like_that_to_take_my_wife_away_and_all_the_furniture_I_would_be_mad_as_hell_too_[Discrete(False,False)].wav\n",
      "Saved inference_ipynb/DiscreteAttentionWeights/DiscreteAttentionWeights/tacotron2_statedict.pt/[017]ljs-w_neutral_If_somebody_did_that_to_me_a_lousy_trick_like_that_to_take_my_wife_away_and_all_the_furniture_I_would_be_mad_as_hell_too_[Discrete(False,False)].png\n"
     ]
    },
    {
     "data": {
      "text/html": [
       "<audio controls><source src=\"DiscreteAttentionWeights/DiscreteAttentionWeights/tacotron2_statedict.pt/[017]ljs-w_neutral_If_somebody_did_that_to_me_a_lousy_trick_like_that_to_take_my_wife_away_and_all_the_furniture_I_would_be_mad_as_hell_too_[Discrete(False,False)].wav\" type=\"audio/wav\"></audio>"
      ],
      "text/plain": [
       "<IPython.core.display.HTML object>"
      ]
     },
     "metadata": {},
     "output_type": "display_data"
    },
    {
     "data": {
      "text/html": [
       "<img src=\"DiscreteAttentionWeights/DiscreteAttentionWeights/tacotron2_statedict.pt/[017]ljs-w_neutral_If_somebody_did_that_to_me_a_lousy_trick_like_that_to_take_my_wife_away_and_all_the_furniture_I_would_be_mad_as_hell_too_[Discrete(False,False)].png\"></img>"
      ],
      "text/plain": [
       "<IPython.core.display.HTML object>"
      ]
     },
     "metadata": {},
     "output_type": "display_data"
    },
    {
     "name": "stdout",
     "output_type": "stream",
     "text": [
      "Warning! Reached max decoder steps\n",
      "Speaker: ljs-w\n",
      "Emotion: neutral\n",
      "Text   : If somebody did that to me, a lousy trick like that, to take my wife away, and all the furniture, I would be mad as hell, too.\n",
      "Attention quality:        0.1539\n",
      "Forward attentoin ratio:  1.0000\n",
      "Attentoin ratio:          0.3730\n",
      "Range attentoin ratio:    0.4127\n",
      "Multiple attentoin ratio: 0.0000\n",
      "Saved inference_ipynb/DiscreteAttentionWeights/DiscreteAttentionWeights/tacotron2_statedict.pt/[017]ljs-w_neutral_If_somebody_did_that_to_me_a_lousy_trick_like_that_to_take_my_wife_away_and_all_the_furniture_I_would_be_mad_as_hell_too_[Discrete(True,True)].wav\n",
      "Saved inference_ipynb/DiscreteAttentionWeights/DiscreteAttentionWeights/tacotron2_statedict.pt/[017]ljs-w_neutral_If_somebody_did_that_to_me_a_lousy_trick_like_that_to_take_my_wife_away_and_all_the_furniture_I_would_be_mad_as_hell_too_[Discrete(True,True)].png\n"
     ]
    },
    {
     "data": {
      "text/html": [
       "<audio controls><source src=\"DiscreteAttentionWeights/DiscreteAttentionWeights/tacotron2_statedict.pt/[017]ljs-w_neutral_If_somebody_did_that_to_me_a_lousy_trick_like_that_to_take_my_wife_away_and_all_the_furniture_I_would_be_mad_as_hell_too_[Discrete(True,True)].wav\" type=\"audio/wav\"></audio>"
      ],
      "text/plain": [
       "<IPython.core.display.HTML object>"
      ]
     },
     "metadata": {},
     "output_type": "display_data"
    },
    {
     "data": {
      "text/html": [
       "<img src=\"DiscreteAttentionWeights/DiscreteAttentionWeights/tacotron2_statedict.pt/[017]ljs-w_neutral_If_somebody_did_that_to_me_a_lousy_trick_like_that_to_take_my_wife_away_and_all_the_furniture_I_would_be_mad_as_hell_too_[Discrete(True,True)].png\"></img>"
      ],
      "text/plain": [
       "<IPython.core.display.HTML object>"
      ]
     },
     "metadata": {},
     "output_type": "display_data"
    },
    {
     "name": "stdout",
     "output_type": "stream",
     "text": [
      "Warning! Reached max decoder steps\n",
      "Speaker: ljs-w\n",
      "Emotion: neutral\n",
      "Text   : If somebody did that to me, a lousy trick like that, to take my wife away, and all the furniture, I would be mad as hell, too.\n",
      "Attention quality:        0.7108\n",
      "Forward attentoin ratio:  1.0000\n",
      "Attentoin ratio:          0.7222\n",
      "Range attentoin ratio:    0.9841\n",
      "Multiple attentoin ratio: 0.0000\n",
      "Saved inference_ipynb/DiscreteAttentionWeights/DiscreteAttentionWeights/tacotron2_statedict.pt/[017]ljs-w_neutral_If_somebody_did_that_to_me_a_lousy_trick_like_that_to_take_my_wife_away_and_all_the_furniture_I_would_be_mad_as_hell_too_[Discrete(False,True)].wav\n",
      "Saved inference_ipynb/DiscreteAttentionWeights/DiscreteAttentionWeights/tacotron2_statedict.pt/[017]ljs-w_neutral_If_somebody_did_that_to_me_a_lousy_trick_like_that_to_take_my_wife_away_and_all_the_furniture_I_would_be_mad_as_hell_too_[Discrete(False,True)].png\n"
     ]
    },
    {
     "data": {
      "text/html": [
       "<audio controls><source src=\"DiscreteAttentionWeights/DiscreteAttentionWeights/tacotron2_statedict.pt/[017]ljs-w_neutral_If_somebody_did_that_to_me_a_lousy_trick_like_that_to_take_my_wife_away_and_all_the_furniture_I_would_be_mad_as_hell_too_[Discrete(False,True)].wav\" type=\"audio/wav\"></audio>"
      ],
      "text/plain": [
       "<IPython.core.display.HTML object>"
      ]
     },
     "metadata": {},
     "output_type": "display_data"
    },
    {
     "data": {
      "text/html": [
       "<img src=\"DiscreteAttentionWeights/DiscreteAttentionWeights/tacotron2_statedict.pt/[017]ljs-w_neutral_If_somebody_did_that_to_me_a_lousy_trick_like_that_to_take_my_wife_away_and_all_the_furniture_I_would_be_mad_as_hell_too_[Discrete(False,True)].png\"></img>"
      ],
      "text/plain": [
       "<IPython.core.display.HTML object>"
      ]
     },
     "metadata": {},
     "output_type": "display_data"
    },
    {
     "name": "stdout",
     "output_type": "stream",
     "text": [
      "Speaker: ljs-w\n",
      "Emotion: neutral\n",
      "Text   : If somebody did that to me, a lousy trick like that, to take my wife away, and all the furniture, I would be mad as hell, too.\n",
      "Attention quality:        0.0002\n",
      "Forward attentoin ratio:  0.9730\n",
      "Attentoin ratio:          0.0159\n",
      "Range attentoin ratio:    0.0159\n",
      "Multiple attentoin ratio: 0.0159\n",
      "Saved inference_ipynb/DiscreteAttentionWeights/DiscreteAttentionWeights/tacotron2_statedict.pt/[017]ljs-w_neutral_If_somebody_did_that_to_me_a_lousy_trick_like_that_to_take_my_wife_away_and_all_the_furniture_I_would_be_mad_as_hell_too_[Discrete(True,False)].wav\n",
      "Saved inference_ipynb/DiscreteAttentionWeights/DiscreteAttentionWeights/tacotron2_statedict.pt/[017]ljs-w_neutral_If_somebody_did_that_to_me_a_lousy_trick_like_that_to_take_my_wife_away_and_all_the_furniture_I_would_be_mad_as_hell_too_[Discrete(True,False)].png\n"
     ]
    },
    {
     "data": {
      "text/html": [
       "<audio controls><source src=\"DiscreteAttentionWeights/DiscreteAttentionWeights/tacotron2_statedict.pt/[017]ljs-w_neutral_If_somebody_did_that_to_me_a_lousy_trick_like_that_to_take_my_wife_away_and_all_the_furniture_I_would_be_mad_as_hell_too_[Discrete(True,False)].wav\" type=\"audio/wav\"></audio>"
      ],
      "text/plain": [
       "<IPython.core.display.HTML object>"
      ]
     },
     "metadata": {},
     "output_type": "display_data"
    },
    {
     "data": {
      "text/html": [
       "<img src=\"DiscreteAttentionWeights/DiscreteAttentionWeights/tacotron2_statedict.pt/[017]ljs-w_neutral_If_somebody_did_that_to_me_a_lousy_trick_like_that_to_take_my_wife_away_and_all_the_furniture_I_would_be_mad_as_hell_too_[Discrete(True,False)].png\"></img>"
      ],
      "text/plain": [
       "<IPython.core.display.HTML object>"
      ]
     },
     "metadata": {},
     "output_type": "display_data"
    },
    {
     "name": "stdout",
     "output_type": "stream",
     "text": [
      "[18 Done!]======================================================================================================================================================\n",
      "Speaker: ljs-w\n",
      "Emotion: neutral\n",
      "Text   : Mrs. Mary Brock, the wife of a mechanic who worked at the station, was there at the time and she saw a white male,\n",
      "Attention quality:        0.8448\n",
      "Forward attentoin ratio:  1.0000\n",
      "Attentoin ratio:          0.8448\n",
      "Range attentoin ratio:    1.0000\n",
      "Multiple attentoin ratio: 0.0000\n",
      "Saved inference_ipynb/DiscreteAttentionWeights/DiscreteAttentionWeights/tacotron2_statedict.pt/[018]ljs-w_neutral_Mrs_Mary_Brock_the_wife_of_a_mechanic_who_worked_at_the_station_was_there_at_the_time_and_she_saw_a_white_male_[Discrete(False,False)].wav\n",
      "Saved inference_ipynb/DiscreteAttentionWeights/DiscreteAttentionWeights/tacotron2_statedict.pt/[018]ljs-w_neutral_Mrs_Mary_Brock_the_wife_of_a_mechanic_who_worked_at_the_station_was_there_at_the_time_and_she_saw_a_white_male_[Discrete(False,False)].png\n"
     ]
    },
    {
     "data": {
      "text/html": [
       "<audio controls><source src=\"DiscreteAttentionWeights/DiscreteAttentionWeights/tacotron2_statedict.pt/[018]ljs-w_neutral_Mrs_Mary_Brock_the_wife_of_a_mechanic_who_worked_at_the_station_was_there_at_the_time_and_she_saw_a_white_male_[Discrete(False,False)].wav\" type=\"audio/wav\"></audio>"
      ],
      "text/plain": [
       "<IPython.core.display.HTML object>"
      ]
     },
     "metadata": {},
     "output_type": "display_data"
    },
    {
     "data": {
      "text/html": [
       "<img src=\"DiscreteAttentionWeights/DiscreteAttentionWeights/tacotron2_statedict.pt/[018]ljs-w_neutral_Mrs_Mary_Brock_the_wife_of_a_mechanic_who_worked_at_the_station_was_there_at_the_time_and_she_saw_a_white_male_[Discrete(False,False)].png\"></img>"
      ],
      "text/plain": [
       "<IPython.core.display.HTML object>"
      ]
     },
     "metadata": {},
     "output_type": "display_data"
    },
    {
     "name": "stdout",
     "output_type": "stream",
     "text": [
      "Warning! Reached max decoder steps\n",
      "Speaker: ljs-w\n",
      "Emotion: neutral\n",
      "Text   : Mrs. Mary Brock, the wife of a mechanic who worked at the station, was there at the time and she saw a white male,\n",
      "Attention quality:        0.2085\n",
      "Forward attentoin ratio:  1.0000\n",
      "Attentoin ratio:          0.4397\n",
      "Range attentoin ratio:    0.4741\n",
      "Multiple attentoin ratio: 0.0000\n",
      "Saved inference_ipynb/DiscreteAttentionWeights/DiscreteAttentionWeights/tacotron2_statedict.pt/[018]ljs-w_neutral_Mrs_Mary_Brock_the_wife_of_a_mechanic_who_worked_at_the_station_was_there_at_the_time_and_she_saw_a_white_male_[Discrete(True,True)].wav\n",
      "Saved inference_ipynb/DiscreteAttentionWeights/DiscreteAttentionWeights/tacotron2_statedict.pt/[018]ljs-w_neutral_Mrs_Mary_Brock_the_wife_of_a_mechanic_who_worked_at_the_station_was_there_at_the_time_and_she_saw_a_white_male_[Discrete(True,True)].png\n"
     ]
    },
    {
     "data": {
      "text/html": [
       "<audio controls><source src=\"DiscreteAttentionWeights/DiscreteAttentionWeights/tacotron2_statedict.pt/[018]ljs-w_neutral_Mrs_Mary_Brock_the_wife_of_a_mechanic_who_worked_at_the_station_was_there_at_the_time_and_she_saw_a_white_male_[Discrete(True,True)].wav\" type=\"audio/wav\"></audio>"
      ],
      "text/plain": [
       "<IPython.core.display.HTML object>"
      ]
     },
     "metadata": {},
     "output_type": "display_data"
    },
    {
     "data": {
      "text/html": [
       "<img src=\"DiscreteAttentionWeights/DiscreteAttentionWeights/tacotron2_statedict.pt/[018]ljs-w_neutral_Mrs_Mary_Brock_the_wife_of_a_mechanic_who_worked_at_the_station_was_there_at_the_time_and_she_saw_a_white_male_[Discrete(True,True)].png\"></img>"
      ],
      "text/plain": [
       "<IPython.core.display.HTML object>"
      ]
     },
     "metadata": {},
     "output_type": "display_data"
    },
    {
     "name": "stdout",
     "output_type": "stream",
     "text": [
      "Speaker: ljs-w\n",
      "Emotion: neutral\n",
      "Text   : Mrs. Mary Brock, the wife of a mechanic who worked at the station, was there at the time and she saw a white male,\n",
      "Attention quality:        0.7328\n",
      "Forward attentoin ratio:  1.0000\n",
      "Attentoin ratio:          0.7328\n",
      "Range attentoin ratio:    1.0000\n",
      "Multiple attentoin ratio: 0.0000\n",
      "Saved inference_ipynb/DiscreteAttentionWeights/DiscreteAttentionWeights/tacotron2_statedict.pt/[018]ljs-w_neutral_Mrs_Mary_Brock_the_wife_of_a_mechanic_who_worked_at_the_station_was_there_at_the_time_and_she_saw_a_white_male_[Discrete(False,True)].wav\n",
      "Saved inference_ipynb/DiscreteAttentionWeights/DiscreteAttentionWeights/tacotron2_statedict.pt/[018]ljs-w_neutral_Mrs_Mary_Brock_the_wife_of_a_mechanic_who_worked_at_the_station_was_there_at_the_time_and_she_saw_a_white_male_[Discrete(False,True)].png\n"
     ]
    },
    {
     "data": {
      "text/html": [
       "<audio controls><source src=\"DiscreteAttentionWeights/DiscreteAttentionWeights/tacotron2_statedict.pt/[018]ljs-w_neutral_Mrs_Mary_Brock_the_wife_of_a_mechanic_who_worked_at_the_station_was_there_at_the_time_and_she_saw_a_white_male_[Discrete(False,True)].wav\" type=\"audio/wav\"></audio>"
      ],
      "text/plain": [
       "<IPython.core.display.HTML object>"
      ]
     },
     "metadata": {},
     "output_type": "display_data"
    },
    {
     "data": {
      "text/html": [
       "<img src=\"DiscreteAttentionWeights/DiscreteAttentionWeights/tacotron2_statedict.pt/[018]ljs-w_neutral_Mrs_Mary_Brock_the_wife_of_a_mechanic_who_worked_at_the_station_was_there_at_the_time_and_she_saw_a_white_male_[Discrete(False,True)].png\"></img>"
      ],
      "text/plain": [
       "<IPython.core.display.HTML object>"
      ]
     },
     "metadata": {},
     "output_type": "display_data"
    },
    {
     "name": "stdout",
     "output_type": "stream",
     "text": [
      "Speaker: ljs-w\n",
      "Emotion: neutral\n",
      "Text   : Mrs. Mary Brock, the wife of a mechanic who worked at the station, was there at the time and she saw a white male,\n",
      "Attention quality:        0.0769\n",
      "Forward attentoin ratio:  0.9833\n",
      "Attentoin ratio:          0.0862\n",
      "Range attentoin ratio:    0.9310\n",
      "Multiple attentoin ratio: 0.0259\n",
      "Saved inference_ipynb/DiscreteAttentionWeights/DiscreteAttentionWeights/tacotron2_statedict.pt/[018]ljs-w_neutral_Mrs_Mary_Brock_the_wife_of_a_mechanic_who_worked_at_the_station_was_there_at_the_time_and_she_saw_a_white_male_[Discrete(True,False)].wav\n",
      "Saved inference_ipynb/DiscreteAttentionWeights/DiscreteAttentionWeights/tacotron2_statedict.pt/[018]ljs-w_neutral_Mrs_Mary_Brock_the_wife_of_a_mechanic_who_worked_at_the_station_was_there_at_the_time_and_she_saw_a_white_male_[Discrete(True,False)].png\n"
     ]
    },
    {
     "data": {
      "text/html": [
       "<audio controls><source src=\"DiscreteAttentionWeights/DiscreteAttentionWeights/tacotron2_statedict.pt/[018]ljs-w_neutral_Mrs_Mary_Brock_the_wife_of_a_mechanic_who_worked_at_the_station_was_there_at_the_time_and_she_saw_a_white_male_[Discrete(True,False)].wav\" type=\"audio/wav\"></audio>"
      ],
      "text/plain": [
       "<IPython.core.display.HTML object>"
      ]
     },
     "metadata": {},
     "output_type": "display_data"
    },
    {
     "data": {
      "text/html": [
       "<img src=\"DiscreteAttentionWeights/DiscreteAttentionWeights/tacotron2_statedict.pt/[018]ljs-w_neutral_Mrs_Mary_Brock_the_wife_of_a_mechanic_who_worked_at_the_station_was_there_at_the_time_and_she_saw_a_white_male_[Discrete(True,False)].png\"></img>"
      ],
      "text/plain": [
       "<IPython.core.display.HTML object>"
      ]
     },
     "metadata": {},
     "output_type": "display_data"
    },
    {
     "name": "stdout",
     "output_type": "stream",
     "text": [
      "[19 Done!]======================================================================================================================================================\n",
      "Speaker: ljs-w\n",
      "Emotion: neutral\n",
      "Text   : On one occasion Mrs. Johnson, accompanied by two Secret Service agents, left the room to see Mrs. Kennedy and Mrs. Connally.\n",
      "Attention quality:        0.8613\n",
      "Forward attentoin ratio:  0.9986\n",
      "Attentoin ratio:          0.8692\n",
      "Range attentoin ratio:    1.0000\n",
      "Multiple attentoin ratio: 0.0077\n",
      "Saved inference_ipynb/DiscreteAttentionWeights/DiscreteAttentionWeights/tacotron2_statedict.pt/[019]ljs-w_neutral_On_one_occasion_Mrs_Johnson_accompanied_by_two_Secret_Service_agents_left_the_room_to_see_Mrs_Kennedy_and_Mrs_Connally_[Discrete(False,False)].wav\n",
      "Saved inference_ipynb/DiscreteAttentionWeights/DiscreteAttentionWeights/tacotron2_statedict.pt/[019]ljs-w_neutral_On_one_occasion_Mrs_Johnson_accompanied_by_two_Secret_Service_agents_left_the_room_to_see_Mrs_Kennedy_and_Mrs_Connally_[Discrete(False,False)].png\n"
     ]
    },
    {
     "data": {
      "text/html": [
       "<audio controls><source src=\"DiscreteAttentionWeights/DiscreteAttentionWeights/tacotron2_statedict.pt/[019]ljs-w_neutral_On_one_occasion_Mrs_Johnson_accompanied_by_two_Secret_Service_agents_left_the_room_to_see_Mrs_Kennedy_and_Mrs_Connally_[Discrete(False,False)].wav\" type=\"audio/wav\"></audio>"
      ],
      "text/plain": [
       "<IPython.core.display.HTML object>"
      ]
     },
     "metadata": {},
     "output_type": "display_data"
    },
    {
     "data": {
      "text/html": [
       "<img src=\"DiscreteAttentionWeights/DiscreteAttentionWeights/tacotron2_statedict.pt/[019]ljs-w_neutral_On_one_occasion_Mrs_Johnson_accompanied_by_two_Secret_Service_agents_left_the_room_to_see_Mrs_Kennedy_and_Mrs_Connally_[Discrete(False,False)].png\"></img>"
      ],
      "text/plain": [
       "<IPython.core.display.HTML object>"
      ]
     },
     "metadata": {},
     "output_type": "display_data"
    },
    {
     "name": "stdout",
     "output_type": "stream",
     "text": [
      "Warning! Reached max decoder steps\n",
      "Speaker: ljs-w\n",
      "Emotion: neutral\n",
      "Text   : On one occasion Mrs. Johnson, accompanied by two Secret Service agents, left the room to see Mrs. Kennedy and Mrs. Connally.\n",
      "Attention quality:        0.2498\n",
      "Forward attentoin ratio:  1.0000\n",
      "Attentoin ratio:          0.4846\n",
      "Range attentoin ratio:    0.5154\n",
      "Multiple attentoin ratio: 0.0000\n",
      "Saved inference_ipynb/DiscreteAttentionWeights/DiscreteAttentionWeights/tacotron2_statedict.pt/[019]ljs-w_neutral_On_one_occasion_Mrs_Johnson_accompanied_by_two_Secret_Service_agents_left_the_room_to_see_Mrs_Kennedy_and_Mrs_Connally_[Discrete(True,True)].wav\n",
      "Saved inference_ipynb/DiscreteAttentionWeights/DiscreteAttentionWeights/tacotron2_statedict.pt/[019]ljs-w_neutral_On_one_occasion_Mrs_Johnson_accompanied_by_two_Secret_Service_agents_left_the_room_to_see_Mrs_Kennedy_and_Mrs_Connally_[Discrete(True,True)].png\n"
     ]
    },
    {
     "data": {
      "text/html": [
       "<audio controls><source src=\"DiscreteAttentionWeights/DiscreteAttentionWeights/tacotron2_statedict.pt/[019]ljs-w_neutral_On_one_occasion_Mrs_Johnson_accompanied_by_two_Secret_Service_agents_left_the_room_to_see_Mrs_Kennedy_and_Mrs_Connally_[Discrete(True,True)].wav\" type=\"audio/wav\"></audio>"
      ],
      "text/plain": [
       "<IPython.core.display.HTML object>"
      ]
     },
     "metadata": {},
     "output_type": "display_data"
    },
    {
     "data": {
      "text/html": [
       "<img src=\"DiscreteAttentionWeights/DiscreteAttentionWeights/tacotron2_statedict.pt/[019]ljs-w_neutral_On_one_occasion_Mrs_Johnson_accompanied_by_two_Secret_Service_agents_left_the_room_to_see_Mrs_Kennedy_and_Mrs_Connally_[Discrete(True,True)].png\"></img>"
      ],
      "text/plain": [
       "<IPython.core.display.HTML object>"
      ]
     },
     "metadata": {},
     "output_type": "display_data"
    },
    {
     "name": "stdout",
     "output_type": "stream",
     "text": [
      "Speaker: ljs-w\n",
      "Emotion: neutral\n",
      "Text   : On one occasion Mrs. Johnson, accompanied by two Secret Service agents, left the room to see Mrs. Kennedy and Mrs. Connally.\n",
      "Attention quality:        0.7692\n",
      "Forward attentoin ratio:  1.0000\n",
      "Attentoin ratio:          0.7692\n",
      "Range attentoin ratio:    1.0000\n",
      "Multiple attentoin ratio: 0.0000\n",
      "Saved inference_ipynb/DiscreteAttentionWeights/DiscreteAttentionWeights/tacotron2_statedict.pt/[019]ljs-w_neutral_On_one_occasion_Mrs_Johnson_accompanied_by_two_Secret_Service_agents_left_the_room_to_see_Mrs_Kennedy_and_Mrs_Connally_[Discrete(False,True)].wav\n",
      "Saved inference_ipynb/DiscreteAttentionWeights/DiscreteAttentionWeights/tacotron2_statedict.pt/[019]ljs-w_neutral_On_one_occasion_Mrs_Johnson_accompanied_by_two_Secret_Service_agents_left_the_room_to_see_Mrs_Kennedy_and_Mrs_Connally_[Discrete(False,True)].png\n"
     ]
    },
    {
     "data": {
      "text/html": [
       "<audio controls><source src=\"DiscreteAttentionWeights/DiscreteAttentionWeights/tacotron2_statedict.pt/[019]ljs-w_neutral_On_one_occasion_Mrs_Johnson_accompanied_by_two_Secret_Service_agents_left_the_room_to_see_Mrs_Kennedy_and_Mrs_Connally_[Discrete(False,True)].wav\" type=\"audio/wav\"></audio>"
      ],
      "text/plain": [
       "<IPython.core.display.HTML object>"
      ]
     },
     "metadata": {},
     "output_type": "display_data"
    },
    {
     "data": {
      "text/html": [
       "<img src=\"DiscreteAttentionWeights/DiscreteAttentionWeights/tacotron2_statedict.pt/[019]ljs-w_neutral_On_one_occasion_Mrs_Johnson_accompanied_by_two_Secret_Service_agents_left_the_room_to_see_Mrs_Kennedy_and_Mrs_Connally_[Discrete(False,True)].png\"></img>"
      ],
      "text/plain": [
       "<IPython.core.display.HTML object>"
      ]
     },
     "metadata": {},
     "output_type": "display_data"
    },
    {
     "name": "stdout",
     "output_type": "stream",
     "text": [
      "Warning! Reached max decoder steps\n",
      "Speaker: ljs-w\n",
      "Emotion: neutral\n",
      "Text   : On one occasion Mrs. Johnson, accompanied by two Secret Service agents, left the room to see Mrs. Kennedy and Mrs. Connally.\n",
      "Attention quality:        0.1160\n",
      "Forward attentoin ratio:  0.9850\n",
      "Attentoin ratio:          0.1923\n",
      "Range attentoin ratio:    0.6692\n",
      "Multiple attentoin ratio: 0.0846\n",
      "Saved inference_ipynb/DiscreteAttentionWeights/DiscreteAttentionWeights/tacotron2_statedict.pt/[019]ljs-w_neutral_On_one_occasion_Mrs_Johnson_accompanied_by_two_Secret_Service_agents_left_the_room_to_see_Mrs_Kennedy_and_Mrs_Connally_[Discrete(True,False)].wav\n",
      "Saved inference_ipynb/DiscreteAttentionWeights/DiscreteAttentionWeights/tacotron2_statedict.pt/[019]ljs-w_neutral_On_one_occasion_Mrs_Johnson_accompanied_by_two_Secret_Service_agents_left_the_room_to_see_Mrs_Kennedy_and_Mrs_Connally_[Discrete(True,False)].png\n"
     ]
    },
    {
     "data": {
      "text/html": [
       "<audio controls><source src=\"DiscreteAttentionWeights/DiscreteAttentionWeights/tacotron2_statedict.pt/[019]ljs-w_neutral_On_one_occasion_Mrs_Johnson_accompanied_by_two_Secret_Service_agents_left_the_room_to_see_Mrs_Kennedy_and_Mrs_Connally_[Discrete(True,False)].wav\" type=\"audio/wav\"></audio>"
      ],
      "text/plain": [
       "<IPython.core.display.HTML object>"
      ]
     },
     "metadata": {},
     "output_type": "display_data"
    },
    {
     "data": {
      "text/html": [
       "<img src=\"DiscreteAttentionWeights/DiscreteAttentionWeights/tacotron2_statedict.pt/[019]ljs-w_neutral_On_one_occasion_Mrs_Johnson_accompanied_by_two_Secret_Service_agents_left_the_room_to_see_Mrs_Kennedy_and_Mrs_Connally_[Discrete(True,False)].png\"></img>"
      ],
      "text/plain": [
       "<IPython.core.display.HTML object>"
      ]
     },
     "metadata": {},
     "output_type": "display_data"
    },
    {
     "name": "stdout",
     "output_type": "stream",
     "text": [
      "[20 Done!]======================================================================================================================================================\n",
      "Speaker: ljs-w\n",
      "Emotion: neutral\n",
      "Text   : After this the sheriffs sent for another rope, but the spectators interfered, and the man was carried back to jail.\n",
      "Attention quality:        0.8522\n",
      "Forward attentoin ratio:  1.0000\n",
      "Attentoin ratio:          0.8522\n",
      "Range attentoin ratio:    1.0000\n",
      "Multiple attentoin ratio: 0.0000\n",
      "Saved inference_ipynb/DiscreteAttentionWeights/DiscreteAttentionWeights/tacotron2_statedict.pt/[020]ljs-w_neutral_After_this_the_sheriffs_sent_for_another_rope_but_the_spectators_interfered_and_the_man_was_carried_back_to_jail_[Discrete(False,False)].wav\n",
      "Saved inference_ipynb/DiscreteAttentionWeights/DiscreteAttentionWeights/tacotron2_statedict.pt/[020]ljs-w_neutral_After_this_the_sheriffs_sent_for_another_rope_but_the_spectators_interfered_and_the_man_was_carried_back_to_jail_[Discrete(False,False)].png\n"
     ]
    },
    {
     "data": {
      "text/html": [
       "<audio controls><source src=\"DiscreteAttentionWeights/DiscreteAttentionWeights/tacotron2_statedict.pt/[020]ljs-w_neutral_After_this_the_sheriffs_sent_for_another_rope_but_the_spectators_interfered_and_the_man_was_carried_back_to_jail_[Discrete(False,False)].wav\" type=\"audio/wav\"></audio>"
      ],
      "text/plain": [
       "<IPython.core.display.HTML object>"
      ]
     },
     "metadata": {},
     "output_type": "display_data"
    },
    {
     "data": {
      "text/html": [
       "<img src=\"DiscreteAttentionWeights/DiscreteAttentionWeights/tacotron2_statedict.pt/[020]ljs-w_neutral_After_this_the_sheriffs_sent_for_another_rope_but_the_spectators_interfered_and_the_man_was_carried_back_to_jail_[Discrete(False,False)].png\"></img>"
      ],
      "text/plain": [
       "<IPython.core.display.HTML object>"
      ]
     },
     "metadata": {},
     "output_type": "display_data"
    },
    {
     "name": "stdout",
     "output_type": "stream",
     "text": [
      "Warning! Reached max decoder steps\n",
      "Speaker: ljs-w\n",
      "Emotion: neutral\n",
      "Text   : After this the sheriffs sent for another rope, but the spectators interfered, and the man was carried back to jail.\n",
      "Attention quality:        0.2491\n",
      "Forward attentoin ratio:  1.0000\n",
      "Attentoin ratio:          0.4696\n",
      "Range attentoin ratio:    0.5304\n",
      "Multiple attentoin ratio: 0.0000\n",
      "Saved inference_ipynb/DiscreteAttentionWeights/DiscreteAttentionWeights/tacotron2_statedict.pt/[020]ljs-w_neutral_After_this_the_sheriffs_sent_for_another_rope_but_the_spectators_interfered_and_the_man_was_carried_back_to_jail_[Discrete(True,True)].wav\n",
      "Saved inference_ipynb/DiscreteAttentionWeights/DiscreteAttentionWeights/tacotron2_statedict.pt/[020]ljs-w_neutral_After_this_the_sheriffs_sent_for_another_rope_but_the_spectators_interfered_and_the_man_was_carried_back_to_jail_[Discrete(True,True)].png\n"
     ]
    },
    {
     "data": {
      "text/html": [
       "<audio controls><source src=\"DiscreteAttentionWeights/DiscreteAttentionWeights/tacotron2_statedict.pt/[020]ljs-w_neutral_After_this_the_sheriffs_sent_for_another_rope_but_the_spectators_interfered_and_the_man_was_carried_back_to_jail_[Discrete(True,True)].wav\" type=\"audio/wav\"></audio>"
      ],
      "text/plain": [
       "<IPython.core.display.HTML object>"
      ]
     },
     "metadata": {},
     "output_type": "display_data"
    },
    {
     "data": {
      "text/html": [
       "<img src=\"DiscreteAttentionWeights/DiscreteAttentionWeights/tacotron2_statedict.pt/[020]ljs-w_neutral_After_this_the_sheriffs_sent_for_another_rope_but_the_spectators_interfered_and_the_man_was_carried_back_to_jail_[Discrete(True,True)].png\"></img>"
      ],
      "text/plain": [
       "<IPython.core.display.HTML object>"
      ]
     },
     "metadata": {},
     "output_type": "display_data"
    },
    {
     "name": "stdout",
     "output_type": "stream",
     "text": [
      "Speaker: ljs-w\n",
      "Emotion: neutral\n",
      "Text   : After this the sheriffs sent for another rope, but the spectators interfered, and the man was carried back to jail.\n",
      "Attention quality:        0.7826\n",
      "Forward attentoin ratio:  1.0000\n",
      "Attentoin ratio:          0.7826\n",
      "Range attentoin ratio:    1.0000\n",
      "Multiple attentoin ratio: 0.0000\n",
      "Saved inference_ipynb/DiscreteAttentionWeights/DiscreteAttentionWeights/tacotron2_statedict.pt/[020]ljs-w_neutral_After_this_the_sheriffs_sent_for_another_rope_but_the_spectators_interfered_and_the_man_was_carried_back_to_jail_[Discrete(False,True)].wav\n",
      "Saved inference_ipynb/DiscreteAttentionWeights/DiscreteAttentionWeights/tacotron2_statedict.pt/[020]ljs-w_neutral_After_this_the_sheriffs_sent_for_another_rope_but_the_spectators_interfered_and_the_man_was_carried_back_to_jail_[Discrete(False,True)].png\n"
     ]
    },
    {
     "data": {
      "text/html": [
       "<audio controls><source src=\"DiscreteAttentionWeights/DiscreteAttentionWeights/tacotron2_statedict.pt/[020]ljs-w_neutral_After_this_the_sheriffs_sent_for_another_rope_but_the_spectators_interfered_and_the_man_was_carried_back_to_jail_[Discrete(False,True)].wav\" type=\"audio/wav\"></audio>"
      ],
      "text/plain": [
       "<IPython.core.display.HTML object>"
      ]
     },
     "metadata": {},
     "output_type": "display_data"
    },
    {
     "data": {
      "text/html": [
       "<img src=\"DiscreteAttentionWeights/DiscreteAttentionWeights/tacotron2_statedict.pt/[020]ljs-w_neutral_After_this_the_sheriffs_sent_for_another_rope_but_the_spectators_interfered_and_the_man_was_carried_back_to_jail_[Discrete(False,True)].png\"></img>"
      ],
      "text/plain": [
       "<IPython.core.display.HTML object>"
      ]
     },
     "metadata": {},
     "output_type": "display_data"
    },
    {
     "name": "stdout",
     "output_type": "stream",
     "text": [
      "Speaker: ljs-w\n",
      "Emotion: neutral\n",
      "Text   : After this the sheriffs sent for another rope, but the spectators interfered, and the man was carried back to jail.\n",
      "Attention quality:        0.0052\n",
      "Forward attentoin ratio:  0.9935\n",
      "Attentoin ratio:          0.0696\n",
      "Range attentoin ratio:    0.0783\n",
      "Multiple attentoin ratio: 0.0348\n",
      "Saved inference_ipynb/DiscreteAttentionWeights/DiscreteAttentionWeights/tacotron2_statedict.pt/[020]ljs-w_neutral_After_this_the_sheriffs_sent_for_another_rope_but_the_spectators_interfered_and_the_man_was_carried_back_to_jail_[Discrete(True,False)].wav\n",
      "Saved inference_ipynb/DiscreteAttentionWeights/DiscreteAttentionWeights/tacotron2_statedict.pt/[020]ljs-w_neutral_After_this_the_sheriffs_sent_for_another_rope_but_the_spectators_interfered_and_the_man_was_carried_back_to_jail_[Discrete(True,False)].png\n"
     ]
    },
    {
     "data": {
      "text/html": [
       "<audio controls><source src=\"DiscreteAttentionWeights/DiscreteAttentionWeights/tacotron2_statedict.pt/[020]ljs-w_neutral_After_this_the_sheriffs_sent_for_another_rope_but_the_spectators_interfered_and_the_man_was_carried_back_to_jail_[Discrete(True,False)].wav\" type=\"audio/wav\"></audio>"
      ],
      "text/plain": [
       "<IPython.core.display.HTML object>"
      ]
     },
     "metadata": {},
     "output_type": "display_data"
    },
    {
     "data": {
      "text/html": [
       "<img src=\"DiscreteAttentionWeights/DiscreteAttentionWeights/tacotron2_statedict.pt/[020]ljs-w_neutral_After_this_the_sheriffs_sent_for_another_rope_but_the_spectators_interfered_and_the_man_was_carried_back_to_jail_[Discrete(True,False)].png\"></img>"
      ],
      "text/plain": [
       "<IPython.core.display.HTML object>"
      ]
     },
     "metadata": {},
     "output_type": "display_data"
    },
    {
     "name": "stdout",
     "output_type": "stream",
     "text": [
      "[21 Done!]======================================================================================================================================================\n",
      "Speaker: ljs-w\n",
      "Emotion: neutral\n",
      "Text   : the fatal consequences whereof might be prevented if the justices of the peace were duly authorized\n",
      "Attention quality:        0.8182\n",
      "Forward attentoin ratio:  1.0000\n",
      "Attentoin ratio:          0.8182\n",
      "Range attentoin ratio:    1.0000\n",
      "Multiple attentoin ratio: 0.0000\n",
      "Saved inference_ipynb/DiscreteAttentionWeights/DiscreteAttentionWeights/tacotron2_statedict.pt/[021]ljs-w_neutral_the_fatal_consequences_whereof_might_be_prevented_if_the_justices_of_the_peace_were_duly_authorized_[Discrete(False,False)].wav\n",
      "Saved inference_ipynb/DiscreteAttentionWeights/DiscreteAttentionWeights/tacotron2_statedict.pt/[021]ljs-w_neutral_the_fatal_consequences_whereof_might_be_prevented_if_the_justices_of_the_peace_were_duly_authorized_[Discrete(False,False)].png\n"
     ]
    },
    {
     "data": {
      "text/html": [
       "<audio controls><source src=\"DiscreteAttentionWeights/DiscreteAttentionWeights/tacotron2_statedict.pt/[021]ljs-w_neutral_the_fatal_consequences_whereof_might_be_prevented_if_the_justices_of_the_peace_were_duly_authorized_[Discrete(False,False)].wav\" type=\"audio/wav\"></audio>"
      ],
      "text/plain": [
       "<IPython.core.display.HTML object>"
      ]
     },
     "metadata": {},
     "output_type": "display_data"
    },
    {
     "data": {
      "text/html": [
       "<img src=\"DiscreteAttentionWeights/DiscreteAttentionWeights/tacotron2_statedict.pt/[021]ljs-w_neutral_the_fatal_consequences_whereof_might_be_prevented_if_the_justices_of_the_peace_were_duly_authorized_[Discrete(False,False)].png\"></img>"
      ],
      "text/plain": [
       "<IPython.core.display.HTML object>"
      ]
     },
     "metadata": {},
     "output_type": "display_data"
    },
    {
     "name": "stdout",
     "output_type": "stream",
     "text": [
      "Warning! Reached max decoder steps\n",
      "Speaker: ljs-w\n",
      "Emotion: neutral\n",
      "Text   : the fatal consequences whereof might be prevented if the justices of the peace were duly authorized\n",
      "Attention quality:        0.3722\n",
      "Forward attentoin ratio:  1.0000\n",
      "Attentoin ratio:          0.5758\n",
      "Range attentoin ratio:    0.6465\n",
      "Multiple attentoin ratio: 0.0000\n",
      "Saved inference_ipynb/DiscreteAttentionWeights/DiscreteAttentionWeights/tacotron2_statedict.pt/[021]ljs-w_neutral_the_fatal_consequences_whereof_might_be_prevented_if_the_justices_of_the_peace_were_duly_authorized_[Discrete(True,True)].wav\n",
      "Saved inference_ipynb/DiscreteAttentionWeights/DiscreteAttentionWeights/tacotron2_statedict.pt/[021]ljs-w_neutral_the_fatal_consequences_whereof_might_be_prevented_if_the_justices_of_the_peace_were_duly_authorized_[Discrete(True,True)].png\n"
     ]
    },
    {
     "data": {
      "text/html": [
       "<audio controls><source src=\"DiscreteAttentionWeights/DiscreteAttentionWeights/tacotron2_statedict.pt/[021]ljs-w_neutral_the_fatal_consequences_whereof_might_be_prevented_if_the_justices_of_the_peace_were_duly_authorized_[Discrete(True,True)].wav\" type=\"audio/wav\"></audio>"
      ],
      "text/plain": [
       "<IPython.core.display.HTML object>"
      ]
     },
     "metadata": {},
     "output_type": "display_data"
    },
    {
     "data": {
      "text/html": [
       "<img src=\"DiscreteAttentionWeights/DiscreteAttentionWeights/tacotron2_statedict.pt/[021]ljs-w_neutral_the_fatal_consequences_whereof_might_be_prevented_if_the_justices_of_the_peace_were_duly_authorized_[Discrete(True,True)].png\"></img>"
      ],
      "text/plain": [
       "<IPython.core.display.HTML object>"
      ]
     },
     "metadata": {},
     "output_type": "display_data"
    },
    {
     "name": "stdout",
     "output_type": "stream",
     "text": [
      "Warning! Reached max decoder steps\n",
      "Speaker: ljs-w\n",
      "Emotion: neutral\n",
      "Text   : the fatal consequences whereof might be prevented if the justices of the peace were duly authorized\n",
      "Attention quality:        0.6761\n",
      "Forward attentoin ratio:  0.9980\n",
      "Attentoin ratio:          0.8081\n",
      "Range attentoin ratio:    1.0000\n",
      "Multiple attentoin ratio: 0.1616\n",
      "Saved inference_ipynb/DiscreteAttentionWeights/DiscreteAttentionWeights/tacotron2_statedict.pt/[021]ljs-w_neutral_the_fatal_consequences_whereof_might_be_prevented_if_the_justices_of_the_peace_were_duly_authorized_[Discrete(False,True)].wav\n",
      "Saved inference_ipynb/DiscreteAttentionWeights/DiscreteAttentionWeights/tacotron2_statedict.pt/[021]ljs-w_neutral_the_fatal_consequences_whereof_might_be_prevented_if_the_justices_of_the_peace_were_duly_authorized_[Discrete(False,True)].png\n"
     ]
    },
    {
     "data": {
      "text/html": [
       "<audio controls><source src=\"DiscreteAttentionWeights/DiscreteAttentionWeights/tacotron2_statedict.pt/[021]ljs-w_neutral_the_fatal_consequences_whereof_might_be_prevented_if_the_justices_of_the_peace_were_duly_authorized_[Discrete(False,True)].wav\" type=\"audio/wav\"></audio>"
      ],
      "text/plain": [
       "<IPython.core.display.HTML object>"
      ]
     },
     "metadata": {},
     "output_type": "display_data"
    },
    {
     "data": {
      "text/html": [
       "<img src=\"DiscreteAttentionWeights/DiscreteAttentionWeights/tacotron2_statedict.pt/[021]ljs-w_neutral_the_fatal_consequences_whereof_might_be_prevented_if_the_justices_of_the_peace_were_duly_authorized_[Discrete(False,True)].png\"></img>"
      ],
      "text/plain": [
       "<IPython.core.display.HTML object>"
      ]
     },
     "metadata": {},
     "output_type": "display_data"
    },
    {
     "name": "stdout",
     "output_type": "stream",
     "text": [
      "Warning! Reached max decoder steps\n",
      "Speaker: ljs-w\n",
      "Emotion: neutral\n",
      "Text   : the fatal consequences whereof might be prevented if the justices of the peace were duly authorized\n",
      "Attention quality:        0.1467\n",
      "Forward attentoin ratio:  0.9540\n",
      "Attentoin ratio:          0.2828\n",
      "Range attentoin ratio:    0.6566\n",
      "Multiple attentoin ratio: 0.1717\n",
      "Saved inference_ipynb/DiscreteAttentionWeights/DiscreteAttentionWeights/tacotron2_statedict.pt/[021]ljs-w_neutral_the_fatal_consequences_whereof_might_be_prevented_if_the_justices_of_the_peace_were_duly_authorized_[Discrete(True,False)].wav\n",
      "Saved inference_ipynb/DiscreteAttentionWeights/DiscreteAttentionWeights/tacotron2_statedict.pt/[021]ljs-w_neutral_the_fatal_consequences_whereof_might_be_prevented_if_the_justices_of_the_peace_were_duly_authorized_[Discrete(True,False)].png\n"
     ]
    },
    {
     "data": {
      "text/html": [
       "<audio controls><source src=\"DiscreteAttentionWeights/DiscreteAttentionWeights/tacotron2_statedict.pt/[021]ljs-w_neutral_the_fatal_consequences_whereof_might_be_prevented_if_the_justices_of_the_peace_were_duly_authorized_[Discrete(True,False)].wav\" type=\"audio/wav\"></audio>"
      ],
      "text/plain": [
       "<IPython.core.display.HTML object>"
      ]
     },
     "metadata": {},
     "output_type": "display_data"
    },
    {
     "data": {
      "text/html": [
       "<img src=\"DiscreteAttentionWeights/DiscreteAttentionWeights/tacotron2_statedict.pt/[021]ljs-w_neutral_the_fatal_consequences_whereof_might_be_prevented_if_the_justices_of_the_peace_were_duly_authorized_[Discrete(True,False)].png\"></img>"
      ],
      "text/plain": [
       "<IPython.core.display.HTML object>"
      ]
     },
     "metadata": {},
     "output_type": "display_data"
    },
    {
     "name": "stdout",
     "output_type": "stream",
     "text": [
      "[22 Done!]======================================================================================================================================================\n",
      "Speaker: ljs-w\n",
      "Emotion: neutral\n",
      "Text   : While they were in a state of insensibility the murder was committed.\n",
      "Attention quality:        0.7075\n",
      "Forward attentoin ratio:  0.9901\n",
      "Attentoin ratio:          0.7826\n",
      "Range attentoin ratio:    1.0000\n",
      "Multiple attentoin ratio: 0.0870\n",
      "Saved inference_ipynb/DiscreteAttentionWeights/DiscreteAttentionWeights/tacotron2_statedict.pt/[022]ljs-w_neutral_While_they_were_in_a_state_of_insensibility_the_murder_was_committed_[Discrete(False,False)].wav\n",
      "Saved inference_ipynb/DiscreteAttentionWeights/DiscreteAttentionWeights/tacotron2_statedict.pt/[022]ljs-w_neutral_While_they_were_in_a_state_of_insensibility_the_murder_was_committed_[Discrete(False,False)].png\n"
     ]
    },
    {
     "data": {
      "text/html": [
       "<audio controls><source src=\"DiscreteAttentionWeights/DiscreteAttentionWeights/tacotron2_statedict.pt/[022]ljs-w_neutral_While_they_were_in_a_state_of_insensibility_the_murder_was_committed_[Discrete(False,False)].wav\" type=\"audio/wav\"></audio>"
      ],
      "text/plain": [
       "<IPython.core.display.HTML object>"
      ]
     },
     "metadata": {},
     "output_type": "display_data"
    },
    {
     "data": {
      "text/html": [
       "<img src=\"DiscreteAttentionWeights/DiscreteAttentionWeights/tacotron2_statedict.pt/[022]ljs-w_neutral_While_they_were_in_a_state_of_insensibility_the_murder_was_committed_[Discrete(False,False)].png\"></img>"
      ],
      "text/plain": [
       "<IPython.core.display.HTML object>"
      ]
     },
     "metadata": {},
     "output_type": "display_data"
    },
    {
     "name": "stdout",
     "output_type": "stream",
     "text": [
      "Warning! Reached max decoder steps\n",
      "Speaker: ljs-w\n",
      "Emotion: neutral\n",
      "Text   : While they were in a state of insensibility the murder was committed.\n",
      "Attention quality:        0.6578\n",
      "Forward attentoin ratio:  1.0000\n",
      "Attentoin ratio:          0.7826\n",
      "Range attentoin ratio:    0.8406\n",
      "Multiple attentoin ratio: 0.0000\n",
      "Saved inference_ipynb/DiscreteAttentionWeights/DiscreteAttentionWeights/tacotron2_statedict.pt/[022]ljs-w_neutral_While_they_were_in_a_state_of_insensibility_the_murder_was_committed_[Discrete(True,True)].wav\n",
      "Saved inference_ipynb/DiscreteAttentionWeights/DiscreteAttentionWeights/tacotron2_statedict.pt/[022]ljs-w_neutral_While_they_were_in_a_state_of_insensibility_the_murder_was_committed_[Discrete(True,True)].png\n"
     ]
    },
    {
     "data": {
      "text/html": [
       "<audio controls><source src=\"DiscreteAttentionWeights/DiscreteAttentionWeights/tacotron2_statedict.pt/[022]ljs-w_neutral_While_they_were_in_a_state_of_insensibility_the_murder_was_committed_[Discrete(True,True)].wav\" type=\"audio/wav\"></audio>"
      ],
      "text/plain": [
       "<IPython.core.display.HTML object>"
      ]
     },
     "metadata": {},
     "output_type": "display_data"
    },
    {
     "data": {
      "text/html": [
       "<img src=\"DiscreteAttentionWeights/DiscreteAttentionWeights/tacotron2_statedict.pt/[022]ljs-w_neutral_While_they_were_in_a_state_of_insensibility_the_murder_was_committed_[Discrete(True,True)].png\"></img>"
      ],
      "text/plain": [
       "<IPython.core.display.HTML object>"
      ]
     },
     "metadata": {},
     "output_type": "display_data"
    },
    {
     "name": "stdout",
     "output_type": "stream",
     "text": [
      "Speaker: ljs-w\n",
      "Emotion: neutral\n",
      "Text   : While they were in a state of insensibility the murder was committed.\n",
      "Attention quality:        0.7692\n",
      "Forward attentoin ratio:  0.9973\n",
      "Attentoin ratio:          0.7826\n",
      "Range attentoin ratio:    1.0000\n",
      "Multiple attentoin ratio: 0.0145\n",
      "Saved inference_ipynb/DiscreteAttentionWeights/DiscreteAttentionWeights/tacotron2_statedict.pt/[022]ljs-w_neutral_While_they_were_in_a_state_of_insensibility_the_murder_was_committed_[Discrete(False,True)].wav\n",
      "Saved inference_ipynb/DiscreteAttentionWeights/DiscreteAttentionWeights/tacotron2_statedict.pt/[022]ljs-w_neutral_While_they_were_in_a_state_of_insensibility_the_murder_was_committed_[Discrete(False,True)].png\n"
     ]
    },
    {
     "data": {
      "text/html": [
       "<audio controls><source src=\"DiscreteAttentionWeights/DiscreteAttentionWeights/tacotron2_statedict.pt/[022]ljs-w_neutral_While_they_were_in_a_state_of_insensibility_the_murder_was_committed_[Discrete(False,True)].wav\" type=\"audio/wav\"></audio>"
      ],
      "text/plain": [
       "<IPython.core.display.HTML object>"
      ]
     },
     "metadata": {},
     "output_type": "display_data"
    },
    {
     "data": {
      "text/html": [
       "<img src=\"DiscreteAttentionWeights/DiscreteAttentionWeights/tacotron2_statedict.pt/[022]ljs-w_neutral_While_they_were_in_a_state_of_insensibility_the_murder_was_committed_[Discrete(False,True)].png\"></img>"
      ],
      "text/plain": [
       "<IPython.core.display.HTML object>"
      ]
     },
     "metadata": {},
     "output_type": "display_data"
    },
    {
     "name": "stdout",
     "output_type": "stream",
     "text": [
      "Speaker: ljs-w\n",
      "Emotion: neutral\n",
      "Text   : While they were in a state of insensibility the murder was committed.\n",
      "Attention quality:        0.2333\n",
      "Forward attentoin ratio:  0.9832\n",
      "Attentoin ratio:          0.3043\n",
      "Range attentoin ratio:    0.8406\n",
      "Multiple attentoin ratio: 0.0725\n",
      "Saved inference_ipynb/DiscreteAttentionWeights/DiscreteAttentionWeights/tacotron2_statedict.pt/[022]ljs-w_neutral_While_they_were_in_a_state_of_insensibility_the_murder_was_committed_[Discrete(True,False)].wav\n",
      "Saved inference_ipynb/DiscreteAttentionWeights/DiscreteAttentionWeights/tacotron2_statedict.pt/[022]ljs-w_neutral_While_they_were_in_a_state_of_insensibility_the_murder_was_committed_[Discrete(True,False)].png\n"
     ]
    },
    {
     "data": {
      "text/html": [
       "<audio controls><source src=\"DiscreteAttentionWeights/DiscreteAttentionWeights/tacotron2_statedict.pt/[022]ljs-w_neutral_While_they_were_in_a_state_of_insensibility_the_murder_was_committed_[Discrete(True,False)].wav\" type=\"audio/wav\"></audio>"
      ],
      "text/plain": [
       "<IPython.core.display.HTML object>"
      ]
     },
     "metadata": {},
     "output_type": "display_data"
    },
    {
     "data": {
      "text/html": [
       "<img src=\"DiscreteAttentionWeights/DiscreteAttentionWeights/tacotron2_statedict.pt/[022]ljs-w_neutral_While_they_were_in_a_state_of_insensibility_the_murder_was_committed_[Discrete(True,False)].png\"></img>"
      ],
      "text/plain": [
       "<IPython.core.display.HTML object>"
      ]
     },
     "metadata": {},
     "output_type": "display_data"
    },
    {
     "name": "stdout",
     "output_type": "stream",
     "text": [
      "[23 Done!]======================================================================================================================================================\n",
      "Speaker: ljs-w\n",
      "Emotion: neutral\n",
      "Text   : as is shown by the report of the Commissioners to inquire into the state of the municipal corporations in eighteen thirty-five.\n",
      "Attention quality:        0.8352\n",
      "Forward attentoin ratio:  0.9965\n",
      "Attentoin ratio:          0.8583\n",
      "Range attentoin ratio:    0.9921\n",
      "Multiple attentoin ratio: 0.0157\n",
      "Saved inference_ipynb/DiscreteAttentionWeights/DiscreteAttentionWeights/tacotron2_statedict.pt/[023]ljs-w_neutral_as_is_shown_by_the_report_of_the_Commissioners_to_inquire_into_the_state_of_the_municipal_corporations_in_eighteen_thirty-five_[Discrete(False,False)].wav\n",
      "Saved inference_ipynb/DiscreteAttentionWeights/DiscreteAttentionWeights/tacotron2_statedict.pt/[023]ljs-w_neutral_as_is_shown_by_the_report_of_the_Commissioners_to_inquire_into_the_state_of_the_municipal_corporations_in_eighteen_thirty-five_[Discrete(False,False)].png\n"
     ]
    },
    {
     "data": {
      "text/html": [
       "<audio controls><source src=\"DiscreteAttentionWeights/DiscreteAttentionWeights/tacotron2_statedict.pt/[023]ljs-w_neutral_as_is_shown_by_the_report_of_the_Commissioners_to_inquire_into_the_state_of_the_municipal_corporations_in_eighteen_thirty-five_[Discrete(False,False)].wav\" type=\"audio/wav\"></audio>"
      ],
      "text/plain": [
       "<IPython.core.display.HTML object>"
      ]
     },
     "metadata": {},
     "output_type": "display_data"
    },
    {
     "data": {
      "text/html": [
       "<img src=\"DiscreteAttentionWeights/DiscreteAttentionWeights/tacotron2_statedict.pt/[023]ljs-w_neutral_as_is_shown_by_the_report_of_the_Commissioners_to_inquire_into_the_state_of_the_municipal_corporations_in_eighteen_thirty-five_[Discrete(False,False)].png\"></img>"
      ],
      "text/plain": [
       "<IPython.core.display.HTML object>"
      ]
     },
     "metadata": {},
     "output_type": "display_data"
    },
    {
     "name": "stdout",
     "output_type": "stream",
     "text": [
      "Warning! Reached max decoder steps\n",
      "Speaker: ljs-w\n",
      "Emotion: neutral\n",
      "Text   : as is shown by the report of the Commissioners to inquire into the state of the municipal corporations in eighteen thirty-five.\n",
      "Attention quality:        0.4046\n",
      "Forward attentoin ratio:  1.0000\n",
      "Attentoin ratio:          0.5906\n",
      "Range attentoin ratio:    0.6850\n",
      "Multiple attentoin ratio: 0.0000\n",
      "Saved inference_ipynb/DiscreteAttentionWeights/DiscreteAttentionWeights/tacotron2_statedict.pt/[023]ljs-w_neutral_as_is_shown_by_the_report_of_the_Commissioners_to_inquire_into_the_state_of_the_municipal_corporations_in_eighteen_thirty-five_[Discrete(True,True)].wav\n",
      "Saved inference_ipynb/DiscreteAttentionWeights/DiscreteAttentionWeights/tacotron2_statedict.pt/[023]ljs-w_neutral_as_is_shown_by_the_report_of_the_Commissioners_to_inquire_into_the_state_of_the_municipal_corporations_in_eighteen_thirty-five_[Discrete(True,True)].png\n"
     ]
    },
    {
     "data": {
      "text/html": [
       "<audio controls><source src=\"DiscreteAttentionWeights/DiscreteAttentionWeights/tacotron2_statedict.pt/[023]ljs-w_neutral_as_is_shown_by_the_report_of_the_Commissioners_to_inquire_into_the_state_of_the_municipal_corporations_in_eighteen_thirty-five_[Discrete(True,True)].wav\" type=\"audio/wav\"></audio>"
      ],
      "text/plain": [
       "<IPython.core.display.HTML object>"
      ]
     },
     "metadata": {},
     "output_type": "display_data"
    },
    {
     "data": {
      "text/html": [
       "<img src=\"DiscreteAttentionWeights/DiscreteAttentionWeights/tacotron2_statedict.pt/[023]ljs-w_neutral_as_is_shown_by_the_report_of_the_Commissioners_to_inquire_into_the_state_of_the_municipal_corporations_in_eighteen_thirty-five_[Discrete(True,True)].png\"></img>"
      ],
      "text/plain": [
       "<IPython.core.display.HTML object>"
      ]
     },
     "metadata": {},
     "output_type": "display_data"
    },
    {
     "name": "stdout",
     "output_type": "stream",
     "text": [
      "Speaker: ljs-w\n",
      "Emotion: neutral\n",
      "Text   : as is shown by the report of the Commissioners to inquire into the state of the municipal corporations in eighteen thirty-five.\n",
      "Attention quality:        0.8346\n",
      "Forward attentoin ratio:  1.0000\n",
      "Attentoin ratio:          0.8346\n",
      "Range attentoin ratio:    1.0000\n",
      "Multiple attentoin ratio: 0.0000\n",
      "Saved inference_ipynb/DiscreteAttentionWeights/DiscreteAttentionWeights/tacotron2_statedict.pt/[023]ljs-w_neutral_as_is_shown_by_the_report_of_the_Commissioners_to_inquire_into_the_state_of_the_municipal_corporations_in_eighteen_thirty-five_[Discrete(False,True)].wav\n",
      "Saved inference_ipynb/DiscreteAttentionWeights/DiscreteAttentionWeights/tacotron2_statedict.pt/[023]ljs-w_neutral_as_is_shown_by_the_report_of_the_Commissioners_to_inquire_into_the_state_of_the_municipal_corporations_in_eighteen_thirty-five_[Discrete(False,True)].png\n"
     ]
    },
    {
     "data": {
      "text/html": [
       "<audio controls><source src=\"DiscreteAttentionWeights/DiscreteAttentionWeights/tacotron2_statedict.pt/[023]ljs-w_neutral_as_is_shown_by_the_report_of_the_Commissioners_to_inquire_into_the_state_of_the_municipal_corporations_in_eighteen_thirty-five_[Discrete(False,True)].wav\" type=\"audio/wav\"></audio>"
      ],
      "text/plain": [
       "<IPython.core.display.HTML object>"
      ]
     },
     "metadata": {},
     "output_type": "display_data"
    },
    {
     "data": {
      "text/html": [
       "<img src=\"DiscreteAttentionWeights/DiscreteAttentionWeights/tacotron2_statedict.pt/[023]ljs-w_neutral_as_is_shown_by_the_report_of_the_Commissioners_to_inquire_into_the_state_of_the_municipal_corporations_in_eighteen_thirty-five_[Discrete(False,True)].png\"></img>"
      ],
      "text/plain": [
       "<IPython.core.display.HTML object>"
      ]
     },
     "metadata": {},
     "output_type": "display_data"
    },
    {
     "name": "stdout",
     "output_type": "stream",
     "text": [
      "Speaker: ljs-w\n",
      "Emotion: neutral\n",
      "Text   : as is shown by the report of the Commissioners to inquire into the state of the municipal corporations in eighteen thirty-five.\n",
      "Attention quality:        0.0782\n",
      "Forward attentoin ratio:  0.9832\n",
      "Attentoin ratio:          0.1811\n",
      "Range attentoin ratio:    0.4724\n",
      "Multiple attentoin ratio: 0.0709\n",
      "Saved inference_ipynb/DiscreteAttentionWeights/DiscreteAttentionWeights/tacotron2_statedict.pt/[023]ljs-w_neutral_as_is_shown_by_the_report_of_the_Commissioners_to_inquire_into_the_state_of_the_municipal_corporations_in_eighteen_thirty-five_[Discrete(True,False)].wav\n",
      "Saved inference_ipynb/DiscreteAttentionWeights/DiscreteAttentionWeights/tacotron2_statedict.pt/[023]ljs-w_neutral_as_is_shown_by_the_report_of_the_Commissioners_to_inquire_into_the_state_of_the_municipal_corporations_in_eighteen_thirty-five_[Discrete(True,False)].png\n"
     ]
    },
    {
     "data": {
      "text/html": [
       "<audio controls><source src=\"DiscreteAttentionWeights/DiscreteAttentionWeights/tacotron2_statedict.pt/[023]ljs-w_neutral_as_is_shown_by_the_report_of_the_Commissioners_to_inquire_into_the_state_of_the_municipal_corporations_in_eighteen_thirty-five_[Discrete(True,False)].wav\" type=\"audio/wav\"></audio>"
      ],
      "text/plain": [
       "<IPython.core.display.HTML object>"
      ]
     },
     "metadata": {},
     "output_type": "display_data"
    },
    {
     "data": {
      "text/html": [
       "<img src=\"DiscreteAttentionWeights/DiscreteAttentionWeights/tacotron2_statedict.pt/[023]ljs-w_neutral_as_is_shown_by_the_report_of_the_Commissioners_to_inquire_into_the_state_of_the_municipal_corporations_in_eighteen_thirty-five_[Discrete(True,False)].png\"></img>"
      ],
      "text/plain": [
       "<IPython.core.display.HTML object>"
      ]
     },
     "metadata": {},
     "output_type": "display_data"
    },
    {
     "name": "stdout",
     "output_type": "stream",
     "text": [
      "[24 Done!]======================================================================================================================================================\n",
      "Speaker: ljs-w\n",
      "Emotion: neutral\n",
      "Text   : then let twenty days pass, and at the end of that time station near the Chaldasan gates a body of four thousand.\n",
      "Attention quality:        0.8317\n",
      "Forward attentoin ratio:  0.9984\n",
      "Attentoin ratio:          0.8482\n",
      "Range attentoin ratio:    1.0000\n",
      "Multiple attentoin ratio: 0.0179\n",
      "Saved inference_ipynb/DiscreteAttentionWeights/DiscreteAttentionWeights/tacotron2_statedict.pt/[024]ljs-w_neutral_then_let_twenty_days_pass_and_at_the_end_of_that_time_station_near_the_Chaldasan_gates_a_body_of_four_thousand_[Discrete(False,False)].wav\n",
      "Saved inference_ipynb/DiscreteAttentionWeights/DiscreteAttentionWeights/tacotron2_statedict.pt/[024]ljs-w_neutral_then_let_twenty_days_pass_and_at_the_end_of_that_time_station_near_the_Chaldasan_gates_a_body_of_four_thousand_[Discrete(False,False)].png\n"
     ]
    },
    {
     "data": {
      "text/html": [
       "<audio controls><source src=\"DiscreteAttentionWeights/DiscreteAttentionWeights/tacotron2_statedict.pt/[024]ljs-w_neutral_then_let_twenty_days_pass_and_at_the_end_of_that_time_station_near_the_Chaldasan_gates_a_body_of_four_thousand_[Discrete(False,False)].wav\" type=\"audio/wav\"></audio>"
      ],
      "text/plain": [
       "<IPython.core.display.HTML object>"
      ]
     },
     "metadata": {},
     "output_type": "display_data"
    },
    {
     "data": {
      "text/html": [
       "<img src=\"DiscreteAttentionWeights/DiscreteAttentionWeights/tacotron2_statedict.pt/[024]ljs-w_neutral_then_let_twenty_days_pass_and_at_the_end_of_that_time_station_near_the_Chaldasan_gates_a_body_of_four_thousand_[Discrete(False,False)].png\"></img>"
      ],
      "text/plain": [
       "<IPython.core.display.HTML object>"
      ]
     },
     "metadata": {},
     "output_type": "display_data"
    },
    {
     "name": "stdout",
     "output_type": "stream",
     "text": [
      "Warning! Reached max decoder steps\n",
      "Speaker: ljs-w\n",
      "Emotion: neutral\n",
      "Text   : then let twenty days pass, and at the end of that time station near the Chaldasan gates a body of four thousand.\n",
      "Attention quality:        0.2894\n",
      "Forward attentoin ratio:  1.0000\n",
      "Attentoin ratio:          0.4911\n",
      "Range attentoin ratio:    0.5893\n",
      "Multiple attentoin ratio: 0.0000\n",
      "Saved inference_ipynb/DiscreteAttentionWeights/DiscreteAttentionWeights/tacotron2_statedict.pt/[024]ljs-w_neutral_then_let_twenty_days_pass_and_at_the_end_of_that_time_station_near_the_Chaldasan_gates_a_body_of_four_thousand_[Discrete(True,True)].wav\n",
      "Saved inference_ipynb/DiscreteAttentionWeights/DiscreteAttentionWeights/tacotron2_statedict.pt/[024]ljs-w_neutral_then_let_twenty_days_pass_and_at_the_end_of_that_time_station_near_the_Chaldasan_gates_a_body_of_four_thousand_[Discrete(True,True)].png\n"
     ]
    },
    {
     "data": {
      "text/html": [
       "<audio controls><source src=\"DiscreteAttentionWeights/DiscreteAttentionWeights/tacotron2_statedict.pt/[024]ljs-w_neutral_then_let_twenty_days_pass_and_at_the_end_of_that_time_station_near_the_Chaldasan_gates_a_body_of_four_thousand_[Discrete(True,True)].wav\" type=\"audio/wav\"></audio>"
      ],
      "text/plain": [
       "<IPython.core.display.HTML object>"
      ]
     },
     "metadata": {},
     "output_type": "display_data"
    },
    {
     "data": {
      "text/html": [
       "<img src=\"DiscreteAttentionWeights/DiscreteAttentionWeights/tacotron2_statedict.pt/[024]ljs-w_neutral_then_let_twenty_days_pass_and_at_the_end_of_that_time_station_near_the_Chaldasan_gates_a_body_of_four_thousand_[Discrete(True,True)].png\"></img>"
      ],
      "text/plain": [
       "<IPython.core.display.HTML object>"
      ]
     },
     "metadata": {},
     "output_type": "display_data"
    },
    {
     "name": "stdout",
     "output_type": "stream",
     "text": [
      "Warning! Reached max decoder steps\n",
      "Speaker: ljs-w\n",
      "Emotion: neutral\n",
      "Text   : then let twenty days pass, and at the end of that time station near the Chaldasan gates a body of four thousand.\n",
      "Attention quality:        0.7695\n",
      "Forward attentoin ratio:  0.9980\n",
      "Attentoin ratio:          0.8304\n",
      "Range attentoin ratio:    1.0000\n",
      "Multiple attentoin ratio: 0.0714\n",
      "Saved inference_ipynb/DiscreteAttentionWeights/DiscreteAttentionWeights/tacotron2_statedict.pt/[024]ljs-w_neutral_then_let_twenty_days_pass_and_at_the_end_of_that_time_station_near_the_Chaldasan_gates_a_body_of_four_thousand_[Discrete(False,True)].wav\n",
      "Saved inference_ipynb/DiscreteAttentionWeights/DiscreteAttentionWeights/tacotron2_statedict.pt/[024]ljs-w_neutral_then_let_twenty_days_pass_and_at_the_end_of_that_time_station_near_the_Chaldasan_gates_a_body_of_four_thousand_[Discrete(False,True)].png\n"
     ]
    },
    {
     "data": {
      "text/html": [
       "<audio controls><source src=\"DiscreteAttentionWeights/DiscreteAttentionWeights/tacotron2_statedict.pt/[024]ljs-w_neutral_then_let_twenty_days_pass_and_at_the_end_of_that_time_station_near_the_Chaldasan_gates_a_body_of_four_thousand_[Discrete(False,True)].wav\" type=\"audio/wav\"></audio>"
      ],
      "text/plain": [
       "<IPython.core.display.HTML object>"
      ]
     },
     "metadata": {},
     "output_type": "display_data"
    },
    {
     "data": {
      "text/html": [
       "<img src=\"DiscreteAttentionWeights/DiscreteAttentionWeights/tacotron2_statedict.pt/[024]ljs-w_neutral_then_let_twenty_days_pass_and_at_the_end_of_that_time_station_near_the_Chaldasan_gates_a_body_of_four_thousand_[Discrete(False,True)].png\"></img>"
      ],
      "text/plain": [
       "<IPython.core.display.HTML object>"
      ]
     },
     "metadata": {},
     "output_type": "display_data"
    },
    {
     "name": "stdout",
     "output_type": "stream",
     "text": [
      "Speaker: ljs-w\n",
      "Emotion: neutral\n",
      "Text   : then let twenty days pass, and at the end of that time station near the Chaldasan gates a body of four thousand.\n",
      "Attention quality:        0.0005\n",
      "Forward attentoin ratio:  1.0000\n",
      "Attentoin ratio:          0.0179\n",
      "Range attentoin ratio:    0.0268\n",
      "Multiple attentoin ratio: 0.0000\n",
      "Saved inference_ipynb/DiscreteAttentionWeights/DiscreteAttentionWeights/tacotron2_statedict.pt/[024]ljs-w_neutral_then_let_twenty_days_pass_and_at_the_end_of_that_time_station_near_the_Chaldasan_gates_a_body_of_four_thousand_[Discrete(True,False)].wav\n",
      "Saved inference_ipynb/DiscreteAttentionWeights/DiscreteAttentionWeights/tacotron2_statedict.pt/[024]ljs-w_neutral_then_let_twenty_days_pass_and_at_the_end_of_that_time_station_near_the_Chaldasan_gates_a_body_of_four_thousand_[Discrete(True,False)].png\n"
     ]
    },
    {
     "data": {
      "text/html": [
       "<audio controls><source src=\"DiscreteAttentionWeights/DiscreteAttentionWeights/tacotron2_statedict.pt/[024]ljs-w_neutral_then_let_twenty_days_pass_and_at_the_end_of_that_time_station_near_the_Chaldasan_gates_a_body_of_four_thousand_[Discrete(True,False)].wav\" type=\"audio/wav\"></audio>"
      ],
      "text/plain": [
       "<IPython.core.display.HTML object>"
      ]
     },
     "metadata": {},
     "output_type": "display_data"
    },
    {
     "data": {
      "text/html": [
       "<img src=\"DiscreteAttentionWeights/DiscreteAttentionWeights/tacotron2_statedict.pt/[024]ljs-w_neutral_then_let_twenty_days_pass_and_at_the_end_of_that_time_station_near_the_Chaldasan_gates_a_body_of_four_thousand_[Discrete(True,False)].png\"></img>"
      ],
      "text/plain": [
       "<IPython.core.display.HTML object>"
      ]
     },
     "metadata": {},
     "output_type": "display_data"
    },
    {
     "name": "stdout",
     "output_type": "stream",
     "text": [
      "[25 Done!]======================================================================================================================================================\n",
      "Speaker: ljs-w\n",
      "Emotion: neutral\n",
      "Text   : He was seen afterwards smoking and talking with his hosts in their back parlor, and never seen again alive.\n",
      "Attention quality:        0.8504\n",
      "Forward attentoin ratio:  0.9983\n",
      "Attentoin ratio:          0.8598\n",
      "Range attentoin ratio:    1.0000\n",
      "Multiple attentoin ratio: 0.0093\n",
      "Saved inference_ipynb/DiscreteAttentionWeights/DiscreteAttentionWeights/tacotron2_statedict.pt/[025]ljs-w_neutral_He_was_seen_afterwards_smoking_and_talking_with_his_hosts_in_their_back_parlor_and_never_seen_again_alive_[Discrete(False,False)].wav\n",
      "Saved inference_ipynb/DiscreteAttentionWeights/DiscreteAttentionWeights/tacotron2_statedict.pt/[025]ljs-w_neutral_He_was_seen_afterwards_smoking_and_talking_with_his_hosts_in_their_back_parlor_and_never_seen_again_alive_[Discrete(False,False)].png\n"
     ]
    },
    {
     "data": {
      "text/html": [
       "<audio controls><source src=\"DiscreteAttentionWeights/DiscreteAttentionWeights/tacotron2_statedict.pt/[025]ljs-w_neutral_He_was_seen_afterwards_smoking_and_talking_with_his_hosts_in_their_back_parlor_and_never_seen_again_alive_[Discrete(False,False)].wav\" type=\"audio/wav\"></audio>"
      ],
      "text/plain": [
       "<IPython.core.display.HTML object>"
      ]
     },
     "metadata": {},
     "output_type": "display_data"
    },
    {
     "data": {
      "text/html": [
       "<img src=\"DiscreteAttentionWeights/DiscreteAttentionWeights/tacotron2_statedict.pt/[025]ljs-w_neutral_He_was_seen_afterwards_smoking_and_talking_with_his_hosts_in_their_back_parlor_and_never_seen_again_alive_[Discrete(False,False)].png\"></img>"
      ],
      "text/plain": [
       "<IPython.core.display.HTML object>"
      ]
     },
     "metadata": {},
     "output_type": "display_data"
    },
    {
     "name": "stdout",
     "output_type": "stream",
     "text": [
      "Warning! Reached max decoder steps\n",
      "Speaker: ljs-w\n",
      "Emotion: neutral\n",
      "Text   : He was seen afterwards smoking and talking with his hosts in their back parlor, and never seen again alive.\n",
      "Attention quality:        0.3574\n",
      "Forward attentoin ratio:  1.0000\n",
      "Attentoin ratio:          0.5794\n",
      "Range attentoin ratio:    0.6168\n",
      "Multiple attentoin ratio: 0.0000\n",
      "Saved inference_ipynb/DiscreteAttentionWeights/DiscreteAttentionWeights/tacotron2_statedict.pt/[025]ljs-w_neutral_He_was_seen_afterwards_smoking_and_talking_with_his_hosts_in_their_back_parlor_and_never_seen_again_alive_[Discrete(True,True)].wav\n",
      "Saved inference_ipynb/DiscreteAttentionWeights/DiscreteAttentionWeights/tacotron2_statedict.pt/[025]ljs-w_neutral_He_was_seen_afterwards_smoking_and_talking_with_his_hosts_in_their_back_parlor_and_never_seen_again_alive_[Discrete(True,True)].png\n"
     ]
    },
    {
     "data": {
      "text/html": [
       "<audio controls><source src=\"DiscreteAttentionWeights/DiscreteAttentionWeights/tacotron2_statedict.pt/[025]ljs-w_neutral_He_was_seen_afterwards_smoking_and_talking_with_his_hosts_in_their_back_parlor_and_never_seen_again_alive_[Discrete(True,True)].wav\" type=\"audio/wav\"></audio>"
      ],
      "text/plain": [
       "<IPython.core.display.HTML object>"
      ]
     },
     "metadata": {},
     "output_type": "display_data"
    },
    {
     "data": {
      "text/html": [
       "<img src=\"DiscreteAttentionWeights/DiscreteAttentionWeights/tacotron2_statedict.pt/[025]ljs-w_neutral_He_was_seen_afterwards_smoking_and_talking_with_his_hosts_in_their_back_parlor_and_never_seen_again_alive_[Discrete(True,True)].png\"></img>"
      ],
      "text/plain": [
       "<IPython.core.display.HTML object>"
      ]
     },
     "metadata": {},
     "output_type": "display_data"
    },
    {
     "name": "stdout",
     "output_type": "stream",
     "text": [
      "Speaker: ljs-w\n",
      "Emotion: neutral\n",
      "Text   : He was seen afterwards smoking and talking with his hosts in their back parlor, and never seen again alive.\n",
      "Attention quality:        0.8785\n",
      "Forward attentoin ratio:  1.0000\n",
      "Attentoin ratio:          0.8785\n",
      "Range attentoin ratio:    1.0000\n",
      "Multiple attentoin ratio: 0.0000\n",
      "Saved inference_ipynb/DiscreteAttentionWeights/DiscreteAttentionWeights/tacotron2_statedict.pt/[025]ljs-w_neutral_He_was_seen_afterwards_smoking_and_talking_with_his_hosts_in_their_back_parlor_and_never_seen_again_alive_[Discrete(False,True)].wav\n",
      "Saved inference_ipynb/DiscreteAttentionWeights/DiscreteAttentionWeights/tacotron2_statedict.pt/[025]ljs-w_neutral_He_was_seen_afterwards_smoking_and_talking_with_his_hosts_in_their_back_parlor_and_never_seen_again_alive_[Discrete(False,True)].png\n"
     ]
    },
    {
     "data": {
      "text/html": [
       "<audio controls><source src=\"DiscreteAttentionWeights/DiscreteAttentionWeights/tacotron2_statedict.pt/[025]ljs-w_neutral_He_was_seen_afterwards_smoking_and_talking_with_his_hosts_in_their_back_parlor_and_never_seen_again_alive_[Discrete(False,True)].wav\" type=\"audio/wav\"></audio>"
      ],
      "text/plain": [
       "<IPython.core.display.HTML object>"
      ]
     },
     "metadata": {},
     "output_type": "display_data"
    },
    {
     "data": {
      "text/html": [
       "<img src=\"DiscreteAttentionWeights/DiscreteAttentionWeights/tacotron2_statedict.pt/[025]ljs-w_neutral_He_was_seen_afterwards_smoking_and_talking_with_his_hosts_in_their_back_parlor_and_never_seen_again_alive_[Discrete(False,True)].png\"></img>"
      ],
      "text/plain": [
       "<IPython.core.display.HTML object>"
      ]
     },
     "metadata": {},
     "output_type": "display_data"
    },
    {
     "name": "stdout",
     "output_type": "stream",
     "text": [
      "Warning! Reached max decoder steps\n",
      "Speaker: ljs-w\n",
      "Emotion: neutral\n",
      "Text   : He was seen afterwards smoking and talking with his hosts in their back parlor, and never seen again alive.\n",
      "Attention quality:        0.0319\n",
      "Forward attentoin ratio:  0.9169\n",
      "Attentoin ratio:          0.1495\n",
      "Range attentoin ratio:    0.2617\n",
      "Multiple attentoin ratio: 0.1121\n",
      "Saved inference_ipynb/DiscreteAttentionWeights/DiscreteAttentionWeights/tacotron2_statedict.pt/[025]ljs-w_neutral_He_was_seen_afterwards_smoking_and_talking_with_his_hosts_in_their_back_parlor_and_never_seen_again_alive_[Discrete(True,False)].wav\n",
      "Saved inference_ipynb/DiscreteAttentionWeights/DiscreteAttentionWeights/tacotron2_statedict.pt/[025]ljs-w_neutral_He_was_seen_afterwards_smoking_and_talking_with_his_hosts_in_their_back_parlor_and_never_seen_again_alive_[Discrete(True,False)].png\n"
     ]
    },
    {
     "data": {
      "text/html": [
       "<audio controls><source src=\"DiscreteAttentionWeights/DiscreteAttentionWeights/tacotron2_statedict.pt/[025]ljs-w_neutral_He_was_seen_afterwards_smoking_and_talking_with_his_hosts_in_their_back_parlor_and_never_seen_again_alive_[Discrete(True,False)].wav\" type=\"audio/wav\"></audio>"
      ],
      "text/plain": [
       "<IPython.core.display.HTML object>"
      ]
     },
     "metadata": {},
     "output_type": "display_data"
    },
    {
     "data": {
      "text/html": [
       "<img src=\"DiscreteAttentionWeights/DiscreteAttentionWeights/tacotron2_statedict.pt/[025]ljs-w_neutral_He_was_seen_afterwards_smoking_and_talking_with_his_hosts_in_their_back_parlor_and_never_seen_again_alive_[Discrete(True,False)].png\"></img>"
      ],
      "text/plain": [
       "<IPython.core.display.HTML object>"
      ]
     },
     "metadata": {},
     "output_type": "display_data"
    },
    {
     "name": "stdout",
     "output_type": "stream",
     "text": [
      "[26 Done!]======================================================================================================================================================\n",
      "Speaker: ljs-w\n",
      "Emotion: neutral\n",
      "Text   : which he kept concealed in a hiding-place with a trap-door just under his bed.\n",
      "Attention quality:        0.8332\n",
      "Forward attentoin ratio:  0.9974\n",
      "Attentoin ratio:          0.8462\n",
      "Range attentoin ratio:    1.0000\n",
      "Multiple attentoin ratio: 0.0128\n",
      "Saved inference_ipynb/DiscreteAttentionWeights/DiscreteAttentionWeights/tacotron2_statedict.pt/[026]ljs-w_neutral_which_he_kept_concealed_in_a_hiding-place_with_a_trap-door_just_under_his_bed_[Discrete(False,False)].wav\n",
      "Saved inference_ipynb/DiscreteAttentionWeights/DiscreteAttentionWeights/tacotron2_statedict.pt/[026]ljs-w_neutral_which_he_kept_concealed_in_a_hiding-place_with_a_trap-door_just_under_his_bed_[Discrete(False,False)].png\n"
     ]
    },
    {
     "data": {
      "text/html": [
       "<audio controls><source src=\"DiscreteAttentionWeights/DiscreteAttentionWeights/tacotron2_statedict.pt/[026]ljs-w_neutral_which_he_kept_concealed_in_a_hiding-place_with_a_trap-door_just_under_his_bed_[Discrete(False,False)].wav\" type=\"audio/wav\"></audio>"
      ],
      "text/plain": [
       "<IPython.core.display.HTML object>"
      ]
     },
     "metadata": {},
     "output_type": "display_data"
    },
    {
     "data": {
      "text/html": [
       "<img src=\"DiscreteAttentionWeights/DiscreteAttentionWeights/tacotron2_statedict.pt/[026]ljs-w_neutral_which_he_kept_concealed_in_a_hiding-place_with_a_trap-door_just_under_his_bed_[Discrete(False,False)].png\"></img>"
      ],
      "text/plain": [
       "<IPython.core.display.HTML object>"
      ]
     },
     "metadata": {},
     "output_type": "display_data"
    },
    {
     "name": "stdout",
     "output_type": "stream",
     "text": [
      "Warning! Reached max decoder steps\n",
      "Speaker: ljs-w\n",
      "Emotion: neutral\n",
      "Text   : which he kept concealed in a hiding-place with a trap-door just under his bed.\n",
      "Attention quality:        0.3629\n",
      "Forward attentoin ratio:  1.0000\n",
      "Attentoin ratio:          0.5897\n",
      "Range attentoin ratio:    0.6154\n",
      "Multiple attentoin ratio: 0.0000\n",
      "Saved inference_ipynb/DiscreteAttentionWeights/DiscreteAttentionWeights/tacotron2_statedict.pt/[026]ljs-w_neutral_which_he_kept_concealed_in_a_hiding-place_with_a_trap-door_just_under_his_bed_[Discrete(True,True)].wav\n",
      "Saved inference_ipynb/DiscreteAttentionWeights/DiscreteAttentionWeights/tacotron2_statedict.pt/[026]ljs-w_neutral_which_he_kept_concealed_in_a_hiding-place_with_a_trap-door_just_under_his_bed_[Discrete(True,True)].png\n"
     ]
    },
    {
     "data": {
      "text/html": [
       "<audio controls><source src=\"DiscreteAttentionWeights/DiscreteAttentionWeights/tacotron2_statedict.pt/[026]ljs-w_neutral_which_he_kept_concealed_in_a_hiding-place_with_a_trap-door_just_under_his_bed_[Discrete(True,True)].wav\" type=\"audio/wav\"></audio>"
      ],
      "text/plain": [
       "<IPython.core.display.HTML object>"
      ]
     },
     "metadata": {},
     "output_type": "display_data"
    },
    {
     "data": {
      "text/html": [
       "<img src=\"DiscreteAttentionWeights/DiscreteAttentionWeights/tacotron2_statedict.pt/[026]ljs-w_neutral_which_he_kept_concealed_in_a_hiding-place_with_a_trap-door_just_under_his_bed_[Discrete(True,True)].png\"></img>"
      ],
      "text/plain": [
       "<IPython.core.display.HTML object>"
      ]
     },
     "metadata": {},
     "output_type": "display_data"
    },
    {
     "name": "stdout",
     "output_type": "stream",
     "text": [
      "Speaker: ljs-w\n",
      "Emotion: neutral\n",
      "Text   : which he kept concealed in a hiding-place with a trap-door just under his bed.\n",
      "Attention quality:        0.7949\n",
      "Forward attentoin ratio:  1.0000\n",
      "Attentoin ratio:          0.7949\n",
      "Range attentoin ratio:    1.0000\n",
      "Multiple attentoin ratio: 0.0000\n",
      "Saved inference_ipynb/DiscreteAttentionWeights/DiscreteAttentionWeights/tacotron2_statedict.pt/[026]ljs-w_neutral_which_he_kept_concealed_in_a_hiding-place_with_a_trap-door_just_under_his_bed_[Discrete(False,True)].wav\n",
      "Saved inference_ipynb/DiscreteAttentionWeights/DiscreteAttentionWeights/tacotron2_statedict.pt/[026]ljs-w_neutral_which_he_kept_concealed_in_a_hiding-place_with_a_trap-door_just_under_his_bed_[Discrete(False,True)].png\n"
     ]
    },
    {
     "data": {
      "text/html": [
       "<audio controls><source src=\"DiscreteAttentionWeights/DiscreteAttentionWeights/tacotron2_statedict.pt/[026]ljs-w_neutral_which_he_kept_concealed_in_a_hiding-place_with_a_trap-door_just_under_his_bed_[Discrete(False,True)].wav\" type=\"audio/wav\"></audio>"
      ],
      "text/plain": [
       "<IPython.core.display.HTML object>"
      ]
     },
     "metadata": {},
     "output_type": "display_data"
    },
    {
     "data": {
      "text/html": [
       "<img src=\"DiscreteAttentionWeights/DiscreteAttentionWeights/tacotron2_statedict.pt/[026]ljs-w_neutral_which_he_kept_concealed_in_a_hiding-place_with_a_trap-door_just_under_his_bed_[Discrete(False,True)].png\"></img>"
      ],
      "text/plain": [
       "<IPython.core.display.HTML object>"
      ]
     },
     "metadata": {},
     "output_type": "display_data"
    },
    {
     "name": "stdout",
     "output_type": "stream",
     "text": [
      "Warning! Reached max decoder steps\n",
      "Speaker: ljs-w\n",
      "Emotion: neutral\n",
      "Text   : which he kept concealed in a hiding-place with a trap-door just under his bed.\n",
      "Attention quality:        0.2553\n",
      "Forward attentoin ratio:  0.9610\n",
      "Attentoin ratio:          0.3718\n",
      "Range attentoin ratio:    0.8846\n",
      "Multiple attentoin ratio: 0.1923\n",
      "Saved inference_ipynb/DiscreteAttentionWeights/DiscreteAttentionWeights/tacotron2_statedict.pt/[026]ljs-w_neutral_which_he_kept_concealed_in_a_hiding-place_with_a_trap-door_just_under_his_bed_[Discrete(True,False)].wav\n",
      "Saved inference_ipynb/DiscreteAttentionWeights/DiscreteAttentionWeights/tacotron2_statedict.pt/[026]ljs-w_neutral_which_he_kept_concealed_in_a_hiding-place_with_a_trap-door_just_under_his_bed_[Discrete(True,False)].png\n"
     ]
    },
    {
     "data": {
      "text/html": [
       "<audio controls><source src=\"DiscreteAttentionWeights/DiscreteAttentionWeights/tacotron2_statedict.pt/[026]ljs-w_neutral_which_he_kept_concealed_in_a_hiding-place_with_a_trap-door_just_under_his_bed_[Discrete(True,False)].wav\" type=\"audio/wav\"></audio>"
      ],
      "text/plain": [
       "<IPython.core.display.HTML object>"
      ]
     },
     "metadata": {},
     "output_type": "display_data"
    },
    {
     "data": {
      "text/html": [
       "<img src=\"DiscreteAttentionWeights/DiscreteAttentionWeights/tacotron2_statedict.pt/[026]ljs-w_neutral_which_he_kept_concealed_in_a_hiding-place_with_a_trap-door_just_under_his_bed_[Discrete(True,False)].png\"></img>"
      ],
      "text/plain": [
       "<IPython.core.display.HTML object>"
      ]
     },
     "metadata": {},
     "output_type": "display_data"
    },
    {
     "name": "stdout",
     "output_type": "stream",
     "text": [
      "[27 Done!]======================================================================================================================================================\n",
      "Speaker: ljs-w\n",
      "Emotion: neutral\n",
      "Text   : These were damnatory facts which well supported the prosecution.\n",
      "Attention quality:        0.7847\n",
      "Forward attentoin ratio:  0.9969\n",
      "Attentoin ratio:          0.8125\n",
      "Range attentoin ratio:    1.0000\n",
      "Multiple attentoin ratio: 0.0312\n",
      "Saved inference_ipynb/DiscreteAttentionWeights/DiscreteAttentionWeights/tacotron2_statedict.pt/[027]ljs-w_neutral_These_were_damnatory_facts_which_well_supported_the_prosecution_[Discrete(False,False)].wav\n",
      "Saved inference_ipynb/DiscreteAttentionWeights/DiscreteAttentionWeights/tacotron2_statedict.pt/[027]ljs-w_neutral_These_were_damnatory_facts_which_well_supported_the_prosecution_[Discrete(False,False)].png\n"
     ]
    },
    {
     "data": {
      "text/html": [
       "<audio controls><source src=\"DiscreteAttentionWeights/DiscreteAttentionWeights/tacotron2_statedict.pt/[027]ljs-w_neutral_These_were_damnatory_facts_which_well_supported_the_prosecution_[Discrete(False,False)].wav\" type=\"audio/wav\"></audio>"
      ],
      "text/plain": [
       "<IPython.core.display.HTML object>"
      ]
     },
     "metadata": {},
     "output_type": "display_data"
    },
    {
     "data": {
      "text/html": [
       "<img src=\"DiscreteAttentionWeights/DiscreteAttentionWeights/tacotron2_statedict.pt/[027]ljs-w_neutral_These_were_damnatory_facts_which_well_supported_the_prosecution_[Discrete(False,False)].png\"></img>"
      ],
      "text/plain": [
       "<IPython.core.display.HTML object>"
      ]
     },
     "metadata": {},
     "output_type": "display_data"
    },
    {
     "name": "stdout",
     "output_type": "stream",
     "text": [
      "Warning! Reached max decoder steps\n",
      "Speaker: ljs-w\n",
      "Emotion: neutral\n",
      "Text   : These were damnatory facts which well supported the prosecution.\n",
      "Attention quality:        0.3656\n",
      "Forward attentoin ratio:  0.9990\n",
      "Attentoin ratio:          0.6094\n",
      "Range attentoin ratio:    0.6406\n",
      "Multiple attentoin ratio: 0.0625\n",
      "Saved inference_ipynb/DiscreteAttentionWeights/DiscreteAttentionWeights/tacotron2_statedict.pt/[027]ljs-w_neutral_These_were_damnatory_facts_which_well_supported_the_prosecution_[Discrete(True,True)].wav\n",
      "Saved inference_ipynb/DiscreteAttentionWeights/DiscreteAttentionWeights/tacotron2_statedict.pt/[027]ljs-w_neutral_These_were_damnatory_facts_which_well_supported_the_prosecution_[Discrete(True,True)].png\n"
     ]
    },
    {
     "data": {
      "text/html": [
       "<audio controls><source src=\"DiscreteAttentionWeights/DiscreteAttentionWeights/tacotron2_statedict.pt/[027]ljs-w_neutral_These_were_damnatory_facts_which_well_supported_the_prosecution_[Discrete(True,True)].wav\" type=\"audio/wav\"></audio>"
      ],
      "text/plain": [
       "<IPython.core.display.HTML object>"
      ]
     },
     "metadata": {},
     "output_type": "display_data"
    },
    {
     "data": {
      "text/html": [
       "<img src=\"DiscreteAttentionWeights/DiscreteAttentionWeights/tacotron2_statedict.pt/[027]ljs-w_neutral_These_were_damnatory_facts_which_well_supported_the_prosecution_[Discrete(True,True)].png\"></img>"
      ],
      "text/plain": [
       "<IPython.core.display.HTML object>"
      ]
     },
     "metadata": {},
     "output_type": "display_data"
    },
    {
     "name": "stdout",
     "output_type": "stream",
     "text": [
      "Speaker: ljs-w\n",
      "Emotion: neutral\n",
      "Text   : These were damnatory facts which well supported the prosecution.\n",
      "Attention quality:        0.7969\n",
      "Forward attentoin ratio:  1.0000\n",
      "Attentoin ratio:          0.7969\n",
      "Range attentoin ratio:    1.0000\n",
      "Multiple attentoin ratio: 0.0000\n",
      "Saved inference_ipynb/DiscreteAttentionWeights/DiscreteAttentionWeights/tacotron2_statedict.pt/[027]ljs-w_neutral_These_were_damnatory_facts_which_well_supported_the_prosecution_[Discrete(False,True)].wav\n",
      "Saved inference_ipynb/DiscreteAttentionWeights/DiscreteAttentionWeights/tacotron2_statedict.pt/[027]ljs-w_neutral_These_were_damnatory_facts_which_well_supported_the_prosecution_[Discrete(False,True)].png\n"
     ]
    },
    {
     "data": {
      "text/html": [
       "<audio controls><source src=\"DiscreteAttentionWeights/DiscreteAttentionWeights/tacotron2_statedict.pt/[027]ljs-w_neutral_These_were_damnatory_facts_which_well_supported_the_prosecution_[Discrete(False,True)].wav\" type=\"audio/wav\"></audio>"
      ],
      "text/plain": [
       "<IPython.core.display.HTML object>"
      ]
     },
     "metadata": {},
     "output_type": "display_data"
    },
    {
     "data": {
      "text/html": [
       "<img src=\"DiscreteAttentionWeights/DiscreteAttentionWeights/tacotron2_statedict.pt/[027]ljs-w_neutral_These_were_damnatory_facts_which_well_supported_the_prosecution_[Discrete(False,True)].png\"></img>"
      ],
      "text/plain": [
       "<IPython.core.display.HTML object>"
      ]
     },
     "metadata": {},
     "output_type": "display_data"
    },
    {
     "name": "stdout",
     "output_type": "stream",
     "text": [
      "Warning! Reached max decoder steps\n",
      "Speaker: ljs-w\n",
      "Emotion: neutral\n",
      "Text   : These were damnatory facts which well supported the prosecution.\n",
      "Attention quality:        0.2011\n",
      "Forward attentoin ratio:  0.9439\n",
      "Attentoin ratio:          0.2969\n",
      "Range attentoin ratio:    0.9375\n",
      "Multiple attentoin ratio: 0.2344\n",
      "Saved inference_ipynb/DiscreteAttentionWeights/DiscreteAttentionWeights/tacotron2_statedict.pt/[027]ljs-w_neutral_These_were_damnatory_facts_which_well_supported_the_prosecution_[Discrete(True,False)].wav\n",
      "Saved inference_ipynb/DiscreteAttentionWeights/DiscreteAttentionWeights/tacotron2_statedict.pt/[027]ljs-w_neutral_These_were_damnatory_facts_which_well_supported_the_prosecution_[Discrete(True,False)].png\n"
     ]
    },
    {
     "data": {
      "text/html": [
       "<audio controls><source src=\"DiscreteAttentionWeights/DiscreteAttentionWeights/tacotron2_statedict.pt/[027]ljs-w_neutral_These_were_damnatory_facts_which_well_supported_the_prosecution_[Discrete(True,False)].wav\" type=\"audio/wav\"></audio>"
      ],
      "text/plain": [
       "<IPython.core.display.HTML object>"
      ]
     },
     "metadata": {},
     "output_type": "display_data"
    },
    {
     "data": {
      "text/html": [
       "<img src=\"DiscreteAttentionWeights/DiscreteAttentionWeights/tacotron2_statedict.pt/[027]ljs-w_neutral_These_were_damnatory_facts_which_well_supported_the_prosecution_[Discrete(True,False)].png\"></img>"
      ],
      "text/plain": [
       "<IPython.core.display.HTML object>"
      ]
     },
     "metadata": {},
     "output_type": "display_data"
    },
    {
     "name": "stdout",
     "output_type": "stream",
     "text": [
      "[28 Done!]======================================================================================================================================================\n",
      "Speaker: ljs-w\n",
      "Emotion: neutral\n",
      "Text   : He was never satisfied with anything.\n",
      "Attention quality:        0.8919\n",
      "Forward attentoin ratio:  1.0000\n",
      "Attentoin ratio:          0.8919\n",
      "Range attentoin ratio:    1.0000\n",
      "Multiple attentoin ratio: 0.0000\n",
      "Saved inference_ipynb/DiscreteAttentionWeights/DiscreteAttentionWeights/tacotron2_statedict.pt/[028]ljs-w_neutral_He_was_never_satisfied_with_anything_[Discrete(False,False)].wav\n",
      "Saved inference_ipynb/DiscreteAttentionWeights/DiscreteAttentionWeights/tacotron2_statedict.pt/[028]ljs-w_neutral_He_was_never_satisfied_with_anything_[Discrete(False,False)].png\n"
     ]
    },
    {
     "data": {
      "text/html": [
       "<audio controls><source src=\"DiscreteAttentionWeights/DiscreteAttentionWeights/tacotron2_statedict.pt/[028]ljs-w_neutral_He_was_never_satisfied_with_anything_[Discrete(False,False)].wav\" type=\"audio/wav\"></audio>"
      ],
      "text/plain": [
       "<IPython.core.display.HTML object>"
      ]
     },
     "metadata": {},
     "output_type": "display_data"
    },
    {
     "data": {
      "text/html": [
       "<img src=\"DiscreteAttentionWeights/DiscreteAttentionWeights/tacotron2_statedict.pt/[028]ljs-w_neutral_He_was_never_satisfied_with_anything_[Discrete(False,False)].png\"></img>"
      ],
      "text/plain": [
       "<IPython.core.display.HTML object>"
      ]
     },
     "metadata": {},
     "output_type": "display_data"
    },
    {
     "name": "stdout",
     "output_type": "stream",
     "text": [
      "Speaker: ljs-w\n",
      "Emotion: neutral\n",
      "Text   : He was never satisfied with anything.\n",
      "Attention quality:        0.9730\n",
      "Forward attentoin ratio:  1.0000\n",
      "Attentoin ratio:          0.9730\n",
      "Range attentoin ratio:    1.0000\n",
      "Multiple attentoin ratio: 0.0000\n",
      "Saved inference_ipynb/DiscreteAttentionWeights/DiscreteAttentionWeights/tacotron2_statedict.pt/[028]ljs-w_neutral_He_was_never_satisfied_with_anything_[Discrete(True,True)].wav\n",
      "Saved inference_ipynb/DiscreteAttentionWeights/DiscreteAttentionWeights/tacotron2_statedict.pt/[028]ljs-w_neutral_He_was_never_satisfied_with_anything_[Discrete(True,True)].png\n"
     ]
    },
    {
     "data": {
      "text/html": [
       "<audio controls><source src=\"DiscreteAttentionWeights/DiscreteAttentionWeights/tacotron2_statedict.pt/[028]ljs-w_neutral_He_was_never_satisfied_with_anything_[Discrete(True,True)].wav\" type=\"audio/wav\"></audio>"
      ],
      "text/plain": [
       "<IPython.core.display.HTML object>"
      ]
     },
     "metadata": {},
     "output_type": "display_data"
    },
    {
     "data": {
      "text/html": [
       "<img src=\"DiscreteAttentionWeights/DiscreteAttentionWeights/tacotron2_statedict.pt/[028]ljs-w_neutral_He_was_never_satisfied_with_anything_[Discrete(True,True)].png\"></img>"
      ],
      "text/plain": [
       "<IPython.core.display.HTML object>"
      ]
     },
     "metadata": {},
     "output_type": "display_data"
    },
    {
     "name": "stdout",
     "output_type": "stream",
     "text": [
      "Speaker: ljs-w\n",
      "Emotion: neutral\n",
      "Text   : He was never satisfied with anything.\n",
      "Attention quality:        0.9189\n",
      "Forward attentoin ratio:  1.0000\n",
      "Attentoin ratio:          0.9189\n",
      "Range attentoin ratio:    1.0000\n",
      "Multiple attentoin ratio: 0.0000\n",
      "Saved inference_ipynb/DiscreteAttentionWeights/DiscreteAttentionWeights/tacotron2_statedict.pt/[028]ljs-w_neutral_He_was_never_satisfied_with_anything_[Discrete(False,True)].wav\n",
      "Saved inference_ipynb/DiscreteAttentionWeights/DiscreteAttentionWeights/tacotron2_statedict.pt/[028]ljs-w_neutral_He_was_never_satisfied_with_anything_[Discrete(False,True)].png\n"
     ]
    },
    {
     "data": {
      "text/html": [
       "<audio controls><source src=\"DiscreteAttentionWeights/DiscreteAttentionWeights/tacotron2_statedict.pt/[028]ljs-w_neutral_He_was_never_satisfied_with_anything_[Discrete(False,True)].wav\" type=\"audio/wav\"></audio>"
      ],
      "text/plain": [
       "<IPython.core.display.HTML object>"
      ]
     },
     "metadata": {},
     "output_type": "display_data"
    },
    {
     "data": {
      "text/html": [
       "<img src=\"DiscreteAttentionWeights/DiscreteAttentionWeights/tacotron2_statedict.pt/[028]ljs-w_neutral_He_was_never_satisfied_with_anything_[Discrete(False,True)].png\"></img>"
      ],
      "text/plain": [
       "<IPython.core.display.HTML object>"
      ]
     },
     "metadata": {},
     "output_type": "display_data"
    },
    {
     "name": "stdout",
     "output_type": "stream",
     "text": [
      "Speaker: ljs-w\n",
      "Emotion: neutral\n",
      "Text   : He was never satisfied with anything.\n",
      "Attention quality:        0.1595\n",
      "Forward attentoin ratio:  0.9898\n",
      "Attentoin ratio:          0.3243\n",
      "Range attentoin ratio:    0.5405\n",
      "Multiple attentoin ratio: 0.0811\n",
      "Saved inference_ipynb/DiscreteAttentionWeights/DiscreteAttentionWeights/tacotron2_statedict.pt/[028]ljs-w_neutral_He_was_never_satisfied_with_anything_[Discrete(True,False)].wav\n",
      "Saved inference_ipynb/DiscreteAttentionWeights/DiscreteAttentionWeights/tacotron2_statedict.pt/[028]ljs-w_neutral_He_was_never_satisfied_with_anything_[Discrete(True,False)].png\n"
     ]
    },
    {
     "data": {
      "text/html": [
       "<audio controls><source src=\"DiscreteAttentionWeights/DiscreteAttentionWeights/tacotron2_statedict.pt/[028]ljs-w_neutral_He_was_never_satisfied_with_anything_[Discrete(True,False)].wav\" type=\"audio/wav\"></audio>"
      ],
      "text/plain": [
       "<IPython.core.display.HTML object>"
      ]
     },
     "metadata": {},
     "output_type": "display_data"
    },
    {
     "data": {
      "text/html": [
       "<img src=\"DiscreteAttentionWeights/DiscreteAttentionWeights/tacotron2_statedict.pt/[028]ljs-w_neutral_He_was_never_satisfied_with_anything_[Discrete(True,False)].png\"></img>"
      ],
      "text/plain": [
       "<IPython.core.display.HTML object>"
      ]
     },
     "metadata": {},
     "output_type": "display_data"
    },
    {
     "name": "stdout",
     "output_type": "stream",
     "text": [
      "[29 Done!]======================================================================================================================================================\n",
      "Speaker: ljs-w\n",
      "Emotion: neutral\n",
      "Text   : \"Müller, Müller, He's the man,\" till a diversion was created by the appearance of the gallows, which was received with continuous yells.\n",
      "Attention quality:        0.8284\n",
      "Forward attentoin ratio:  1.0000\n",
      "Attentoin ratio:          0.8284\n",
      "Range attentoin ratio:    1.0000\n",
      "Multiple attentoin ratio: 0.0000\n",
      "Saved inference_ipynb/DiscreteAttentionWeights/DiscreteAttentionWeights/tacotron2_statedict.pt/[029]ljs-w_neutral_Mller_Mller_Hes_the_man_till_a_diversion_was_created_by_the_appearance_of_the_gallows_which_was_received_with_continuous_yells_[Discrete(False,False)].wav\n",
      "Saved inference_ipynb/DiscreteAttentionWeights/DiscreteAttentionWeights/tacotron2_statedict.pt/[029]ljs-w_neutral_Mller_Mller_Hes_the_man_till_a_diversion_was_created_by_the_appearance_of_the_gallows_which_was_received_with_continuous_yells_[Discrete(False,False)].png\n"
     ]
    },
    {
     "data": {
      "text/html": [
       "<audio controls><source src=\"DiscreteAttentionWeights/DiscreteAttentionWeights/tacotron2_statedict.pt/[029]ljs-w_neutral_Mller_Mller_Hes_the_man_till_a_diversion_was_created_by_the_appearance_of_the_gallows_which_was_received_with_continuous_yells_[Discrete(False,False)].wav\" type=\"audio/wav\"></audio>"
      ],
      "text/plain": [
       "<IPython.core.display.HTML object>"
      ]
     },
     "metadata": {},
     "output_type": "display_data"
    },
    {
     "data": {
      "text/html": [
       "<img src=\"DiscreteAttentionWeights/DiscreteAttentionWeights/tacotron2_statedict.pt/[029]ljs-w_neutral_Mller_Mller_Hes_the_man_till_a_diversion_was_created_by_the_appearance_of_the_gallows_which_was_received_with_continuous_yells_[Discrete(False,False)].png\"></img>"
      ],
      "text/plain": [
       "<IPython.core.display.HTML object>"
      ]
     },
     "metadata": {},
     "output_type": "display_data"
    },
    {
     "name": "stdout",
     "output_type": "stream",
     "text": [
      "Warning! Reached max decoder steps\n",
      "Speaker: ljs-w\n",
      "Emotion: neutral\n",
      "Text   : \"Müller, Müller, He's the man,\" till a diversion was created by the appearance of the gallows, which was received with continuous yells.\n",
      "Attention quality:        0.2222\n",
      "Forward attentoin ratio:  1.0000\n",
      "Attentoin ratio:          0.4254\n",
      "Range attentoin ratio:    0.5224\n",
      "Multiple attentoin ratio: 0.0000\n",
      "Saved inference_ipynb/DiscreteAttentionWeights/DiscreteAttentionWeights/tacotron2_statedict.pt/[029]ljs-w_neutral_Mller_Mller_Hes_the_man_till_a_diversion_was_created_by_the_appearance_of_the_gallows_which_was_received_with_continuous_yells_[Discrete(True,True)].wav\n",
      "Saved inference_ipynb/DiscreteAttentionWeights/DiscreteAttentionWeights/tacotron2_statedict.pt/[029]ljs-w_neutral_Mller_Mller_Hes_the_man_till_a_diversion_was_created_by_the_appearance_of_the_gallows_which_was_received_with_continuous_yells_[Discrete(True,True)].png\n"
     ]
    },
    {
     "data": {
      "text/html": [
       "<audio controls><source src=\"DiscreteAttentionWeights/DiscreteAttentionWeights/tacotron2_statedict.pt/[029]ljs-w_neutral_Mller_Mller_Hes_the_man_till_a_diversion_was_created_by_the_appearance_of_the_gallows_which_was_received_with_continuous_yells_[Discrete(True,True)].wav\" type=\"audio/wav\"></audio>"
      ],
      "text/plain": [
       "<IPython.core.display.HTML object>"
      ]
     },
     "metadata": {},
     "output_type": "display_data"
    },
    {
     "data": {
      "text/html": [
       "<img src=\"DiscreteAttentionWeights/DiscreteAttentionWeights/tacotron2_statedict.pt/[029]ljs-w_neutral_Mller_Mller_Hes_the_man_till_a_diversion_was_created_by_the_appearance_of_the_gallows_which_was_received_with_continuous_yells_[Discrete(True,True)].png\"></img>"
      ],
      "text/plain": [
       "<IPython.core.display.HTML object>"
      ]
     },
     "metadata": {},
     "output_type": "display_data"
    },
    {
     "name": "stdout",
     "output_type": "stream",
     "text": [
      "Warning! Reached max decoder steps\n",
      "Speaker: ljs-w\n",
      "Emotion: neutral\n",
      "Text   : \"Müller, Müller, He's the man,\" till a diversion was created by the appearance of the gallows, which was received with continuous yells.\n",
      "Attention quality:        0.4021\n",
      "Forward attentoin ratio:  1.0000\n",
      "Attentoin ratio:          0.5672\n",
      "Range attentoin ratio:    0.7090\n",
      "Multiple attentoin ratio: 0.0000\n",
      "Saved inference_ipynb/DiscreteAttentionWeights/DiscreteAttentionWeights/tacotron2_statedict.pt/[029]ljs-w_neutral_Mller_Mller_Hes_the_man_till_a_diversion_was_created_by_the_appearance_of_the_gallows_which_was_received_with_continuous_yells_[Discrete(False,True)].wav\n",
      "Saved inference_ipynb/DiscreteAttentionWeights/DiscreteAttentionWeights/tacotron2_statedict.pt/[029]ljs-w_neutral_Mller_Mller_Hes_the_man_till_a_diversion_was_created_by_the_appearance_of_the_gallows_which_was_received_with_continuous_yells_[Discrete(False,True)].png\n"
     ]
    },
    {
     "data": {
      "text/html": [
       "<audio controls><source src=\"DiscreteAttentionWeights/DiscreteAttentionWeights/tacotron2_statedict.pt/[029]ljs-w_neutral_Mller_Mller_Hes_the_man_till_a_diversion_was_created_by_the_appearance_of_the_gallows_which_was_received_with_continuous_yells_[Discrete(False,True)].wav\" type=\"audio/wav\"></audio>"
      ],
      "text/plain": [
       "<IPython.core.display.HTML object>"
      ]
     },
     "metadata": {},
     "output_type": "display_data"
    },
    {
     "data": {
      "text/html": [
       "<img src=\"DiscreteAttentionWeights/DiscreteAttentionWeights/tacotron2_statedict.pt/[029]ljs-w_neutral_Mller_Mller_Hes_the_man_till_a_diversion_was_created_by_the_appearance_of_the_gallows_which_was_received_with_continuous_yells_[Discrete(False,True)].png\"></img>"
      ],
      "text/plain": [
       "<IPython.core.display.HTML object>"
      ]
     },
     "metadata": {},
     "output_type": "display_data"
    },
    {
     "name": "stdout",
     "output_type": "stream",
     "text": [
      "Speaker: ljs-w\n",
      "Emotion: neutral\n",
      "Text   : \"Müller, Müller, He's the man,\" till a diversion was created by the appearance of the gallows, which was received with continuous yells.\n",
      "Attention quality:        0.0020\n",
      "Forward attentoin ratio:  1.0000\n",
      "Attentoin ratio:          0.0448\n",
      "Range attentoin ratio:    0.0448\n",
      "Multiple attentoin ratio: 0.0000\n",
      "Saved inference_ipynb/DiscreteAttentionWeights/DiscreteAttentionWeights/tacotron2_statedict.pt/[029]ljs-w_neutral_Mller_Mller_Hes_the_man_till_a_diversion_was_created_by_the_appearance_of_the_gallows_which_was_received_with_continuous_yells_[Discrete(True,False)].wav\n",
      "Saved inference_ipynb/DiscreteAttentionWeights/DiscreteAttentionWeights/tacotron2_statedict.pt/[029]ljs-w_neutral_Mller_Mller_Hes_the_man_till_a_diversion_was_created_by_the_appearance_of_the_gallows_which_was_received_with_continuous_yells_[Discrete(True,False)].png\n"
     ]
    },
    {
     "data": {
      "text/html": [
       "<audio controls><source src=\"DiscreteAttentionWeights/DiscreteAttentionWeights/tacotron2_statedict.pt/[029]ljs-w_neutral_Mller_Mller_Hes_the_man_till_a_diversion_was_created_by_the_appearance_of_the_gallows_which_was_received_with_continuous_yells_[Discrete(True,False)].wav\" type=\"audio/wav\"></audio>"
      ],
      "text/plain": [
       "<IPython.core.display.HTML object>"
      ]
     },
     "metadata": {},
     "output_type": "display_data"
    },
    {
     "data": {
      "text/html": [
       "<img src=\"DiscreteAttentionWeights/DiscreteAttentionWeights/tacotron2_statedict.pt/[029]ljs-w_neutral_Mller_Mller_Hes_the_man_till_a_diversion_was_created_by_the_appearance_of_the_gallows_which_was_received_with_continuous_yells_[Discrete(True,False)].png\"></img>"
      ],
      "text/plain": [
       "<IPython.core.display.HTML object>"
      ]
     },
     "metadata": {},
     "output_type": "display_data"
    },
    {
     "name": "stdout",
     "output_type": "stream",
     "text": [
      "[30 Done!]======================================================================================================================================================\n"
     ]
    }
   ],
   "source": [
    "cnt = 0\n",
    "samples_per_group = 30\n",
    "v = valsets[(speaker, emotion)]\n",
    "for sample in v:\n",
    "    text = sample[1]\n",
    "    for daw in [[False,False], [True,True], [False,True], [True,False]]:\n",
    "        discrete_attention_weight = daw\n",
    "        wav_name = \"[{:03d}]{}_{}_{}_[Discrete({},{})].wav\".format(cnt, speaker, emotion, slugify(text), daw[0], daw[1])\n",
    "        png_name = \"[{:03d}]{}_{}_{}_[Discrete({},{})].png\".format(cnt, speaker, emotion, slugify(text), daw[0], daw[1])\n",
    "        wav_path = os.path.join(wav_dir, wav_name)\n",
    "        png_path = os.path.join(wav_dir, png_name)\n",
    "        np_audio, sample_rate, sequence = synthesize_speech(text, speaker, emotion, discrete_attention_weight, png_path)\n",
    "        sf.write(wav_path, np_audio.reshape(-1,1).astype('float32'), hparams.sampling_rate)\n",
    "        plt.savefig(png_path, bbox_inches='tight')\n",
    "        print(\"Saved {}\".format(wav_path))\n",
    "        print(\"Saved {}\".format(png_path))\n",
    "        #ipd.display(ipd.Audio(wav_path, rate=hparams.sampling_rate))\n",
    "        ipd.display(ipd.HTML('<audio controls><source src=\"{}\" type=\"audio/wav\"></audio>'.format(drop_top_dir(wav_path))))\n",
    "        ipd.display(ipd.HTML('<img src=\"{}\"></img>'.format(drop_top_dir(png_path))))\n",
    "    cnt += 1\n",
    "    print(\"[{} Done!]======================================================================================================================================================\".format(cnt))\n",
    "    if cnt == samples_per_group:\n",
    "        break"
   ]
  }
 ],
 "metadata": {
  "kernelspec": {
   "display_name": "Python 3",
   "language": "python",
   "name": "python3"
  },
  "language_info": {
   "codemirror_mode": {
    "name": "ipython",
    "version": 3
   },
   "file_extension": ".py",
   "mimetype": "text/x-python",
   "name": "python",
   "nbconvert_exporter": "python",
   "pygments_lexer": "ipython3",
   "version": "3.7.4"
  }
 },
 "nbformat": 4,
 "nbformat_minor": 4
}
