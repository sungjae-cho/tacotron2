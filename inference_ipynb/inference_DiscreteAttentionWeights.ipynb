{
 "cells": [
  {
   "cell_type": "markdown",
   "metadata": {},
   "source": [
    "# Generate audios by the trained model with discrete attention weights\n",
    "\n",
    "- Running date: 2020-07-21\n",
    "- Purpose: Check how audio results vary with discrete attention weights.\n",
    "\n",
    "## Cases to check\n",
    "1. Continous attention weights\n",
    "1. Discrete attention weights\n",
    "  - At each decoding step, the maximum attention weight is discretized to 1 and the others to 0.\n",
    "  - The discretized attention weights are cumulated to the cumulative attention, which is an input of the attention network.\n",
    "1. Discrete attention weights: Only nonmax values\n",
    "  - At each decoding step, the only nonmax attention weights are discretized to 0.\n",
    "1. Discrete attention weights: Only maximums\n",
    "  - At each decoding step, the only maximum attention weight is discretized to 1."
   ]
  },
  {
   "cell_type": "markdown",
   "metadata": {},
   "source": [
    "## 1. Load a trained model"
   ]
  },
  {
   "cell_type": "code",
   "execution_count": 1,
   "metadata": {},
   "outputs": [
    {
     "name": "stdout",
     "output_type": "stream",
     "text": [
      "The working directory is moved from /data2/sungjaecho/Projects/tacotron2/inference_ipynb to /data2/sungjaecho/Projects/tacotron2.\n"
     ]
    }
   ],
   "source": [
    "import os\n",
    "cwd_old = os.getcwd()\n",
    "os.chdir('..')\n",
    "cwd_new = os.getcwd()\n",
    "print(\"The working directory is moved from {} to {}.\".format(cwd_old, cwd_new))"
   ]
  },
  {
   "cell_type": "code",
   "execution_count": 2,
   "metadata": {},
   "outputs": [],
   "source": [
    "# Hide warning to make the notebook clear.\n",
    "import warnings\n",
    "#warnings.filterwarnings('ignore')"
   ]
  },
  {
   "cell_type": "code",
   "execution_count": 3,
   "metadata": {},
   "outputs": [],
   "source": [
    "import os\n",
    "os.environ[\"CUDA_VISIBLE_DEVICES\"]=\"4\""
   ]
  },
  {
   "cell_type": "markdown",
   "metadata": {},
   "source": [
    "#### Import libraries and setup matplotlib"
   ]
  },
  {
   "cell_type": "code",
   "execution_count": 4,
   "metadata": {},
   "outputs": [],
   "source": [
    "import matplotlib\n",
    "%matplotlib inline\n",
    "import matplotlib.pylab as plt\n",
    "\n",
    "import IPython.display as ipd\n",
    "\n",
    "import sys\n",
    "sys.path.append('waveglow/')\n",
    "import numpy as np\n",
    "import torch\n",
    "\n",
    "from hparams import create_hparams\n",
    "from data_utils import TextMelLoader\n",
    "from model import Tacotron2\n",
    "from layers import TacotronSTFT, STFT\n",
    "from train import load_model\n",
    "from text import text_to_sequence\n",
    "from denoiser import Denoiser\n",
    "from utils import load_pretrained_model"
   ]
  },
  {
   "cell_type": "code",
   "execution_count": 5,
   "metadata": {},
   "outputs": [],
   "source": [
    "def plot_data(data, figsize=(16, 4)):\n",
    "    fig, axes = plt.subplots(1, len(data), figsize=figsize)\n",
    "    for i in range(len(data)):\n",
    "        axes[i].imshow(data[i], aspect='auto', origin='bottom', \n",
    "                       interpolation='none')\n",
    "    # Turn interactive plotting off\n",
    "    plt.ioff()"
   ]
  },
  {
   "cell_type": "markdown",
   "metadata": {},
   "source": [
    "#### Setup hparams"
   ]
  },
  {
   "cell_type": "code",
   "execution_count": 6,
   "metadata": {},
   "outputs": [
    {
     "name": "stdout",
     "output_type": "stream",
     "text": [
      "WARNING:tensorflow:\n",
      "The TensorFlow contrib module will not be included in TensorFlow 2.0.\n",
      "For more information, please see:\n",
      "  * https://github.com/tensorflow/community/blob/master/rfcs/20180907-contrib-sunset.md\n",
      "  * https://github.com/tensorflow/addons\n",
      "  * https://github.com/tensorflow/io (for I/O related ops)\n",
      "If you depend on functionality not listed there, please file an issue.\n",
      "\n"
     ]
    }
   ],
   "source": [
    "hparams = create_hparams()\n",
    "hparams.batch_size=32\n",
    "hparams.all_dbs=['ljspeech']\n",
    "hparams.all_speakers=['ljs-w']\n",
    "hparams.all_emotions=['neutral']\n",
    "hparams.dbs=['ljspeech']\n",
    "hparams.speakers=['ljs-w']\n",
    "hparams.emotions=['neutral']\n",
    "hparams.has_style_token_lstm_1=False\n",
    "hparams.has_style_token_lstm_2=False\n",
    "hparams.neutral_zero_vector=False"
   ]
  },
  {
   "cell_type": "markdown",
   "metadata": {},
   "source": [
    "#### Load model from checkpoint"
   ]
  },
  {
   "cell_type": "code",
   "execution_count": 7,
   "metadata": {},
   "outputs": [
    {
     "name": "stdout",
     "output_type": "stream",
     "text": [
      "embedding.weight\ttorch.Size([148, 512])\tTrue\n",
      "encoder.convolutions.0.0.conv.weight\ttorch.Size([512, 512, 5])\tTrue\n",
      "encoder.convolutions.0.0.conv.bias\ttorch.Size([512])\tTrue\n",
      "encoder.convolutions.0.1.weight\ttorch.Size([512])\tTrue\n",
      "encoder.convolutions.0.1.bias\ttorch.Size([512])\tTrue\n",
      "encoder.convolutions.1.0.conv.weight\ttorch.Size([512, 512, 5])\tTrue\n",
      "encoder.convolutions.1.0.conv.bias\ttorch.Size([512])\tTrue\n",
      "encoder.convolutions.1.1.weight\ttorch.Size([512])\tTrue\n",
      "encoder.convolutions.1.1.bias\ttorch.Size([512])\tTrue\n",
      "encoder.convolutions.2.0.conv.weight\ttorch.Size([512, 512, 5])\tTrue\n",
      "encoder.convolutions.2.0.conv.bias\ttorch.Size([512])\tTrue\n",
      "encoder.convolutions.2.1.weight\ttorch.Size([512])\tTrue\n",
      "encoder.convolutions.2.1.bias\ttorch.Size([512])\tTrue\n",
      "encoder.lstm.weight_ih_l0\ttorch.Size([1024, 512])\tTrue\n",
      "encoder.lstm.weight_hh_l0\ttorch.Size([1024, 256])\tTrue\n",
      "encoder.lstm.bias_ih_l0\ttorch.Size([1024])\tTrue\n",
      "encoder.lstm.bias_hh_l0\ttorch.Size([1024])\tTrue\n",
      "encoder.lstm.weight_ih_l0_reverse\ttorch.Size([1024, 512])\tTrue\n",
      "encoder.lstm.weight_hh_l0_reverse\ttorch.Size([1024, 256])\tTrue\n",
      "encoder.lstm.bias_ih_l0_reverse\ttorch.Size([1024])\tTrue\n",
      "encoder.lstm.bias_hh_l0_reverse\ttorch.Size([1024])\tTrue\n",
      "decoder.prenet.layers.0.linear_layer.weight\ttorch.Size([256, 80])\tTrue\n",
      "decoder.prenet.layers.1.linear_layer.weight\ttorch.Size([256, 256])\tTrue\n",
      "decoder.attention_rnn.weight_ih\ttorch.Size([4096, 768])\tTrue\n",
      "decoder.attention_rnn.weight_hh\ttorch.Size([4096, 1024])\tTrue\n",
      "decoder.attention_rnn.bias_ih\ttorch.Size([4096])\tTrue\n",
      "decoder.attention_rnn.bias_hh\ttorch.Size([4096])\tTrue\n",
      "decoder.attention_layer.query_layer.linear_layer.weight\ttorch.Size([128, 1024])\tTrue\n",
      "decoder.attention_layer.memory_layer.linear_layer.weight\ttorch.Size([128, 512])\tTrue\n",
      "decoder.attention_layer.v.linear_layer.weight\ttorch.Size([1, 128])\tTrue\n",
      "decoder.attention_layer.location_layer.location_conv.conv.weight\ttorch.Size([32, 2, 31])\tTrue\n",
      "decoder.attention_layer.location_layer.location_dense.linear_layer.weight\ttorch.Size([128, 32])\tTrue\n",
      "decoder.decoder_rnn.weight_ih\ttorch.Size([4096, 1536])\tTrue\n",
      "decoder.decoder_rnn.weight_hh\ttorch.Size([4096, 1024])\tTrue\n",
      "decoder.decoder_rnn.bias_ih\ttorch.Size([4096])\tTrue\n",
      "decoder.decoder_rnn.bias_hh\ttorch.Size([4096])\tTrue\n",
      "decoder.linear_projection.linear_layer.weight\ttorch.Size([80, 1536])\tTrue\n",
      "decoder.linear_projection.linear_layer.bias\ttorch.Size([80])\tTrue\n",
      "decoder.gate_layer.linear_layer.weight\ttorch.Size([1, 1536])\tTrue\n",
      "decoder.gate_layer.linear_layer.bias\ttorch.Size([1])\tTrue\n",
      "postnet.convolutions.0.0.conv.weight\ttorch.Size([512, 80, 5])\tTrue\n",
      "postnet.convolutions.0.0.conv.bias\ttorch.Size([512])\tTrue\n",
      "postnet.convolutions.0.1.weight\ttorch.Size([512])\tTrue\n",
      "postnet.convolutions.0.1.bias\ttorch.Size([512])\tTrue\n",
      "postnet.convolutions.1.0.conv.weight\ttorch.Size([512, 512, 5])\tTrue\n",
      "postnet.convolutions.1.0.conv.bias\ttorch.Size([512])\tTrue\n",
      "postnet.convolutions.1.1.weight\ttorch.Size([512])\tTrue\n",
      "postnet.convolutions.1.1.bias\ttorch.Size([512])\tTrue\n",
      "postnet.convolutions.2.0.conv.weight\ttorch.Size([512, 512, 5])\tTrue\n",
      "postnet.convolutions.2.0.conv.bias\ttorch.Size([512])\tTrue\n",
      "postnet.convolutions.2.1.weight\ttorch.Size([512])\tTrue\n",
      "postnet.convolutions.2.1.bias\ttorch.Size([512])\tTrue\n",
      "postnet.convolutions.3.0.conv.weight\ttorch.Size([512, 512, 5])\tTrue\n",
      "postnet.convolutions.3.0.conv.bias\ttorch.Size([512])\tTrue\n",
      "postnet.convolutions.3.1.weight\ttorch.Size([512])\tTrue\n",
      "postnet.convolutions.3.1.bias\ttorch.Size([512])\tTrue\n",
      "postnet.convolutions.4.0.conv.weight\ttorch.Size([80, 512, 5])\tTrue\n",
      "postnet.convolutions.4.0.conv.bias\ttorch.Size([80])\tTrue\n",
      "postnet.convolutions.4.1.weight\ttorch.Size([80])\tTrue\n",
      "postnet.convolutions.4.1.bias\ttorch.Size([80])\tTrue\n",
      "speaker_embedding_layer.linear_projection.weight\ttorch.Size([1, 3])\tTrue\n",
      "emotion_embedding_layer.linear_projection.weight\ttorch.Size([3, 1])\tTrue\n",
      "loaded checkpoint ../../pretrained/tacotron2_statedict.pt\n"
     ]
    }
   ],
   "source": [
    "prj_name = 'DiscreteAttentionWeights'\n",
    "run_name = 'DiscreteAttentionWeights'\n",
    "checkpoint_name = 'tacotron2_statedict.pt'\n",
    "checkpoint_path = \"../../pretrained/tacotron2_statedict.pt\"\n",
    "\n",
    "model = load_model(hparams)\n",
    "model = load_pretrained_model(model, checkpoint_path)[0]\n",
    "_ = model.cuda().eval().half()"
   ]
  },
  {
   "cell_type": "markdown",
   "metadata": {},
   "source": [
    "#### Load WaveGlow for mel2audio synthesis and denoiser"
   ]
  },
  {
   "cell_type": "code",
   "execution_count": 8,
   "metadata": {},
   "outputs": [],
   "source": [
    "waveglow_path = '/data2/sungjaecho/pretrained/waveglow_256channels_ljs_v2.pt'\n",
    "waveglow = torch.load(waveglow_path)['model']\n",
    "waveglow.cuda().eval().half()\n",
    "for k in waveglow.convinv:\n",
    "    k.float()\n",
    "denoiser = Denoiser(waveglow)"
   ]
  },
  {
   "cell_type": "markdown",
   "metadata": {},
   "source": [
    "## 2. Generate audios of the 4 cases on a single sentence"
   ]
  },
  {
   "cell_type": "markdown",
   "metadata": {},
   "source": [
    "### 2.1. Functionalize the generating process"
   ]
  },
  {
   "cell_type": "code",
   "execution_count": 9,
   "metadata": {},
   "outputs": [],
   "source": [
    "import matplotlib.pylab as plt\n",
    "import soundfile as sf\n",
    "import os\n",
    "from measures import forward_attention_ratio, attention_ratio, attention_range_ratio, multiple_attention_ratio\n",
    "\n",
    "import matplotlib\n",
    "matplotlib.use('Agg')\n",
    "# Turn interactive plotting off\n",
    "plt.ioff()\n",
    "\n",
    "def synthesize_speech(text, str_speaker, str_emotion, discrete_attention_weight, png_path):\n",
    "    # Prepare a text input.\n",
    "    val_set = TextMelLoader(hparams, 'val')\n",
    "    sequence = np.array(text_to_sequence(text, ['english_cleaners']))[None, :]\n",
    "    sequence = torch.autograd.Variable(\n",
    "        torch.from_numpy(sequence)).cuda().long()\n",
    "\n",
    "    speaker_index = val_set.get_speaker(str_speaker).long().cuda()\n",
    "    emotion_vector = val_set.get_emotion_input(str_emotion).half().cuda().view(1,-1)\n",
    "    \n",
    "    mel_outputs, mel_outputs_postnet, gate_outputs, alignments = model.inference(sequence, speaker_index, emotion_vector, discrete_attention_weight)\n",
    "    \n",
    "    alignments = alignments.squeeze(dim=2)\n",
    "    \n",
    "    input_lengths = torch.Tensor([sequence.size(1)]).long().cuda()\n",
    "    far, _ = forward_attention_ratio(alignments, input_lengths, gate_outputs=gate_outputs, mode_mel_length=\"stop_token\")\n",
    "    ar_tuple = attention_ratio(alignments, input_lengths, sequence, gate_outputs=gate_outputs, mode_mel_length=\"stop_token\")\n",
    "    ar = ar_tuple[0][0]\n",
    "    arr, _ = attention_range_ratio(alignments, input_lengths, gate_outputs=gate_outputs, mode_mel_length=\"stop_token\")\n",
    "    mar, _ = multiple_attention_ratio(alignments, input_lengths, gate_outputs=gate_outputs, mode_mel_length=\"stop_token\")\n",
    "    att_quality = far * ar * arr * (1 - mar)\n",
    "    \n",
    "    print(\"Speaker: {}\".format(str_speaker))\n",
    "    print(\"Emotion: {}\".format(str_emotion))\n",
    "    print(\"Text   : {}\".format(text))\n",
    "    print(\"Attention quality:        {:.4f}\".format(att_quality))\n",
    "    print(\"Forward attentoin ratio:  {:.4f}\".format(far))\n",
    "    print(\"Attentoin ratio:          {:.4f}\".format(ar))\n",
    "    print(\"Range attentoin ratio:    {:.4f}\".format(arr))\n",
    "    print(\"Multiple attentoin ratio: {:.4f}\".format(mar))\n",
    "    \n",
    "    plot_data((mel_outputs.float().data.cpu().numpy()[0],\n",
    "               mel_outputs_postnet.float().data.cpu().numpy()[0],\n",
    "               alignments.float().data.cpu().numpy()[0].T))\n",
    "    plt.show()\n",
    "    #plt.ioff()\n",
    "\n",
    "    \n",
    "    with torch.no_grad():\n",
    "        audio = waveglow.infer(mel_outputs_postnet, sigma=1)\n",
    "        #audio = waveglow.infer(mel_outputs_postnet, sigma=0.666)\n",
    "        \n",
    "    np_audio = audio[0].data.cpu().numpy()\n",
    "    sample_rate = hparams.sampling_rate\n",
    "    return np_audio, sample_rate, sequence\n",
    "\n",
    "\n",
    "def make_wav_dir(prj_name, run_name, checkpoint_name):\n",
    "    top_dir = 'inference_ipynb'\n",
    "    \n",
    "    wav_dir = os.path.join(top_dir, prj_name)\n",
    "    if not os.path.exists(wav_dir):\n",
    "        os.mkdir(wav_dir)\n",
    "    \n",
    "    wav_dir = os.path.join(top_dir, prj_name, run_name)\n",
    "    if not os.path.exists(wav_dir):\n",
    "        os.mkdir(wav_dir)\n",
    "    \n",
    "    wav_dir = os.path.join(top_dir, prj_name, run_name, checkpoint_name)\n",
    "    if not os.path.exists(wav_dir):\n",
    "        os.mkdir(wav_dir)\n",
    "        \n",
    "    return wav_dir\n",
    "\n",
    "def drop_top_dir(path):\n",
    "    return os.path.join(*(path.split(os.path.sep)[1:]))\n",
    "\n",
    "\n",
    "def slugify(text):\n",
    "    \"\"\"\n",
    "    From: https://stackoverflow.com/questions/295135/turn-a-string-into-a-valid-filename\n",
    "    Normalizes string, converts to lowercase, removes non-alpha characters,\n",
    "    and converts spaces to hyphens.\n",
    "    \n",
    "    I have added replacing the blank with the underscore.\n",
    "    \"\"\"\n",
    "    import string\n",
    "    valid_chars = \"-_() %s%s\" % (string.ascii_letters, string.digits)\n",
    "\n",
    "    text = ''.join(c for c in text if c in valid_chars)\n",
    "    text = text.replace(' ', '_')\n",
    "    \n",
    "    return text"
   ]
  },
  {
   "cell_type": "markdown",
   "metadata": {},
   "source": [
    "### 2.2. Generation"
   ]
  },
  {
   "cell_type": "code",
   "execution_count": 10,
   "metadata": {},
   "outputs": [],
   "source": [
    "wav_dir = make_wav_dir(prj_name, run_name, checkpoint_name)"
   ]
  },
  {
   "cell_type": "code",
   "execution_count": 11,
   "metadata": {},
   "outputs": [
    {
     "name": "stdout",
     "output_type": "stream",
     "text": [
      "Speaker: ljs-w\n",
      "Emotion: neutral\n",
      "Text   : This is audio generated by Tacotron 2.\n",
      "Attention quality:        0.8277\n",
      "Forward attentoin ratio:  0.9958\n",
      "Attentoin ratio:          0.8750\n",
      "Range attentoin ratio:    1.0000\n",
      "Multiple attentoin ratio: 0.0500\n",
      "Saved inference_ipynb/DiscreteAttentionWeights/DiscreteAttentionWeights/tacotron2_statedict.pt/ljs-w_neutral_This_is_audio_generated_by_Tacotron_2_[Discrete(False,False)].wav\n",
      "Saved inference_ipynb/DiscreteAttentionWeights/DiscreteAttentionWeights/tacotron2_statedict.pt/ljs-w_neutral_This_is_audio_generated_by_Tacotron_2_[Discrete(False,False)].png\n"
     ]
    },
    {
     "data": {
      "text/html": [
       "<audio controls><source src=\"DiscreteAttentionWeights/DiscreteAttentionWeights/tacotron2_statedict.pt/ljs-w_neutral_This_is_audio_generated_by_Tacotron_2_[Discrete(False,False)].wav\" type=\"audio/wav\"></audio>"
      ],
      "text/plain": [
       "<IPython.core.display.HTML object>"
      ]
     },
     "metadata": {},
     "output_type": "display_data"
    },
    {
     "data": {
      "text/html": [
       "<img src=\"DiscreteAttentionWeights/DiscreteAttentionWeights/tacotron2_statedict.pt/ljs-w_neutral_This_is_audio_generated_by_Tacotron_2_[Discrete(False,False)].png\"></img>"
      ],
      "text/plain": [
       "<IPython.core.display.HTML object>"
      ]
     },
     "metadata": {},
     "output_type": "display_data"
    }
   ],
   "source": [
    "text = \"This is audio generated by Tacotron 2.\"\n",
    "speaker = 'ljs-w'\n",
    "emotion = 'neutral'\n",
    "discrete_attention_weight=[False,False]\n",
    "daw = discrete_attention_weight\n",
    "\n",
    "wav_name = \"{}_{}_{}_[Discrete({},{})].wav\".format(speaker, emotion, slugify(text).replace(' ', '_'), daw[0], daw[1])\n",
    "png_name = \"{}_{}_{}_[Discrete({},{})].png\".format(speaker, emotion, slugify(text), daw[0], daw[1])\n",
    "wav_path = os.path.join(wav_dir, wav_name)\n",
    "png_path = os.path.join(wav_dir, png_name)\n",
    "np_audio, sample_rate, sequence = synthesize_speech(text, speaker, emotion, discrete_attention_weight, png_path)\n",
    "sf.write(wav_path, np_audio.reshape(-1,1).astype('float32'), hparams.sampling_rate)\n",
    "plt.savefig(png_path, bbox_inches='tight')\n",
    "print(\"Saved {}\".format(wav_path))\n",
    "print(\"Saved {}\".format(png_path))\n",
    "#ipd.display(ipd.Audio(wav_path, rate=hparams.sampling_rate))\n",
    "ipd.display(ipd.HTML('<audio controls><source src=\"{}\" type=\"audio/wav\"></audio>'.format(drop_top_dir(wav_path))))\n",
    "ipd.display(ipd.HTML('<img src=\"{}\"></img>'.format(drop_top_dir(png_path))))"
   ]
  },
  {
   "cell_type": "code",
   "execution_count": 12,
   "metadata": {},
   "outputs": [
    {
     "name": "stdout",
     "output_type": "stream",
     "text": [
      "Speaker: ljs-w\n",
      "Emotion: neutral\n",
      "Text   : This is audio generated by Tacotron 2.\n",
      "Attention quality:        0.9500\n",
      "Forward attentoin ratio:  1.0000\n",
      "Attentoin ratio:          0.9500\n",
      "Range attentoin ratio:    1.0000\n",
      "Multiple attentoin ratio: 0.0000\n",
      "Saved inference_ipynb/DiscreteAttentionWeights/DiscreteAttentionWeights/tacotron2_statedict.pt/ljs-w_neutral_This_is_audio_generated_by_Tacotron_2_[Discrete(True,True)].wav\n",
      "Saved inference_ipynb/DiscreteAttentionWeights/DiscreteAttentionWeights/tacotron2_statedict.pt/ljs-w_neutral_This_is_audio_generated_by_Tacotron_2_[Discrete(True,True)].png\n"
     ]
    },
    {
     "data": {
      "text/html": [
       "<audio controls><source src=\"DiscreteAttentionWeights/DiscreteAttentionWeights/tacotron2_statedict.pt/ljs-w_neutral_This_is_audio_generated_by_Tacotron_2_[Discrete(True,True)].wav\" type=\"audio/wav\"></audio>"
      ],
      "text/plain": [
       "<IPython.core.display.HTML object>"
      ]
     },
     "metadata": {},
     "output_type": "display_data"
    },
    {
     "data": {
      "text/html": [
       "<img src=\"DiscreteAttentionWeights/DiscreteAttentionWeights/tacotron2_statedict.pt/ljs-w_neutral_This_is_audio_generated_by_Tacotron_2_[Discrete(True,True)].png\"></img>"
      ],
      "text/plain": [
       "<IPython.core.display.HTML object>"
      ]
     },
     "metadata": {},
     "output_type": "display_data"
    }
   ],
   "source": [
    "text = \"This is audio generated by Tacotron 2.\"\n",
    "speaker = 'ljs-w'\n",
    "emotion = 'neutral'\n",
    "discrete_attention_weight=[True,True]\n",
    "daw = discrete_attention_weight\n",
    "\n",
    "wav_name = \"{}_{}_{}_[Discrete({},{})].wav\".format(speaker, emotion, slugify(text), daw[0], daw[1])\n",
    "png_name = \"{}_{}_{}_[Discrete({},{})].png\".format(speaker, emotion, slugify(text), daw[0], daw[1])\n",
    "wav_path = os.path.join(wav_dir, wav_name)\n",
    "png_path = os.path.join(wav_dir, png_name)\n",
    "np_audio, sample_rate, sequence = synthesize_speech(text, speaker, emotion, discrete_attention_weight, png_path)\n",
    "sf.write(wav_path, np_audio.reshape(-1,1).astype('float32'), hparams.sampling_rate)\n",
    "plt.savefig(png_path, bbox_inches='tight')\n",
    "print(\"Saved {}\".format(wav_path))\n",
    "print(\"Saved {}\".format(png_path))\n",
    "#ipd.display(ipd.Audio(wav_path, rate=hparams.sampling_rate))\n",
    "ipd.display(ipd.HTML('<audio controls><source src=\"{}\" type=\"audio/wav\"></audio>'.format(drop_top_dir(wav_path))))\n",
    "ipd.display(ipd.HTML('<img src=\"{}\"></img>'.format(drop_top_dir(png_path))))"
   ]
  },
  {
   "cell_type": "code",
   "execution_count": 13,
   "metadata": {},
   "outputs": [
    {
     "name": "stdout",
     "output_type": "stream",
     "text": [
      "Speaker: ljs-w\n",
      "Emotion: neutral\n",
      "Text   : This is audio generated by Tacotron 2.\n",
      "Attention quality:        0.8750\n",
      "Forward attentoin ratio:  1.0000\n",
      "Attentoin ratio:          0.8750\n",
      "Range attentoin ratio:    1.0000\n",
      "Multiple attentoin ratio: 0.0000\n",
      "Saved inference_ipynb/DiscreteAttentionWeights/DiscreteAttentionWeights/tacotron2_statedict.pt/ljs-w_neutral_This_is_audio_generated_by_Tacotron_2_[Discrete(False,True)].wav\n",
      "Saved inference_ipynb/DiscreteAttentionWeights/DiscreteAttentionWeights/tacotron2_statedict.pt/ljs-w_neutral_This_is_audio_generated_by_Tacotron_2_[Discrete(False,True)].png\n"
     ]
    },
    {
     "data": {
      "text/html": [
       "<audio controls><source src=\"DiscreteAttentionWeights/DiscreteAttentionWeights/tacotron2_statedict.pt/ljs-w_neutral_This_is_audio_generated_by_Tacotron_2_[Discrete(False,True)].wav\" type=\"audio/wav\"></audio>"
      ],
      "text/plain": [
       "<IPython.core.display.HTML object>"
      ]
     },
     "metadata": {},
     "output_type": "display_data"
    },
    {
     "data": {
      "text/html": [
       "<img src=\"DiscreteAttentionWeights/DiscreteAttentionWeights/tacotron2_statedict.pt/ljs-w_neutral_This_is_audio_generated_by_Tacotron_2_[Discrete(False,True)].png\"></img>"
      ],
      "text/plain": [
       "<IPython.core.display.HTML object>"
      ]
     },
     "metadata": {},
     "output_type": "display_data"
    }
   ],
   "source": [
    "text = \"This is audio generated by Tacotron 2.\"\n",
    "speaker = 'ljs-w'\n",
    "emotion = 'neutral'\n",
    "discrete_attention_weight=[False,True]\n",
    "daw = discrete_attention_weight\n",
    "\n",
    "wav_name = \"{}_{}_{}_[Discrete({},{})].wav\".format(speaker, emotion, slugify(text), daw[0], daw[1])\n",
    "png_name = \"{}_{}_{}_[Discrete({},{})].png\".format(speaker, emotion, slugify(text), daw[0], daw[1])\n",
    "wav_path = os.path.join(wav_dir, wav_name)\n",
    "png_path = os.path.join(wav_dir, png_name)\n",
    "np_audio, sample_rate, sequence = synthesize_speech(text, speaker, emotion, discrete_attention_weight, png_path)\n",
    "sf.write(wav_path, np_audio.reshape(-1,1).astype('float32'), hparams.sampling_rate)\n",
    "plt.savefig(png_path, bbox_inches='tight')\n",
    "print(\"Saved {}\".format(wav_path))\n",
    "print(\"Saved {}\".format(png_path))\n",
    "#ipd.display(ipd.Audio(wav_path, rate=hparams.sampling_rate))\n",
    "ipd.display(ipd.HTML('<audio controls><source src=\"{}\" type=\"audio/wav\"></audio>'.format(drop_top_dir(wav_path))))\n",
    "ipd.display(ipd.HTML('<img src=\"{}\"></img>'.format(drop_top_dir(png_path))))"
   ]
  },
  {
   "cell_type": "code",
   "execution_count": 14,
   "metadata": {},
   "outputs": [
    {
     "name": "stdout",
     "output_type": "stream",
     "text": [
      "Warning! Reached max decoder steps\n",
      "Speaker: ljs-w\n",
      "Emotion: neutral\n",
      "Text   : This is audio generated by Tacotron 2.\n",
      "Attention quality:        0.4232\n",
      "Forward attentoin ratio:  0.9730\n",
      "Attentoin ratio:          0.7250\n",
      "Range attentoin ratio:    1.0000\n",
      "Multiple attentoin ratio: 0.4000\n",
      "Saved inference_ipynb/DiscreteAttentionWeights/DiscreteAttentionWeights/tacotron2_statedict.pt/ljs-w_neutral_This_is_audio_generated_by_Tacotron_2_[Discrete(True,False)].wav\n",
      "Saved inference_ipynb/DiscreteAttentionWeights/DiscreteAttentionWeights/tacotron2_statedict.pt/ljs-w_neutral_This_is_audio_generated_by_Tacotron_2_[Discrete(True,False)].png\n"
     ]
    },
    {
     "data": {
      "text/html": [
       "<audio controls><source src=\"DiscreteAttentionWeights/DiscreteAttentionWeights/tacotron2_statedict.pt/ljs-w_neutral_This_is_audio_generated_by_Tacotron_2_[Discrete(True,False)].wav\" type=\"audio/wav\"></audio>"
      ],
      "text/plain": [
       "<IPython.core.display.HTML object>"
      ]
     },
     "metadata": {},
     "output_type": "display_data"
    },
    {
     "data": {
      "text/html": [
       "<img src=\"DiscreteAttentionWeights/DiscreteAttentionWeights/tacotron2_statedict.pt/ljs-w_neutral_This_is_audio_generated_by_Tacotron_2_[Discrete(True,False)].png\"></img>"
      ],
      "text/plain": [
       "<IPython.core.display.HTML object>"
      ]
     },
     "metadata": {},
     "output_type": "display_data"
    }
   ],
   "source": [
    "text = \"This is audio generated by Tacotron 2.\"\n",
    "speaker = 'ljs-w'\n",
    "emotion = 'neutral'\n",
    "discrete_attention_weight=[True,False]\n",
    "daw = discrete_attention_weight\n",
    "\n",
    "wav_name = \"{}_{}_{}_[Discrete({},{})].wav\".format(speaker, emotion, slugify(text), daw[0], daw[1])\n",
    "png_name = \"{}_{}_{}_[Discrete({},{})].png\".format(speaker, emotion, slugify(text), daw[0], daw[1])\n",
    "wav_path = os.path.join(wav_dir, wav_name)\n",
    "png_path = os.path.join(wav_dir, png_name)\n",
    "np_audio, sample_rate, sequence = synthesize_speech(text, speaker, emotion, discrete_attention_weight, png_path)\n",
    "sf.write(wav_path, np_audio.reshape(-1,1).astype('float32'), hparams.sampling_rate)\n",
    "plt.savefig(png_path, bbox_inches='tight')\n",
    "print(\"Saved {}\".format(wav_path))\n",
    "print(\"Saved {}\".format(png_path))\n",
    "#ipd.display(ipd.Audio(wav_path, rate=hparams.sampling_rate))\n",
    "ipd.display(ipd.HTML('<audio controls><source src=\"{}\" type=\"audio/wav\"></audio>'.format(drop_top_dir(wav_path))))\n",
    "ipd.display(ipd.HTML('<img src=\"{}\"></img>'.format(drop_top_dir(png_path))))"
   ]
  },
  {
   "cell_type": "markdown",
   "metadata": {},
   "source": [
    "## 3. Generate audios of the 4 cases on 10 validation sentences"
   ]
  },
  {
   "cell_type": "code",
   "execution_count": 15,
   "metadata": {},
   "outputs": [],
   "source": [
    "from utils import load_wavpath_text_speaker_sex_emotion_lang"
   ]
  },
  {
   "cell_type": "code",
   "execution_count": 16,
   "metadata": {},
   "outputs": [],
   "source": [
    "valsets = dict()"
   ]
  },
  {
   "cell_type": "code",
   "execution_count": 17,
   "metadata": {},
   "outputs": [
    {
     "name": "stdout",
     "output_type": "stream",
     "text": [
      "len(valsets[(ljs-w, neutral)]) = 100\n"
     ]
    }
   ],
   "source": [
    "speaker = 'ljs-w'\n",
    "emotion = 'neutral'\n",
    "valsets[(speaker, emotion)] = load_wavpath_text_speaker_sex_emotion_lang(hparams, 'val', speaker, emotion, 0)[0]\n",
    "print(\"len(valsets[({speaker}, {emotion})]) = {length}\".format(\n",
    "    speaker=speaker,\n",
    "    emotion=emotion,\n",
    "    length=len(valsets[(speaker, emotion)])\n",
    "))"
   ]
  },
  {
   "cell_type": "code",
   "execution_count": 18,
   "metadata": {},
   "outputs": [
    {
     "name": "stdout",
     "output_type": "stream",
     "text": [
      "Speaker: ljs-w\n",
      "Emotion: neutral\n",
      "Text   : he was reported to have fallen away to a shadow.\n",
      "Attention quality:        0.8333\n",
      "Forward attentoin ratio:  1.0000\n",
      "Attentoin ratio:          0.8333\n",
      "Range attentoin ratio:    1.0000\n",
      "Multiple attentoin ratio: 0.0000\n",
      "Saved inference_ipynb/DiscreteAttentionWeights/DiscreteAttentionWeights/tacotron2_statedict.pt/[000]ljs-w_neutral_he_was_reported_to_have_fallen_away_to_a_shadow_[Discrete(False,False)].wav\n",
      "Saved inference_ipynb/DiscreteAttentionWeights/DiscreteAttentionWeights/tacotron2_statedict.pt/[000]ljs-w_neutral_he_was_reported_to_have_fallen_away_to_a_shadow_[Discrete(False,False)].png\n"
     ]
    },
    {
     "data": {
      "text/html": [
       "<audio controls><source src=\"DiscreteAttentionWeights/DiscreteAttentionWeights/tacotron2_statedict.pt/[000]ljs-w_neutral_he_was_reported_to_have_fallen_away_to_a_shadow_[Discrete(False,False)].wav\" type=\"audio/wav\"></audio>"
      ],
      "text/plain": [
       "<IPython.core.display.HTML object>"
      ]
     },
     "metadata": {},
     "output_type": "display_data"
    },
    {
     "data": {
      "text/html": [
       "<img src=\"DiscreteAttentionWeights/DiscreteAttentionWeights/tacotron2_statedict.pt/[000]ljs-w_neutral_he_was_reported_to_have_fallen_away_to_a_shadow_[Discrete(False,False)].png\"></img>"
      ],
      "text/plain": [
       "<IPython.core.display.HTML object>"
      ]
     },
     "metadata": {},
     "output_type": "display_data"
    },
    {
     "name": "stdout",
     "output_type": "stream",
     "text": [
      "Speaker: ljs-w\n",
      "Emotion: neutral\n",
      "Text   : he was reported to have fallen away to a shadow.\n",
      "Attention quality:        0.9583\n",
      "Forward attentoin ratio:  1.0000\n",
      "Attentoin ratio:          0.9583\n",
      "Range attentoin ratio:    1.0000\n",
      "Multiple attentoin ratio: 0.0000\n",
      "Saved inference_ipynb/DiscreteAttentionWeights/DiscreteAttentionWeights/tacotron2_statedict.pt/[000]ljs-w_neutral_he_was_reported_to_have_fallen_away_to_a_shadow_[Discrete(True,True)].wav\n",
      "Saved inference_ipynb/DiscreteAttentionWeights/DiscreteAttentionWeights/tacotron2_statedict.pt/[000]ljs-w_neutral_he_was_reported_to_have_fallen_away_to_a_shadow_[Discrete(True,True)].png\n"
     ]
    },
    {
     "data": {
      "text/html": [
       "<audio controls><source src=\"DiscreteAttentionWeights/DiscreteAttentionWeights/tacotron2_statedict.pt/[000]ljs-w_neutral_he_was_reported_to_have_fallen_away_to_a_shadow_[Discrete(True,True)].wav\" type=\"audio/wav\"></audio>"
      ],
      "text/plain": [
       "<IPython.core.display.HTML object>"
      ]
     },
     "metadata": {},
     "output_type": "display_data"
    },
    {
     "data": {
      "text/html": [
       "<img src=\"DiscreteAttentionWeights/DiscreteAttentionWeights/tacotron2_statedict.pt/[000]ljs-w_neutral_he_was_reported_to_have_fallen_away_to_a_shadow_[Discrete(True,True)].png\"></img>"
      ],
      "text/plain": [
       "<IPython.core.display.HTML object>"
      ]
     },
     "metadata": {},
     "output_type": "display_data"
    },
    {
     "name": "stdout",
     "output_type": "stream",
     "text": [
      "Speaker: ljs-w\n",
      "Emotion: neutral\n",
      "Text   : he was reported to have fallen away to a shadow.\n",
      "Attention quality:        0.8333\n",
      "Forward attentoin ratio:  1.0000\n",
      "Attentoin ratio:          0.8333\n",
      "Range attentoin ratio:    1.0000\n",
      "Multiple attentoin ratio: 0.0000\n",
      "Saved inference_ipynb/DiscreteAttentionWeights/DiscreteAttentionWeights/tacotron2_statedict.pt/[000]ljs-w_neutral_he_was_reported_to_have_fallen_away_to_a_shadow_[Discrete(False,True)].wav\n",
      "Saved inference_ipynb/DiscreteAttentionWeights/DiscreteAttentionWeights/tacotron2_statedict.pt/[000]ljs-w_neutral_he_was_reported_to_have_fallen_away_to_a_shadow_[Discrete(False,True)].png\n"
     ]
    },
    {
     "data": {
      "text/html": [
       "<audio controls><source src=\"DiscreteAttentionWeights/DiscreteAttentionWeights/tacotron2_statedict.pt/[000]ljs-w_neutral_he_was_reported_to_have_fallen_away_to_a_shadow_[Discrete(False,True)].wav\" type=\"audio/wav\"></audio>"
      ],
      "text/plain": [
       "<IPython.core.display.HTML object>"
      ]
     },
     "metadata": {},
     "output_type": "display_data"
    },
    {
     "data": {
      "text/html": [
       "<img src=\"DiscreteAttentionWeights/DiscreteAttentionWeights/tacotron2_statedict.pt/[000]ljs-w_neutral_he_was_reported_to_have_fallen_away_to_a_shadow_[Discrete(False,True)].png\"></img>"
      ],
      "text/plain": [
       "<IPython.core.display.HTML object>"
      ]
     },
     "metadata": {},
     "output_type": "display_data"
    },
    {
     "name": "stdout",
     "output_type": "stream",
     "text": [
      "Speaker: ljs-w\n",
      "Emotion: neutral\n",
      "Text   : he was reported to have fallen away to a shadow.\n",
      "Attention quality:        0.6033\n",
      "Forward attentoin ratio:  0.9986\n",
      "Attentoin ratio:          0.6042\n",
      "Range attentoin ratio:    1.0000\n",
      "Multiple attentoin ratio: 0.0000\n",
      "Saved inference_ipynb/DiscreteAttentionWeights/DiscreteAttentionWeights/tacotron2_statedict.pt/[000]ljs-w_neutral_he_was_reported_to_have_fallen_away_to_a_shadow_[Discrete(True,False)].wav\n",
      "Saved inference_ipynb/DiscreteAttentionWeights/DiscreteAttentionWeights/tacotron2_statedict.pt/[000]ljs-w_neutral_he_was_reported_to_have_fallen_away_to_a_shadow_[Discrete(True,False)].png\n"
     ]
    },
    {
     "data": {
      "text/html": [
       "<audio controls><source src=\"DiscreteAttentionWeights/DiscreteAttentionWeights/tacotron2_statedict.pt/[000]ljs-w_neutral_he_was_reported_to_have_fallen_away_to_a_shadow_[Discrete(True,False)].wav\" type=\"audio/wav\"></audio>"
      ],
      "text/plain": [
       "<IPython.core.display.HTML object>"
      ]
     },
     "metadata": {},
     "output_type": "display_data"
    },
    {
     "data": {
      "text/html": [
       "<img src=\"DiscreteAttentionWeights/DiscreteAttentionWeights/tacotron2_statedict.pt/[000]ljs-w_neutral_he_was_reported_to_have_fallen_away_to_a_shadow_[Discrete(True,False)].png\"></img>"
      ],
      "text/plain": [
       "<IPython.core.display.HTML object>"
      ]
     },
     "metadata": {},
     "output_type": "display_data"
    },
    {
     "name": "stdout",
     "output_type": "stream",
     "text": [
      "[1 Done!]======================================================================================================================================================\n",
      "Speaker: ljs-w\n",
      "Emotion: neutral\n",
      "Text   : Speaking on a debate on prison matters, he declared that\n",
      "Attention quality:        0.8393\n",
      "Forward attentoin ratio:  1.0000\n",
      "Attentoin ratio:          0.8393\n",
      "Range attentoin ratio:    1.0000\n",
      "Multiple attentoin ratio: 0.0000\n",
      "Saved inference_ipynb/DiscreteAttentionWeights/DiscreteAttentionWeights/tacotron2_statedict.pt/[001]ljs-w_neutral_Speaking_on_a_debate_on_prison_matters_he_declared_that_[Discrete(False,False)].wav\n",
      "Saved inference_ipynb/DiscreteAttentionWeights/DiscreteAttentionWeights/tacotron2_statedict.pt/[001]ljs-w_neutral_Speaking_on_a_debate_on_prison_matters_he_declared_that_[Discrete(False,False)].png\n"
     ]
    },
    {
     "data": {
      "text/html": [
       "<audio controls><source src=\"DiscreteAttentionWeights/DiscreteAttentionWeights/tacotron2_statedict.pt/[001]ljs-w_neutral_Speaking_on_a_debate_on_prison_matters_he_declared_that_[Discrete(False,False)].wav\" type=\"audio/wav\"></audio>"
      ],
      "text/plain": [
       "<IPython.core.display.HTML object>"
      ]
     },
     "metadata": {},
     "output_type": "display_data"
    },
    {
     "data": {
      "text/html": [
       "<img src=\"DiscreteAttentionWeights/DiscreteAttentionWeights/tacotron2_statedict.pt/[001]ljs-w_neutral_Speaking_on_a_debate_on_prison_matters_he_declared_that_[Discrete(False,False)].png\"></img>"
      ],
      "text/plain": [
       "<IPython.core.display.HTML object>"
      ]
     },
     "metadata": {},
     "output_type": "display_data"
    },
    {
     "name": "stdout",
     "output_type": "stream",
     "text": [
      "Speaker: ljs-w\n",
      "Emotion: neutral\n",
      "Text   : Speaking on a debate on prison matters, he declared that\n",
      "Attention quality:        0.8929\n",
      "Forward attentoin ratio:  1.0000\n",
      "Attentoin ratio:          0.8929\n",
      "Range attentoin ratio:    1.0000\n",
      "Multiple attentoin ratio: 0.0000\n",
      "Saved inference_ipynb/DiscreteAttentionWeights/DiscreteAttentionWeights/tacotron2_statedict.pt/[001]ljs-w_neutral_Speaking_on_a_debate_on_prison_matters_he_declared_that_[Discrete(True,True)].wav\n",
      "Saved inference_ipynb/DiscreteAttentionWeights/DiscreteAttentionWeights/tacotron2_statedict.pt/[001]ljs-w_neutral_Speaking_on_a_debate_on_prison_matters_he_declared_that_[Discrete(True,True)].png\n"
     ]
    },
    {
     "data": {
      "text/html": [
       "<audio controls><source src=\"DiscreteAttentionWeights/DiscreteAttentionWeights/tacotron2_statedict.pt/[001]ljs-w_neutral_Speaking_on_a_debate_on_prison_matters_he_declared_that_[Discrete(True,True)].wav\" type=\"audio/wav\"></audio>"
      ],
      "text/plain": [
       "<IPython.core.display.HTML object>"
      ]
     },
     "metadata": {},
     "output_type": "display_data"
    },
    {
     "data": {
      "text/html": [
       "<img src=\"DiscreteAttentionWeights/DiscreteAttentionWeights/tacotron2_statedict.pt/[001]ljs-w_neutral_Speaking_on_a_debate_on_prison_matters_he_declared_that_[Discrete(True,True)].png\"></img>"
      ],
      "text/plain": [
       "<IPython.core.display.HTML object>"
      ]
     },
     "metadata": {},
     "output_type": "display_data"
    },
    {
     "name": "stdout",
     "output_type": "stream",
     "text": [
      "Warning! Reached max decoder steps\n",
      "Speaker: ljs-w\n",
      "Emotion: neutral\n",
      "Text   : Speaking on a debate on prison matters, he declared that\n",
      "Attention quality:        0.4697\n",
      "Forward attentoin ratio:  0.9960\n",
      "Attentoin ratio:          0.9107\n",
      "Range attentoin ratio:    1.0000\n",
      "Multiple attentoin ratio: 0.4821\n",
      "Saved inference_ipynb/DiscreteAttentionWeights/DiscreteAttentionWeights/tacotron2_statedict.pt/[001]ljs-w_neutral_Speaking_on_a_debate_on_prison_matters_he_declared_that_[Discrete(False,True)].wav\n",
      "Saved inference_ipynb/DiscreteAttentionWeights/DiscreteAttentionWeights/tacotron2_statedict.pt/[001]ljs-w_neutral_Speaking_on_a_debate_on_prison_matters_he_declared_that_[Discrete(False,True)].png\n"
     ]
    },
    {
     "data": {
      "text/html": [
       "<audio controls><source src=\"DiscreteAttentionWeights/DiscreteAttentionWeights/tacotron2_statedict.pt/[001]ljs-w_neutral_Speaking_on_a_debate_on_prison_matters_he_declared_that_[Discrete(False,True)].wav\" type=\"audio/wav\"></audio>"
      ],
      "text/plain": [
       "<IPython.core.display.HTML object>"
      ]
     },
     "metadata": {},
     "output_type": "display_data"
    },
    {
     "data": {
      "text/html": [
       "<img src=\"DiscreteAttentionWeights/DiscreteAttentionWeights/tacotron2_statedict.pt/[001]ljs-w_neutral_Speaking_on_a_debate_on_prison_matters_he_declared_that_[Discrete(False,True)].png\"></img>"
      ],
      "text/plain": [
       "<IPython.core.display.HTML object>"
      ]
     },
     "metadata": {},
     "output_type": "display_data"
    },
    {
     "name": "stdout",
     "output_type": "stream",
     "text": [
      "Speaker: ljs-w\n",
      "Emotion: neutral\n",
      "Text   : Speaking on a debate on prison matters, he declared that\n",
      "Attention quality:        0.0729\n",
      "Forward attentoin ratio:  0.9921\n",
      "Attentoin ratio:          0.1964\n",
      "Range attentoin ratio:    0.4107\n",
      "Multiple attentoin ratio: 0.0893\n",
      "Saved inference_ipynb/DiscreteAttentionWeights/DiscreteAttentionWeights/tacotron2_statedict.pt/[001]ljs-w_neutral_Speaking_on_a_debate_on_prison_matters_he_declared_that_[Discrete(True,False)].wav\n",
      "Saved inference_ipynb/DiscreteAttentionWeights/DiscreteAttentionWeights/tacotron2_statedict.pt/[001]ljs-w_neutral_Speaking_on_a_debate_on_prison_matters_he_declared_that_[Discrete(True,False)].png\n"
     ]
    },
    {
     "data": {
      "text/html": [
       "<audio controls><source src=\"DiscreteAttentionWeights/DiscreteAttentionWeights/tacotron2_statedict.pt/[001]ljs-w_neutral_Speaking_on_a_debate_on_prison_matters_he_declared_that_[Discrete(True,False)].wav\" type=\"audio/wav\"></audio>"
      ],
      "text/plain": [
       "<IPython.core.display.HTML object>"
      ]
     },
     "metadata": {},
     "output_type": "display_data"
    },
    {
     "data": {
      "text/html": [
       "<img src=\"DiscreteAttentionWeights/DiscreteAttentionWeights/tacotron2_statedict.pt/[001]ljs-w_neutral_Speaking_on_a_debate_on_prison_matters_he_declared_that_[Discrete(True,False)].png\"></img>"
      ],
      "text/plain": [
       "<IPython.core.display.HTML object>"
      ]
     },
     "metadata": {},
     "output_type": "display_data"
    },
    {
     "name": "stdout",
     "output_type": "stream",
     "text": [
      "[2 Done!]======================================================================================================================================================\n",
      "Speaker: ljs-w\n",
      "Emotion: neutral\n",
      "Text   : These pungent and well-grounded strictures applied with still greater force to the unconvicted prisoner, the man who came to the prison innocent, and still uncontaminated,\n",
      "Attention quality:        0.8602\n",
      "Forward attentoin ratio:  0.9989\n",
      "Attentoin ratio:          0.8713\n",
      "Range attentoin ratio:    1.0000\n",
      "Multiple attentoin ratio: 0.0117\n",
      "Saved inference_ipynb/DiscreteAttentionWeights/DiscreteAttentionWeights/tacotron2_statedict.pt/[002]ljs-w_neutral_These_pungent_and_well-grounded_strictures_applied_with_still_greater_force_to_the_unconvicted_prisoner_the_man_who_came_to_the_prison_innocent_and_still_uncontaminated_[Discrete(False,False)].wav\n",
      "Saved inference_ipynb/DiscreteAttentionWeights/DiscreteAttentionWeights/tacotron2_statedict.pt/[002]ljs-w_neutral_These_pungent_and_well-grounded_strictures_applied_with_still_greater_force_to_the_unconvicted_prisoner_the_man_who_came_to_the_prison_innocent_and_still_uncontaminated_[Discrete(False,False)].png\n"
     ]
    },
    {
     "data": {
      "text/html": [
       "<audio controls><source src=\"DiscreteAttentionWeights/DiscreteAttentionWeights/tacotron2_statedict.pt/[002]ljs-w_neutral_These_pungent_and_well-grounded_strictures_applied_with_still_greater_force_to_the_unconvicted_prisoner_the_man_who_came_to_the_prison_innocent_and_still_uncontaminated_[Discrete(False,False)].wav\" type=\"audio/wav\"></audio>"
      ],
      "text/plain": [
       "<IPython.core.display.HTML object>"
      ]
     },
     "metadata": {},
     "output_type": "display_data"
    },
    {
     "data": {
      "text/html": [
       "<img src=\"DiscreteAttentionWeights/DiscreteAttentionWeights/tacotron2_statedict.pt/[002]ljs-w_neutral_These_pungent_and_well-grounded_strictures_applied_with_still_greater_force_to_the_unconvicted_prisoner_the_man_who_came_to_the_prison_innocent_and_still_uncontaminated_[Discrete(False,False)].png\"></img>"
      ],
      "text/plain": [
       "<IPython.core.display.HTML object>"
      ]
     },
     "metadata": {},
     "output_type": "display_data"
    },
    {
     "name": "stdout",
     "output_type": "stream",
     "text": [
      "Warning! Reached max decoder steps\n",
      "Speaker: ljs-w\n",
      "Emotion: neutral\n",
      "Text   : These pungent and well-grounded strictures applied with still greater force to the unconvicted prisoner, the man who came to the prison innocent, and still uncontaminated,\n",
      "Attention quality:        0.1554\n",
      "Forward attentoin ratio:  1.0000\n",
      "Attentoin ratio:          0.3743\n",
      "Range attentoin ratio:    0.4152\n",
      "Multiple attentoin ratio: 0.0000\n",
      "Saved inference_ipynb/DiscreteAttentionWeights/DiscreteAttentionWeights/tacotron2_statedict.pt/[002]ljs-w_neutral_These_pungent_and_well-grounded_strictures_applied_with_still_greater_force_to_the_unconvicted_prisoner_the_man_who_came_to_the_prison_innocent_and_still_uncontaminated_[Discrete(True,True)].wav\n",
      "Saved inference_ipynb/DiscreteAttentionWeights/DiscreteAttentionWeights/tacotron2_statedict.pt/[002]ljs-w_neutral_These_pungent_and_well-grounded_strictures_applied_with_still_greater_force_to_the_unconvicted_prisoner_the_man_who_came_to_the_prison_innocent_and_still_uncontaminated_[Discrete(True,True)].png\n"
     ]
    },
    {
     "data": {
      "text/html": [
       "<audio controls><source src=\"DiscreteAttentionWeights/DiscreteAttentionWeights/tacotron2_statedict.pt/[002]ljs-w_neutral_These_pungent_and_well-grounded_strictures_applied_with_still_greater_force_to_the_unconvicted_prisoner_the_man_who_came_to_the_prison_innocent_and_still_uncontaminated_[Discrete(True,True)].wav\" type=\"audio/wav\"></audio>"
      ],
      "text/plain": [
       "<IPython.core.display.HTML object>"
      ]
     },
     "metadata": {},
     "output_type": "display_data"
    },
    {
     "data": {
      "text/html": [
       "<img src=\"DiscreteAttentionWeights/DiscreteAttentionWeights/tacotron2_statedict.pt/[002]ljs-w_neutral_These_pungent_and_well-grounded_strictures_applied_with_still_greater_force_to_the_unconvicted_prisoner_the_man_who_came_to_the_prison_innocent_and_still_uncontaminated_[Discrete(True,True)].png\"></img>"
      ],
      "text/plain": [
       "<IPython.core.display.HTML object>"
      ]
     },
     "metadata": {},
     "output_type": "display_data"
    },
    {
     "name": "stdout",
     "output_type": "stream",
     "text": [
      "Warning! Reached max decoder steps\n",
      "Speaker: ljs-w\n",
      "Emotion: neutral\n",
      "Text   : These pungent and well-grounded strictures applied with still greater force to the unconvicted prisoner, the man who came to the prison innocent, and still uncontaminated,\n",
      "Attention quality:        0.8005\n",
      "Forward attentoin ratio:  1.0000\n",
      "Attentoin ratio:          0.8246\n",
      "Range attentoin ratio:    0.9708\n",
      "Multiple attentoin ratio: 0.0000\n",
      "Saved inference_ipynb/DiscreteAttentionWeights/DiscreteAttentionWeights/tacotron2_statedict.pt/[002]ljs-w_neutral_These_pungent_and_well-grounded_strictures_applied_with_still_greater_force_to_the_unconvicted_prisoner_the_man_who_came_to_the_prison_innocent_and_still_uncontaminated_[Discrete(False,True)].wav\n",
      "Saved inference_ipynb/DiscreteAttentionWeights/DiscreteAttentionWeights/tacotron2_statedict.pt/[002]ljs-w_neutral_These_pungent_and_well-grounded_strictures_applied_with_still_greater_force_to_the_unconvicted_prisoner_the_man_who_came_to_the_prison_innocent_and_still_uncontaminated_[Discrete(False,True)].png\n"
     ]
    },
    {
     "data": {
      "text/html": [
       "<audio controls><source src=\"DiscreteAttentionWeights/DiscreteAttentionWeights/tacotron2_statedict.pt/[002]ljs-w_neutral_These_pungent_and_well-grounded_strictures_applied_with_still_greater_force_to_the_unconvicted_prisoner_the_man_who_came_to_the_prison_innocent_and_still_uncontaminated_[Discrete(False,True)].wav\" type=\"audio/wav\"></audio>"
      ],
      "text/plain": [
       "<IPython.core.display.HTML object>"
      ]
     },
     "metadata": {},
     "output_type": "display_data"
    },
    {
     "data": {
      "text/html": [
       "<img src=\"DiscreteAttentionWeights/DiscreteAttentionWeights/tacotron2_statedict.pt/[002]ljs-w_neutral_These_pungent_and_well-grounded_strictures_applied_with_still_greater_force_to_the_unconvicted_prisoner_the_man_who_came_to_the_prison_innocent_and_still_uncontaminated_[Discrete(False,True)].png\"></img>"
      ],
      "text/plain": [
       "<IPython.core.display.HTML object>"
      ]
     },
     "metadata": {},
     "output_type": "display_data"
    },
    {
     "name": "stdout",
     "output_type": "stream",
     "text": [
      "Warning! Reached max decoder steps\n",
      "Speaker: ljs-w\n",
      "Emotion: neutral\n",
      "Text   : These pungent and well-grounded strictures applied with still greater force to the unconvicted prisoner, the man who came to the prison innocent, and still uncontaminated,\n",
      "Attention quality:        0.0260\n",
      "Forward attentoin ratio:  0.9510\n",
      "Attentoin ratio:          0.1228\n",
      "Range attentoin ratio:    0.2456\n",
      "Multiple attentoin ratio: 0.0936\n",
      "Saved inference_ipynb/DiscreteAttentionWeights/DiscreteAttentionWeights/tacotron2_statedict.pt/[002]ljs-w_neutral_These_pungent_and_well-grounded_strictures_applied_with_still_greater_force_to_the_unconvicted_prisoner_the_man_who_came_to_the_prison_innocent_and_still_uncontaminated_[Discrete(True,False)].wav\n",
      "Saved inference_ipynb/DiscreteAttentionWeights/DiscreteAttentionWeights/tacotron2_statedict.pt/[002]ljs-w_neutral_These_pungent_and_well-grounded_strictures_applied_with_still_greater_force_to_the_unconvicted_prisoner_the_man_who_came_to_the_prison_innocent_and_still_uncontaminated_[Discrete(True,False)].png\n"
     ]
    },
    {
     "data": {
      "text/html": [
       "<audio controls><source src=\"DiscreteAttentionWeights/DiscreteAttentionWeights/tacotron2_statedict.pt/[002]ljs-w_neutral_These_pungent_and_well-grounded_strictures_applied_with_still_greater_force_to_the_unconvicted_prisoner_the_man_who_came_to_the_prison_innocent_and_still_uncontaminated_[Discrete(True,False)].wav\" type=\"audio/wav\"></audio>"
      ],
      "text/plain": [
       "<IPython.core.display.HTML object>"
      ]
     },
     "metadata": {},
     "output_type": "display_data"
    },
    {
     "data": {
      "text/html": [
       "<img src=\"DiscreteAttentionWeights/DiscreteAttentionWeights/tacotron2_statedict.pt/[002]ljs-w_neutral_These_pungent_and_well-grounded_strictures_applied_with_still_greater_force_to_the_unconvicted_prisoner_the_man_who_came_to_the_prison_innocent_and_still_uncontaminated_[Discrete(True,False)].png\"></img>"
      ],
      "text/plain": [
       "<IPython.core.display.HTML object>"
      ]
     },
     "metadata": {},
     "output_type": "display_data"
    },
    {
     "name": "stdout",
     "output_type": "stream",
     "text": [
      "[3 Done!]======================================================================================================================================================\n",
      "Speaker: ljs-w\n",
      "Emotion: neutral\n",
      "Text   : although at Mr. Buxton's visit a new jail was in process of erection, the first step towards reform since Howard's visitation in seventeen seventy-four.\n",
      "Attention quality:        0.8516\n",
      "Forward attentoin ratio:  1.0000\n",
      "Attentoin ratio:          0.8516\n",
      "Range attentoin ratio:    1.0000\n",
      "Multiple attentoin ratio: 0.0000\n",
      "Saved inference_ipynb/DiscreteAttentionWeights/DiscreteAttentionWeights/tacotron2_statedict.pt/[003]ljs-w_neutral_although_at_Mr_Buxtons_visit_a_new_jail_was_in_process_of_erection_the_first_step_towards_reform_since_Howards_visitation_in_seventeen_seventy-four_[Discrete(False,False)].wav\n",
      "Saved inference_ipynb/DiscreteAttentionWeights/DiscreteAttentionWeights/tacotron2_statedict.pt/[003]ljs-w_neutral_although_at_Mr_Buxtons_visit_a_new_jail_was_in_process_of_erection_the_first_step_towards_reform_since_Howards_visitation_in_seventeen_seventy-four_[Discrete(False,False)].png\n"
     ]
    },
    {
     "data": {
      "text/html": [
       "<audio controls><source src=\"DiscreteAttentionWeights/DiscreteAttentionWeights/tacotron2_statedict.pt/[003]ljs-w_neutral_although_at_Mr_Buxtons_visit_a_new_jail_was_in_process_of_erection_the_first_step_towards_reform_since_Howards_visitation_in_seventeen_seventy-four_[Discrete(False,False)].wav\" type=\"audio/wav\"></audio>"
      ],
      "text/plain": [
       "<IPython.core.display.HTML object>"
      ]
     },
     "metadata": {},
     "output_type": "display_data"
    },
    {
     "data": {
      "text/html": [
       "<img src=\"DiscreteAttentionWeights/DiscreteAttentionWeights/tacotron2_statedict.pt/[003]ljs-w_neutral_although_at_Mr_Buxtons_visit_a_new_jail_was_in_process_of_erection_the_first_step_towards_reform_since_Howards_visitation_in_seventeen_seventy-four_[Discrete(False,False)].png\"></img>"
      ],
      "text/plain": [
       "<IPython.core.display.HTML object>"
      ]
     },
     "metadata": {},
     "output_type": "display_data"
    },
    {
     "name": "stdout",
     "output_type": "stream",
     "text": [
      "Warning! Reached max decoder steps\n",
      "Speaker: ljs-w\n",
      "Emotion: neutral\n",
      "Text   : although at Mr. Buxton's visit a new jail was in process of erection, the first step towards reform since Howard's visitation in seventeen seventy-four.\n",
      "Attention quality:        0.1020\n",
      "Forward attentoin ratio:  1.0000\n",
      "Attentoin ratio:          0.3161\n",
      "Range attentoin ratio:    0.3226\n",
      "Multiple attentoin ratio: 0.0000\n",
      "Saved inference_ipynb/DiscreteAttentionWeights/DiscreteAttentionWeights/tacotron2_statedict.pt/[003]ljs-w_neutral_although_at_Mr_Buxtons_visit_a_new_jail_was_in_process_of_erection_the_first_step_towards_reform_since_Howards_visitation_in_seventeen_seventy-four_[Discrete(True,True)].wav\n",
      "Saved inference_ipynb/DiscreteAttentionWeights/DiscreteAttentionWeights/tacotron2_statedict.pt/[003]ljs-w_neutral_although_at_Mr_Buxtons_visit_a_new_jail_was_in_process_of_erection_the_first_step_towards_reform_since_Howards_visitation_in_seventeen_seventy-four_[Discrete(True,True)].png\n"
     ]
    },
    {
     "data": {
      "text/html": [
       "<audio controls><source src=\"DiscreteAttentionWeights/DiscreteAttentionWeights/tacotron2_statedict.pt/[003]ljs-w_neutral_although_at_Mr_Buxtons_visit_a_new_jail_was_in_process_of_erection_the_first_step_towards_reform_since_Howards_visitation_in_seventeen_seventy-four_[Discrete(True,True)].wav\" type=\"audio/wav\"></audio>"
      ],
      "text/plain": [
       "<IPython.core.display.HTML object>"
      ]
     },
     "metadata": {},
     "output_type": "display_data"
    },
    {
     "data": {
      "text/html": [
       "<img src=\"DiscreteAttentionWeights/DiscreteAttentionWeights/tacotron2_statedict.pt/[003]ljs-w_neutral_although_at_Mr_Buxtons_visit_a_new_jail_was_in_process_of_erection_the_first_step_towards_reform_since_Howards_visitation_in_seventeen_seventy-four_[Discrete(True,True)].png\"></img>"
      ],
      "text/plain": [
       "<IPython.core.display.HTML object>"
      ]
     },
     "metadata": {},
     "output_type": "display_data"
    },
    {
     "name": "stdout",
     "output_type": "stream",
     "text": [
      "Speaker: ljs-w\n",
      "Emotion: neutral\n",
      "Text   : although at Mr. Buxton's visit a new jail was in process of erection, the first step towards reform since Howard's visitation in seventeen seventy-four.\n",
      "Attention quality:        0.8258\n",
      "Forward attentoin ratio:  1.0000\n",
      "Attentoin ratio:          0.8258\n",
      "Range attentoin ratio:    1.0000\n",
      "Multiple attentoin ratio: 0.0000\n",
      "Saved inference_ipynb/DiscreteAttentionWeights/DiscreteAttentionWeights/tacotron2_statedict.pt/[003]ljs-w_neutral_although_at_Mr_Buxtons_visit_a_new_jail_was_in_process_of_erection_the_first_step_towards_reform_since_Howards_visitation_in_seventeen_seventy-four_[Discrete(False,True)].wav\n",
      "Saved inference_ipynb/DiscreteAttentionWeights/DiscreteAttentionWeights/tacotron2_statedict.pt/[003]ljs-w_neutral_although_at_Mr_Buxtons_visit_a_new_jail_was_in_process_of_erection_the_first_step_towards_reform_since_Howards_visitation_in_seventeen_seventy-four_[Discrete(False,True)].png\n"
     ]
    },
    {
     "data": {
      "text/html": [
       "<audio controls><source src=\"DiscreteAttentionWeights/DiscreteAttentionWeights/tacotron2_statedict.pt/[003]ljs-w_neutral_although_at_Mr_Buxtons_visit_a_new_jail_was_in_process_of_erection_the_first_step_towards_reform_since_Howards_visitation_in_seventeen_seventy-four_[Discrete(False,True)].wav\" type=\"audio/wav\"></audio>"
      ],
      "text/plain": [
       "<IPython.core.display.HTML object>"
      ]
     },
     "metadata": {},
     "output_type": "display_data"
    },
    {
     "data": {
      "text/html": [
       "<img src=\"DiscreteAttentionWeights/DiscreteAttentionWeights/tacotron2_statedict.pt/[003]ljs-w_neutral_although_at_Mr_Buxtons_visit_a_new_jail_was_in_process_of_erection_the_first_step_towards_reform_since_Howards_visitation_in_seventeen_seventy-four_[Discrete(False,True)].png\"></img>"
      ],
      "text/plain": [
       "<IPython.core.display.HTML object>"
      ]
     },
     "metadata": {},
     "output_type": "display_data"
    },
    {
     "name": "stdout",
     "output_type": "stream",
     "text": [
      "Warning! Reached max decoder steps\n",
      "Speaker: ljs-w\n",
      "Emotion: neutral\n",
      "Text   : although at Mr. Buxton's visit a new jail was in process of erection, the first step towards reform since Howard's visitation in seventeen seventy-four.\n",
      "Attention quality:        0.0660\n",
      "Forward attentoin ratio:  0.9830\n",
      "Attentoin ratio:          0.2000\n",
      "Range attentoin ratio:    0.3613\n",
      "Multiple attentoin ratio: 0.0710\n",
      "Saved inference_ipynb/DiscreteAttentionWeights/DiscreteAttentionWeights/tacotron2_statedict.pt/[003]ljs-w_neutral_although_at_Mr_Buxtons_visit_a_new_jail_was_in_process_of_erection_the_first_step_towards_reform_since_Howards_visitation_in_seventeen_seventy-four_[Discrete(True,False)].wav\n",
      "Saved inference_ipynb/DiscreteAttentionWeights/DiscreteAttentionWeights/tacotron2_statedict.pt/[003]ljs-w_neutral_although_at_Mr_Buxtons_visit_a_new_jail_was_in_process_of_erection_the_first_step_towards_reform_since_Howards_visitation_in_seventeen_seventy-four_[Discrete(True,False)].png\n"
     ]
    },
    {
     "data": {
      "text/html": [
       "<audio controls><source src=\"DiscreteAttentionWeights/DiscreteAttentionWeights/tacotron2_statedict.pt/[003]ljs-w_neutral_although_at_Mr_Buxtons_visit_a_new_jail_was_in_process_of_erection_the_first_step_towards_reform_since_Howards_visitation_in_seventeen_seventy-four_[Discrete(True,False)].wav\" type=\"audio/wav\"></audio>"
      ],
      "text/plain": [
       "<IPython.core.display.HTML object>"
      ]
     },
     "metadata": {},
     "output_type": "display_data"
    },
    {
     "data": {
      "text/html": [
       "<img src=\"DiscreteAttentionWeights/DiscreteAttentionWeights/tacotron2_statedict.pt/[003]ljs-w_neutral_although_at_Mr_Buxtons_visit_a_new_jail_was_in_process_of_erection_the_first_step_towards_reform_since_Howards_visitation_in_seventeen_seventy-four_[Discrete(True,False)].png\"></img>"
      ],
      "text/plain": [
       "<IPython.core.display.HTML object>"
      ]
     },
     "metadata": {},
     "output_type": "display_data"
    },
    {
     "name": "stdout",
     "output_type": "stream",
     "text": [
      "[4 Done!]======================================================================================================================================================\n",
      "Speaker: ljs-w\n",
      "Emotion: neutral\n",
      "Text   : together with a great increase in the payrolls, there has come a substantial rise in the total of industrial profits\n",
      "Attention quality:        0.8362\n",
      "Forward attentoin ratio:  1.0000\n",
      "Attentoin ratio:          0.8362\n",
      "Range attentoin ratio:    1.0000\n",
      "Multiple attentoin ratio: 0.0000\n",
      "Saved inference_ipynb/DiscreteAttentionWeights/DiscreteAttentionWeights/tacotron2_statedict.pt/[004]ljs-w_neutral_together_with_a_great_increase_in_the_payrolls_there_has_come_a_substantial_rise_in_the_total_of_industrial_profits_[Discrete(False,False)].wav\n",
      "Saved inference_ipynb/DiscreteAttentionWeights/DiscreteAttentionWeights/tacotron2_statedict.pt/[004]ljs-w_neutral_together_with_a_great_increase_in_the_payrolls_there_has_come_a_substantial_rise_in_the_total_of_industrial_profits_[Discrete(False,False)].png\n"
     ]
    },
    {
     "data": {
      "text/html": [
       "<audio controls><source src=\"DiscreteAttentionWeights/DiscreteAttentionWeights/tacotron2_statedict.pt/[004]ljs-w_neutral_together_with_a_great_increase_in_the_payrolls_there_has_come_a_substantial_rise_in_the_total_of_industrial_profits_[Discrete(False,False)].wav\" type=\"audio/wav\"></audio>"
      ],
      "text/plain": [
       "<IPython.core.display.HTML object>"
      ]
     },
     "metadata": {},
     "output_type": "display_data"
    },
    {
     "data": {
      "text/html": [
       "<img src=\"DiscreteAttentionWeights/DiscreteAttentionWeights/tacotron2_statedict.pt/[004]ljs-w_neutral_together_with_a_great_increase_in_the_payrolls_there_has_come_a_substantial_rise_in_the_total_of_industrial_profits_[Discrete(False,False)].png\"></img>"
      ],
      "text/plain": [
       "<IPython.core.display.HTML object>"
      ]
     },
     "metadata": {},
     "output_type": "display_data"
    },
    {
     "name": "stdout",
     "output_type": "stream",
     "text": [
      "Warning! Reached max decoder steps\n",
      "Speaker: ljs-w\n",
      "Emotion: neutral\n",
      "Text   : together with a great increase in the payrolls, there has come a substantial rise in the total of industrial profits\n",
      "Attention quality:        0.2385\n",
      "Forward attentoin ratio:  0.9990\n",
      "Attentoin ratio:          0.4655\n",
      "Range attentoin ratio:    0.5172\n",
      "Multiple attentoin ratio: 0.0086\n",
      "Saved inference_ipynb/DiscreteAttentionWeights/DiscreteAttentionWeights/tacotron2_statedict.pt/[004]ljs-w_neutral_together_with_a_great_increase_in_the_payrolls_there_has_come_a_substantial_rise_in_the_total_of_industrial_profits_[Discrete(True,True)].wav\n",
      "Saved inference_ipynb/DiscreteAttentionWeights/DiscreteAttentionWeights/tacotron2_statedict.pt/[004]ljs-w_neutral_together_with_a_great_increase_in_the_payrolls_there_has_come_a_substantial_rise_in_the_total_of_industrial_profits_[Discrete(True,True)].png\n"
     ]
    },
    {
     "data": {
      "text/html": [
       "<audio controls><source src=\"DiscreteAttentionWeights/DiscreteAttentionWeights/tacotron2_statedict.pt/[004]ljs-w_neutral_together_with_a_great_increase_in_the_payrolls_there_has_come_a_substantial_rise_in_the_total_of_industrial_profits_[Discrete(True,True)].wav\" type=\"audio/wav\"></audio>"
      ],
      "text/plain": [
       "<IPython.core.display.HTML object>"
      ]
     },
     "metadata": {},
     "output_type": "display_data"
    },
    {
     "data": {
      "text/html": [
       "<img src=\"DiscreteAttentionWeights/DiscreteAttentionWeights/tacotron2_statedict.pt/[004]ljs-w_neutral_together_with_a_great_increase_in_the_payrolls_there_has_come_a_substantial_rise_in_the_total_of_industrial_profits_[Discrete(True,True)].png\"></img>"
      ],
      "text/plain": [
       "<IPython.core.display.HTML object>"
      ]
     },
     "metadata": {},
     "output_type": "display_data"
    },
    {
     "name": "stdout",
     "output_type": "stream",
     "text": [
      "Warning! Reached max decoder steps\n",
      "Speaker: ljs-w\n",
      "Emotion: neutral\n",
      "Text   : together with a great increase in the payrolls, there has come a substantial rise in the total of industrial profits\n",
      "Attention quality:        0.7595\n",
      "Forward attentoin ratio:  0.9990\n",
      "Attentoin ratio:          0.8017\n",
      "Range attentoin ratio:    1.0000\n",
      "Multiple attentoin ratio: 0.0517\n",
      "Saved inference_ipynb/DiscreteAttentionWeights/DiscreteAttentionWeights/tacotron2_statedict.pt/[004]ljs-w_neutral_together_with_a_great_increase_in_the_payrolls_there_has_come_a_substantial_rise_in_the_total_of_industrial_profits_[Discrete(False,True)].wav\n",
      "Saved inference_ipynb/DiscreteAttentionWeights/DiscreteAttentionWeights/tacotron2_statedict.pt/[004]ljs-w_neutral_together_with_a_great_increase_in_the_payrolls_there_has_come_a_substantial_rise_in_the_total_of_industrial_profits_[Discrete(False,True)].png\n"
     ]
    },
    {
     "data": {
      "text/html": [
       "<audio controls><source src=\"DiscreteAttentionWeights/DiscreteAttentionWeights/tacotron2_statedict.pt/[004]ljs-w_neutral_together_with_a_great_increase_in_the_payrolls_there_has_come_a_substantial_rise_in_the_total_of_industrial_profits_[Discrete(False,True)].wav\" type=\"audio/wav\"></audio>"
      ],
      "text/plain": [
       "<IPython.core.display.HTML object>"
      ]
     },
     "metadata": {},
     "output_type": "display_data"
    },
    {
     "data": {
      "text/html": [
       "<img src=\"DiscreteAttentionWeights/DiscreteAttentionWeights/tacotron2_statedict.pt/[004]ljs-w_neutral_together_with_a_great_increase_in_the_payrolls_there_has_come_a_substantial_rise_in_the_total_of_industrial_profits_[Discrete(False,True)].png\"></img>"
      ],
      "text/plain": [
       "<IPython.core.display.HTML object>"
      ]
     },
     "metadata": {},
     "output_type": "display_data"
    },
    {
     "name": "stdout",
     "output_type": "stream",
     "text": [
      "Speaker: ljs-w\n",
      "Emotion: neutral\n",
      "Text   : together with a great increase in the payrolls, there has come a substantial rise in the total of industrial profits\n",
      "Attention quality:        0.0504\n",
      "Forward attentoin ratio:  0.9759\n",
      "Attentoin ratio:          0.1466\n",
      "Range attentoin ratio:    0.3966\n",
      "Multiple attentoin ratio: 0.1121\n",
      "Saved inference_ipynb/DiscreteAttentionWeights/DiscreteAttentionWeights/tacotron2_statedict.pt/[004]ljs-w_neutral_together_with_a_great_increase_in_the_payrolls_there_has_come_a_substantial_rise_in_the_total_of_industrial_profits_[Discrete(True,False)].wav\n",
      "Saved inference_ipynb/DiscreteAttentionWeights/DiscreteAttentionWeights/tacotron2_statedict.pt/[004]ljs-w_neutral_together_with_a_great_increase_in_the_payrolls_there_has_come_a_substantial_rise_in_the_total_of_industrial_profits_[Discrete(True,False)].png\n"
     ]
    },
    {
     "data": {
      "text/html": [
       "<audio controls><source src=\"DiscreteAttentionWeights/DiscreteAttentionWeights/tacotron2_statedict.pt/[004]ljs-w_neutral_together_with_a_great_increase_in_the_payrolls_there_has_come_a_substantial_rise_in_the_total_of_industrial_profits_[Discrete(True,False)].wav\" type=\"audio/wav\"></audio>"
      ],
      "text/plain": [
       "<IPython.core.display.HTML object>"
      ]
     },
     "metadata": {},
     "output_type": "display_data"
    },
    {
     "data": {
      "text/html": [
       "<img src=\"DiscreteAttentionWeights/DiscreteAttentionWeights/tacotron2_statedict.pt/[004]ljs-w_neutral_together_with_a_great_increase_in_the_payrolls_there_has_come_a_substantial_rise_in_the_total_of_industrial_profits_[Discrete(True,False)].png\"></img>"
      ],
      "text/plain": [
       "<IPython.core.display.HTML object>"
      ]
     },
     "metadata": {},
     "output_type": "display_data"
    },
    {
     "name": "stdout",
     "output_type": "stream",
     "text": [
      "[5 Done!]======================================================================================================================================================\n",
      "Speaker: ljs-w\n",
      "Emotion: neutral\n",
      "Text   : Let me retrace my steps, and speak more in detail of the treatment of the condemned in those bloodthirsty and brutally indifferent days,\n",
      "Attention quality:        0.8382\n",
      "Forward attentoin ratio:  1.0000\n",
      "Attentoin ratio:          0.8382\n",
      "Range attentoin ratio:    1.0000\n",
      "Multiple attentoin ratio: 0.0000\n",
      "Saved inference_ipynb/DiscreteAttentionWeights/DiscreteAttentionWeights/tacotron2_statedict.pt/[005]ljs-w_neutral_Let_me_retrace_my_steps_and_speak_more_in_detail_of_the_treatment_of_the_condemned_in_those_bloodthirsty_and_brutally_indifferent_days_[Discrete(False,False)].wav\n",
      "Saved inference_ipynb/DiscreteAttentionWeights/DiscreteAttentionWeights/tacotron2_statedict.pt/[005]ljs-w_neutral_Let_me_retrace_my_steps_and_speak_more_in_detail_of_the_treatment_of_the_condemned_in_those_bloodthirsty_and_brutally_indifferent_days_[Discrete(False,False)].png\n"
     ]
    },
    {
     "data": {
      "text/html": [
       "<audio controls><source src=\"DiscreteAttentionWeights/DiscreteAttentionWeights/tacotron2_statedict.pt/[005]ljs-w_neutral_Let_me_retrace_my_steps_and_speak_more_in_detail_of_the_treatment_of_the_condemned_in_those_bloodthirsty_and_brutally_indifferent_days_[Discrete(False,False)].wav\" type=\"audio/wav\"></audio>"
      ],
      "text/plain": [
       "<IPython.core.display.HTML object>"
      ]
     },
     "metadata": {},
     "output_type": "display_data"
    },
    {
     "data": {
      "text/html": [
       "<img src=\"DiscreteAttentionWeights/DiscreteAttentionWeights/tacotron2_statedict.pt/[005]ljs-w_neutral_Let_me_retrace_my_steps_and_speak_more_in_detail_of_the_treatment_of_the_condemned_in_those_bloodthirsty_and_brutally_indifferent_days_[Discrete(False,False)].png\"></img>"
      ],
      "text/plain": [
       "<IPython.core.display.HTML object>"
      ]
     },
     "metadata": {},
     "output_type": "display_data"
    },
    {
     "name": "stdout",
     "output_type": "stream",
     "text": [
      "Warning! Reached max decoder steps\n",
      "Speaker: ljs-w\n",
      "Emotion: neutral\n",
      "Text   : Let me retrace my steps, and speak more in detail of the treatment of the condemned in those bloodthirsty and brutally indifferent days,\n",
      "Attention quality:        0.2948\n",
      "Forward attentoin ratio:  1.0000\n",
      "Attentoin ratio:          0.4265\n",
      "Range attentoin ratio:    0.6912\n",
      "Multiple attentoin ratio: 0.0000\n",
      "Saved inference_ipynb/DiscreteAttentionWeights/DiscreteAttentionWeights/tacotron2_statedict.pt/[005]ljs-w_neutral_Let_me_retrace_my_steps_and_speak_more_in_detail_of_the_treatment_of_the_condemned_in_those_bloodthirsty_and_brutally_indifferent_days_[Discrete(True,True)].wav\n",
      "Saved inference_ipynb/DiscreteAttentionWeights/DiscreteAttentionWeights/tacotron2_statedict.pt/[005]ljs-w_neutral_Let_me_retrace_my_steps_and_speak_more_in_detail_of_the_treatment_of_the_condemned_in_those_bloodthirsty_and_brutally_indifferent_days_[Discrete(True,True)].png\n"
     ]
    },
    {
     "data": {
      "text/html": [
       "<audio controls><source src=\"DiscreteAttentionWeights/DiscreteAttentionWeights/tacotron2_statedict.pt/[005]ljs-w_neutral_Let_me_retrace_my_steps_and_speak_more_in_detail_of_the_treatment_of_the_condemned_in_those_bloodthirsty_and_brutally_indifferent_days_[Discrete(True,True)].wav\" type=\"audio/wav\"></audio>"
      ],
      "text/plain": [
       "<IPython.core.display.HTML object>"
      ]
     },
     "metadata": {},
     "output_type": "display_data"
    },
    {
     "data": {
      "text/html": [
       "<img src=\"DiscreteAttentionWeights/DiscreteAttentionWeights/tacotron2_statedict.pt/[005]ljs-w_neutral_Let_me_retrace_my_steps_and_speak_more_in_detail_of_the_treatment_of_the_condemned_in_those_bloodthirsty_and_brutally_indifferent_days_[Discrete(True,True)].png\"></img>"
      ],
      "text/plain": [
       "<IPython.core.display.HTML object>"
      ]
     },
     "metadata": {},
     "output_type": "display_data"
    },
    {
     "name": "stdout",
     "output_type": "stream",
     "text": [
      "Speaker: ljs-w\n",
      "Emotion: neutral\n",
      "Text   : Let me retrace my steps, and speak more in detail of the treatment of the condemned in those bloodthirsty and brutally indifferent days,\n",
      "Attention quality:        0.7941\n",
      "Forward attentoin ratio:  1.0000\n",
      "Attentoin ratio:          0.7941\n",
      "Range attentoin ratio:    1.0000\n",
      "Multiple attentoin ratio: 0.0000\n",
      "Saved inference_ipynb/DiscreteAttentionWeights/DiscreteAttentionWeights/tacotron2_statedict.pt/[005]ljs-w_neutral_Let_me_retrace_my_steps_and_speak_more_in_detail_of_the_treatment_of_the_condemned_in_those_bloodthirsty_and_brutally_indifferent_days_[Discrete(False,True)].wav\n",
      "Saved inference_ipynb/DiscreteAttentionWeights/DiscreteAttentionWeights/tacotron2_statedict.pt/[005]ljs-w_neutral_Let_me_retrace_my_steps_and_speak_more_in_detail_of_the_treatment_of_the_condemned_in_those_bloodthirsty_and_brutally_indifferent_days_[Discrete(False,True)].png\n"
     ]
    },
    {
     "data": {
      "text/html": [
       "<audio controls><source src=\"DiscreteAttentionWeights/DiscreteAttentionWeights/tacotron2_statedict.pt/[005]ljs-w_neutral_Let_me_retrace_my_steps_and_speak_more_in_detail_of_the_treatment_of_the_condemned_in_those_bloodthirsty_and_brutally_indifferent_days_[Discrete(False,True)].wav\" type=\"audio/wav\"></audio>"
      ],
      "text/plain": [
       "<IPython.core.display.HTML object>"
      ]
     },
     "metadata": {},
     "output_type": "display_data"
    },
    {
     "data": {
      "text/html": [
       "<img src=\"DiscreteAttentionWeights/DiscreteAttentionWeights/tacotron2_statedict.pt/[005]ljs-w_neutral_Let_me_retrace_my_steps_and_speak_more_in_detail_of_the_treatment_of_the_condemned_in_those_bloodthirsty_and_brutally_indifferent_days_[Discrete(False,True)].png\"></img>"
      ],
      "text/plain": [
       "<IPython.core.display.HTML object>"
      ]
     },
     "metadata": {},
     "output_type": "display_data"
    },
    {
     "name": "stdout",
     "output_type": "stream",
     "text": [
      "Speaker: ljs-w\n",
      "Emotion: neutral\n",
      "Text   : Let me retrace my steps, and speak more in detail of the treatment of the condemned in those bloodthirsty and brutally indifferent days,\n",
      "Attention quality:        0.0168\n",
      "Forward attentoin ratio:  0.9632\n",
      "Attentoin ratio:          0.1176\n",
      "Range attentoin ratio:    0.1618\n",
      "Multiple attentoin ratio: 0.0809\n",
      "Saved inference_ipynb/DiscreteAttentionWeights/DiscreteAttentionWeights/tacotron2_statedict.pt/[005]ljs-w_neutral_Let_me_retrace_my_steps_and_speak_more_in_detail_of_the_treatment_of_the_condemned_in_those_bloodthirsty_and_brutally_indifferent_days_[Discrete(True,False)].wav\n",
      "Saved inference_ipynb/DiscreteAttentionWeights/DiscreteAttentionWeights/tacotron2_statedict.pt/[005]ljs-w_neutral_Let_me_retrace_my_steps_and_speak_more_in_detail_of_the_treatment_of_the_condemned_in_those_bloodthirsty_and_brutally_indifferent_days_[Discrete(True,False)].png\n"
     ]
    },
    {
     "data": {
      "text/html": [
       "<audio controls><source src=\"DiscreteAttentionWeights/DiscreteAttentionWeights/tacotron2_statedict.pt/[005]ljs-w_neutral_Let_me_retrace_my_steps_and_speak_more_in_detail_of_the_treatment_of_the_condemned_in_those_bloodthirsty_and_brutally_indifferent_days_[Discrete(True,False)].wav\" type=\"audio/wav\"></audio>"
      ],
      "text/plain": [
       "<IPython.core.display.HTML object>"
      ]
     },
     "metadata": {},
     "output_type": "display_data"
    },
    {
     "data": {
      "text/html": [
       "<img src=\"DiscreteAttentionWeights/DiscreteAttentionWeights/tacotron2_statedict.pt/[005]ljs-w_neutral_Let_me_retrace_my_steps_and_speak_more_in_detail_of_the_treatment_of_the_condemned_in_those_bloodthirsty_and_brutally_indifferent_days_[Discrete(True,False)].png\"></img>"
      ],
      "text/plain": [
       "<IPython.core.display.HTML object>"
      ]
     },
     "metadata": {},
     "output_type": "display_data"
    },
    {
     "name": "stdout",
     "output_type": "stream",
     "text": [
      "[6 Done!]======================================================================================================================================================\n",
      "Speaker: ljs-w\n",
      "Emotion: neutral\n",
      "Text   : The inadequacy of the jail was noticed and reported upon again and again by the grand juries of the city of London,\n",
      "Attention quality:        0.8246\n",
      "Forward attentoin ratio:  0.9981\n",
      "Attentoin ratio:          0.8261\n",
      "Range attentoin ratio:    1.0000\n",
      "Multiple attentoin ratio: 0.0000\n",
      "Saved inference_ipynb/DiscreteAttentionWeights/DiscreteAttentionWeights/tacotron2_statedict.pt/[006]ljs-w_neutral_The_inadequacy_of_the_jail_was_noticed_and_reported_upon_again_and_again_by_the_grand_juries_of_the_city_of_London_[Discrete(False,False)].wav\n",
      "Saved inference_ipynb/DiscreteAttentionWeights/DiscreteAttentionWeights/tacotron2_statedict.pt/[006]ljs-w_neutral_The_inadequacy_of_the_jail_was_noticed_and_reported_upon_again_and_again_by_the_grand_juries_of_the_city_of_London_[Discrete(False,False)].png\n"
     ]
    },
    {
     "data": {
      "text/html": [
       "<audio controls><source src=\"DiscreteAttentionWeights/DiscreteAttentionWeights/tacotron2_statedict.pt/[006]ljs-w_neutral_The_inadequacy_of_the_jail_was_noticed_and_reported_upon_again_and_again_by_the_grand_juries_of_the_city_of_London_[Discrete(False,False)].wav\" type=\"audio/wav\"></audio>"
      ],
      "text/plain": [
       "<IPython.core.display.HTML object>"
      ]
     },
     "metadata": {},
     "output_type": "display_data"
    },
    {
     "data": {
      "text/html": [
       "<img src=\"DiscreteAttentionWeights/DiscreteAttentionWeights/tacotron2_statedict.pt/[006]ljs-w_neutral_The_inadequacy_of_the_jail_was_noticed_and_reported_upon_again_and_again_by_the_grand_juries_of_the_city_of_London_[Discrete(False,False)].png\"></img>"
      ],
      "text/plain": [
       "<IPython.core.display.HTML object>"
      ]
     },
     "metadata": {},
     "output_type": "display_data"
    },
    {
     "name": "stdout",
     "output_type": "stream",
     "text": [
      "Warning! Reached max decoder steps\n",
      "Speaker: ljs-w\n",
      "Emotion: neutral\n",
      "Text   : The inadequacy of the jail was noticed and reported upon again and again by the grand juries of the city of London,\n",
      "Attention quality:        0.3643\n",
      "Forward attentoin ratio:  1.0000\n",
      "Attentoin ratio:          0.5739\n",
      "Range attentoin ratio:    0.6348\n",
      "Multiple attentoin ratio: 0.0000\n",
      "Saved inference_ipynb/DiscreteAttentionWeights/DiscreteAttentionWeights/tacotron2_statedict.pt/[006]ljs-w_neutral_The_inadequacy_of_the_jail_was_noticed_and_reported_upon_again_and_again_by_the_grand_juries_of_the_city_of_London_[Discrete(True,True)].wav\n",
      "Saved inference_ipynb/DiscreteAttentionWeights/DiscreteAttentionWeights/tacotron2_statedict.pt/[006]ljs-w_neutral_The_inadequacy_of_the_jail_was_noticed_and_reported_upon_again_and_again_by_the_grand_juries_of_the_city_of_London_[Discrete(True,True)].png\n"
     ]
    },
    {
     "data": {
      "text/html": [
       "<audio controls><source src=\"DiscreteAttentionWeights/DiscreteAttentionWeights/tacotron2_statedict.pt/[006]ljs-w_neutral_The_inadequacy_of_the_jail_was_noticed_and_reported_upon_again_and_again_by_the_grand_juries_of_the_city_of_London_[Discrete(True,True)].wav\" type=\"audio/wav\"></audio>"
      ],
      "text/plain": [
       "<IPython.core.display.HTML object>"
      ]
     },
     "metadata": {},
     "output_type": "display_data"
    },
    {
     "data": {
      "text/html": [
       "<img src=\"DiscreteAttentionWeights/DiscreteAttentionWeights/tacotron2_statedict.pt/[006]ljs-w_neutral_The_inadequacy_of_the_jail_was_noticed_and_reported_upon_again_and_again_by_the_grand_juries_of_the_city_of_London_[Discrete(True,True)].png\"></img>"
      ],
      "text/plain": [
       "<IPython.core.display.HTML object>"
      ]
     },
     "metadata": {},
     "output_type": "display_data"
    },
    {
     "name": "stdout",
     "output_type": "stream",
     "text": [
      "Speaker: ljs-w\n",
      "Emotion: neutral\n",
      "Text   : The inadequacy of the jail was noticed and reported upon again and again by the grand juries of the city of London,\n",
      "Attention quality:        0.7913\n",
      "Forward attentoin ratio:  1.0000\n",
      "Attentoin ratio:          0.7913\n",
      "Range attentoin ratio:    1.0000\n",
      "Multiple attentoin ratio: 0.0000\n",
      "Saved inference_ipynb/DiscreteAttentionWeights/DiscreteAttentionWeights/tacotron2_statedict.pt/[006]ljs-w_neutral_The_inadequacy_of_the_jail_was_noticed_and_reported_upon_again_and_again_by_the_grand_juries_of_the_city_of_London_[Discrete(False,True)].wav\n",
      "Saved inference_ipynb/DiscreteAttentionWeights/DiscreteAttentionWeights/tacotron2_statedict.pt/[006]ljs-w_neutral_The_inadequacy_of_the_jail_was_noticed_and_reported_upon_again_and_again_by_the_grand_juries_of_the_city_of_London_[Discrete(False,True)].png\n"
     ]
    },
    {
     "data": {
      "text/html": [
       "<audio controls><source src=\"DiscreteAttentionWeights/DiscreteAttentionWeights/tacotron2_statedict.pt/[006]ljs-w_neutral_The_inadequacy_of_the_jail_was_noticed_and_reported_upon_again_and_again_by_the_grand_juries_of_the_city_of_London_[Discrete(False,True)].wav\" type=\"audio/wav\"></audio>"
      ],
      "text/plain": [
       "<IPython.core.display.HTML object>"
      ]
     },
     "metadata": {},
     "output_type": "display_data"
    },
    {
     "data": {
      "text/html": [
       "<img src=\"DiscreteAttentionWeights/DiscreteAttentionWeights/tacotron2_statedict.pt/[006]ljs-w_neutral_The_inadequacy_of_the_jail_was_noticed_and_reported_upon_again_and_again_by_the_grand_juries_of_the_city_of_London_[Discrete(False,True)].png\"></img>"
      ],
      "text/plain": [
       "<IPython.core.display.HTML object>"
      ]
     },
     "metadata": {},
     "output_type": "display_data"
    },
    {
     "name": "stdout",
     "output_type": "stream",
     "text": [
      "Warning! Reached max decoder steps\n",
      "Speaker: ljs-w\n",
      "Emotion: neutral\n",
      "Text   : The inadequacy of the jail was noticed and reported upon again and again by the grand juries of the city of London,\n",
      "Attention quality:        0.0534\n",
      "Forward attentoin ratio:  0.9019\n",
      "Attentoin ratio:          0.1739\n",
      "Range attentoin ratio:    0.3913\n",
      "Multiple attentoin ratio: 0.1304\n",
      "Saved inference_ipynb/DiscreteAttentionWeights/DiscreteAttentionWeights/tacotron2_statedict.pt/[006]ljs-w_neutral_The_inadequacy_of_the_jail_was_noticed_and_reported_upon_again_and_again_by_the_grand_juries_of_the_city_of_London_[Discrete(True,False)].wav\n",
      "Saved inference_ipynb/DiscreteAttentionWeights/DiscreteAttentionWeights/tacotron2_statedict.pt/[006]ljs-w_neutral_The_inadequacy_of_the_jail_was_noticed_and_reported_upon_again_and_again_by_the_grand_juries_of_the_city_of_London_[Discrete(True,False)].png\n"
     ]
    },
    {
     "data": {
      "text/html": [
       "<audio controls><source src=\"DiscreteAttentionWeights/DiscreteAttentionWeights/tacotron2_statedict.pt/[006]ljs-w_neutral_The_inadequacy_of_the_jail_was_noticed_and_reported_upon_again_and_again_by_the_grand_juries_of_the_city_of_London_[Discrete(True,False)].wav\" type=\"audio/wav\"></audio>"
      ],
      "text/plain": [
       "<IPython.core.display.HTML object>"
      ]
     },
     "metadata": {},
     "output_type": "display_data"
    },
    {
     "data": {
      "text/html": [
       "<img src=\"DiscreteAttentionWeights/DiscreteAttentionWeights/tacotron2_statedict.pt/[006]ljs-w_neutral_The_inadequacy_of_the_jail_was_noticed_and_reported_upon_again_and_again_by_the_grand_juries_of_the_city_of_London_[Discrete(True,False)].png\"></img>"
      ],
      "text/plain": [
       "<IPython.core.display.HTML object>"
      ]
     },
     "metadata": {},
     "output_type": "display_data"
    },
    {
     "name": "stdout",
     "output_type": "stream",
     "text": [
      "[7 Done!]======================================================================================================================================================\n",
      "Speaker: ljs-w\n",
      "Emotion: neutral\n",
      "Text   : The criteria in effect prior to November twenty-two, nineteen sixty-three, for determining whether to accept material for the PRS general files\n",
      "Attention quality:        0.8337\n",
      "Forward attentoin ratio:  0.9962\n",
      "Attentoin ratio:          0.8671\n",
      "Range attentoin ratio:    1.0000\n",
      "Multiple attentoin ratio: 0.0350\n",
      "Saved inference_ipynb/DiscreteAttentionWeights/DiscreteAttentionWeights/tacotron2_statedict.pt/[007]ljs-w_neutral_The_criteria_in_effect_prior_to_November_twenty-two_nineteen_sixty-three_for_determining_whether_to_accept_material_for_the_PRS_general_files_[Discrete(False,False)].wav\n",
      "Saved inference_ipynb/DiscreteAttentionWeights/DiscreteAttentionWeights/tacotron2_statedict.pt/[007]ljs-w_neutral_The_criteria_in_effect_prior_to_November_twenty-two_nineteen_sixty-three_for_determining_whether_to_accept_material_for_the_PRS_general_files_[Discrete(False,False)].png\n"
     ]
    },
    {
     "data": {
      "text/html": [
       "<audio controls><source src=\"DiscreteAttentionWeights/DiscreteAttentionWeights/tacotron2_statedict.pt/[007]ljs-w_neutral_The_criteria_in_effect_prior_to_November_twenty-two_nineteen_sixty-three_for_determining_whether_to_accept_material_for_the_PRS_general_files_[Discrete(False,False)].wav\" type=\"audio/wav\"></audio>"
      ],
      "text/plain": [
       "<IPython.core.display.HTML object>"
      ]
     },
     "metadata": {},
     "output_type": "display_data"
    },
    {
     "data": {
      "text/html": [
       "<img src=\"DiscreteAttentionWeights/DiscreteAttentionWeights/tacotron2_statedict.pt/[007]ljs-w_neutral_The_criteria_in_effect_prior_to_November_twenty-two_nineteen_sixty-three_for_determining_whether_to_accept_material_for_the_PRS_general_files_[Discrete(False,False)].png\"></img>"
      ],
      "text/plain": [
       "<IPython.core.display.HTML object>"
      ]
     },
     "metadata": {},
     "output_type": "display_data"
    },
    {
     "name": "stdout",
     "output_type": "stream",
     "text": [
      "Warning! Reached max decoder steps\n",
      "Speaker: ljs-w\n",
      "Emotion: neutral\n",
      "Text   : The criteria in effect prior to November twenty-two, nineteen sixty-three, for determining whether to accept material for the PRS general files\n",
      "Attention quality:        0.2359\n",
      "Forward attentoin ratio:  1.0000\n",
      "Attentoin ratio:          0.4685\n",
      "Range attentoin ratio:    0.5035\n",
      "Multiple attentoin ratio: 0.0000\n",
      "Saved inference_ipynb/DiscreteAttentionWeights/DiscreteAttentionWeights/tacotron2_statedict.pt/[007]ljs-w_neutral_The_criteria_in_effect_prior_to_November_twenty-two_nineteen_sixty-three_for_determining_whether_to_accept_material_for_the_PRS_general_files_[Discrete(True,True)].wav\n",
      "Saved inference_ipynb/DiscreteAttentionWeights/DiscreteAttentionWeights/tacotron2_statedict.pt/[007]ljs-w_neutral_The_criteria_in_effect_prior_to_November_twenty-two_nineteen_sixty-three_for_determining_whether_to_accept_material_for_the_PRS_general_files_[Discrete(True,True)].png\n"
     ]
    },
    {
     "data": {
      "text/html": [
       "<audio controls><source src=\"DiscreteAttentionWeights/DiscreteAttentionWeights/tacotron2_statedict.pt/[007]ljs-w_neutral_The_criteria_in_effect_prior_to_November_twenty-two_nineteen_sixty-three_for_determining_whether_to_accept_material_for_the_PRS_general_files_[Discrete(True,True)].wav\" type=\"audio/wav\"></audio>"
      ],
      "text/plain": [
       "<IPython.core.display.HTML object>"
      ]
     },
     "metadata": {},
     "output_type": "display_data"
    },
    {
     "data": {
      "text/html": [
       "<img src=\"DiscreteAttentionWeights/DiscreteAttentionWeights/tacotron2_statedict.pt/[007]ljs-w_neutral_The_criteria_in_effect_prior_to_November_twenty-two_nineteen_sixty-three_for_determining_whether_to_accept_material_for_the_PRS_general_files_[Discrete(True,True)].png\"></img>"
      ],
      "text/plain": [
       "<IPython.core.display.HTML object>"
      ]
     },
     "metadata": {},
     "output_type": "display_data"
    },
    {
     "name": "stdout",
     "output_type": "stream",
     "text": [
      "Warning! Reached max decoder steps\n",
      "Speaker: ljs-w\n",
      "Emotion: neutral\n",
      "Text   : The criteria in effect prior to November twenty-two, nineteen sixty-three, for determining whether to accept material for the PRS general files\n",
      "Attention quality:        0.8197\n",
      "Forward attentoin ratio:  0.9990\n",
      "Attentoin ratio:          0.8322\n",
      "Range attentoin ratio:    1.0000\n",
      "Multiple attentoin ratio: 0.0140\n",
      "Saved inference_ipynb/DiscreteAttentionWeights/DiscreteAttentionWeights/tacotron2_statedict.pt/[007]ljs-w_neutral_The_criteria_in_effect_prior_to_November_twenty-two_nineteen_sixty-three_for_determining_whether_to_accept_material_for_the_PRS_general_files_[Discrete(False,True)].wav\n",
      "Saved inference_ipynb/DiscreteAttentionWeights/DiscreteAttentionWeights/tacotron2_statedict.pt/[007]ljs-w_neutral_The_criteria_in_effect_prior_to_November_twenty-two_nineteen_sixty-three_for_determining_whether_to_accept_material_for_the_PRS_general_files_[Discrete(False,True)].png\n"
     ]
    },
    {
     "data": {
      "text/html": [
       "<audio controls><source src=\"DiscreteAttentionWeights/DiscreteAttentionWeights/tacotron2_statedict.pt/[007]ljs-w_neutral_The_criteria_in_effect_prior_to_November_twenty-two_nineteen_sixty-three_for_determining_whether_to_accept_material_for_the_PRS_general_files_[Discrete(False,True)].wav\" type=\"audio/wav\"></audio>"
      ],
      "text/plain": [
       "<IPython.core.display.HTML object>"
      ]
     },
     "metadata": {},
     "output_type": "display_data"
    },
    {
     "data": {
      "text/html": [
       "<img src=\"DiscreteAttentionWeights/DiscreteAttentionWeights/tacotron2_statedict.pt/[007]ljs-w_neutral_The_criteria_in_effect_prior_to_November_twenty-two_nineteen_sixty-three_for_determining_whether_to_accept_material_for_the_PRS_general_files_[Discrete(False,True)].png\"></img>"
      ],
      "text/plain": [
       "<IPython.core.display.HTML object>"
      ]
     },
     "metadata": {},
     "output_type": "display_data"
    },
    {
     "name": "stdout",
     "output_type": "stream",
     "text": [
      "Speaker: ljs-w\n",
      "Emotion: neutral\n",
      "Text   : The criteria in effect prior to November twenty-two, nineteen sixty-three, for determining whether to accept material for the PRS general files\n",
      "Attention quality:        0.0298\n",
      "Forward attentoin ratio:  0.9698\n",
      "Attentoin ratio:          0.1049\n",
      "Range attentoin ratio:    0.3077\n",
      "Multiple attentoin ratio: 0.0490\n",
      "Saved inference_ipynb/DiscreteAttentionWeights/DiscreteAttentionWeights/tacotron2_statedict.pt/[007]ljs-w_neutral_The_criteria_in_effect_prior_to_November_twenty-two_nineteen_sixty-three_for_determining_whether_to_accept_material_for_the_PRS_general_files_[Discrete(True,False)].wav\n",
      "Saved inference_ipynb/DiscreteAttentionWeights/DiscreteAttentionWeights/tacotron2_statedict.pt/[007]ljs-w_neutral_The_criteria_in_effect_prior_to_November_twenty-two_nineteen_sixty-three_for_determining_whether_to_accept_material_for_the_PRS_general_files_[Discrete(True,False)].png\n"
     ]
    },
    {
     "data": {
      "text/html": [
       "<audio controls><source src=\"DiscreteAttentionWeights/DiscreteAttentionWeights/tacotron2_statedict.pt/[007]ljs-w_neutral_The_criteria_in_effect_prior_to_November_twenty-two_nineteen_sixty-three_for_determining_whether_to_accept_material_for_the_PRS_general_files_[Discrete(True,False)].wav\" type=\"audio/wav\"></audio>"
      ],
      "text/plain": [
       "<IPython.core.display.HTML object>"
      ]
     },
     "metadata": {},
     "output_type": "display_data"
    },
    {
     "data": {
      "text/html": [
       "<img src=\"DiscreteAttentionWeights/DiscreteAttentionWeights/tacotron2_statedict.pt/[007]ljs-w_neutral_The_criteria_in_effect_prior_to_November_twenty-two_nineteen_sixty-three_for_determining_whether_to_accept_material_for_the_PRS_general_files_[Discrete(True,False)].png\"></img>"
      ],
      "text/plain": [
       "<IPython.core.display.HTML object>"
      ]
     },
     "metadata": {},
     "output_type": "display_data"
    },
    {
     "name": "stdout",
     "output_type": "stream",
     "text": [
      "[8 Done!]======================================================================================================================================================\n",
      "Speaker: ljs-w\n",
      "Emotion: neutral\n",
      "Text   : On October twenty-five,\n",
      "Attention quality:        0.9130\n",
      "Forward attentoin ratio:  1.0000\n",
      "Attentoin ratio:          0.9130\n",
      "Range attentoin ratio:    1.0000\n",
      "Multiple attentoin ratio: 0.0000\n",
      "Saved inference_ipynb/DiscreteAttentionWeights/DiscreteAttentionWeights/tacotron2_statedict.pt/[008]ljs-w_neutral_On_October_twenty-five_[Discrete(False,False)].wav\n",
      "Saved inference_ipynb/DiscreteAttentionWeights/DiscreteAttentionWeights/tacotron2_statedict.pt/[008]ljs-w_neutral_On_October_twenty-five_[Discrete(False,False)].png\n"
     ]
    },
    {
     "data": {
      "text/html": [
       "<audio controls><source src=\"DiscreteAttentionWeights/DiscreteAttentionWeights/tacotron2_statedict.pt/[008]ljs-w_neutral_On_October_twenty-five_[Discrete(False,False)].wav\" type=\"audio/wav\"></audio>"
      ],
      "text/plain": [
       "<IPython.core.display.HTML object>"
      ]
     },
     "metadata": {},
     "output_type": "display_data"
    },
    {
     "data": {
      "text/html": [
       "<img src=\"DiscreteAttentionWeights/DiscreteAttentionWeights/tacotron2_statedict.pt/[008]ljs-w_neutral_On_October_twenty-five_[Discrete(False,False)].png\"></img>"
      ],
      "text/plain": [
       "<IPython.core.display.HTML object>"
      ]
     },
     "metadata": {},
     "output_type": "display_data"
    },
    {
     "name": "stdout",
     "output_type": "stream",
     "text": [
      "Speaker: ljs-w\n",
      "Emotion: neutral\n",
      "Text   : On October twenty-five,\n",
      "Attention quality:        0.8733\n",
      "Forward attentoin ratio:  1.0000\n",
      "Attentoin ratio:          0.9130\n",
      "Range attentoin ratio:    0.9565\n",
      "Multiple attentoin ratio: 0.0000\n",
      "Saved inference_ipynb/DiscreteAttentionWeights/DiscreteAttentionWeights/tacotron2_statedict.pt/[008]ljs-w_neutral_On_October_twenty-five_[Discrete(True,True)].wav\n",
      "Saved inference_ipynb/DiscreteAttentionWeights/DiscreteAttentionWeights/tacotron2_statedict.pt/[008]ljs-w_neutral_On_October_twenty-five_[Discrete(True,True)].png\n"
     ]
    },
    {
     "data": {
      "text/html": [
       "<audio controls><source src=\"DiscreteAttentionWeights/DiscreteAttentionWeights/tacotron2_statedict.pt/[008]ljs-w_neutral_On_October_twenty-five_[Discrete(True,True)].wav\" type=\"audio/wav\"></audio>"
      ],
      "text/plain": [
       "<IPython.core.display.HTML object>"
      ]
     },
     "metadata": {},
     "output_type": "display_data"
    },
    {
     "data": {
      "text/html": [
       "<img src=\"DiscreteAttentionWeights/DiscreteAttentionWeights/tacotron2_statedict.pt/[008]ljs-w_neutral_On_October_twenty-five_[Discrete(True,True)].png\"></img>"
      ],
      "text/plain": [
       "<IPython.core.display.HTML object>"
      ]
     },
     "metadata": {},
     "output_type": "display_data"
    },
    {
     "name": "stdout",
     "output_type": "stream",
     "text": [
      "Speaker: ljs-w\n",
      "Emotion: neutral\n",
      "Text   : On October twenty-five,\n",
      "Attention quality:        0.8696\n",
      "Forward attentoin ratio:  1.0000\n",
      "Attentoin ratio:          0.8696\n",
      "Range attentoin ratio:    1.0000\n",
      "Multiple attentoin ratio: 0.0000\n",
      "Saved inference_ipynb/DiscreteAttentionWeights/DiscreteAttentionWeights/tacotron2_statedict.pt/[008]ljs-w_neutral_On_October_twenty-five_[Discrete(False,True)].wav\n",
      "Saved inference_ipynb/DiscreteAttentionWeights/DiscreteAttentionWeights/tacotron2_statedict.pt/[008]ljs-w_neutral_On_October_twenty-five_[Discrete(False,True)].png\n"
     ]
    },
    {
     "data": {
      "text/html": [
       "<audio controls><source src=\"DiscreteAttentionWeights/DiscreteAttentionWeights/tacotron2_statedict.pt/[008]ljs-w_neutral_On_October_twenty-five_[Discrete(False,True)].wav\" type=\"audio/wav\"></audio>"
      ],
      "text/plain": [
       "<IPython.core.display.HTML object>"
      ]
     },
     "metadata": {},
     "output_type": "display_data"
    },
    {
     "data": {
      "text/html": [
       "<img src=\"DiscreteAttentionWeights/DiscreteAttentionWeights/tacotron2_statedict.pt/[008]ljs-w_neutral_On_October_twenty-five_[Discrete(False,True)].png\"></img>"
      ],
      "text/plain": [
       "<IPython.core.display.HTML object>"
      ]
     },
     "metadata": {},
     "output_type": "display_data"
    },
    {
     "name": "stdout",
     "output_type": "stream",
     "text": [
      "Speaker: ljs-w\n",
      "Emotion: neutral\n",
      "Text   : On October twenty-five,\n",
      "Attention quality:        0.5633\n",
      "Forward attentoin ratio:  0.9965\n",
      "Attentoin ratio:          0.5652\n",
      "Range attentoin ratio:    1.0000\n",
      "Multiple attentoin ratio: 0.0000\n",
      "Saved inference_ipynb/DiscreteAttentionWeights/DiscreteAttentionWeights/tacotron2_statedict.pt/[008]ljs-w_neutral_On_October_twenty-five_[Discrete(True,False)].wav\n",
      "Saved inference_ipynb/DiscreteAttentionWeights/DiscreteAttentionWeights/tacotron2_statedict.pt/[008]ljs-w_neutral_On_October_twenty-five_[Discrete(True,False)].png\n"
     ]
    },
    {
     "data": {
      "text/html": [
       "<audio controls><source src=\"DiscreteAttentionWeights/DiscreteAttentionWeights/tacotron2_statedict.pt/[008]ljs-w_neutral_On_October_twenty-five_[Discrete(True,False)].wav\" type=\"audio/wav\"></audio>"
      ],
      "text/plain": [
       "<IPython.core.display.HTML object>"
      ]
     },
     "metadata": {},
     "output_type": "display_data"
    },
    {
     "data": {
      "text/html": [
       "<img src=\"DiscreteAttentionWeights/DiscreteAttentionWeights/tacotron2_statedict.pt/[008]ljs-w_neutral_On_October_twenty-five_[Discrete(True,False)].png\"></img>"
      ],
      "text/plain": [
       "<IPython.core.display.HTML object>"
      ]
     },
     "metadata": {},
     "output_type": "display_data"
    },
    {
     "name": "stdout",
     "output_type": "stream",
     "text": [
      "[9 Done!]======================================================================================================================================================\n",
      "Speaker: ljs-w\n",
      "Emotion: neutral\n",
      "Text   : is closely reproduced in the life-history of existing deer. Or, in other words,\n",
      "Attention quality:        0.8604\n",
      "Forward attentoin ratio:  0.9963\n",
      "Attentoin ratio:          0.8861\n",
      "Range attentoin ratio:    1.0000\n",
      "Multiple attentoin ratio: 0.0253\n",
      "Saved inference_ipynb/DiscreteAttentionWeights/DiscreteAttentionWeights/tacotron2_statedict.pt/[009]ljs-w_neutral_is_closely_reproduced_in_the_life-history_of_existing_deer_Or_in_other_words_[Discrete(False,False)].wav\n",
      "Saved inference_ipynb/DiscreteAttentionWeights/DiscreteAttentionWeights/tacotron2_statedict.pt/[009]ljs-w_neutral_is_closely_reproduced_in_the_life-history_of_existing_deer_Or_in_other_words_[Discrete(False,False)].png\n"
     ]
    },
    {
     "data": {
      "text/html": [
       "<audio controls><source src=\"DiscreteAttentionWeights/DiscreteAttentionWeights/tacotron2_statedict.pt/[009]ljs-w_neutral_is_closely_reproduced_in_the_life-history_of_existing_deer_Or_in_other_words_[Discrete(False,False)].wav\" type=\"audio/wav\"></audio>"
      ],
      "text/plain": [
       "<IPython.core.display.HTML object>"
      ]
     },
     "metadata": {},
     "output_type": "display_data"
    },
    {
     "data": {
      "text/html": [
       "<img src=\"DiscreteAttentionWeights/DiscreteAttentionWeights/tacotron2_statedict.pt/[009]ljs-w_neutral_is_closely_reproduced_in_the_life-history_of_existing_deer_Or_in_other_words_[Discrete(False,False)].png\"></img>"
      ],
      "text/plain": [
       "<IPython.core.display.HTML object>"
      ]
     },
     "metadata": {},
     "output_type": "display_data"
    },
    {
     "name": "stdout",
     "output_type": "stream",
     "text": [
      "Warning! Reached max decoder steps\n",
      "Speaker: ljs-w\n",
      "Emotion: neutral\n",
      "Text   : is closely reproduced in the life-history of existing deer. Or, in other words,\n",
      "Attention quality:        0.5288\n",
      "Forward attentoin ratio:  1.0000\n",
      "Attentoin ratio:          0.6962\n",
      "Range attentoin ratio:    0.7595\n",
      "Multiple attentoin ratio: 0.0000\n",
      "Saved inference_ipynb/DiscreteAttentionWeights/DiscreteAttentionWeights/tacotron2_statedict.pt/[009]ljs-w_neutral_is_closely_reproduced_in_the_life-history_of_existing_deer_Or_in_other_words_[Discrete(True,True)].wav\n",
      "Saved inference_ipynb/DiscreteAttentionWeights/DiscreteAttentionWeights/tacotron2_statedict.pt/[009]ljs-w_neutral_is_closely_reproduced_in_the_life-history_of_existing_deer_Or_in_other_words_[Discrete(True,True)].png\n"
     ]
    },
    {
     "data": {
      "text/html": [
       "<audio controls><source src=\"DiscreteAttentionWeights/DiscreteAttentionWeights/tacotron2_statedict.pt/[009]ljs-w_neutral_is_closely_reproduced_in_the_life-history_of_existing_deer_Or_in_other_words_[Discrete(True,True)].wav\" type=\"audio/wav\"></audio>"
      ],
      "text/plain": [
       "<IPython.core.display.HTML object>"
      ]
     },
     "metadata": {},
     "output_type": "display_data"
    },
    {
     "data": {
      "text/html": [
       "<img src=\"DiscreteAttentionWeights/DiscreteAttentionWeights/tacotron2_statedict.pt/[009]ljs-w_neutral_is_closely_reproduced_in_the_life-history_of_existing_deer_Or_in_other_words_[Discrete(True,True)].png\"></img>"
      ],
      "text/plain": [
       "<IPython.core.display.HTML object>"
      ]
     },
     "metadata": {},
     "output_type": "display_data"
    },
    {
     "name": "stdout",
     "output_type": "stream",
     "text": [
      "Speaker: ljs-w\n",
      "Emotion: neutral\n",
      "Text   : is closely reproduced in the life-history of existing deer. Or, in other words,\n",
      "Attention quality:        0.8608\n",
      "Forward attentoin ratio:  1.0000\n",
      "Attentoin ratio:          0.8608\n",
      "Range attentoin ratio:    1.0000\n",
      "Multiple attentoin ratio: 0.0000\n",
      "Saved inference_ipynb/DiscreteAttentionWeights/DiscreteAttentionWeights/tacotron2_statedict.pt/[009]ljs-w_neutral_is_closely_reproduced_in_the_life-history_of_existing_deer_Or_in_other_words_[Discrete(False,True)].wav\n",
      "Saved inference_ipynb/DiscreteAttentionWeights/DiscreteAttentionWeights/tacotron2_statedict.pt/[009]ljs-w_neutral_is_closely_reproduced_in_the_life-history_of_existing_deer_Or_in_other_words_[Discrete(False,True)].png\n"
     ]
    },
    {
     "data": {
      "text/html": [
       "<audio controls><source src=\"DiscreteAttentionWeights/DiscreteAttentionWeights/tacotron2_statedict.pt/[009]ljs-w_neutral_is_closely_reproduced_in_the_life-history_of_existing_deer_Or_in_other_words_[Discrete(False,True)].wav\" type=\"audio/wav\"></audio>"
      ],
      "text/plain": [
       "<IPython.core.display.HTML object>"
      ]
     },
     "metadata": {},
     "output_type": "display_data"
    },
    {
     "data": {
      "text/html": [
       "<img src=\"DiscreteAttentionWeights/DiscreteAttentionWeights/tacotron2_statedict.pt/[009]ljs-w_neutral_is_closely_reproduced_in_the_life-history_of_existing_deer_Or_in_other_words_[Discrete(False,True)].png\"></img>"
      ],
      "text/plain": [
       "<IPython.core.display.HTML object>"
      ]
     },
     "metadata": {},
     "output_type": "display_data"
    },
    {
     "name": "stdout",
     "output_type": "stream",
     "text": [
      "Speaker: ljs-w\n",
      "Emotion: neutral\n",
      "Text   : is closely reproduced in the life-history of existing deer. Or, in other words,\n",
      "Attention quality:        0.0764\n",
      "Forward attentoin ratio:  0.9771\n",
      "Attentoin ratio:          0.1519\n",
      "Range attentoin ratio:    0.5570\n",
      "Multiple attentoin ratio: 0.0759\n",
      "Saved inference_ipynb/DiscreteAttentionWeights/DiscreteAttentionWeights/tacotron2_statedict.pt/[009]ljs-w_neutral_is_closely_reproduced_in_the_life-history_of_existing_deer_Or_in_other_words_[Discrete(True,False)].wav\n",
      "Saved inference_ipynb/DiscreteAttentionWeights/DiscreteAttentionWeights/tacotron2_statedict.pt/[009]ljs-w_neutral_is_closely_reproduced_in_the_life-history_of_existing_deer_Or_in_other_words_[Discrete(True,False)].png\n"
     ]
    },
    {
     "data": {
      "text/html": [
       "<audio controls><source src=\"DiscreteAttentionWeights/DiscreteAttentionWeights/tacotron2_statedict.pt/[009]ljs-w_neutral_is_closely_reproduced_in_the_life-history_of_existing_deer_Or_in_other_words_[Discrete(True,False)].wav\" type=\"audio/wav\"></audio>"
      ],
      "text/plain": [
       "<IPython.core.display.HTML object>"
      ]
     },
     "metadata": {},
     "output_type": "display_data"
    },
    {
     "data": {
      "text/html": [
       "<img src=\"DiscreteAttentionWeights/DiscreteAttentionWeights/tacotron2_statedict.pt/[009]ljs-w_neutral_is_closely_reproduced_in_the_life-history_of_existing_deer_Or_in_other_words_[Discrete(True,False)].png\"></img>"
      ],
      "text/plain": [
       "<IPython.core.display.HTML object>"
      ]
     },
     "metadata": {},
     "output_type": "display_data"
    },
    {
     "name": "stdout",
     "output_type": "stream",
     "text": [
      "[10 Done!]======================================================================================================================================================\n"
     ]
    }
   ],
   "source": [
    "cnt = 0\n",
    "v = valsets[(speaker, emotion)]\n",
    "for sample in v:\n",
    "    text = sample[1]\n",
    "    for daw in [[False,False], [True,True], [False,True], [True,False]]:\n",
    "        discrete_attention_weight = daw\n",
    "        wav_name = \"[{:03d}]{}_{}_{}_[Discrete({},{})].wav\".format(cnt, speaker, emotion, slugify(text), daw[0], daw[1])\n",
    "        png_name = \"[{:03d}]{}_{}_{}_[Discrete({},{})].png\".format(cnt, speaker, emotion, slugify(text), daw[0], daw[1])\n",
    "        wav_path = os.path.join(wav_dir, wav_name)\n",
    "        png_path = os.path.join(wav_dir, png_name)\n",
    "        np_audio, sample_rate, sequence = synthesize_speech(text, speaker, emotion, discrete_attention_weight, png_path)\n",
    "        sf.write(wav_path, np_audio.reshape(-1,1).astype('float32'), hparams.sampling_rate)\n",
    "        plt.savefig(png_path, bbox_inches='tight')\n",
    "        print(\"Saved {}\".format(wav_path))\n",
    "        print(\"Saved {}\".format(png_path))\n",
    "        #ipd.display(ipd.Audio(wav_path, rate=hparams.sampling_rate))\n",
    "        ipd.display(ipd.HTML('<audio controls><source src=\"{}\" type=\"audio/wav\"></audio>'.format(drop_top_dir(wav_path))))\n",
    "        ipd.display(ipd.HTML('<img src=\"{}\"></img>'.format(drop_top_dir(png_path))))\n",
    "    cnt += 1\n",
    "    print(\"[{} Done!]======================================================================================================================================================\".format(cnt))\n",
    "    if cnt == 10:\n",
    "        break"
   ]
  }
 ],
 "metadata": {
  "kernelspec": {
   "display_name": "Python 3",
   "language": "python",
   "name": "python3"
  },
  "language_info": {
   "codemirror_mode": {
    "name": "ipython",
    "version": 3
   },
   "file_extension": ".py",
   "mimetype": "text/x-python",
   "name": "python",
   "nbconvert_exporter": "python",
   "pygments_lexer": "ipython3",
   "version": "3.7.4"
  }
 },
 "nbformat": 4,
 "nbformat_minor": 4
}
