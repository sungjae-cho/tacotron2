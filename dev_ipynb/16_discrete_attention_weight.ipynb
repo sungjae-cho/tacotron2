{
 "cells": [
  {
   "cell_type": "code",
   "execution_count": 1,
   "metadata": {},
   "outputs": [],
   "source": [
    "import torch"
   ]
  },
  {
   "cell_type": "code",
   "execution_count": 2,
   "metadata": {},
   "outputs": [
    {
     "name": "stdout",
     "output_type": "stream",
     "text": [
      "tensor([[0.1683, 0.7441, 0.6654, 0.1558, 0.3393, 0.0990, 0.7204, 0.1018],\n",
      "        [0.4469, 0.1852, 0.8273, 0.4945, 0.9406, 0.5152, 0.1824, 0.6835],\n",
      "        [0.4573, 0.5556, 0.0690, 0.8547, 0.5191, 0.1388, 0.9449, 0.2114],\n",
      "        [0.1963, 0.8547, 0.8503, 0.3807, 0.0762, 0.2196, 0.2189, 0.7326]])\n"
     ]
    }
   ],
   "source": [
    "batches = 4\n",
    "text_length = 8\n",
    "attention_weights = torch.rand((batches, text_length))\n",
    "print(attention_weights)"
   ]
  },
  {
   "cell_type": "code",
   "execution_count": 3,
   "metadata": {},
   "outputs": [
    {
     "data": {
      "text/plain": [
       "torch.return_types.max(\n",
       "values=tensor([0.7441, 0.9406, 0.9449, 0.8547]),\n",
       "indices=tensor([1, 4, 6, 1]))"
      ]
     },
     "execution_count": 3,
     "metadata": {},
     "output_type": "execute_result"
    }
   ],
   "source": [
    "torch.max(attention_weights, dim=1)"
   ]
  },
  {
   "cell_type": "code",
   "execution_count": 4,
   "metadata": {},
   "outputs": [
    {
     "name": "stdout",
     "output_type": "stream",
     "text": [
      "tensor([[0.7441, 0.7441, 0.7441, 0.7441, 0.7441, 0.7441, 0.7441, 0.7441],\n",
      "        [0.9406, 0.9406, 0.9406, 0.9406, 0.9406, 0.9406, 0.9406, 0.9406],\n",
      "        [0.9449, 0.9449, 0.9449, 0.9449, 0.9449, 0.9449, 0.9449, 0.9449],\n",
      "        [0.8547, 0.8547, 0.8547, 0.8547, 0.8547, 0.8547, 0.8547, 0.8547]])\n"
     ]
    }
   ],
   "source": [
    "max_expanded = torch.max(attention_weights, dim=1).values.unsqueeze(-1).expand((batches, text_length))\n",
    "print(max_expanded)"
   ]
  },
  {
   "cell_type": "code",
   "execution_count": 5,
   "metadata": {},
   "outputs": [
    {
     "name": "stdout",
     "output_type": "stream",
     "text": [
      "tensor([[0., 1., 0., 0., 0., 0., 0., 0.],\n",
      "        [0., 0., 0., 0., 1., 0., 0., 0.],\n",
      "        [0., 0., 0., 0., 0., 0., 1., 0.],\n",
      "        [0., 1., 0., 0., 0., 0., 0., 0.]])\n"
     ]
    }
   ],
   "source": [
    "discrete_att_w = attention_weights.masked_fill((attention_weights == max_expanded), 1)\n",
    "discrete_att_w = discrete_att_w.masked_fill((attention_weights != max_expanded), 0)\n",
    "print(discrete_att_w)"
   ]
  },
  {
   "cell_type": "markdown",
   "metadata": {},
   "source": [
    "# Functionalization"
   ]
  },
  {
   "cell_type": "code",
   "execution_count": 6,
   "metadata": {},
   "outputs": [],
   "source": [
    "def discretize_att_w(attention_weights):\n",
    "    '''\n",
    "    PARAMS\n",
    "    -----\n",
    "    attention_weights: Attention weights of one batch.\n",
    "    - torch.Tensor. Size == (batches, max_encoding_steps).\n",
    "    \n",
    "    RETURNS\n",
    "    -----\n",
    "    discrete_att_w: Discretized attention weights of one batch.\n",
    "    - torch.Tensor. Size == (batches, max_encoding_steps).\n",
    "    '''\n",
    "    max_expanded = torch.max(attention_weights, dim=1).values.unsqueeze(-1).expand(attention_weights.size())\n",
    "    discrete_att_w = attention_weights.masked_fill((attention_weights == max_expanded), 1)\n",
    "    discrete_att_w = discrete_att_w.masked_fill((attention_weights != max_expanded), 0)\n",
    "    \n",
    "    return discrete_att_w    "
   ]
  }
 ],
 "metadata": {
  "kernelspec": {
   "display_name": "Python 3",
   "language": "python",
   "name": "python3"
  },
  "language_info": {
   "codemirror_mode": {
    "name": "ipython",
    "version": 3
   },
   "file_extension": ".py",
   "mimetype": "text/x-python",
   "name": "python",
   "nbconvert_exporter": "python",
   "pygments_lexer": "ipython3",
   "version": "3.7.4"
  }
 },
 "nbformat": 4,
 "nbformat_minor": 4
}
