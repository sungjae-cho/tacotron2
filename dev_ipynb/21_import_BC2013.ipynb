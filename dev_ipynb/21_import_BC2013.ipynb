{
 "cells": [
  {
   "cell_type": "code",
   "execution_count": 1,
   "metadata": {},
   "outputs": [],
   "source": [
    "import os\n",
    "import pandas as pd\n",
    "from os.path import splitext"
   ]
  },
  {
   "cell_type": "markdown",
   "metadata": {},
   "source": [
    "# 1. `load_original_db`"
   ]
  },
  {
   "cell_type": "code",
   "execution_count": 2,
   "metadata": {},
   "outputs": [],
   "source": [
    "bc2013_path = '/data2/sungjaecho/data_tts/BC2013'"
   ]
  },
  {
   "cell_type": "code",
   "execution_count": 3,
   "metadata": {},
   "outputs": [],
   "source": [
    "segment_dir = os.path.join(bc2013_path, 'segments')\n",
    "transcript_dir = os.path.join(bc2013_path, 'transcripts')\n",
    "book_dirs = [f for f in os.listdir(segment_dir) \\\n",
    "    if not os.path.isfile(os.path.join(segment_dir, f))]\n",
    "\n",
    "df_txt_books = list()\n",
    "for book_dir in book_dirs:\n",
    "    txt_dir = os.path.join(transcript_dir, book_dir)\n",
    "    txts = [f for f in os.listdir(txt_dir) if splitext(f)[1] == '.txt']\n",
    "    df_txt_chapters = list()\n",
    "    for txt in txts:\n",
    "        chapter = int(splitext(txt)[0])\n",
    "        txt_path = os.path.join(txt_dir, txt)\n",
    "        df_txt = pd.read_csv(txt_path, sep='|', header=None, encoding='utf-8', quoting=3)\n",
    "        df_txt = df_txt.rename(columns={0:\"sentence_id\", 1:\"text\"})\n",
    "        df_txt['chapter'] = [chapter] * len(df_txt)\n",
    "        df_txt_chapters.append(df_txt)\n",
    "    df_txt_chapters = pd.concat(df_txt_chapters)\n",
    "    df_txt_chapters['book'] = [book_dir] * len(df_txt_chapters)\n",
    "    df_txt_books.append(df_txt_chapters)\n",
    "df_txt_books = pd.concat(df_txt_books)\n",
    "df_txt_books['segmented'] = [False] * len(df_txt_books)\n",
    "df_txt_books = df_txt_books.reset_index(drop=True)"
   ]
  },
  {
   "cell_type": "code",
   "execution_count": 4,
   "metadata": {},
   "outputs": [
    {
     "name": "stdout",
     "output_type": "stream",
     "text": [
      "6947 wav files do not exist. Those files are logged in log_nonexisting_wavs.txt.\n",
      "Corresponding scripts are removed.\n"
     ]
    }
   ],
   "source": [
    "rm_i_list = list()\n",
    "rm_wav_paths = list()\n",
    "log_file = 'log_nonexisting_wavs.txt'\n",
    "df_txt_books['wav_path'] = [''] * len(df_txt_books)\n",
    "for i, row in df_txt_books.iterrows():\n",
    "    wav = '{:02d}-{:06d}.wav'.format(row.chapter, row.sentence_id)\n",
    "    wav_path = os.path.join(segment_dir, row.book, wav)\n",
    "    if not os.path.exists(wav_path):\n",
    "        rm_i_list.append(i)\n",
    "        rm_wav_paths.append(wav_path)\n",
    "    else:\n",
    "        df_txt_books.at[i,'wav_path'] = wav_path\n",
    "\n",
    "with open(log_file, 'w') as f:\n",
    "    for rm_wav_path in rm_wav_paths:\n",
    "        f.write(rm_wav_path)\n",
    "        f.write('\\n')\n",
    "        \n",
    "df_txt_books = df_txt_books.drop(rm_i_list)\n",
    "df_txt_books = df_txt_books.reset_index(drop=True)\n",
    "\n",
    "print(\"{} wav files do not exist. Those files are logged in {}.\".format(len(rm_wav_paths), log_file))\n",
    "print(\"Corresponding scripts are removed.\")"
   ]
  },
  {
   "cell_type": "code",
   "execution_count": 5,
   "metadata": {},
   "outputs": [
    {
     "data": {
      "text/html": [
       "<div>\n",
       "<style scoped>\n",
       "    .dataframe tbody tr th:only-of-type {\n",
       "        vertical-align: middle;\n",
       "    }\n",
       "\n",
       "    .dataframe tbody tr th {\n",
       "        vertical-align: top;\n",
       "    }\n",
       "\n",
       "    .dataframe thead th {\n",
       "        text-align: right;\n",
       "    }\n",
       "</style>\n",
       "<table border=\"1\" class=\"dataframe\">\n",
       "  <thead>\n",
       "    <tr style=\"text-align: right;\">\n",
       "      <th></th>\n",
       "      <th>sentence_id</th>\n",
       "      <th>text</th>\n",
       "      <th>chapter</th>\n",
       "      <th>book</th>\n",
       "      <th>segmented</th>\n",
       "      <th>wav_path</th>\n",
       "    </tr>\n",
       "  </thead>\n",
       "  <tbody>\n",
       "    <tr>\n",
       "      <td>0</td>\n",
       "      <td>1</td>\n",
       "      <td>When Ethan was called back to the farm by his ...</td>\n",
       "      <td>8</td>\n",
       "      <td>ethan_frome</td>\n",
       "      <td>False</td>\n",
       "      <td>/data2/sungjaecho/data_tts/BC2013/segments/eth...</td>\n",
       "    </tr>\n",
       "    <tr>\n",
       "      <td>1</td>\n",
       "      <td>2</td>\n",
       "      <td>Here he had nailed up shelves for his books, b...</td>\n",
       "      <td>8</td>\n",
       "      <td>ethan_frome</td>\n",
       "      <td>False</td>\n",
       "      <td>/data2/sungjaecho/data_tts/BC2013/segments/eth...</td>\n",
       "    </tr>\n",
       "    <tr>\n",
       "      <td>2</td>\n",
       "      <td>3</td>\n",
       "      <td>He still took refuge there in summer, but when...</td>\n",
       "      <td>8</td>\n",
       "      <td>ethan_frome</td>\n",
       "      <td>False</td>\n",
       "      <td>/data2/sungjaecho/data_tts/BC2013/segments/eth...</td>\n",
       "    </tr>\n",
       "    <tr>\n",
       "      <td>3</td>\n",
       "      <td>4</td>\n",
       "      <td>To this retreat he descended as soon as the ho...</td>\n",
       "      <td>8</td>\n",
       "      <td>ethan_frome</td>\n",
       "      <td>False</td>\n",
       "      <td>/data2/sungjaecho/data_tts/BC2013/segments/eth...</td>\n",
       "    </tr>\n",
       "    <tr>\n",
       "      <td>4</td>\n",
       "      <td>5</td>\n",
       "      <td>After Zeena's departure he and Mattie had stoo...</td>\n",
       "      <td>8</td>\n",
       "      <td>ethan_frome</td>\n",
       "      <td>False</td>\n",
       "      <td>/data2/sungjaecho/data_tts/BC2013/segments/eth...</td>\n",
       "    </tr>\n",
       "  </tbody>\n",
       "</table>\n",
       "</div>"
      ],
      "text/plain": [
       "   sentence_id                                               text  chapter  \\\n",
       "0            1  When Ethan was called back to the farm by his ...        8   \n",
       "1            2  Here he had nailed up shelves for his books, b...        8   \n",
       "2            3  He still took refuge there in summer, but when...        8   \n",
       "3            4  To this retreat he descended as soon as the ho...        8   \n",
       "4            5  After Zeena's departure he and Mattie had stoo...        8   \n",
       "\n",
       "          book  segmented                                           wav_path  \n",
       "0  ethan_frome      False  /data2/sungjaecho/data_tts/BC2013/segments/eth...  \n",
       "1  ethan_frome      False  /data2/sungjaecho/data_tts/BC2013/segments/eth...  \n",
       "2  ethan_frome      False  /data2/sungjaecho/data_tts/BC2013/segments/eth...  \n",
       "3  ethan_frome      False  /data2/sungjaecho/data_tts/BC2013/segments/eth...  \n",
       "4  ethan_frome      False  /data2/sungjaecho/data_tts/BC2013/segments/eth...  "
      ]
     },
     "execution_count": 5,
     "metadata": {},
     "output_type": "execute_result"
    }
   ],
   "source": [
    "df_txt_books.head()"
   ]
  },
  {
   "cell_type": "code",
   "execution_count": 6,
   "metadata": {},
   "outputs": [],
   "source": [
    "segmented_wav_dir = os.path.join(bc2013_path, 'wav')\n",
    "segmented_txt_dir = os.path.join(bc2013_path, 'txt')\n",
    "segmented_wavs = [f for f in os.listdir(segmented_wav_dir) \\\n",
    "    if splitext(f)[1] == '.wav']\n",
    "segmented_txts = [f for f in os.listdir(segmented_txt_dir) \\\n",
    "    if splitext(f)[1] == '.txt']\n",
    "\n",
    "wav_paths = list()\n",
    "texts = list()\n",
    "for txt in segmented_txts:\n",
    "    f_name = splitext(txt)[0]\n",
    "    wav_path = os.path.join(segmented_wav_dir, f_name) + '.wav'\n",
    "    if not os.path.exists(wav_path):\n",
    "        continue\n",
    "    \n",
    "    txt_path = os.path.join(segmented_txt_dir, txt)\n",
    "    with open(txt_path, 'r') as f:\n",
    "        text = f.read()\n",
    "    \n",
    "    wav_paths.append(wav_path)\n",
    "    texts.append(text)\n",
    "    \n",
    "df = pd.DataFrame({\n",
    "    'text':texts,\n",
    "    'wav_path':wav_paths,\n",
    "    'segmented':[True]*len(wav_paths)\n",
    "})\n",
    "\n",
    "df_txt_books = pd.concat([df_txt_books, df], sort=True)\n",
    "df_txt_books = df_txt_books.reset_index(drop=True)"
   ]
  },
  {
   "cell_type": "code",
   "execution_count": 7,
   "metadata": {},
   "outputs": [
    {
     "data": {
      "text/html": [
       "<div>\n",
       "<style scoped>\n",
       "    .dataframe tbody tr th:only-of-type {\n",
       "        vertical-align: middle;\n",
       "    }\n",
       "\n",
       "    .dataframe tbody tr th {\n",
       "        vertical-align: top;\n",
       "    }\n",
       "\n",
       "    .dataframe thead th {\n",
       "        text-align: right;\n",
       "    }\n",
       "</style>\n",
       "<table border=\"1\" class=\"dataframe\">\n",
       "  <thead>\n",
       "    <tr style=\"text-align: right;\">\n",
       "      <th></th>\n",
       "      <th>book</th>\n",
       "      <th>chapter</th>\n",
       "      <th>segmented</th>\n",
       "      <th>sentence_id</th>\n",
       "      <th>text</th>\n",
       "      <th>wav_path</th>\n",
       "    </tr>\n",
       "  </thead>\n",
       "  <tbody>\n",
       "    <tr>\n",
       "      <td>0</td>\n",
       "      <td>ethan_frome</td>\n",
       "      <td>8.0</td>\n",
       "      <td>False</td>\n",
       "      <td>1.0</td>\n",
       "      <td>When Ethan was called back to the farm by his ...</td>\n",
       "      <td>/data2/sungjaecho/data_tts/BC2013/segments/eth...</td>\n",
       "    </tr>\n",
       "    <tr>\n",
       "      <td>1</td>\n",
       "      <td>ethan_frome</td>\n",
       "      <td>8.0</td>\n",
       "      <td>False</td>\n",
       "      <td>2.0</td>\n",
       "      <td>Here he had nailed up shelves for his books, b...</td>\n",
       "      <td>/data2/sungjaecho/data_tts/BC2013/segments/eth...</td>\n",
       "    </tr>\n",
       "    <tr>\n",
       "      <td>2</td>\n",
       "      <td>ethan_frome</td>\n",
       "      <td>8.0</td>\n",
       "      <td>False</td>\n",
       "      <td>3.0</td>\n",
       "      <td>He still took refuge there in summer, but when...</td>\n",
       "      <td>/data2/sungjaecho/data_tts/BC2013/segments/eth...</td>\n",
       "    </tr>\n",
       "    <tr>\n",
       "      <td>3</td>\n",
       "      <td>ethan_frome</td>\n",
       "      <td>8.0</td>\n",
       "      <td>False</td>\n",
       "      <td>4.0</td>\n",
       "      <td>To this retreat he descended as soon as the ho...</td>\n",
       "      <td>/data2/sungjaecho/data_tts/BC2013/segments/eth...</td>\n",
       "    </tr>\n",
       "    <tr>\n",
       "      <td>4</td>\n",
       "      <td>ethan_frome</td>\n",
       "      <td>8.0</td>\n",
       "      <td>False</td>\n",
       "      <td>5.0</td>\n",
       "      <td>After Zeena's departure he and Mattie had stoo...</td>\n",
       "      <td>/data2/sungjaecho/data_tts/BC2013/segments/eth...</td>\n",
       "    </tr>\n",
       "  </tbody>\n",
       "</table>\n",
       "</div>"
      ],
      "text/plain": [
       "          book  chapter  segmented  sentence_id  \\\n",
       "0  ethan_frome      8.0      False          1.0   \n",
       "1  ethan_frome      8.0      False          2.0   \n",
       "2  ethan_frome      8.0      False          3.0   \n",
       "3  ethan_frome      8.0      False          4.0   \n",
       "4  ethan_frome      8.0      False          5.0   \n",
       "\n",
       "                                                text  \\\n",
       "0  When Ethan was called back to the farm by his ...   \n",
       "1  Here he had nailed up shelves for his books, b...   \n",
       "2  He still took refuge there in summer, but when...   \n",
       "3  To this retreat he descended as soon as the ho...   \n",
       "4  After Zeena's departure he and Mattie had stoo...   \n",
       "\n",
       "                                            wav_path  \n",
       "0  /data2/sungjaecho/data_tts/BC2013/segments/eth...  \n",
       "1  /data2/sungjaecho/data_tts/BC2013/segments/eth...  \n",
       "2  /data2/sungjaecho/data_tts/BC2013/segments/eth...  \n",
       "3  /data2/sungjaecho/data_tts/BC2013/segments/eth...  \n",
       "4  /data2/sungjaecho/data_tts/BC2013/segments/eth...  "
      ]
     },
     "execution_count": 7,
     "metadata": {},
     "output_type": "execute_result"
    }
   ],
   "source": [
    "df_txt_books.head()"
   ]
  },
  {
   "cell_type": "markdown",
   "metadata": {},
   "source": [
    "# 2. `add_columns`"
   ]
  },
  {
   "cell_type": "code",
   "execution_count": 9,
   "metadata": {},
   "outputs": [
    {
     "data": {
      "text/plain": [
       "Index(['book', 'chapter', 'segmented', 'sentence_id', 'text', 'wav_path'], dtype='object')"
      ]
     },
     "execution_count": 9,
     "metadata": {},
     "output_type": "execute_result"
    }
   ],
   "source": [
    "df_txt_books.columns"
   ]
  },
  {
   "cell_type": "markdown",
   "metadata": {},
   "source": [
    "# 3. add duration column"
   ]
  },
  {
   "cell_type": "code",
   "execution_count": 11,
   "metadata": {},
   "outputs": [],
   "source": [
    "import librosa"
   ]
  },
  {
   "cell_type": "code",
   "execution_count": 17,
   "metadata": {},
   "outputs": [
    {
     "name": "stdout",
     "output_type": "stream",
     "text": [
      "8.799\n"
     ]
    }
   ],
   "source": [
    "for i, row in df_txt_books.iterrows():\n",
    "    y, sr = librosa.load(row.wav_path)\n",
    "    duration = librosa.get_duration(y, sr)\n",
    "    duration = round(duration, 3)\n",
    "    "
   ]
  },
  {
   "cell_type": "markdown",
   "metadata": {},
   "source": [
    "# 4. Check linearity of audio duration and script length"
   ]
  },
  {
   "cell_type": "markdown",
   "metadata": {},
   "source": [
    "Restart the ipython kernel."
   ]
  },
  {
   "cell_type": "code",
   "execution_count": 1,
   "metadata": {},
   "outputs": [
    {
     "name": "stdout",
     "output_type": "stream",
     "text": [
      "The working directory is moved from /data2/sungjaecho/Projects/tacotron2/dev_ipynb to /data2/sungjaecho/Projects/tacotron2.\n"
     ]
    }
   ],
   "source": [
    "import os\n",
    "cwd_old = os.getcwd()\n",
    "os.chdir('..')\n",
    "cwd_new = os.getcwd()\n",
    "print(\"The working directory is moved from {} to {}.\".format(cwd_old, cwd_new))"
   ]
  },
  {
   "cell_type": "code",
   "execution_count": 2,
   "metadata": {},
   "outputs": [],
   "source": [
    "import pandas as pd\n",
    "from os.path import join\n",
    "metadata_dir = 'metadata'\n",
    "bc_csv = 'bc2013.csv'\n",
    "bc_csv_path = join(metadata_dir, bc_csv)\n",
    "df_bc = pd.read_csv(bc_csv_path)"
   ]
  },
  {
   "cell_type": "code",
   "execution_count": 3,
   "metadata": {},
   "outputs": [
    {
     "data": {
      "text/plain": [
       "(106591, 13)"
      ]
     },
     "execution_count": 3,
     "metadata": {},
     "output_type": "execute_result"
    }
   ],
   "source": [
    "df_bc.shape"
   ]
  },
  {
   "cell_type": "code",
   "execution_count": 4,
   "metadata": {},
   "outputs": [
    {
     "data": {
      "text/plain": [
       "Index(['database', 'split', 'wav_path', 'duration', 'text', 'speaker', 'sex',\n",
       "       'emotion', 'lang', 'segmented', 'book', 'chapter', 'sentence_id'],\n",
       "      dtype='object')"
      ]
     },
     "execution_count": 4,
     "metadata": {},
     "output_type": "execute_result"
    }
   ],
   "source": [
    "df_bc.columns"
   ]
  },
  {
   "cell_type": "code",
   "execution_count": 5,
   "metadata": {},
   "outputs": [],
   "source": [
    "from g2p_en import G2p\n",
    "from tqdm import tqdm\n",
    "import numpy as np"
   ]
  },
  {
   "cell_type": "code",
   "execution_count": 6,
   "metadata": {},
   "outputs": [],
   "source": [
    "g2p = G2p()"
   ]
  },
  {
   "cell_type": "code",
   "execution_count": 7,
   "metadata": {},
   "outputs": [
    {
     "name": "stderr",
     "output_type": "stream",
     "text": [
      "  0%|          | 1/106591 [00:00<4:42:28,  6.29it/s]"
     ]
    },
    {
     "name": "stdout",
     "output_type": "stream",
     "text": [
      "Converting graphem sequences to phoneme sequences...\n"
     ]
    },
    {
     "name": "stderr",
     "output_type": "stream",
     "text": [
      "100%|██████████| 106591/106591 [07:42<00:00, 230.69it/s]\n"
     ]
    }
   ],
   "source": [
    "y = df_bc.duration\n",
    "x = list()\n",
    "print(\"Converting graphem sequences to phoneme sequences...\")\n",
    "for i, row in tqdm(df_bc.iterrows(), total=len(df_bc)):\n",
    "    p_seq = g2p(row.text)\n",
    "    x.append(len(p_seq))"
   ]
  },
  {
   "cell_type": "code",
   "execution_count": 8,
   "metadata": {},
   "outputs": [],
   "source": [
    "y = y[:len(x)]\n",
    "y = y.to_numpy()\n",
    "x = np.asarray(x)"
   ]
  },
  {
   "cell_type": "code",
   "execution_count": 9,
   "metadata": {},
   "outputs": [
    {
     "name": "stdout",
     "output_type": "stream",
     "text": [
      "(106591,)\n",
      "(106591,)\n"
     ]
    }
   ],
   "source": [
    "print(y.shape)\n",
    "print(x.shape)"
   ]
  },
  {
   "cell_type": "code",
   "execution_count": 11,
   "metadata": {},
   "outputs": [
    {
     "name": "stdout",
     "output_type": "stream",
     "text": [
      "Deleted files under 1 sec: 15667\n"
     ]
    }
   ],
   "source": [
    "min_duration = 1 # seconds\n",
    "max_duration = 10\n",
    "hard_duration_mask = (y > min_duration) & (y < max_duration)\n",
    "\n",
    "print(\"Deleted files under {} sec: {}\".format(min_duration, np.invert(hard_duration_mask).sum()))"
   ]
  },
  {
   "cell_type": "code",
   "execution_count": 12,
   "metadata": {},
   "outputs": [
    {
     "name": "stdout",
     "output_type": "stream",
     "text": [
      "(106591,)\n",
      "(106591,)\n"
     ]
    }
   ],
   "source": [
    "print(y.shape)\n",
    "print(x.shape)"
   ]
  },
  {
   "cell_type": "code",
   "execution_count": 13,
   "metadata": {},
   "outputs": [],
   "source": [
    "import matplotlib.pyplot as plt"
   ]
  },
  {
   "cell_type": "code",
   "execution_count": 14,
   "metadata": {},
   "outputs": [
    {
     "name": "stdout",
     "output_type": "stream",
     "text": [
      "Coefficients: \n",
      " [[0.06538313]]\n",
      "Intercept: \n",
      " 0.0\n",
      "Mean squared error: 0.55\n",
      "Coefficient of determination: 0.97\n"
     ]
    },
    {
     "data": {
      "image/png": "[encoded data removed]",
      "text/plain": [
       "<Figure size 432x288 with 1 Axes>"
      ]
     },
     "metadata": {
      "needs_background": "light"
     },
     "output_type": "display_data"
    }
   ],
   "source": [
    "'''\n",
    "Reference: https://scikit-learn.org/stable/auto_examples/linear_model/plot_ols.html#sphx-glr-auto-examples-linear-model-plot-ols-py\n",
    "'''\n",
    "from sklearn import linear_model\n",
    "from sklearn.metrics import mean_squared_error, r2_score\n",
    "\n",
    "# Create linear regression object\n",
    "regr = linear_model.LinearRegression(fit_intercept=False)\n",
    "\n",
    "# Train the model using the training sets\n",
    "regr.fit(x[np.argwhere(hard_duration_mask)], y[np.argwhere(hard_duration_mask)])\n",
    "\n",
    "# Make predictions using the training set\n",
    "y_pred = regr.predict(x.reshape(-1, 1))\n",
    "y_pred = y_pred.reshape(-1)\n",
    "\n",
    "# The coefficients\n",
    "print('Coefficients: \\n', regr.coef_,)\n",
    "# The intercpet\n",
    "print('Intercept: \\n', regr.intercept_)\n",
    "# The mean squared error\n",
    "print('Mean squared error: %.2f'\n",
    "      % mean_squared_error(y, y_pred))\n",
    "# The coefficient of determination: 1 is perfect prediction\n",
    "print('Coefficient of determination: %.2f'\n",
    "      % r2_score(y, y_pred))\n",
    "\n",
    "# Plot outputs\n",
    "plt.scatter(x, y,  color='green')\n",
    "plt.plot(x, y_pred, color='blue', linewidth=3)\n",
    "\n",
    "plt.xticks([x.min(), x.max()])\n",
    "plt.yticks([y.min(), y.max()])\n",
    "plt.xlabel('len(phone_seq)')\n",
    "plt.ylabel('Duration(sec)')\n",
    "\n",
    "plt.show()"
   ]
  },
  {
   "cell_type": "code",
   "execution_count": 15,
   "metadata": {},
   "outputs": [
    {
     "name": "stdout",
     "output_type": "stream",
     "text": [
      "(106591,)\n"
     ]
    }
   ],
   "source": [
    "# AE: Absolute Error between durations and predicted durations\n",
    "ae_y = np.abs((y - y_pred))\n",
    "print(ae_y.shape)"
   ]
  },
  {
   "cell_type": "code",
   "execution_count": 16,
   "metadata": {},
   "outputs": [],
   "source": [
    "import scipy.stats "
   ]
  },
  {
   "cell_type": "code",
   "execution_count": 17,
   "metadata": {},
   "outputs": [
    {
     "name": "stdout",
     "output_type": "stream",
     "text": [
      "The lower bound of 1.5*IQR outlying duration absolute errors: -0.5377316190341649\n",
      "The upper bound of 1.5*IQR outlying duration absolute errors: 1.2942884639570056\n"
     ]
    }
   ],
   "source": [
    "iqr_ae_y = scipy.stats.iqr(ae_y)\n",
    "q1 = np.quantile(ae_y, 0.25)\n",
    "q3 = np.quantile(ae_y, 0.75)\n",
    "lb_ae_y = q1 - 1.5 * iqr_ae_y # Lower bound\n",
    "ub_ae_y = q3 + 1.5 * iqr_ae_y # Upper bound\n",
    "print(\"The lower bound of 1.5*IQR outlying duration absolute errors:\", lb_ae_y)\n",
    "print(\"The upper bound of 1.5*IQR outlying duration absolute errors:\", ub_ae_y)"
   ]
  },
  {
   "cell_type": "code",
   "execution_count": 24,
   "metadata": {},
   "outputs": [
    {
     "name": "stdout",
     "output_type": "stream",
     "text": [
      "The lower bound of 1.5*IQR outlying durations: -4.480250000000001\n",
      "The upper bound of 1.5*IQR outlying durations: 13.88175\n"
     ]
    }
   ],
   "source": [
    "iqr_y = scipy.stats.iqr(y)\n",
    "q1_y = np.quantile(y, 0.25)\n",
    "q3_y = np.quantile(y, 0.75)\n",
    "lb_y = q1_y - 1.5 * iqr_y # Lower bound\n",
    "ub_y = q3_y + 1.5 * iqr_y # Upper bound\n",
    "print(\"The lower bound of 1.5*IQR outlying durations:\", lb_y)\n",
    "print(\"The upper bound of 1.5*IQR outlying durations:\", ub_y)"
   ]
  },
  {
   "cell_type": "code",
   "execution_count": 26,
   "metadata": {},
   "outputs": [],
   "source": [
    "outlier_mask = ((ae_y < lb_ae_y) | (ae_y > ub_ae_y) | (y < lb_y) | (y > ub_y) | np.invert(hard_duration_mask))\n",
    "i_outliers = np.argwhere(outlier_mask).reshape(-1)\n",
    "i_inliers = np.argwhere(np.invert(outlier_mask)).reshape(-1)"
   ]
  },
  {
   "cell_type": "code",
   "execution_count": 27,
   "metadata": {},
   "outputs": [
    {
     "name": "stdout",
     "output_type": "stream",
     "text": [
      "18480\n",
      "88111\n",
      "106591\n",
      "True\n"
     ]
    }
   ],
   "source": [
    "print(len(i_outliers))\n",
    "print(len(i_inliers))\n",
    "n_total = len(i_outliers) + len(i_inliers)\n",
    "print(n_total)\n",
    "print(n_total == len(x))"
   ]
  },
  {
   "cell_type": "code",
   "execution_count": 28,
   "metadata": {},
   "outputs": [],
   "source": [
    "def convert(seconds): \n",
    "    hours = seconds // 3600\n",
    "    seconds %= 3600\n",
    "    minutes = seconds // 60\n",
    "    seconds %= 60\n",
    "    \n",
    "    return hours, minutes, seconds"
   ]
  },
  {
   "cell_type": "code",
   "execution_count": 29,
   "metadata": {},
   "outputs": [
    {
     "data": {
      "image/png": "[encoded data removed]",
      "text/plain": [
       "<Figure size 432x288 with 1 Axes>"
      ]
     },
     "metadata": {
      "needs_background": "light"
     },
     "output_type": "display_data"
    },
    {
     "name": "stdout",
     "output_type": "stream",
     "text": [
      "Total samples: 106591\n",
      "Inliers: 88111\n",
      "Duration(inliers): 101h 25m 25s\n",
      "Outliers: 18480\n",
      "Duration(outliers): 57h 41m 50s\n",
      "Ratio of Outliers: 0.17337298646227167\n"
     ]
    }
   ],
   "source": [
    "x_outliers = x[i_outliers]\n",
    "y_outliers = y[i_outliers]\n",
    "x_inliers = x[i_inliers]\n",
    "y_inliers = y[i_inliers]\n",
    "\n",
    "# Plot outputs\n",
    "plt.scatter(x_outliers, y_outliers, color='red', alpha=0.2)\n",
    "plt.scatter(x_inliers, y_inliers, color='green', alpha=0.2)\n",
    "\n",
    "\n",
    "plt.plot(x, y_pred, color='blue', linewidth=3)\n",
    "\n",
    "plt.xticks([x_inliers.min(), x_inliers.mean(), x_inliers.max(), x.min(), x.max()])\n",
    "plt.yticks([y_inliers.min(), y_inliers.mean(), y_inliers.max(), y.min(), y.max()])\n",
    "plt.xlabel('len(phone_seq)')\n",
    "plt.ylabel('Duration(sec)')\n",
    "\n",
    "plt.show()\n",
    "\n",
    "print(\"Total samples:\", len(x))\n",
    "print(\"Inliers:\", len(x_inliers))\n",
    "secs_inliers = int(y[i_inliers].sum())\n",
    "h, m, s = convert(secs_inliers)\n",
    "print(\"Duration(inliers): {}h {}m {}s\".format(h, m, s))\n",
    "\n",
    "print(\"Outliers:\", len(x_outliers))\n",
    "secs_outliers = int(y[i_outliers].sum())\n",
    "h, m, s = convert(secs_outliers)\n",
    "print(\"Duration(outliers): {}h {}m {}s\".format(h, m, s))\n",
    "\n",
    "print(\"Ratio of Outliers:\", (len(x_outliers) / len(x)))"
   ]
  },
  {
   "cell_type": "code",
   "execution_count": 30,
   "metadata": {},
   "outputs": [
    {
     "data": {
      "text/plain": [
       "True"
      ]
     },
     "execution_count": 30,
     "metadata": {},
     "output_type": "execute_result"
    }
   ],
   "source": [
    "len(x) == len(x_inliers) + len(x_outliers)"
   ]
  },
  {
   "cell_type": "code",
   "execution_count": 31,
   "metadata": {},
   "outputs": [
    {
     "name": "stdout",
     "output_type": "stream",
     "text": [
      "(88111, 13)\n"
     ]
    },
    {
     "data": {
      "text/html": [
       "<div>\n",
       "<style scoped>\n",
       "    .dataframe tbody tr th:only-of-type {\n",
       "        vertical-align: middle;\n",
       "    }\n",
       "\n",
       "    .dataframe tbody tr th {\n",
       "        vertical-align: top;\n",
       "    }\n",
       "\n",
       "    .dataframe thead th {\n",
       "        text-align: right;\n",
       "    }\n",
       "</style>\n",
       "<table border=\"1\" class=\"dataframe\">\n",
       "  <thead>\n",
       "    <tr style=\"text-align: right;\">\n",
       "      <th></th>\n",
       "      <th>database</th>\n",
       "      <th>split</th>\n",
       "      <th>wav_path</th>\n",
       "      <th>duration</th>\n",
       "      <th>text</th>\n",
       "      <th>speaker</th>\n",
       "      <th>sex</th>\n",
       "      <th>emotion</th>\n",
       "      <th>lang</th>\n",
       "      <th>segmented</th>\n",
       "      <th>book</th>\n",
       "      <th>chapter</th>\n",
       "      <th>sentence_id</th>\n",
       "    </tr>\n",
       "  </thead>\n",
       "  <tbody>\n",
       "    <tr>\n",
       "      <td>0</td>\n",
       "      <td>bc2013</td>\n",
       "      <td>train</td>\n",
       "      <td>/data2/sungjaecho/data_tts/BC2013/segments/eth...</td>\n",
       "      <td>8.799</td>\n",
       "      <td>When Ethan was called back to the farm by his ...</td>\n",
       "      <td>catherine-byers</td>\n",
       "      <td>w</td>\n",
       "      <td>neutral</td>\n",
       "      <td>en</td>\n",
       "      <td>False</td>\n",
       "      <td>ethan_frome</td>\n",
       "      <td>8.0</td>\n",
       "      <td>1.0</td>\n",
       "    </tr>\n",
       "    <tr>\n",
       "      <td>1</td>\n",
       "      <td>bc2013</td>\n",
       "      <td>train</td>\n",
       "      <td>/data2/sungjaecho/data_tts/BC2013/segments/eth...</td>\n",
       "      <td>9.609</td>\n",
       "      <td>To this retreat he descended as soon as the ho...</td>\n",
       "      <td>catherine-byers</td>\n",
       "      <td>w</td>\n",
       "      <td>neutral</td>\n",
       "      <td>en</td>\n",
       "      <td>False</td>\n",
       "      <td>ethan_frome</td>\n",
       "      <td>8.0</td>\n",
       "      <td>4.0</td>\n",
       "    </tr>\n",
       "    <tr>\n",
       "      <td>2</td>\n",
       "      <td>bc2013</td>\n",
       "      <td>train</td>\n",
       "      <td>/data2/sungjaecho/data_tts/BC2013/segments/eth...</td>\n",
       "      <td>5.951</td>\n",
       "      <td>After Zeena's departure he and Mattie had stoo...</td>\n",
       "      <td>catherine-byers</td>\n",
       "      <td>w</td>\n",
       "      <td>neutral</td>\n",
       "      <td>en</td>\n",
       "      <td>False</td>\n",
       "      <td>ethan_frome</td>\n",
       "      <td>8.0</td>\n",
       "      <td>5.0</td>\n",
       "    </tr>\n",
       "    <tr>\n",
       "      <td>3</td>\n",
       "      <td>bc2013</td>\n",
       "      <td>train</td>\n",
       "      <td>/data2/sungjaecho/data_tts/BC2013/segments/eth...</td>\n",
       "      <td>8.956</td>\n",
       "      <td>Then the girl had returned to her task of clea...</td>\n",
       "      <td>catherine-byers</td>\n",
       "      <td>w</td>\n",
       "      <td>neutral</td>\n",
       "      <td>en</td>\n",
       "      <td>False</td>\n",
       "      <td>ethan_frome</td>\n",
       "      <td>8.0</td>\n",
       "      <td>6.0</td>\n",
       "    </tr>\n",
       "    <tr>\n",
       "      <td>4</td>\n",
       "      <td>bc2013</td>\n",
       "      <td>train</td>\n",
       "      <td>/data2/sungjaecho/data_tts/BC2013/segments/eth...</td>\n",
       "      <td>2.190</td>\n",
       "      <td>The kitchen was empty when he came back to it;</td>\n",
       "      <td>catherine-byers</td>\n",
       "      <td>w</td>\n",
       "      <td>neutral</td>\n",
       "      <td>en</td>\n",
       "      <td>False</td>\n",
       "      <td>ethan_frome</td>\n",
       "      <td>8.0</td>\n",
       "      <td>7.0</td>\n",
       "    </tr>\n",
       "  </tbody>\n",
       "</table>\n",
       "</div>"
      ],
      "text/plain": [
       "  database  split                                           wav_path  \\\n",
       "0   bc2013  train  /data2/sungjaecho/data_tts/BC2013/segments/eth...   \n",
       "1   bc2013  train  /data2/sungjaecho/data_tts/BC2013/segments/eth...   \n",
       "2   bc2013  train  /data2/sungjaecho/data_tts/BC2013/segments/eth...   \n",
       "3   bc2013  train  /data2/sungjaecho/data_tts/BC2013/segments/eth...   \n",
       "4   bc2013  train  /data2/sungjaecho/data_tts/BC2013/segments/eth...   \n",
       "\n",
       "   duration                                               text  \\\n",
       "0     8.799  When Ethan was called back to the farm by his ...   \n",
       "1     9.609  To this retreat he descended as soon as the ho...   \n",
       "2     5.951  After Zeena's departure he and Mattie had stoo...   \n",
       "3     8.956  Then the girl had returned to her task of clea...   \n",
       "4     2.190     The kitchen was empty when he came back to it;   \n",
       "\n",
       "           speaker sex  emotion lang  segmented         book  chapter  \\\n",
       "0  catherine-byers   w  neutral   en      False  ethan_frome      8.0   \n",
       "1  catherine-byers   w  neutral   en      False  ethan_frome      8.0   \n",
       "2  catherine-byers   w  neutral   en      False  ethan_frome      8.0   \n",
       "3  catherine-byers   w  neutral   en      False  ethan_frome      8.0   \n",
       "4  catherine-byers   w  neutral   en      False  ethan_frome      8.0   \n",
       "\n",
       "   sentence_id  \n",
       "0          1.0  \n",
       "1          4.0  \n",
       "2          5.0  \n",
       "3          6.0  \n",
       "4          7.0  "
      ]
     },
     "execution_count": 31,
     "metadata": {},
     "output_type": "execute_result"
    }
   ],
   "source": [
    "df_inliers = df_bc.iloc[i_inliers].reset_index(drop=True)\n",
    "print(df_inliers.shape)\n",
    "df_inliers.head()"
   ]
  },
  {
   "cell_type": "markdown",
   "metadata": {},
   "source": [
    "# 5. Functionalizing outlier removal"
   ]
  },
  {
   "cell_type": "markdown",
   "metadata": {},
   "source": [
    "- **Preprocessing**: Calcuate durations of all audios.\n",
    "\n",
    "1. Remove samples under 1 second.\n",
    "1. Find `1.5*IQR` outliers according to duration.\n",
    "1. Find `1.5*IQR` outliers according to the absolute error for the linear regression model.\n",
    "1. Remove the two types of outliers.\n",
    "\n",
    "- **Postprocessing**: `train-val-test` split."
   ]
  },
  {
   "cell_type": "markdown",
   "metadata": {},
   "source": [
    "## 5.1. Declarations"
   ]
  },
  {
   "cell_type": "code",
   "execution_count": 1,
   "metadata": {},
   "outputs": [
    {
     "name": "stdout",
     "output_type": "stream",
     "text": [
      "The working directory is moved from /data2/sungjaecho/Projects/tacotron2/dev_ipynb to /data2/sungjaecho/Projects/tacotron2.\n"
     ]
    }
   ],
   "source": [
    "import os\n",
    "cwd_old = os.getcwd()\n",
    "os.chdir('..')\n",
    "cwd_new = os.getcwd()\n",
    "print(\"The working directory is moved from {} to {}.\".format(cwd_old, cwd_new))"
   ]
  },
  {
   "cell_type": "code",
   "execution_count": 2,
   "metadata": {},
   "outputs": [],
   "source": [
    "import pandas as pd\n",
    "import numpy as np\n",
    "import scipy.stats \n",
    "from os.path import join\n",
    "from g2p_en import G2p\n",
    "from tqdm import tqdm\n",
    "from sklearn import linear_model\n",
    "\n",
    "def convert(seconds): \n",
    "    hours = seconds // 3600\n",
    "    seconds %= 3600\n",
    "    minutes = seconds // 60\n",
    "    seconds %= 60\n",
    "    \n",
    "    return hours, minutes, seconds"
   ]
  },
  {
   "cell_type": "code",
   "execution_count": 3,
   "metadata": {},
   "outputs": [],
   "source": [
    "def rm_bc_outliers(df_bc, min_duration=1, max_duration=10):\n",
    "    g2p = G2p()\n",
    "    y = df_bc.duration\n",
    "    x = list()\n",
    "    print(\"Converting graphem sequences to phoneme sequences...\")\n",
    "    for i, row in tqdm(df_bc.iterrows(), total=len(df_bc)):\n",
    "        p_seq = g2p(row.text)\n",
    "        x.append(len(p_seq))\n",
    "\n",
    "    y = y[:len(x)]\n",
    "    y = y.to_numpy()\n",
    "    x = np.asarray(x)\n",
    "\n",
    "    hard_duration_mask = (y > min_duration) & (y < max_duration)\n",
    "\n",
    "    print(\"Deleted files under {} sec: {}\".format(min_duration, np.invert(hard_duration_mask).sum()))\n",
    "\n",
    "    '''\n",
    "    Reference: https://scikit-learn.org/stable/auto_examples/linear_model/plot_ols.html#sphx-glr-auto-examples-linear-model-plot-ols-py\n",
    "    '''\n",
    "    # Create linear regression object\n",
    "    regr = linear_model.LinearRegression(fit_intercept=False)\n",
    "\n",
    "    # Train the model using the training sets\n",
    "    regr.fit(x[np.argwhere(hard_duration_mask)], y[np.argwhere(hard_duration_mask)])\n",
    "\n",
    "    # Make predictions using the training set\n",
    "    y_pred = regr.predict(x.reshape(-1, 1))\n",
    "    y_pred = y_pred.reshape(-1)\n",
    "\n",
    "    # AE: Absolute Error between durations and predicted durations\n",
    "    ae_y = np.abs((y - y_pred))\n",
    "\n",
    "    # Find the lower & upper bounds of 1.5*IQR outlying duration absolute errors\n",
    "    iqr_ae_y = scipy.stats.iqr(ae_y)\n",
    "    q1 = np.quantile(ae_y, 0.25)\n",
    "    q3 = np.quantile(ae_y, 0.75)\n",
    "    lb_ae_y = q1 - 1.5 * iqr_ae_y # Lower bound\n",
    "    ub_ae_y = q3 + 1.5 * iqr_ae_y # Upper bound\n",
    "    print(\"The lower bound of 1.5*IQR outlying duration absolute errors:\", lb_ae_y)\n",
    "    print(\"The upper bound of 1.5*IQR outlying duration absolute errors:\", ub_ae_y)\n",
    "\n",
    "    # Find the lower & upper bounds of 1.5*IQR outlying durations\n",
    "    iqr_y = scipy.stats.iqr(y)\n",
    "    q1_y = np.quantile(y, 0.25)\n",
    "    q3_y = np.quantile(y, 0.75)\n",
    "    lb_y = q1_y - 1.5 * iqr_y # Lower bound\n",
    "    ub_y = q3_y + 1.5 * iqr_y # Upper bound\n",
    "    print(\"The lower bound of 1.5*IQR outlying durations:\", lb_y)\n",
    "    print(\"The upper bound of 1.5*IQR outlying durations:\", ub_y)\n",
    "\n",
    "    # Get the indicies of outliers\n",
    "    outlier_mask = ((ae_y < lb_ae_y) | (ae_y > ub_ae_y) | (y < lb_y) | (y > ub_y) | np.invert(hard_duration_mask))\n",
    "    i_outliers = np.argwhere(outlier_mask).reshape(-1)\n",
    "    i_inliers = np.argwhere(np.invert(outlier_mask)).reshape(-1)\n",
    "\n",
    "    x_outliers = x[i_outliers]\n",
    "    y_outliers = y[i_outliers]\n",
    "    x_inliers = x[i_inliers]\n",
    "    y_inliers = y[i_inliers]\n",
    "\n",
    "    # About stats\n",
    "    print(\"Total samples:\", len(x))\n",
    "\n",
    "    # About inliers =====\n",
    "    print(\"Inliers:\", len(x_inliers))\n",
    "    secs_inliers = int(y[i_inliers].sum())\n",
    "    h, m, s = convert(secs_inliers)\n",
    "    print(\"Duration(inliers): {}h {}m {}s\".format(h, m, s))\n",
    "\n",
    "    # About outliers =====\n",
    "    print(\"Outliers:\", len(x_outliers))\n",
    "    secs_outliers = int(y[i_outliers].sum())\n",
    "    h, m, s = convert(secs_outliers)\n",
    "    print(\"Duration(outliers): {}h {}m {}s\".format(h, m, s))\n",
    "    print(\"Ratio of Outliers:\", (len(x_outliers) / len(x)))\n",
    "    \n",
    "    df_inliers = df_bc.iloc[i_inliers].reset_index(drop=True)\n",
    "\n",
    "    return df_inliers"
   ]
  },
  {
   "cell_type": "markdown",
   "metadata": {},
   "source": [
    "## 5.2. Running test"
   ]
  },
  {
   "cell_type": "code",
   "execution_count": 4,
   "metadata": {},
   "outputs": [],
   "source": [
    "metadata_dir = 'metadata'\n",
    "bc_csv = 'bc2013.csv'\n",
    "bc_csv_path = join(metadata_dir, bc_csv)\n",
    "df_bc = pd.read_csv(bc_csv_path)"
   ]
  },
  {
   "cell_type": "code",
   "execution_count": 5,
   "metadata": {},
   "outputs": [
    {
     "name": "stderr",
     "output_type": "stream",
     "text": [
      "  0%|          | 1/106591 [00:00<5:12:06,  5.69it/s]"
     ]
    },
    {
     "name": "stdout",
     "output_type": "stream",
     "text": [
      "Converting graphem sequences to phoneme sequences...\n"
     ]
    },
    {
     "name": "stderr",
     "output_type": "stream",
     "text": [
      "100%|██████████| 106591/106591 [07:53<00:00, 224.97it/s]\n"
     ]
    },
    {
     "name": "stdout",
     "output_type": "stream",
     "text": [
      "Deleted files under 1 sec: 15667\n",
      "The lower bound of 1.5*IQR outlying duration absolute errors: -0.5377316190341649\n",
      "The upper bound of 1.5*IQR outlying duration absolute errors: 1.2942884639570056\n",
      "The lower bound of 1.5*IQR outlying durations: -4.480250000000001\n",
      "The upper bound of 1.5*IQR outlying durations: 13.88175\n",
      "Total samples: 106591\n",
      "Inliers: 88111\n",
      "Duration(inliers): 101h 25m 25s\n",
      "Outliers: 18480\n",
      "Duration(outliers): 57h 41m 50s\n",
      "Ratio of Outliers: 0.17337298646227167\n"
     ]
    }
   ],
   "source": [
    "df_inliers = rm_bc_outliers(df_bc)"
   ]
  },
  {
   "cell_type": "code",
   "execution_count": 6,
   "metadata": {},
   "outputs": [
    {
     "data": {
      "text/plain": [
       "(88111, 13)"
      ]
     },
     "execution_count": 6,
     "metadata": {},
     "output_type": "execute_result"
    }
   ],
   "source": [
    "df_inliers.shape"
   ]
  },
  {
   "cell_type": "markdown",
   "metadata": {},
   "source": [
    "## 5.3. Reading results"
   ]
  },
  {
   "cell_type": "code",
   "execution_count": 1,
   "metadata": {},
   "outputs": [
    {
     "name": "stdout",
     "output_type": "stream",
     "text": [
      "The working directory is moved from /data2/sungjaecho/Projects/tacotron2/dev_ipynb to /data2/sungjaecho/Projects/tacotron2.\n"
     ]
    }
   ],
   "source": [
    "import os\n",
    "cwd_old = os.getcwd()\n",
    "os.chdir('..')\n",
    "cwd_new = os.getcwd()\n",
    "print(\"The working directory is moved from {} to {}.\".format(cwd_old, cwd_new))"
   ]
  },
  {
   "cell_type": "code",
   "execution_count": 2,
   "metadata": {},
   "outputs": [],
   "source": [
    "import pandas as pd"
   ]
  },
  {
   "cell_type": "code",
   "execution_count": 3,
   "metadata": {},
   "outputs": [],
   "source": [
    "df_bc2013 = pd.read_csv('metadata/bc2013.csv')"
   ]
  },
  {
   "cell_type": "code",
   "execution_count": 4,
   "metadata": {},
   "outputs": [
    {
     "data": {
      "text/plain": [
       "(88111, 13)"
      ]
     },
     "execution_count": 4,
     "metadata": {},
     "output_type": "execute_result"
    }
   ],
   "source": [
    "df_bc2013.shape"
   ]
  },
  {
   "cell_type": "code",
   "execution_count": 5,
   "metadata": {},
   "outputs": [
    {
     "data": {
      "text/plain": [
       "(87611, 13)"
      ]
     },
     "execution_count": 5,
     "metadata": {},
     "output_type": "execute_result"
    }
   ],
   "source": [
    "df_bc2013[df_bc2013.split == 'train'].shape"
   ]
  },
  {
   "cell_type": "code",
   "execution_count": 6,
   "metadata": {},
   "outputs": [
    {
     "data": {
      "text/plain": [
       "(100, 13)"
      ]
     },
     "execution_count": 6,
     "metadata": {},
     "output_type": "execute_result"
    }
   ],
   "source": [
    "df_bc2013[df_bc2013.split == 'val'].shape"
   ]
  },
  {
   "cell_type": "code",
   "execution_count": 7,
   "metadata": {},
   "outputs": [
    {
     "data": {
      "text/plain": [
       "(400, 13)"
      ]
     },
     "execution_count": 7,
     "metadata": {},
     "output_type": "execute_result"
    }
   ],
   "source": [
    "df_bc2013[df_bc2013.split == 'test'].shape"
   ]
  }
 ],
 "metadata": {
  "kernelspec": {
   "display_name": "Python 3",
   "language": "python",
   "name": "python3"
  },
  "language_info": {
   "codemirror_mode": {
    "name": "ipython",
    "version": 3
   },
   "file_extension": ".py",
   "mimetype": "text/x-python",
   "name": "python",
   "nbconvert_exporter": "python",
   "pygments_lexer": "ipython3",
   "version": "3.7.4"
  }
 },
 "nbformat": 4,
 "nbformat_minor": 4
}
