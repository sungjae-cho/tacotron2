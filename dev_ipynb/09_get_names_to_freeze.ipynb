{
 "cells": [
  {
   "cell_type": "code",
   "execution_count": 1,
   "metadata": {},
   "outputs": [
    {
     "name": "stdout",
     "output_type": "stream",
     "text": [
      "The working directory is moved from /data2/sungjaecho/Projects/tacotron2/dev_ipynb to /data2/sungjaecho/Projects/tacotron2.\n"
     ]
    }
   ],
   "source": [
    "import os\n",
    "cwd_old = os.getcwd()\n",
    "os.chdir('..')\n",
    "cwd_new = os.getcwd()\n",
    "print(\"The working directory is moved from {} to {}.\".format(cwd_old, cwd_new))"
   ]
  },
  {
   "cell_type": "markdown",
   "metadata": {},
   "source": [
    "# Get names to freeze"
   ]
  },
  {
   "cell_type": "code",
   "execution_count": 2,
   "metadata": {},
   "outputs": [],
   "source": [
    "import torch\n",
    "from pprint import pprint\n",
    "\n",
    "#pretrained_path = '/data2/sungjaecho/pretrained/tacotron2_statedict.pt'\n",
    "pretrained_path = 'outdir/icassp2020_demo/2WSpeakers3Emotions_pretraining_only_ljs-w/checkpoint_584-epoch_2.995_end-epoch_2'\n",
    "checkpoint = torch.load(pretrained_path, map_location=lambda storage, loc: storage)\n",
    "feed_weight = checkpoint['state_dict'].copy()"
   ]
  },
  {
   "cell_type": "code",
   "execution_count": 3,
   "metadata": {},
   "outputs": [
    {
     "name": "stdout",
     "output_type": "stream",
     "text": [
      "['embedding.weight',\n",
      " 'encoder.convolutions.0.0.conv.weight',\n",
      " 'encoder.convolutions.0.0.conv.bias',\n",
      " 'encoder.convolutions.0.1.weight',\n",
      " 'encoder.convolutions.0.1.bias',\n",
      " 'encoder.convolutions.0.1.running_mean',\n",
      " 'encoder.convolutions.0.1.running_var',\n",
      " 'encoder.convolutions.0.1.num_batches_tracked',\n",
      " 'encoder.convolutions.1.0.conv.weight',\n",
      " 'encoder.convolutions.1.0.conv.bias',\n",
      " 'encoder.convolutions.1.1.weight',\n",
      " 'encoder.convolutions.1.1.bias',\n",
      " 'encoder.convolutions.1.1.running_mean',\n",
      " 'encoder.convolutions.1.1.running_var',\n",
      " 'encoder.convolutions.1.1.num_batches_tracked',\n",
      " 'encoder.convolutions.2.0.conv.weight',\n",
      " 'encoder.convolutions.2.0.conv.bias',\n",
      " 'encoder.convolutions.2.1.weight',\n",
      " 'encoder.convolutions.2.1.bias',\n",
      " 'encoder.convolutions.2.1.running_mean',\n",
      " 'encoder.convolutions.2.1.running_var',\n",
      " 'encoder.convolutions.2.1.num_batches_tracked',\n",
      " 'encoder.lstm.weight_ih_l0',\n",
      " 'encoder.lstm.weight_hh_l0',\n",
      " 'encoder.lstm.bias_ih_l0',\n",
      " 'encoder.lstm.bias_hh_l0',\n",
      " 'encoder.lstm.weight_ih_l0_reverse',\n",
      " 'encoder.lstm.weight_hh_l0_reverse',\n",
      " 'encoder.lstm.bias_ih_l0_reverse',\n",
      " 'encoder.lstm.bias_hh_l0_reverse',\n",
      " 'decoder.prenet.layers.0.linear_layer.weight',\n",
      " 'decoder.prenet.layers.1.linear_layer.weight',\n",
      " 'decoder.attention_rnn.weight_ih',\n",
      " 'decoder.attention_rnn.weight_hh',\n",
      " 'decoder.attention_rnn.bias_ih',\n",
      " 'decoder.attention_rnn.bias_hh',\n",
      " 'decoder.attention_layer.query_layer.linear_layer.weight',\n",
      " 'decoder.attention_layer.memory_layer.linear_layer.weight',\n",
      " 'decoder.attention_layer.v.linear_layer.weight',\n",
      " 'decoder.attention_layer.location_layer.location_conv.conv.weight',\n",
      " 'decoder.attention_layer.location_layer.location_dense.linear_layer.weight',\n",
      " 'decoder.decoder_rnn.weight_ih',\n",
      " 'decoder.decoder_rnn.weight_hh',\n",
      " 'decoder.decoder_rnn.bias_ih',\n",
      " 'decoder.decoder_rnn.bias_hh',\n",
      " 'decoder.linear_projection.linear_layer.weight',\n",
      " 'decoder.linear_projection.linear_layer.bias',\n",
      " 'decoder.gate_layer.linear_layer.weight',\n",
      " 'decoder.gate_layer.linear_layer.bias',\n",
      " 'postnet.convolutions.0.0.conv.weight',\n",
      " 'postnet.convolutions.0.0.conv.bias',\n",
      " 'postnet.convolutions.0.1.weight',\n",
      " 'postnet.convolutions.0.1.bias',\n",
      " 'postnet.convolutions.0.1.running_mean',\n",
      " 'postnet.convolutions.0.1.running_var',\n",
      " 'postnet.convolutions.0.1.num_batches_tracked',\n",
      " 'postnet.convolutions.1.0.conv.weight',\n",
      " 'postnet.convolutions.1.0.conv.bias',\n",
      " 'postnet.convolutions.1.1.weight',\n",
      " 'postnet.convolutions.1.1.bias',\n",
      " 'postnet.convolutions.1.1.running_mean',\n",
      " 'postnet.convolutions.1.1.running_var',\n",
      " 'postnet.convolutions.1.1.num_batches_tracked',\n",
      " 'postnet.convolutions.2.0.conv.weight',\n",
      " 'postnet.convolutions.2.0.conv.bias',\n",
      " 'postnet.convolutions.2.1.weight',\n",
      " 'postnet.convolutions.2.1.bias',\n",
      " 'postnet.convolutions.2.1.running_mean',\n",
      " 'postnet.convolutions.2.1.running_var',\n",
      " 'postnet.convolutions.2.1.num_batches_tracked',\n",
      " 'postnet.convolutions.3.0.conv.weight',\n",
      " 'postnet.convolutions.3.0.conv.bias',\n",
      " 'postnet.convolutions.3.1.weight',\n",
      " 'postnet.convolutions.3.1.bias',\n",
      " 'postnet.convolutions.3.1.running_mean',\n",
      " 'postnet.convolutions.3.1.running_var',\n",
      " 'postnet.convolutions.3.1.num_batches_tracked',\n",
      " 'postnet.convolutions.4.0.conv.weight',\n",
      " 'postnet.convolutions.4.0.conv.bias',\n",
      " 'postnet.convolutions.4.1.weight',\n",
      " 'postnet.convolutions.4.1.bias',\n",
      " 'postnet.convolutions.4.1.running_mean',\n",
      " 'postnet.convolutions.4.1.running_var',\n",
      " 'postnet.convolutions.4.1.num_batches_tracked',\n",
      " 'speaker_embedding_layer.linear_projection.weight',\n",
      " 'emotion_embedding_layer.linear_projection.weight']\n"
     ]
    }
   ],
   "source": [
    "pprint(list(feed_weight.keys()))"
   ]
  },
  {
   "cell_type": "code",
   "execution_count": 4,
   "metadata": {},
   "outputs": [
    {
     "name": "stdout",
     "output_type": "stream",
     "text": [
      "{'decoder', 'postnet', 'emotion_embedding_layer', 'encoder', 'embedding', 'speaker_embedding_layer'}\n"
     ]
    }
   ],
   "source": [
    "first_names = set()\n",
    "for k in feed_weight.keys():\n",
    "    first_name = k.split('.')[0]\n",
    "    first_names.add(first_name)\n",
    "print(first_names)"
   ]
  },
  {
   "cell_type": "code",
   "execution_count": 5,
   "metadata": {},
   "outputs": [
    {
     "name": "stdout",
     "output_type": "stream",
     "text": [
      "['embedding.weight',\n",
      " 'encoder.convolutions.0.0.conv.weight',\n",
      " 'encoder.convolutions.0.0.conv.bias',\n",
      " 'encoder.convolutions.0.1.weight',\n",
      " 'encoder.convolutions.0.1.bias',\n",
      " 'encoder.convolutions.0.1.running_mean',\n",
      " 'encoder.convolutions.0.1.running_var',\n",
      " 'encoder.convolutions.0.1.num_batches_tracked',\n",
      " 'encoder.convolutions.1.0.conv.weight',\n",
      " 'encoder.convolutions.1.0.conv.bias',\n",
      " 'encoder.convolutions.1.1.weight',\n",
      " 'encoder.convolutions.1.1.bias',\n",
      " 'encoder.convolutions.1.1.running_mean',\n",
      " 'encoder.convolutions.1.1.running_var',\n",
      " 'encoder.convolutions.1.1.num_batches_tracked',\n",
      " 'encoder.convolutions.2.0.conv.weight',\n",
      " 'encoder.convolutions.2.0.conv.bias',\n",
      " 'encoder.convolutions.2.1.weight',\n",
      " 'encoder.convolutions.2.1.bias',\n",
      " 'encoder.convolutions.2.1.running_mean',\n",
      " 'encoder.convolutions.2.1.running_var',\n",
      " 'encoder.convolutions.2.1.num_batches_tracked',\n",
      " 'encoder.lstm.weight_ih_l0',\n",
      " 'encoder.lstm.weight_hh_l0',\n",
      " 'encoder.lstm.bias_ih_l0',\n",
      " 'encoder.lstm.bias_hh_l0',\n",
      " 'encoder.lstm.weight_ih_l0_reverse',\n",
      " 'encoder.lstm.weight_hh_l0_reverse',\n",
      " 'encoder.lstm.bias_ih_l0_reverse',\n",
      " 'encoder.lstm.bias_hh_l0_reverse']\n"
     ]
    }
   ],
   "source": [
    "except_for = ['decoder', 'postnet', 'peaker_embedding_layer', 'emotion_embedding_layer']\n",
    "frozen_weights = list(feed_weight.keys())\n",
    "for except_key in except_for:\n",
    "    frozen_weights = [xx for xx in frozen_weights if except_key not in xx]\n",
    "pprint(frozen_weights)"
   ]
  }
 ],
 "metadata": {
  "kernelspec": {
   "display_name": "Python 3",
   "language": "python",
   "name": "python3"
  },
  "language_info": {
   "codemirror_mode": {
    "name": "ipython",
    "version": 3
   },
   "file_extension": ".py",
   "mimetype": "text/x-python",
   "name": "python",
   "nbconvert_exporter": "python",
   "pygments_lexer": "ipython3",
   "version": "3.7.4"
  }
 },
 "nbformat": 4,
 "nbformat_minor": 4
}
