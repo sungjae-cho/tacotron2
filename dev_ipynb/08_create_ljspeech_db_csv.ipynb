{
 "cells": [
  {
   "cell_type": "code",
   "execution_count": 1,
   "metadata": {},
   "outputs": [
    {
     "name": "stdout",
     "output_type": "stream",
     "text": [
      "The working directory is moved from /data2/sungjaecho/Projects/tacotron2/dev_ipynb to /data2/sungjaecho/Projects/tacotron2.\n"
     ]
    }
   ],
   "source": [
    "import os\n",
    "cwd_old = os.getcwd()\n",
    "os.chdir('..')\n",
    "cwd_new = os.getcwd()\n",
    "print(\"The working directory is moved from {} to {}.\".format(cwd_old, cwd_new))"
   ]
  },
  {
   "cell_type": "markdown",
   "metadata": {},
   "source": [
    "# 1. Create LJ-Speech-v2 DB CSV"
   ]
  },
  {
   "cell_type": "markdown",
   "metadata": {},
   "source": [
    "- Use the data split provided from `NIVIDIA/tacotron2`\n",
    "  - `filelists/ljs_audio_text_train_filelist.txt`\n",
    "  - `filelists/ljs_audio_text_val_filelist.txt`\n",
    "  - `filelists/ljs_audio_text_test_filelist.txt`"
   ]
  },
  {
   "cell_type": "code",
   "execution_count": 29,
   "metadata": {},
   "outputs": [
    {
     "name": "stdout",
     "output_type": "stream",
     "text": [
      "len(id_sets[train]) = 12500\n",
      "len(id_sets[val]) = 100\n",
      "len(id_sets[test]) = 500\n"
     ]
    }
   ],
   "source": [
    "import pandas as pd\n",
    "import os\n",
    "\n",
    "db_path = dict()\n",
    "db_path['train'] = 'filelists/ljs_audio_text_train_filelist.txt'\n",
    "db_path['val']   = 'filelists/ljs_audio_text_val_filelist.txt'\n",
    "db_path['test']  = 'filelists/ljs_audio_text_test_filelist.txt'\n",
    "\n",
    "db = dict()\n",
    "id_sets = dict()\n",
    "for data_type in ['train', 'val', 'test']:\n",
    "    id_sets[data_type] = set()\n",
    "    db[data_type] = pd.read_csv(db_path[data_type], sep='|', header=None, encoding='utf-8', quoting=3)\n",
    "    db[data_type] = db[data_type].rename(columns={0:\"wav_path\", 1:\"text\"})\n",
    "    for i, row in db[data_type].iterrows():\n",
    "        wav_id = os.path.splitext(os.path.split(row.wav_path)[1])[0]\n",
    "        id_sets[data_type].add(wav_id)\n",
    "    print(\"len(id_sets[{}]) = {}\".format(data_type, len(id_sets[data_type])))"
   ]
  },
  {
   "cell_type": "markdown",
   "metadata": {},
   "source": [
    "# 2. Create EmoV-DB CSV"
   ]
  },
  {
   "cell_type": "markdown",
   "metadata": {},
   "source": [
    "To improve\n",
    "- Split data across the same script.\n",
    "\n",
    "To do\n",
    "- Import EmoV-DB\n",
    "- Investigate the distribution of scripts across (speaker, emotion)."
   ]
  },
  {
   "cell_type": "code",
   "execution_count": 10,
   "metadata": {},
   "outputs": [],
   "source": [
    "import pandas as pd\n",
    "import matplotlib.pyplot as plt\n",
    "\n",
    "path_csv = '/data2/sungjaecho/data_tts/EmoV-DB/EmoV-DB/emov_db.csv'"
   ]
  },
  {
   "cell_type": "code",
   "execution_count": 2,
   "metadata": {},
   "outputs": [],
   "source": [
    "df = pd.read_csv(path_csv)"
   ]
  },
  {
   "cell_type": "code",
   "execution_count": 3,
   "metadata": {},
   "outputs": [
    {
     "data": {
      "text/plain": [
       "Index(['database', 'db_version', 'id', 'speaker', 'emotion', 'cmu_a_id',\n",
       "       'script', 'sentence_path', 'duration'],\n",
       "      dtype='object')"
      ]
     },
     "execution_count": 3,
     "metadata": {},
     "output_type": "execute_result"
    }
   ],
   "source": [
    "df.columns"
   ]
  },
  {
   "cell_type": "code",
   "execution_count": 5,
   "metadata": {},
   "outputs": [
    {
     "name": "stdout",
     "output_type": "stream",
     "text": [
      "['bea' 'jenie' 'josh' 'sam']\n",
      "['amused' 'angry' 'disgusted' 'neutral' 'sleepy']\n"
     ]
    }
   ],
   "source": [
    "speakers = df.speaker.unique()\n",
    "print(speakers)\n",
    "emotions = df.emotion.unique()\n",
    "print(emotions)"
   ]
  },
  {
   "cell_type": "markdown",
   "metadata": {},
   "source": [
    "## 2.1. Check scripts that all (speaker, emotion) have"
   ]
  },
  {
   "cell_type": "markdown",
   "metadata": {},
   "source": [
    "**Conclusion**: There are only 19 scripts tha all (speaker, emotion) have."
   ]
  },
  {
   "cell_type": "code",
   "execution_count": 54,
   "metadata": {},
   "outputs": [
    {
     "data": {
      "image/png": "[encoded data removed]",
      "text/plain": [
       "<Figure size 432x288 with 1 Axes>"
      ]
     },
     "metadata": {
      "needs_background": "light"
     },
     "output_type": "display_data"
    },
    {
     "name": "stdout",
     "output_type": "stream",
     "text": [
      "cmu_a_id_intersection {30, 31, 33, 34, 35, 36, 37, 38, 40, 41, 42, 43, 44, 45, 46, 49, 50, 51, 52}\n",
      "len(cmu_a_id_intersection) 19\n"
     ]
    }
   ],
   "source": [
    "x = list()\n",
    "y = list()\n",
    "cmu_a_id_intersection = set(df.cmu_a_id.unique())\n",
    "for speaker in df.speaker.unique():\n",
    "    for emotion in df.emotion.unique():\n",
    "        condition = (df.speaker == speaker) & (df.emotion == emotion)\n",
    "        df_case = df[condition]\n",
    "        if len(df_case) == 0:\n",
    "            continue\n",
    "        cmu_a_id_intersection = cmu_a_id_intersection.intersection(set(df_case.cmu_a_id))\n",
    "        for cmu_a_id in df_case.cmu_a_id:\n",
    "            x.append(cmu_a_id)\n",
    "            y.append(\"({}, {})\".format(speaker, emotion))\n",
    "for cmu_a_id in cmu_a_id_intersection:\n",
    "    plt.axvline(cmu_a_id, color='red')\n",
    "plt.scatter(x, y)\n",
    "plt.show()\n",
    "print(\"cmu_a_id_intersection\", cmu_a_id_intersection)\n",
    "print(\"len(cmu_a_id_intersection)\", len(cmu_a_id_intersection))"
   ]
  },
  {
   "cell_type": "markdown",
   "metadata": {},
   "source": [
    "## 2.2. How many samples are needed for validation and test datasets"
   ]
  },
  {
   "cell_type": "code",
   "execution_count": 50,
   "metadata": {},
   "outputs": [
    {
     "name": "stdout",
     "output_type": "stream",
     "text": [
      "speaker  emotion  \n",
      "bea      amused       296\n",
      "         angry        304\n",
      "         disgusted    331\n",
      "         neutral      356\n",
      "         sleepy       496\n",
      "jenie    amused       222\n",
      "         angry        496\n",
      "         disgusted    189\n",
      "         neutral      417\n",
      "         sleepy       466\n",
      "josh     amused       298\n",
      "         neutral      302\n",
      "         sleepy       259\n",
      "sam      amused       501\n",
      "         angry        468\n",
      "         disgusted    496\n",
      "         neutral      492\n",
      "         sleepy       495\n",
      "Name: cmu_a_id, dtype: int64\n"
     ]
    }
   ],
   "source": [
    "print(df.groupby(by=['speaker', 'emotion'])['cmu_a_id'].count())"
   ]
  },
  {
   "cell_type": "markdown",
   "metadata": {},
   "source": [
    "### 2.2.1. 20% of samples of each (speaker, emotion)"
   ]
  },
  {
   "cell_type": "code",
   "execution_count": 63,
   "metadata": {},
   "outputs": [
    {
     "name": "stdout",
     "output_type": "stream",
     "text": [
      "\n",
      "===== Test set samples =====\n",
      "speaker  emotion  \n",
      "bea      amused        59.2\n",
      "         angry         60.8\n",
      "         disgusted     66.2\n",
      "         neutral       71.2\n",
      "         sleepy        99.2\n",
      "jenie    amused        44.4\n",
      "         angry         99.2\n",
      "         disgusted     37.8\n",
      "         neutral       83.4\n",
      "         sleepy        93.2\n",
      "josh     amused        59.6\n",
      "         neutral       60.4\n",
      "         sleepy        51.8\n",
      "sam      amused       100.2\n",
      "         angry         93.6\n",
      "         disgusted     99.2\n",
      "         neutral       98.4\n",
      "         sleepy        99.0\n",
      "Name: cmu_a_id, dtype: float64\n",
      "\n",
      "===== Validation set samples =====\n",
      "speaker  emotion  \n",
      "bea      amused       47.36\n",
      "         angry        48.64\n",
      "         disgusted    52.96\n",
      "         neutral      56.96\n",
      "         sleepy       79.36\n",
      "jenie    amused       35.52\n",
      "         angry        79.36\n",
      "         disgusted    30.24\n",
      "         neutral      66.72\n",
      "         sleepy       74.56\n",
      "josh     amused       47.68\n",
      "         neutral      48.32\n",
      "         sleepy       41.44\n",
      "sam      amused       80.16\n",
      "         angry        74.88\n",
      "         disgusted    79.36\n",
      "         neutral      78.72\n",
      "         sleepy       79.20\n",
      "Name: cmu_a_id, dtype: float64\n",
      "\n",
      "===== Training set samples =====\n",
      "speaker  emotion  \n",
      "bea      amused       189.44\n",
      "         angry        194.56\n",
      "         disgusted    211.84\n",
      "         neutral      227.84\n",
      "         sleepy       317.44\n",
      "jenie    amused       142.08\n",
      "         angry        317.44\n",
      "         disgusted    120.96\n",
      "         neutral      266.88\n",
      "         sleepy       298.24\n",
      "josh     amused       190.72\n",
      "         neutral      193.28\n",
      "         sleepy       165.76\n",
      "sam      amused       320.64\n",
      "         angry        299.52\n",
      "         disgusted    317.44\n",
      "         neutral      314.88\n",
      "         sleepy       316.80\n",
      "Name: cmu_a_id, dtype: float64\n"
     ]
    }
   ],
   "source": [
    "test_ratio = 0.2\n",
    "print(\"\\n===== Test set samples =====\")\n",
    "print(df.groupby(by=['speaker', 'emotion'])['cmu_a_id'].count() * test_ratio)\n",
    "print(\"\\n===== Validation set samples =====\")\n",
    "print(df.groupby(by=['speaker', 'emotion'])['cmu_a_id'].count() * (1 - test_ratio) * test_ratio)\n",
    "print(\"\\n===== Training set samples =====\")\n",
    "print(df.groupby(by=['speaker', 'emotion'])['cmu_a_id'].count() * (1 - test_ratio) * (1 - test_ratio))"
   ]
  },
  {
   "cell_type": "code",
   "execution_count": 66,
   "metadata": {},
   "outputs": [
    {
     "name": "stdout",
     "output_type": "stream",
     "text": [
      "\n",
      "===== Test set samples =====\n",
      "speaker  emotion  \n",
      "bea      amused       204.158612\n",
      "         angry        174.308717\n",
      "         disgusted    273.560889\n",
      "         neutral      194.499075\n",
      "         sleepy       460.246667\n",
      "jenie    amused       190.879991\n",
      "         angry        337.354558\n",
      "         disgusted    143.875683\n",
      "         neutral      233.589814\n",
      "         sleepy       357.166041\n",
      "josh     amused       191.162621\n",
      "         neutral      145.916735\n",
      "         sleepy       193.274358\n",
      "sam      amused       553.288544\n",
      "         angry        264.010095\n",
      "         disgusted    512.974494\n",
      "         neutral      263.782186\n",
      "         sleepy       507.526458\n",
      "Name: duration, dtype: float64\n",
      "\n",
      "===== Validation set samples =====\n",
      "speaker  emotion  \n",
      "bea      amused       163.326890\n",
      "         angry        139.446973\n",
      "         disgusted    218.848711\n",
      "         neutral      155.599260\n",
      "         sleepy       368.197333\n",
      "jenie    amused       152.703993\n",
      "         angry        269.883646\n",
      "         disgusted    115.100546\n",
      "         neutral      186.871851\n",
      "         sleepy       285.732833\n",
      "josh     amused       152.930097\n",
      "         neutral      116.733388\n",
      "         sleepy       154.619487\n",
      "sam      amused       442.630835\n",
      "         angry        211.208076\n",
      "         disgusted    410.379595\n",
      "         neutral      211.025749\n",
      "         sleepy       406.021166\n",
      "Name: duration, dtype: float64\n",
      "\n",
      "===== Training set samples =====\n",
      "speaker  emotion  \n",
      "bea      amused        653.307559\n",
      "         angry         557.787893\n",
      "         disgusted     875.394844\n",
      "         neutral       622.397039\n",
      "         sleepy       1472.789333\n",
      "jenie    amused        610.815971\n",
      "         angry        1079.534585\n",
      "         disgusted     460.402184\n",
      "         neutral       747.487405\n",
      "         sleepy       1142.931331\n",
      "josh     amused        611.720388\n",
      "         neutral       466.933551\n",
      "         sleepy        618.477946\n",
      "sam      amused       1770.523341\n",
      "         angry         844.832305\n",
      "         disgusted    1641.518382\n",
      "         neutral       844.102995\n",
      "         sleepy       1624.084666\n",
      "Name: duration, dtype: float64\n"
     ]
    }
   ],
   "source": [
    "test_ratio = 0.2\n",
    "print(\"\\n===== Test set samples =====\")\n",
    "print(df.groupby(by=['speaker', 'emotion'])['duration'].sum() * test_ratio)\n",
    "print(\"\\n===== Validation set samples =====\")\n",
    "print(df.groupby(by=['speaker', 'emotion'])['duration'].sum() * (1 - test_ratio) * test_ratio)\n",
    "print(\"\\n===== Training set samples =====\")\n",
    "print(df.groupby(by=['speaker', 'emotion'])['duration'].sum() * (1 - test_ratio) * (1 - test_ratio))"
   ]
  }
 ],
 "metadata": {
  "kernelspec": {
   "display_name": "Python 3",
   "language": "python",
   "name": "python3"
  },
  "language_info": {
   "codemirror_mode": {
    "name": "ipython",
    "version": 3
   },
   "file_extension": ".py",
   "mimetype": "text/x-python",
   "name": "python",
   "nbconvert_exporter": "python",
   "pygments_lexer": "ipython3",
   "version": "3.7.4"
  }
 },
 "nbformat": 4,
 "nbformat_minor": 4
}
