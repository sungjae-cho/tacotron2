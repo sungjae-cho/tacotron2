{
 "cells": [
  {
   "cell_type": "code",
   "execution_count": 1,
   "metadata": {},
   "outputs": [
    {
     "name": "stdout",
     "output_type": "stream",
     "text": [
      "The working directory is moved from /data2/sungjaecho/Projects/tacotron2/dev_ipynb to /data7/data/NC/NC.\n"
     ]
    }
   ],
   "source": [
    "import os\n",
    "cwd_old = os.getcwd()\n",
    "dir_path = '/data2/sungjaecho/data_tts/NC/NC'\n",
    "os.chdir(dir_path)\n",
    "cwd_new = os.getcwd()\n",
    "print(\"The working directory is moved from {} to {}.\".format(cwd_old, cwd_new))"
   ]
  },
  {
   "cell_type": "code",
   "execution_count": 2,
   "metadata": {},
   "outputs": [
    {
     "data": {
      "text/plain": [
       "'/data2/sungjaecho/data_tts/NC/NC'"
      ]
     },
     "execution_count": 2,
     "metadata": {},
     "output_type": "execute_result"
    }
   ],
   "source": [
    "dir_path"
   ]
  },
  {
   "cell_type": "code",
   "execution_count": 12,
   "metadata": {},
   "outputs": [],
   "source": [
    "from glob import glob\n",
    "import pandas as pd\n",
    "import random\n",
    "import librosa\n",
    "import os\n",
    "from tqdm import tqdm\n",
    "\n",
    "import contextlib\n",
    "import wave\n",
    "\n",
    "def get_duration(fpath):\n",
    "    with contextlib.closing(wave.open(fpath,'r')) as f:\n",
    "        frames = f.getnframes()\n",
    "        rate = f.getframerate()\n",
    "        duration = frames / float(rate)\n",
    "        \n",
    "def convert_sec(seconds):\n",
    "    hours = int(seconds // 3600)\n",
    "    seconds %= 3600\n",
    "    minutes = int(seconds // 60)\n",
    "    seconds %= 60\n",
    "    seconds = int(round(seconds, 0))\n",
    "\n",
    "    return hours, minutes, seconds"
   ]
  },
  {
   "cell_type": "code",
   "execution_count": 4,
   "metadata": {},
   "outputs": [],
   "source": [
    "wav_paths = sorted(glob(cwd_new + '/*/*.wav', recursive=True))\n",
    "txt_paths = sorted(glob(cwd_new + '/*/*.txt', recursive=True))"
   ]
  },
  {
   "cell_type": "code",
   "execution_count": 5,
   "metadata": {},
   "outputs": [
    {
     "name": "stdout",
     "output_type": "stream",
     "text": [
      "15406\n",
      "15406\n"
     ]
    }
   ],
   "source": [
    "print(len(wav_paths))\n",
    "print(len(txt_paths))"
   ]
  },
  {
   "cell_type": "code",
   "execution_count": 6,
   "metadata": {},
   "outputs": [
    {
     "name": "stderr",
     "output_type": "stream",
     "text": [
      "100%|██████████| 15406/15406 [1:14:55<00:00,  3.43it/s]\n"
     ]
    }
   ],
   "source": [
    "wav_path_list = list()\n",
    "durations = list()\n",
    "text_list = list()\n",
    "speaker_list = list()\n",
    "emotion_list = list()\n",
    "\n",
    "for wav_path, txt_path in tqdm(zip(wav_paths, txt_paths), total=len(wav_paths)):\n",
    "    with open(txt_path, 'rb') as f_txt:\n",
    "        sentence = f_txt.readline()\n",
    "        sentence = sentence.decode('cp949')\n",
    "        \n",
    "    y, sr = librosa.load(wav_path)\n",
    "    duration = librosa.get_duration(y, sr)\n",
    "    duration = round(duration, 3)\n",
    "    \n",
    "    _, wav_name = os.path.split(wav_path)\n",
    "    speaker, emotion, _ = wav_name.split('_')\n",
    "    if emotion == 'joyful':\n",
    "        emotion = 'happy'\n",
    "    \n",
    "    # Append data to column lists\n",
    "    wav_path_list.append(wav_path)\n",
    "    durations.append(duration)\n",
    "    text_list.append(sentence)\n",
    "    speaker_list.append(speaker)\n",
    "    emotion_list.append(emotion)"
   ]
  },
  {
   "cell_type": "code",
   "execution_count": 37,
   "metadata": {},
   "outputs": [
    {
     "data": {
      "text/html": [
       "<div>\n",
       "<style scoped>\n",
       "    .dataframe tbody tr th:only-of-type {\n",
       "        vertical-align: middle;\n",
       "    }\n",
       "\n",
       "    .dataframe tbody tr th {\n",
       "        vertical-align: top;\n",
       "    }\n",
       "\n",
       "    .dataframe thead th {\n",
       "        text-align: right;\n",
       "    }\n",
       "</style>\n",
       "<table border=\"1\" class=\"dataframe\">\n",
       "  <thead>\n",
       "    <tr style=\"text-align: right;\">\n",
       "      <th></th>\n",
       "      <th>database</th>\n",
       "      <th>split</th>\n",
       "      <th>wav_path</th>\n",
       "      <th>duration</th>\n",
       "      <th>text</th>\n",
       "      <th>speaker</th>\n",
       "      <th>sex</th>\n",
       "      <th>emotion</th>\n",
       "      <th>lang</th>\n",
       "    </tr>\n",
       "  </thead>\n",
       "  <tbody>\n",
       "    <tr>\n",
       "      <td>0</td>\n",
       "      <td>kss</td>\n",
       "      <td></td>\n",
       "      <td>/data7/data/NC/NC/wav/nc-f_angry_00001.wav</td>\n",
       "      <td>19.833</td>\n",
       "      <td>너도 나도, 다 멀쩡하게, 아무 일 없었던 것처럼 잘 살고, 사람들은 잠깐 화내봤자...</td>\n",
       "      <td>nc-f</td>\n",
       "      <td>w</td>\n",
       "      <td>angry</td>\n",
       "      <td>ko</td>\n",
       "    </tr>\n",
       "    <tr>\n",
       "      <td>1</td>\n",
       "      <td>kss</td>\n",
       "      <td></td>\n",
       "      <td>/data7/data/NC/NC/wav/nc-f_angry_00002.wav</td>\n",
       "      <td>18.000</td>\n",
       "      <td>반경 삼십분 거리에 있는 우체국에 소포, 전보, 우편 발송, 택배 이용 내역 전부 ...</td>\n",
       "      <td>nc-f</td>\n",
       "      <td>w</td>\n",
       "      <td>angry</td>\n",
       "      <td>ko</td>\n",
       "    </tr>\n",
       "    <tr>\n",
       "      <td>2</td>\n",
       "      <td>kss</td>\n",
       "      <td></td>\n",
       "      <td>/data7/data/NC/NC/wav/nc-f_angry_00003.wav</td>\n",
       "      <td>16.917</td>\n",
       "      <td>그래, 아빠를 쏜 것도 맞고, 용서하기 힘든 죄를 지은 것도 맞고, 이렇게 저주같은...</td>\n",
       "      <td>nc-f</td>\n",
       "      <td>w</td>\n",
       "      <td>angry</td>\n",
       "      <td>ko</td>\n",
       "    </tr>\n",
       "    <tr>\n",
       "      <td>3</td>\n",
       "      <td>kss</td>\n",
       "      <td></td>\n",
       "      <td>/data7/data/NC/NC/wav/nc-f_angry_00004.wav</td>\n",
       "      <td>13.896</td>\n",
       "      <td>당하는 입장에선 남자 손이건, 여자 손이건, 예술가 손이건, 대통령 손이건, 거지 ...</td>\n",
       "      <td>nc-f</td>\n",
       "      <td>w</td>\n",
       "      <td>angry</td>\n",
       "      <td>ko</td>\n",
       "    </tr>\n",
       "    <tr>\n",
       "      <td>4</td>\n",
       "      <td>kss</td>\n",
       "      <td></td>\n",
       "      <td>/data7/data/NC/NC/wav/nc-f_angry_00005.wav</td>\n",
       "      <td>11.750</td>\n",
       "      <td>최고의 실력을 갖춘 본교 출신이면 타교 후보에 비해 남다른 각오를 다질 수 있단 말...</td>\n",
       "      <td>nc-f</td>\n",
       "      <td>w</td>\n",
       "      <td>angry</td>\n",
       "      <td>ko</td>\n",
       "    </tr>\n",
       "    <tr>\n",
       "      <td>...</td>\n",
       "      <td>...</td>\n",
       "      <td>...</td>\n",
       "      <td>...</td>\n",
       "      <td>...</td>\n",
       "      <td>...</td>\n",
       "      <td>...</td>\n",
       "      <td>...</td>\n",
       "      <td>...</td>\n",
       "      <td>...</td>\n",
       "    </tr>\n",
       "    <tr>\n",
       "      <td>15401</td>\n",
       "      <td>kss</td>\n",
       "      <td></td>\n",
       "      <td>/data7/data/NC/NC/wav/nc-m_sad_01096.wav</td>\n",
       "      <td>5.591</td>\n",
       "      <td>나는 주상전하 성은을 입은지 십여년이 지났소.\\n</td>\n",
       "      <td>nc-m</td>\n",
       "      <td>w</td>\n",
       "      <td>sad</td>\n",
       "      <td>ko</td>\n",
       "    </tr>\n",
       "    <tr>\n",
       "      <td>15402</td>\n",
       "      <td>kss</td>\n",
       "      <td></td>\n",
       "      <td>/data7/data/NC/NC/wav/nc-m_sad_01097.wav</td>\n",
       "      <td>2.432</td>\n",
       "      <td>다 마셔버린 맥주병이다.\\n</td>\n",
       "      <td>nc-m</td>\n",
       "      <td>w</td>\n",
       "      <td>sad</td>\n",
       "      <td>ko</td>\n",
       "    </tr>\n",
       "    <tr>\n",
       "      <td>15403</td>\n",
       "      <td>kss</td>\n",
       "      <td></td>\n",
       "      <td>/data7/data/NC/NC/wav/nc-m_sad_01098.wav</td>\n",
       "      <td>4.445</td>\n",
       "      <td>널 지켜주겠다는 약속, 못 지켰으니까.\\n</td>\n",
       "      <td>nc-m</td>\n",
       "      <td>w</td>\n",
       "      <td>sad</td>\n",
       "      <td>ko</td>\n",
       "    </tr>\n",
       "    <tr>\n",
       "      <td>15404</td>\n",
       "      <td>kss</td>\n",
       "      <td></td>\n",
       "      <td>/data7/data/NC/NC/wav/nc-m_sad_01099.wav</td>\n",
       "      <td>6.514</td>\n",
       "      <td>그리고 권력을 이용해 억울한 피해 가족을 더욱 비참하게 만들었던 어른들이...\\n</td>\n",
       "      <td>nc-m</td>\n",
       "      <td>w</td>\n",
       "      <td>sad</td>\n",
       "      <td>ko</td>\n",
       "    </tr>\n",
       "    <tr>\n",
       "      <td>15405</td>\n",
       "      <td>kss</td>\n",
       "      <td></td>\n",
       "      <td>/data7/data/NC/NC/wav/nc-m_sad_01100.wav</td>\n",
       "      <td>6.405</td>\n",
       "      <td>소크라테스는 죽기 전에 외상 닭 걱정을 했다고 했지.\\n</td>\n",
       "      <td>nc-m</td>\n",
       "      <td>w</td>\n",
       "      <td>sad</td>\n",
       "      <td>ko</td>\n",
       "    </tr>\n",
       "  </tbody>\n",
       "</table>\n",
       "<p>15406 rows × 9 columns</p>\n",
       "</div>"
      ],
      "text/plain": [
       "      database split                                    wav_path  duration  \\\n",
       "0          kss        /data7/data/NC/NC/wav/nc-f_angry_00001.wav    19.833   \n",
       "1          kss        /data7/data/NC/NC/wav/nc-f_angry_00002.wav    18.000   \n",
       "2          kss        /data7/data/NC/NC/wav/nc-f_angry_00003.wav    16.917   \n",
       "3          kss        /data7/data/NC/NC/wav/nc-f_angry_00004.wav    13.896   \n",
       "4          kss        /data7/data/NC/NC/wav/nc-f_angry_00005.wav    11.750   \n",
       "...        ...   ...                                         ...       ...   \n",
       "15401      kss          /data7/data/NC/NC/wav/nc-m_sad_01096.wav     5.591   \n",
       "15402      kss          /data7/data/NC/NC/wav/nc-m_sad_01097.wav     2.432   \n",
       "15403      kss          /data7/data/NC/NC/wav/nc-m_sad_01098.wav     4.445   \n",
       "15404      kss          /data7/data/NC/NC/wav/nc-m_sad_01099.wav     6.514   \n",
       "15405      kss          /data7/data/NC/NC/wav/nc-m_sad_01100.wav     6.405   \n",
       "\n",
       "                                                    text speaker sex emotion  \\\n",
       "0      너도 나도, 다 멀쩡하게, 아무 일 없었던 것처럼 잘 살고, 사람들은 잠깐 화내봤자...    nc-f   w   angry   \n",
       "1      반경 삼십분 거리에 있는 우체국에 소포, 전보, 우편 발송, 택배 이용 내역 전부 ...    nc-f   w   angry   \n",
       "2      그래, 아빠를 쏜 것도 맞고, 용서하기 힘든 죄를 지은 것도 맞고, 이렇게 저주같은...    nc-f   w   angry   \n",
       "3      당하는 입장에선 남자 손이건, 여자 손이건, 예술가 손이건, 대통령 손이건, 거지 ...    nc-f   w   angry   \n",
       "4      최고의 실력을 갖춘 본교 출신이면 타교 후보에 비해 남다른 각오를 다질 수 있단 말...    nc-f   w   angry   \n",
       "...                                                  ...     ...  ..     ...   \n",
       "15401                        나는 주상전하 성은을 입은지 십여년이 지났소.\\n    nc-m   w     sad   \n",
       "15402                                    다 마셔버린 맥주병이다.\\n    nc-m   w     sad   \n",
       "15403                            널 지켜주겠다는 약속, 못 지켰으니까.\\n    nc-m   w     sad   \n",
       "15404      그리고 권력을 이용해 억울한 피해 가족을 더욱 비참하게 만들었던 어른들이...\\n    nc-m   w     sad   \n",
       "15405                    소크라테스는 죽기 전에 외상 닭 걱정을 했다고 했지.\\n    nc-m   w     sad   \n",
       "\n",
       "      lang  \n",
       "0       ko  \n",
       "1       ko  \n",
       "2       ko  \n",
       "3       ko  \n",
       "4       ko  \n",
       "...    ...  \n",
       "15401   ko  \n",
       "15402   ko  \n",
       "15403   ko  \n",
       "15404   ko  \n",
       "15405   ko  \n",
       "\n",
       "[15406 rows x 9 columns]"
      ]
     },
     "execution_count": 37,
     "metadata": {},
     "output_type": "execute_result"
    }
   ],
   "source": [
    "df = pd.DataFrame({\n",
    "    'database':['kss']*len(wav_path_list),\n",
    "    'split':['']*len(wav_path_list),\n",
    "    'wav_path':wav_path_list,\n",
    "    'duration':durations,\n",
    "    'text':text_list,\n",
    "    'speaker':speaker_list,\n",
    "    'sex':['w']*len(wav_path_list),\n",
    "    'emotion':emotion_list,\n",
    "    'lang':['ko']*len(wav_path_list),\n",
    "})\n",
    "df"
   ]
  },
  {
   "cell_type": "code",
   "execution_count": 38,
   "metadata": {},
   "outputs": [
    {
     "data": {
      "text/plain": [
       "(3069, 9)"
      ]
     },
     "execution_count": 38,
     "metadata": {},
     "output_type": "execute_result"
    }
   ],
   "source": [
    "df[df.duration >= 10].shape"
   ]
  },
  {
   "cell_type": "code",
   "execution_count": 39,
   "metadata": {},
   "outputs": [
    {
     "data": {
      "text/plain": [
       "(26, 18, 37)"
      ]
     },
     "execution_count": 39,
     "metadata": {},
     "output_type": "execute_result"
    }
   ],
   "source": [
    "convert_sec(df[df.duration < 12].duration.sum())"
   ]
  },
  {
   "cell_type": "code",
   "execution_count": 40,
   "metadata": {},
   "outputs": [
    {
     "data": {
      "text/plain": [
       "(24, 18, 32)"
      ]
     },
     "execution_count": 40,
     "metadata": {},
     "output_type": "execute_result"
    }
   ],
   "source": [
    "convert_sec(df[df.duration < 11].duration.sum())"
   ]
  },
  {
   "cell_type": "code",
   "execution_count": 41,
   "metadata": {},
   "outputs": [
    {
     "data": {
      "text/plain": [
       "(21, 45, 58)"
      ]
     },
     "execution_count": 41,
     "metadata": {},
     "output_type": "execute_result"
    }
   ],
   "source": [
    "convert_sec(df[df.duration < 10].duration.sum())"
   ]
  },
  {
   "cell_type": "code",
   "execution_count": 42,
   "metadata": {},
   "outputs": [],
   "source": [
    "df.loc[df[df.duration >= 11].index, 'split'] = 'long'"
   ]
  },
  {
   "cell_type": "code",
   "execution_count": 43,
   "metadata": {},
   "outputs": [
    {
     "name": "stdout",
     "output_type": "stream",
     "text": [
      "13212\n"
     ]
    }
   ],
   "source": [
    "short_indexes = df[df.duration < 11].index\n",
    "print(len(short_indexes))"
   ]
  },
  {
   "cell_type": "code",
   "execution_count": 44,
   "metadata": {},
   "outputs": [
    {
     "name": "stdout",
     "output_type": "stream",
     "text": [
      "True\n"
     ]
    }
   ],
   "source": [
    "n_val = 128\n",
    "n_test = 128\n",
    "\n",
    "split_list = ['val']* n_val + ['n_test'] * n_test + ['train'] * (len(short_indexes) - n_val - n_test)\n",
    "print(len(split_list) == len(short_indexes))"
   ]
  },
  {
   "cell_type": "code",
   "execution_count": 45,
   "metadata": {},
   "outputs": [],
   "source": [
    "random.seed(1234)\n",
    "random.shuffle(split_list)"
   ]
  },
  {
   "cell_type": "code",
   "execution_count": 46,
   "metadata": {},
   "outputs": [],
   "source": [
    "df.loc[df[df.duration < 11].index, 'split'] = split_list"
   ]
  },
  {
   "cell_type": "code",
   "execution_count": 47,
   "metadata": {},
   "outputs": [
    {
     "data": {
      "text/plain": [
       "(0, 9)"
      ]
     },
     "execution_count": 47,
     "metadata": {},
     "output_type": "execute_result"
    }
   ],
   "source": [
    "df.loc[df.split == ''].shape"
   ]
  },
  {
   "cell_type": "markdown",
   "metadata": {},
   "source": [
    "All split column cells are filled."
   ]
  },
  {
   "cell_type": "code",
   "execution_count": 48,
   "metadata": {},
   "outputs": [
    {
     "data": {
      "text/plain": [
       "array(['angry', 'fearful', 'happy', 'neutral', 'sad'], dtype=object)"
      ]
     },
     "execution_count": 48,
     "metadata": {},
     "output_type": "execute_result"
    }
   ],
   "source": [
    "df.emotion.unique()"
   ]
  },
  {
   "cell_type": "code",
   "execution_count": 49,
   "metadata": {},
   "outputs": [],
   "source": [
    "df.to_csv('nc.csv')"
   ]
  },
  {
   "cell_type": "code",
   "execution_count": 50,
   "metadata": {},
   "outputs": [
    {
     "name": "stdout",
     "output_type": "stream",
     "text": [
      "/data2/sungjaecho/Projects/tacotron2/dev_ipynb\n"
     ]
    }
   ],
   "source": [
    "os.chdir(cwd_old)\n",
    "print(cwd_old)"
   ]
  },
  {
   "cell_type": "code",
   "execution_count": 51,
   "metadata": {},
   "outputs": [],
   "source": [
    "df.to_csv('nc.csv')"
   ]
  }
 ],
 "metadata": {
  "kernelspec": {
   "display_name": "Python 3",
   "language": "python",
   "name": "python3"
  },
  "language_info": {
   "codemirror_mode": {
    "name": "ipython",
    "version": 3
   },
   "file_extension": ".py",
   "mimetype": "text/x-python",
   "name": "python",
   "nbconvert_exporter": "python",
   "pygments_lexer": "ipython3",
   "version": "3.7.4"
  }
 },
 "nbformat": 4,
 "nbformat_minor": 4
}
