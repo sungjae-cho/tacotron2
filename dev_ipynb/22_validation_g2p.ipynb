{
 "cells": [
  {
   "cell_type": "markdown",
   "metadata": {},
   "source": [
    "# Problem definition"
   ]
  },
  {
   "cell_type": "markdown",
   "metadata": {},
   "source": [
    "No attention on first few encoding steps. Check g2p results of the validation set.\n"
   ]
  },
  {
   "cell_type": "markdown",
   "metadata": {},
   "source": [
    "![img](img/22-1.jpg)"
   ]
  },
  {
   "cell_type": "markdown",
   "metadata": {},
   "source": [
    "[ljs-w|neutral] {HH IY1} {W AA1 Z} {N EH1 V ER0} {S AE1 T AH0 S F AY2 D} {W IH1 DH} {EH1 N IY0 TH IH2 NG} ."
   ]
  },
  {
   "cell_type": "code",
   "execution_count": 1,
   "metadata": {},
   "outputs": [
    {
     "name": "stdout",
     "output_type": "stream",
     "text": [
      "The working directory is moved from /data2/sungjaecho/Projects/tacotron2/dev_ipynb to /data2/sungjaecho/Projects/tacotron2.\n"
     ]
    }
   ],
   "source": [
    "import os\n",
    "cwd_old = os.getcwd()\n",
    "os.chdir('..')\n",
    "cwd_new = os.getcwd()\n",
    "print(\"The working directory is moved from {} to {}.\".format(cwd_old, cwd_new))"
   ]
  },
  {
   "cell_type": "code",
   "execution_count": 2,
   "metadata": {},
   "outputs": [],
   "source": [
    "from g2p_en import G2p"
   ]
  },
  {
   "cell_type": "code",
   "execution_count": 3,
   "metadata": {},
   "outputs": [],
   "source": [
    "from text import get_g2p_en_seq, text_to_cmu_arpabets, text_to_sequence, cmudict"
   ]
  },
  {
   "cell_type": "code",
   "execution_count": 4,
   "metadata": {},
   "outputs": [],
   "source": [
    "cmu_dict = cmudict.CMUDict('text/cmu_dictionary')\n",
    "g2p = G2p()"
   ]
  },
  {
   "cell_type": "code",
   "execution_count": 5,
   "metadata": {},
   "outputs": [
    {
     "name": "stdout",
     "output_type": "stream",
     "text": [
      "[66, 119, 11, 65, 116, 133, 123, 88, 97, 11, 133, 144, 94, 119, 133, 112, 11, 1, 11, 104, 86, 143]\n",
      "[66, 119, 11, 65, 116, 133, 123, 88, 97, 11, 133, 144, 94, 119, 133, 108, 143, 87, 104]\n"
     ]
    }
   ],
   "source": [
    "text = \"On October twenty-five\"\n",
    "\n",
    "p_cmu_output = text_to_sequence(text, ['english_cleaners'], 'p_cmudict', cmu_dict)\n",
    "print(p_cmu_output)\n",
    "\n",
    "p_cmu_output = text_to_sequence(text, ['english_cleaners'], 'p_g2p', g2p)\n",
    "print(p_cmu_output)"
   ]
  },
  {
   "cell_type": "markdown",
   "metadata": {},
   "source": [
    "**Conclusion**: No difference at the length of the two."
   ]
  },
  {
   "cell_type": "markdown",
   "metadata": {},
   "source": [
    "# Comparison: g2p vs. cmu_dict"
   ]
  },
  {
   "cell_type": "markdown",
   "metadata": {},
   "source": [
    "**Same script**: \"{S P IY1 K IH0 NG} {AA1 N} {AH0} {D AH0 B EY1 T} {AA1 N} {P R IH1 Z AH0 N} {M AE1 T ER0 Z} , {HH IY1} {D IH0 K L EH1 R D} {DH AE1 T}\""
   ]
  },
  {
   "cell_type": "markdown",
   "metadata": {},
   "source": [
    "![img](img/22-2_g2p_free-running.png)\n",
    "![img](img/22-3_cmudict_free-running.png)"
   ]
  },
  {
   "cell_type": "markdown",
   "metadata": {},
   "source": [
    "![img](img/22-4_g2p_teacher-forcing.png)\n",
    "\n",
    "- Script: \"{AA1 N} {AA0 K T OW1 B ER0} {T W EH1 N T IH0 V AY2 F} .\"\n",
    "- Script: \"On October twenty-five\"\n",
    "- Length = 18 + 3 = 21"
   ]
  },
  {
   "cell_type": "markdown",
   "metadata": {},
   "source": [
    "![img](img/22-5_cmudict_teacher-forcing.png)\n",
    "\n",
    "- Script: \"{AA1 N} {AA0 K T OW1 B ER0} {T W EH1 N T IY0 F AY2 V} .\"\n",
    "- Script: \"On October twenty-five\"\n",
    "- Length = 18 + 3 = 21"
   ]
  },
  {
   "cell_type": "markdown",
   "metadata": {},
   "source": [
    "# Solved!"
   ]
  },
  {
   "cell_type": "markdown",
   "metadata": {},
   "source": [
    "The alignment below is an output of Tacotron2 trained on `LJ-Speech-v2` and `g2p_En`. I do not know how it solved. But it has been solved. I guess the problem happened because training started before all implementation had been saved."
   ]
  },
  {
   "cell_type": "markdown",
   "metadata": {},
   "source": [
    "![img](img/22-6-g2p_en_solved.png)"
   ]
  }
 ],
 "metadata": {
  "kernelspec": {
   "display_name": "Python 3",
   "language": "python",
   "name": "python3"
  },
  "language_info": {
   "codemirror_mode": {
    "name": "ipython",
    "version": 3
   },
   "file_extension": ".py",
   "mimetype": "text/x-python",
   "name": "python",
   "nbconvert_exporter": "python",
   "pygments_lexer": "ipython3",
   "version": "3.7.4"
  }
 },
 "nbformat": 4,
 "nbformat_minor": 4
}
