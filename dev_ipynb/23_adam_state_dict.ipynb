{
 "cells": [
  {
   "cell_type": "markdown",
   "metadata": {},
   "source": [
    "# Load the state_dict of the adam optimizer"
   ]
  },
  {
   "cell_type": "code",
   "execution_count": 1,
   "metadata": {},
   "outputs": [
    {
     "name": "stdout",
     "output_type": "stream",
     "text": [
      "The working directory is moved from /data2/sungjaecho/Projects/tacotron2/dev_ipynb to /data2/sungjaecho/Projects/tacotron2.\n"
     ]
    }
   ],
   "source": [
    "import os\n",
    "cwd_old = os.getcwd()\n",
    "os.chdir('..')\n",
    "cwd_new = os.getcwd()\n",
    "print(\"The working directory is moved from {} to {}.\".format(cwd_old, cwd_new))"
   ]
  },
  {
   "cell_type": "code",
   "execution_count": 2,
   "metadata": {},
   "outputs": [],
   "source": [
    "checkpoint_path = 'outdir/bc2013/pretrain_g/checkpoint_133218-epoch_46.0_end-epoch_46'"
   ]
  },
  {
   "cell_type": "code",
   "execution_count": 3,
   "metadata": {},
   "outputs": [],
   "source": [
    "import torch"
   ]
  },
  {
   "cell_type": "code",
   "execution_count": 4,
   "metadata": {},
   "outputs": [],
   "source": [
    "checkpoint_dict = torch.load(checkpoint_path, map_location='cpu')"
   ]
  },
  {
   "cell_type": "code",
   "execution_count": 5,
   "metadata": {},
   "outputs": [],
   "source": [
    "adam_state_dict = checkpoint_dict['optimizer']"
   ]
  },
  {
   "cell_type": "code",
   "execution_count": 6,
   "metadata": {},
   "outputs": [
    {
     "data": {
      "text/plain": [
       "dict_keys(['state', 'param_groups'])"
      ]
     },
     "execution_count": 6,
     "metadata": {},
     "output_type": "execute_result"
    }
   ],
   "source": [
    "adam_state_dict.keys()"
   ]
  },
  {
   "cell_type": "code",
   "execution_count": 7,
   "metadata": {},
   "outputs": [
    {
     "data": {
      "text/plain": [
       "dict_keys([139908722367136, 139908722367456, 139908722367936, 139908722368256, 139908722413808, 139908722414128, 139908701431840, 139908701431920, 139908701432880, 139908701432960, 139908701495456, 139908701495536, 139908701496496, 139908701496576, 139908701497536, 139908701497616, 139908722364896, 139908722367216, 139908722367296, 139908722368016, 139908722368096, 139908722413888, 139908722413968, 139908722414608, 139908722414688, 139908722414768, 139908722414848, 139908722414928, 139908722415008, 139908722415088, 139908722415168, 139908722415888, 139908722416048, 139908722416128, 139908722416208, 139908722416288, 139908722416368, 139908722416608, 139908722416768, 139908722416928, 139908722417168, 139908722417488, 139908701429920, 139908701430000, 139908701430080, 139908701430160, 139908701430320, 139908701430400, 139908701430800, 139908701430880, 139908701431520, 139908701431600, 139908701432560, 139908701432640, 139908701433600, 139908701433680, 139908701496176, 139908701496256, 139908701497216, 139908701497296])"
      ]
     },
     "execution_count": 7,
     "metadata": {},
     "output_type": "execute_result"
    }
   ],
   "source": [
    "adam_state_dict['state'].keys()"
   ]
  },
  {
   "cell_type": "code",
   "execution_count": 8,
   "metadata": {},
   "outputs": [
    {
     "data": {
      "text/plain": [
       "60"
      ]
     },
     "execution_count": 8,
     "metadata": {},
     "output_type": "execute_result"
    }
   ],
   "source": [
    "len(adam_state_dict['state'].keys())"
   ]
  },
  {
   "cell_type": "code",
   "execution_count": 13,
   "metadata": {},
   "outputs": [
    {
     "data": {
      "text/plain": [
       "dict_keys(['step', 'exp_avg', 'exp_avg_sq'])"
      ]
     },
     "execution_count": 13,
     "metadata": {},
     "output_type": "execute_result"
    }
   ],
   "source": [
    "adam_state_dict['state'][139908722367136].keys()"
   ]
  },
  {
   "cell_type": "code",
   "execution_count": 19,
   "metadata": {},
   "outputs": [
    {
     "data": {
      "text/plain": [
       "133188"
      ]
     },
     "execution_count": 19,
     "metadata": {},
     "output_type": "execute_result"
    }
   ],
   "source": [
    "adam_state_dict['state'][139908722367136]['step']"
   ]
  },
  {
   "cell_type": "code",
   "execution_count": 22,
   "metadata": {},
   "outputs": [
    {
     "data": {
      "text/plain": [
       "512"
      ]
     },
     "execution_count": 22,
     "metadata": {},
     "output_type": "execute_result"
    }
   ],
   "source": [
    "len(adam_state_dict['state'][139908722367136]['exp_avg'])"
   ]
  },
  {
   "cell_type": "code",
   "execution_count": 23,
   "metadata": {},
   "outputs": [
    {
     "data": {
      "text/plain": [
       "512"
      ]
     },
     "execution_count": 23,
     "metadata": {},
     "output_type": "execute_result"
    }
   ],
   "source": [
    "len(adam_state_dict['state'][139908722367136]['exp_avg_sq'])"
   ]
  },
  {
   "cell_type": "code",
   "execution_count": 30,
   "metadata": {},
   "outputs": [
    {
     "name": "stdout",
     "output_type": "stream",
     "text": [
      "len(adam_state_dict['state'][139908722367136][exp_avg]): 512\n",
      "len(adam_state_dict['state'][139908722367136][exp_avg_sq]): 512\n",
      "len(adam_state_dict['state'][139908722367456][exp_avg]): 512\n",
      "len(adam_state_dict['state'][139908722367456][exp_avg_sq]): 512\n",
      "len(adam_state_dict['state'][139908722367936][exp_avg]): 512\n",
      "len(adam_state_dict['state'][139908722367936][exp_avg_sq]): 512\n",
      "len(adam_state_dict['state'][139908722368256][exp_avg]): 512\n",
      "len(adam_state_dict['state'][139908722368256][exp_avg_sq]): 512\n",
      "len(adam_state_dict['state'][139908722413808][exp_avg]): 512\n",
      "len(adam_state_dict['state'][139908722413808][exp_avg_sq]): 512\n",
      "len(adam_state_dict['state'][139908722414128][exp_avg]): 512\n",
      "len(adam_state_dict['state'][139908722414128][exp_avg_sq]): 512\n",
      "len(adam_state_dict['state'][139908701431840][exp_avg]): 512\n",
      "len(adam_state_dict['state'][139908701431840][exp_avg_sq]): 512\n",
      "len(adam_state_dict['state'][139908701431920][exp_avg]): 512\n",
      "len(adam_state_dict['state'][139908701431920][exp_avg_sq]): 512\n",
      "len(adam_state_dict['state'][139908701432880][exp_avg]): 512\n",
      "len(adam_state_dict['state'][139908701432880][exp_avg_sq]): 512\n",
      "len(adam_state_dict['state'][139908701432960][exp_avg]): 512\n",
      "len(adam_state_dict['state'][139908701432960][exp_avg_sq]): 512\n",
      "len(adam_state_dict['state'][139908701495456][exp_avg]): 512\n",
      "len(adam_state_dict['state'][139908701495456][exp_avg_sq]): 512\n",
      "len(adam_state_dict['state'][139908701495536][exp_avg]): 512\n",
      "len(adam_state_dict['state'][139908701495536][exp_avg_sq]): 512\n",
      "len(adam_state_dict['state'][139908701496496][exp_avg]): 512\n",
      "len(adam_state_dict['state'][139908701496496][exp_avg_sq]): 512\n",
      "len(adam_state_dict['state'][139908701496576][exp_avg]): 512\n",
      "len(adam_state_dict['state'][139908701496576][exp_avg_sq]): 512\n",
      "len(adam_state_dict['state'][139908701497536][exp_avg]): 80\n",
      "len(adam_state_dict['state'][139908701497536][exp_avg_sq]): 80\n",
      "len(adam_state_dict['state'][139908701497616][exp_avg]): 80\n",
      "len(adam_state_dict['state'][139908701497616][exp_avg_sq]): 80\n",
      "len(adam_state_dict['state'][139908722364896][exp_avg]): 148\n",
      "len(adam_state_dict['state'][139908722364896][exp_avg_sq]): 148\n",
      "len(adam_state_dict['state'][139908722367216][exp_avg]): 512\n",
      "len(adam_state_dict['state'][139908722367216][exp_avg_sq]): 512\n",
      "len(adam_state_dict['state'][139908722367296][exp_avg]): 512\n",
      "len(adam_state_dict['state'][139908722367296][exp_avg_sq]): 512\n",
      "len(adam_state_dict['state'][139908722368016][exp_avg]): 512\n",
      "len(adam_state_dict['state'][139908722368016][exp_avg_sq]): 512\n",
      "len(adam_state_dict['state'][139908722368096][exp_avg]): 512\n",
      "len(adam_state_dict['state'][139908722368096][exp_avg_sq]): 512\n",
      "len(adam_state_dict['state'][139908722413888][exp_avg]): 512\n",
      "len(adam_state_dict['state'][139908722413888][exp_avg_sq]): 512\n",
      "len(adam_state_dict['state'][139908722413968][exp_avg]): 512\n",
      "len(adam_state_dict['state'][139908722413968][exp_avg_sq]): 512\n",
      "len(adam_state_dict['state'][139908722414608][exp_avg]): 1024\n",
      "len(adam_state_dict['state'][139908722414608][exp_avg_sq]): 1024\n",
      "len(adam_state_dict['state'][139908722414688][exp_avg]): 1024\n",
      "len(adam_state_dict['state'][139908722414688][exp_avg_sq]): 1024\n",
      "len(adam_state_dict['state'][139908722414768][exp_avg]): 1024\n",
      "len(adam_state_dict['state'][139908722414768][exp_avg_sq]): 1024\n",
      "len(adam_state_dict['state'][139908722414848][exp_avg]): 1024\n",
      "len(adam_state_dict['state'][139908722414848][exp_avg_sq]): 1024\n",
      "len(adam_state_dict['state'][139908722414928][exp_avg]): 1024\n",
      "len(adam_state_dict['state'][139908722414928][exp_avg_sq]): 1024\n",
      "len(adam_state_dict['state'][139908722415008][exp_avg]): 1024\n",
      "len(adam_state_dict['state'][139908722415008][exp_avg_sq]): 1024\n",
      "len(adam_state_dict['state'][139908722415088][exp_avg]): 1024\n",
      "len(adam_state_dict['state'][139908722415088][exp_avg_sq]): 1024\n",
      "len(adam_state_dict['state'][139908722415168][exp_avg]): 1024\n",
      "len(adam_state_dict['state'][139908722415168][exp_avg_sq]): 1024\n",
      "len(adam_state_dict['state'][139908722415888][exp_avg]): 256\n",
      "len(adam_state_dict['state'][139908722415888][exp_avg_sq]): 256\n",
      "len(adam_state_dict['state'][139908722416048][exp_avg]): 256\n",
      "len(adam_state_dict['state'][139908722416048][exp_avg_sq]): 256\n",
      "len(adam_state_dict['state'][139908722416128][exp_avg]): 4096\n",
      "len(adam_state_dict['state'][139908722416128][exp_avg_sq]): 4096\n",
      "len(adam_state_dict['state'][139908722416208][exp_avg]): 4096\n",
      "len(adam_state_dict['state'][139908722416208][exp_avg_sq]): 4096\n",
      "len(adam_state_dict['state'][139908722416288][exp_avg]): 4096\n",
      "len(adam_state_dict['state'][139908722416288][exp_avg_sq]): 4096\n",
      "len(adam_state_dict['state'][139908722416368][exp_avg]): 4096\n",
      "len(adam_state_dict['state'][139908722416368][exp_avg_sq]): 4096\n",
      "len(adam_state_dict['state'][139908722416608][exp_avg]): 128\n",
      "len(adam_state_dict['state'][139908722416608][exp_avg_sq]): 128\n",
      "len(adam_state_dict['state'][139908722416768][exp_avg]): 128\n",
      "len(adam_state_dict['state'][139908722416768][exp_avg_sq]): 128\n",
      "len(adam_state_dict['state'][139908722416928][exp_avg]): 1\n",
      "len(adam_state_dict['state'][139908722416928][exp_avg_sq]): 1\n",
      "len(adam_state_dict['state'][139908722417168][exp_avg]): 32\n",
      "len(adam_state_dict['state'][139908722417168][exp_avg_sq]): 32\n",
      "len(adam_state_dict['state'][139908722417488][exp_avg]): 128\n",
      "len(adam_state_dict['state'][139908722417488][exp_avg_sq]): 128\n",
      "len(adam_state_dict['state'][139908701429920][exp_avg]): 4096\n",
      "len(adam_state_dict['state'][139908701429920][exp_avg_sq]): 4096\n",
      "len(adam_state_dict['state'][139908701430000][exp_avg]): 4096\n",
      "len(adam_state_dict['state'][139908701430000][exp_avg_sq]): 4096\n",
      "len(adam_state_dict['state'][139908701430080][exp_avg]): 4096\n",
      "len(adam_state_dict['state'][139908701430080][exp_avg_sq]): 4096\n",
      "len(adam_state_dict['state'][139908701430160][exp_avg]): 4096\n",
      "len(adam_state_dict['state'][139908701430160][exp_avg_sq]): 4096\n",
      "len(adam_state_dict['state'][139908701430320][exp_avg]): 80\n",
      "len(adam_state_dict['state'][139908701430320][exp_avg_sq]): 80\n",
      "len(adam_state_dict['state'][139908701430400][exp_avg]): 80\n",
      "len(adam_state_dict['state'][139908701430400][exp_avg_sq]): 80\n",
      "len(adam_state_dict['state'][139908701430800][exp_avg]): 1\n",
      "len(adam_state_dict['state'][139908701430800][exp_avg_sq]): 1\n",
      "len(adam_state_dict['state'][139908701430880][exp_avg]): 1\n",
      "len(adam_state_dict['state'][139908701430880][exp_avg_sq]): 1\n",
      "len(adam_state_dict['state'][139908701431520][exp_avg]): 512\n",
      "len(adam_state_dict['state'][139908701431520][exp_avg_sq]): 512\n",
      "len(adam_state_dict['state'][139908701431600][exp_avg]): 512\n",
      "len(adam_state_dict['state'][139908701431600][exp_avg_sq]): 512\n",
      "len(adam_state_dict['state'][139908701432560][exp_avg]): 512\n",
      "len(adam_state_dict['state'][139908701432560][exp_avg_sq]): 512\n",
      "len(adam_state_dict['state'][139908701432640][exp_avg]): 512\n",
      "len(adam_state_dict['state'][139908701432640][exp_avg_sq]): 512\n",
      "len(adam_state_dict['state'][139908701433600][exp_avg]): 512\n",
      "len(adam_state_dict['state'][139908701433600][exp_avg_sq]): 512\n",
      "len(adam_state_dict['state'][139908701433680][exp_avg]): 512\n",
      "len(adam_state_dict['state'][139908701433680][exp_avg_sq]): 512\n",
      "len(adam_state_dict['state'][139908701496176][exp_avg]): 512\n",
      "len(adam_state_dict['state'][139908701496176][exp_avg_sq]): 512\n",
      "len(adam_state_dict['state'][139908701496256][exp_avg]): 512\n",
      "len(adam_state_dict['state'][139908701496256][exp_avg_sq]): 512\n",
      "len(adam_state_dict['state'][139908701497216][exp_avg]): 80\n",
      "len(adam_state_dict['state'][139908701497216][exp_avg_sq]): 80\n",
      "len(adam_state_dict['state'][139908701497296][exp_avg]): 80\n",
      "len(adam_state_dict['state'][139908701497296][exp_avg_sq]): 80\n"
     ]
    }
   ],
   "source": [
    "for param_key in adam_state_dict['state'].keys():\n",
    "    for sub_key in adam_state_dict['state'][param_key].keys():\n",
    "        if sub_key == 'step':\n",
    "            continue\n",
    "        print(\"len(adam_state_dict['state'][{}][{}]): {}\".format(param_key, sub_key, len(adam_state_dict['state'][param_key][sub_key])))"
   ]
  },
  {
   "cell_type": "code",
   "execution_count": 16,
   "metadata": {},
   "outputs": [
    {
     "data": {
      "text/plain": [
       "dict_keys(['lr', 'betas', 'eps', 'weight_decay', 'amsgrad', 'initial_lr', 'params'])"
      ]
     },
     "execution_count": 16,
     "metadata": {},
     "output_type": "execute_result"
    }
   ],
   "source": [
    "adam_state_dict['param_groups'][0].keys()"
   ]
  },
  {
   "cell_type": "code",
   "execution_count": 16,
   "metadata": {},
   "outputs": [
    {
     "data": {
      "text/plain": [
       "60"
      ]
     },
     "execution_count": 16,
     "metadata": {},
     "output_type": "execute_result"
    }
   ],
   "source": [
    "len(adam_state_dict['param_groups'][0]['params'])"
   ]
  },
  {
   "cell_type": "code",
   "execution_count": 17,
   "metadata": {},
   "outputs": [
    {
     "data": {
      "text/plain": [
       "[139908722364896,\n",
       " 139908722367216,\n",
       " 139908722367296,\n",
       " 139908722367136,\n",
       " 139908722367456,\n",
       " 139908722368016,\n",
       " 139908722368096,\n",
       " 139908722367936,\n",
       " 139908722368256,\n",
       " 139908722413888,\n",
       " 139908722413968,\n",
       " 139908722413808,\n",
       " 139908722414128,\n",
       " 139908722414608,\n",
       " 139908722414688,\n",
       " 139908722414768,\n",
       " 139908722414848,\n",
       " 139908722414928,\n",
       " 139908722415008,\n",
       " 139908722415088,\n",
       " 139908722415168,\n",
       " 139908722415888,\n",
       " 139908722416048,\n",
       " 139908722416128,\n",
       " 139908722416208,\n",
       " 139908722416288,\n",
       " 139908722416368,\n",
       " 139908722416608,\n",
       " 139908722416768,\n",
       " 139908722416928,\n",
       " 139908722417168,\n",
       " 139908722417488,\n",
       " 139908701429920,\n",
       " 139908701430000,\n",
       " 139908701430080,\n",
       " 139908701430160,\n",
       " 139908701430320,\n",
       " 139908701430400,\n",
       " 139908701430800,\n",
       " 139908701430880,\n",
       " 139908701431520,\n",
       " 139908701431600,\n",
       " 139908701431840,\n",
       " 139908701431920,\n",
       " 139908701432560,\n",
       " 139908701432640,\n",
       " 139908701432880,\n",
       " 139908701432960,\n",
       " 139908701433600,\n",
       " 139908701433680,\n",
       " 139908701495456,\n",
       " 139908701495536,\n",
       " 139908701496176,\n",
       " 139908701496256,\n",
       " 139908701496496,\n",
       " 139908701496576,\n",
       " 139908701497216,\n",
       " 139908701497296,\n",
       " 139908701497536,\n",
       " 139908701497616]"
      ]
     },
     "execution_count": 17,
     "metadata": {},
     "output_type": "execute_result"
    }
   ],
   "source": [
    "adam_state_dict['param_groups'][0]['params']"
   ]
  },
  {
   "cell_type": "code",
   "execution_count": 17,
   "metadata": {},
   "outputs": [
    {
     "name": "stdout",
     "output_type": "stream",
     "text": [
      "lr\n",
      "<class 'float'>\n",
      "betas\n",
      "<class 'tuple'>\n",
      "eps\n",
      "<class 'float'>\n",
      "weight_decay\n",
      "<class 'float'>\n",
      "amsgrad\n",
      "<class 'bool'>\n",
      "initial_lr\n",
      "<class 'float'>\n",
      "params\n",
      "<class 'list'>\n"
     ]
    }
   ],
   "source": [
    "for k, v in adam_state_dict['param_groups'][0].items():\n",
    "    print(k)\n",
    "    print(type(v))"
   ]
  },
  {
   "cell_type": "code",
   "execution_count": null,
   "metadata": {},
   "outputs": [],
   "source": [
    "def get_grad_step(adam_state_dict):\n",
    "    adam_state_dict['param_groups'][0]['lr']\n",
    "    adam_state_dict['param_groups'][0]['betas']\n",
    "    adam_state_dict['param_groups'][0]['initial_lr']"
   ]
  },
  {
   "cell_type": "code",
   "execution_count": null,
   "metadata": {},
   "outputs": [],
   "source": [
    "    def step(optimizer, closure=None):\n",
    "        \"\"\"Performs a single optimization step.\n",
    "\n",
    "        Arguments:\n",
    "            closure (callable, optional): A closure that reevaluates the model\n",
    "                and returns the loss.\n",
    "        \"\"\"\n",
    "        loss = None\n",
    "        if closure is not None:\n",
    "            with torch.enable_grad():\n",
    "                loss = closure()\n",
    "\n",
    "        for group in optimizer.param_groups:\n",
    "            for p in group['params']:\n",
    "                if p.grad is None:\n",
    "                    continue\n",
    "                grad = p.grad\n",
    "                if grad.is_sparse:\n",
    "                    raise RuntimeError('Adam does not support sparse gradients, please consider SparseAdam instead')\n",
    "                amsgrad = group['amsgrad']\n",
    "\n",
    "                state = optimizer.state[p]\n",
    "\n",
    "                # State initialization\n",
    "                if len(state) == 0:\n",
    "                    state['step'] = 0\n",
    "                    # Exponential moving average of gradient values\n",
    "                    state['exp_avg'] = torch.zeros_like(p, memory_format=torch.preserve_format)\n",
    "                    # Exponential moving average of squared gradient values\n",
    "                    state['exp_avg_sq'] = torch.zeros_like(p, memory_format=torch.preserve_format)\n",
    "                    if amsgrad:\n",
    "                        # Maintains max of all exp. moving avg. of sq. grad. values\n",
    "                        state['max_exp_avg_sq'] = torch.zeros_like(p, memory_format=torch.preserve_format)\n",
    "\n",
    "                exp_avg, exp_avg_sq = state['exp_avg'], state['exp_avg_sq']\n",
    "                if amsgrad:\n",
    "                    max_exp_avg_sq = state['max_exp_avg_sq']\n",
    "                beta1, beta2 = group['betas']\n",
    "\n",
    "                state['step'] += 1\n",
    "                bias_correction1 = 1 - beta1 ** state['step']\n",
    "                bias_correction2 = 1 - beta2 ** state['step']\n",
    "\n",
    "                if group['weight_decay'] != 0:\n",
    "                    grad = grad.add(p, alpha=group['weight_decay'])\n",
    "\n",
    "                # Decay the first and second moment running average coefficient\n",
    "                exp_avg.mul_(beta1).add_(grad, alpha=1 - beta1)\n",
    "                exp_avg_sq.mul_(beta2).addcmul_(grad, grad, value=1 - beta2)\n",
    "                if amsgrad:\n",
    "                    # Maintains the maximum of all 2nd moment running avg. till now\n",
    "                    torch.max(max_exp_avg_sq, exp_avg_sq, out=max_exp_avg_sq)\n",
    "                    # Use the max. for normalizing running avg. of gradient\n",
    "                    denom = (max_exp_avg_sq.sqrt() / math.sqrt(bias_correction2)).add_(group['eps'])\n",
    "                else:\n",
    "                    denom = (exp_avg_sq.sqrt() / math.sqrt(bias_correction2)).add_(group['eps'])\n",
    "\n",
    "                step_size = group['lr'] / bias_correction1\n",
    "\n",
    "                p.addcdiv_(exp_avg, denom, value=-step_size)\n",
    "\n",
    "        return loss"
   ]
  }
 ],
 "metadata": {
  "kernelspec": {
   "display_name": "Python 3",
   "language": "python",
   "name": "python3"
  },
  "language_info": {
   "codemirror_mode": {
    "name": "ipython",
    "version": 3
   },
   "file_extension": ".py",
   "mimetype": "text/x-python",
   "name": "python",
   "nbconvert_exporter": "python",
   "pygments_lexer": "ipython3",
   "version": "3.7.4"
  }
 },
 "nbformat": 4,
 "nbformat_minor": 4
}
