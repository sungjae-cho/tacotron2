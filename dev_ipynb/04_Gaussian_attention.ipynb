{
 "cells": [
  {
   "cell_type": "code",
   "execution_count": 1,
   "metadata": {},
   "outputs": [
    {
     "name": "stdout",
     "output_type": "stream",
     "text": [
      "The working directory is moved from /data2/sungjaecho/Projects/tacotron2/dev_ipynb to /data2/sungjaecho/Projects/tacotron2.\n"
     ]
    }
   ],
   "source": [
    "import os\n",
    "cwd_old = os.getcwd()\n",
    "os.chdir('..')\n",
    "cwd_new = os.getcwd()\n",
    "print(\"The working directory is moved from {} to {}.\".format(cwd_old, cwd_new))"
   ]
  },
  {
   "cell_type": "markdown",
   "metadata": {},
   "source": [
    "# 1. Gaussian Probability Function"
   ]
  },
  {
   "cell_type": "code",
   "execution_count": 121,
   "metadata": {},
   "outputs": [],
   "source": [
    "import torch\n",
    "import numpy as np\n",
    "import matplotlib.pyplot as plt\n",
    "from tqdm import tqdm"
   ]
  },
  {
   "cell_type": "code",
   "execution_count": 4,
   "metadata": {},
   "outputs": [],
   "source": [
    "from torch.distributions.normal import Normal"
   ]
  },
  {
   "cell_type": "code",
   "execution_count": 87,
   "metadata": {},
   "outputs": [],
   "source": [
    "def normal_pdf(x, mean, std):\n",
    "    p = Normal(mean, std).cdf(x+0.5) - Normal(mean, std).cdf(x-0.5)\n",
    "    p = p / p.sum()\n",
    "    return p    "
   ]
  },
  {
   "cell_type": "markdown",
   "metadata": {},
   "source": [
    "## 1.1. Exploring the Gaussian Distribution"
   ]
  },
  {
   "cell_type": "code",
   "execution_count": 163,
   "metadata": {},
   "outputs": [
    {
     "data": {
      "image/png": "[encoded data removed]",
      "text/plain": [
       "<Figure size 432x288 with 1 Axes>"
      ]
     },
     "metadata": {
      "needs_background": "light"
     },
     "output_type": "display_data"
    },
    {
     "name": "stdout",
     "output_type": "stream",
     "text": [
      "tensor(1.)\n",
      "tensor(1.)\n",
      "tensor(0.)\n",
      "tensor(0.0125)\n"
     ]
    }
   ],
   "source": [
    "mean, std = 40, 0.01\n",
    "x = torch.Tensor(range(0,80))\n",
    "\n",
    "p = normal_pdf(x, mean, std)\n",
    "\n",
    "markerline, stemlines, baseline = plt.stem(p, linefmt='-', use_line_collection=True)\n",
    "plt.show()\n",
    "print(torch.sum(p))\n",
    "print(torch.max(p))\n",
    "print(torch.min(p))\n",
    "print(torch.mean(p))"
   ]
  },
  {
   "cell_type": "code",
   "execution_count": 162,
   "metadata": {},
   "outputs": [
    {
     "data": {
      "image/png": "[encoded data removed]",
      "text/plain": [
       "<Figure size 432x288 with 1 Axes>"
      ]
     },
     "metadata": {
      "needs_background": "light"
     },
     "output_type": "display_data"
    },
    {
     "name": "stdout",
     "output_type": "stream",
     "text": [
      "tensor(1.)\n",
      "tensor(1.0000)\n",
      "tensor(0.)\n",
      "tensor(0.0125)\n"
     ]
    }
   ],
   "source": [
    "mean, std = 40, 0.1\n",
    "x = torch.Tensor(range(0,80))\n",
    "\n",
    "p = normal_pdf(x, mean, std)\n",
    "\n",
    "markerline, stemlines, baseline = plt.stem(p, linefmt='-', use_line_collection=True)\n",
    "plt.show()\n",
    "print(torch.sum(p))\n",
    "print(torch.max(p))\n",
    "print(torch.min(p))\n",
    "print(torch.mean(p))"
   ]
  },
  {
   "cell_type": "code",
   "execution_count": 161,
   "metadata": {},
   "outputs": [
    {
     "data": {
      "image/png": "[encoded data removed]",
      "text/plain": [
       "<Figure size 432x288 with 1 Axes>"
      ]
     },
     "metadata": {
      "needs_background": "light"
     },
     "output_type": "display_data"
    },
    {
     "name": "stdout",
     "output_type": "stream",
     "text": [
      "tensor(1.)\n",
      "tensor(0.9876)\n",
      "tensor(0.)\n",
      "tensor(0.0125)\n"
     ]
    }
   ],
   "source": [
    "mean, std = 40, 0.2\n",
    "x = torch.Tensor(range(0,80))\n",
    "\n",
    "p = normal_pdf(x, mean, std)\n",
    "\n",
    "markerline, stemlines, baseline = plt.stem(p, linefmt='-', use_line_collection=True)\n",
    "plt.show()\n",
    "print(torch.sum(p))\n",
    "print(torch.max(p))\n",
    "print(torch.min(p))\n",
    "print(torch.mean(p))"
   ]
  },
  {
   "cell_type": "code",
   "execution_count": 160,
   "metadata": {},
   "outputs": [
    {
     "data": {
      "image/png": "[encoded data removed]",
      "text/plain": [
       "<Figure size 432x288 with 1 Axes>"
      ]
     },
     "metadata": {
      "needs_background": "light"
     },
     "output_type": "display_data"
    },
    {
     "name": "stdout",
     "output_type": "stream",
     "text": [
      "tensor(1.)\n",
      "tensor(0.9044)\n",
      "tensor(0.)\n",
      "tensor(0.0125)\n"
     ]
    }
   ],
   "source": [
    "mean, std = 40, 0.3\n",
    "x = torch.Tensor(range(0,80))\n",
    "\n",
    "p = normal_pdf(x, mean, std)\n",
    "\n",
    "markerline, stemlines, baseline = plt.stem(p, linefmt='-', use_line_collection=True)\n",
    "plt.show()\n",
    "print(torch.sum(p))\n",
    "print(torch.max(p))\n",
    "print(torch.min(p))\n",
    "print(torch.mean(p))"
   ]
  },
  {
   "cell_type": "code",
   "execution_count": 159,
   "metadata": {},
   "outputs": [
    {
     "data": {
      "image/png": "[encoded data removed]",
      "text/plain": [
       "<Figure size 432x288 with 1 Axes>"
      ]
     },
     "metadata": {
      "needs_background": "light"
     },
     "output_type": "display_data"
    },
    {
     "name": "stdout",
     "output_type": "stream",
     "text": [
      "tensor(1.)\n",
      "tensor(0.7887)\n",
      "tensor(0.)\n",
      "tensor(0.0125)\n"
     ]
    }
   ],
   "source": [
    "mean, std = 40, 0.4\n",
    "x = torch.Tensor(range(0,80))\n",
    "\n",
    "p = normal_pdf(x, mean, std)\n",
    "\n",
    "markerline, stemlines, baseline = plt.stem(p, linefmt='-', use_line_collection=True)\n",
    "plt.show()\n",
    "print(torch.sum(p))\n",
    "print(torch.max(p))\n",
    "print(torch.min(p))\n",
    "print(torch.mean(p))"
   ]
  },
  {
   "cell_type": "code",
   "execution_count": 158,
   "metadata": {},
   "outputs": [
    {
     "data": {
      "image/png": "[encoded data removed]",
      "text/plain": [
       "<Figure size 432x288 with 1 Axes>"
      ]
     },
     "metadata": {
      "needs_background": "light"
     },
     "output_type": "display_data"
    },
    {
     "name": "stdout",
     "output_type": "stream",
     "text": [
      "tensor(1.)\n",
      "tensor(0.6827)\n",
      "tensor(0.)\n",
      "tensor(0.0125)\n"
     ]
    }
   ],
   "source": [
    "mean, std = 40, 0.5\n",
    "x = torch.Tensor(range(0,80))\n",
    "\n",
    "p = normal_pdf(x, mean, std)\n",
    "\n",
    "markerline, stemlines, baseline = plt.stem(p, linefmt='-', use_line_collection=True)\n",
    "plt.show()\n",
    "print(torch.sum(p))\n",
    "print(torch.max(p))\n",
    "print(torch.min(p))\n",
    "print(torch.mean(p))"
   ]
  },
  {
   "cell_type": "code",
   "execution_count": 157,
   "metadata": {},
   "outputs": [
    {
     "data": {
      "image/png": "[encoded data removed]",
      "text/plain": [
       "<Figure size 432x288 with 1 Axes>"
      ]
     },
     "metadata": {
      "needs_background": "light"
     },
     "output_type": "display_data"
    },
    {
     "name": "stdout",
     "output_type": "stream",
     "text": [
      "tensor(1.)\n",
      "tensor(0.5953)\n",
      "tensor(0.)\n",
      "tensor(0.0125)\n"
     ]
    }
   ],
   "source": [
    "mean, std = 40, 0.6\n",
    "x = torch.Tensor(range(0,80))\n",
    "\n",
    "p = normal_pdf(x, mean, std)\n",
    "\n",
    "markerline, stemlines, baseline = plt.stem(p, linefmt='-', use_line_collection=True)\n",
    "plt.show()\n",
    "print(torch.sum(p))\n",
    "print(torch.max(p))\n",
    "print(torch.min(p))\n",
    "print(torch.mean(p))"
   ]
  },
  {
   "cell_type": "code",
   "execution_count": 156,
   "metadata": {},
   "outputs": [
    {
     "data": {
      "image/png": "[encoded data removed]",
      "text/plain": [
       "<Figure size 432x288 with 1 Axes>"
      ]
     },
     "metadata": {
      "needs_background": "light"
     },
     "output_type": "display_data"
    },
    {
     "name": "stdout",
     "output_type": "stream",
     "text": [
      "tensor(1.)\n",
      "tensor(0.5249)\n",
      "tensor(0.)\n",
      "tensor(0.0125)\n"
     ]
    }
   ],
   "source": [
    "mean, std = 40, 0.7\n",
    "x = torch.Tensor(range(0,80))\n",
    "\n",
    "p = normal_pdf(x, mean, std)\n",
    "\n",
    "markerline, stemlines, baseline = plt.stem(p, linefmt='-', use_line_collection=True)\n",
    "plt.show()\n",
    "print(torch.sum(p))\n",
    "print(torch.max(p))\n",
    "print(torch.min(p))\n",
    "print(torch.mean(p))"
   ]
  },
  {
   "cell_type": "code",
   "execution_count": 155,
   "metadata": {},
   "outputs": [
    {
     "data": {
      "image/png": "[encoded data removed]",
      "text/plain": [
       "<Figure size 432x288 with 1 Axes>"
      ]
     },
     "metadata": {
      "needs_background": "light"
     },
     "output_type": "display_data"
    },
    {
     "name": "stdout",
     "output_type": "stream",
     "text": [
      "tensor(1.)\n",
      "tensor(0.4680)\n",
      "tensor(0.)\n",
      "tensor(0.0125)\n"
     ]
    }
   ],
   "source": [
    "mean, std = 40, 0.8\n",
    "x = torch.Tensor(range(0,80))\n",
    "\n",
    "p = normal_pdf(x, mean, std)\n",
    "\n",
    "markerline, stemlines, baseline = plt.stem(p, linefmt='-', use_line_collection=True)\n",
    "plt.show()\n",
    "print(torch.sum(p))\n",
    "print(torch.max(p))\n",
    "print(torch.min(p))\n",
    "print(torch.mean(p))"
   ]
  },
  {
   "cell_type": "code",
   "execution_count": 164,
   "metadata": {},
   "outputs": [
    {
     "data": {
      "image/png": "[encoded data removed]",
      "text/plain": [
       "<Figure size 432x288 with 1 Axes>"
      ]
     },
     "metadata": {
      "needs_background": "light"
     },
     "output_type": "display_data"
    },
    {
     "name": "stdout",
     "output_type": "stream",
     "text": [
      "tensor(1.)\n",
      "tensor(0.4215)\n",
      "tensor(0.)\n",
      "tensor(0.0125)\n"
     ]
    }
   ],
   "source": [
    "mean, std = 40, 0.9\n",
    "x = torch.Tensor(range(0,80))\n",
    "\n",
    "p = normal_pdf(x, mean, std)\n",
    "\n",
    "markerline, stemlines, baseline = plt.stem(p, linefmt='-', use_line_collection=True)\n",
    "plt.show()\n",
    "print(torch.sum(p))\n",
    "print(torch.max(p))\n",
    "print(torch.min(p))\n",
    "print(torch.mean(p))"
   ]
  },
  {
   "cell_type": "code",
   "execution_count": 165,
   "metadata": {},
   "outputs": [
    {
     "data": {
      "image/png": "[encoded data removed]",
      "text/plain": [
       "<Figure size 432x288 with 1 Axes>"
      ]
     },
     "metadata": {
      "needs_background": "light"
     },
     "output_type": "display_data"
    },
    {
     "name": "stdout",
     "output_type": "stream",
     "text": [
      "tensor(1.)\n",
      "tensor(0.3829)\n",
      "tensor(0.)\n",
      "tensor(0.0125)\n"
     ]
    }
   ],
   "source": [
    "mean, std = 40, 1\n",
    "x = torch.Tensor(range(0,80))\n",
    "\n",
    "p = normal_pdf(x, mean, std)\n",
    "\n",
    "markerline, stemlines, baseline = plt.stem(p, linefmt='-', use_line_collection=True)\n",
    "plt.show()\n",
    "print(torch.sum(p))\n",
    "print(torch.max(p))\n",
    "print(torch.min(p))\n",
    "print(torch.mean(p))"
   ]
  },
  {
   "cell_type": "code",
   "execution_count": 166,
   "metadata": {},
   "outputs": [
    {
     "data": {
      "image/png": "[encoded data removed]",
      "text/plain": [
       "<Figure size 432x288 with 1 Axes>"
      ]
     },
     "metadata": {
      "needs_background": "light"
     },
     "output_type": "display_data"
    },
    {
     "name": "stdout",
     "output_type": "stream",
     "text": [
      "tensor(1.0000)\n",
      "tensor(0.0399)\n",
      "tensor(1.3472e-05)\n",
      "tensor(0.0125)\n"
     ]
    }
   ],
   "source": [
    "mean, std = 40, 10\n",
    "x = torch.Tensor(range(0,80))\n",
    "\n",
    "p = normal_pdf(x, mean, std)\n",
    "\n",
    "markerline, stemlines, baseline = plt.stem(p, linefmt='-', use_line_collection=True)\n",
    "plt.show()\n",
    "print(torch.sum(p))\n",
    "print(torch.max(p))\n",
    "print(torch.min(p))\n",
    "print(torch.mean(p))"
   ]
  },
  {
   "cell_type": "code",
   "execution_count": 167,
   "metadata": {},
   "outputs": [
    {
     "data": {
      "image/png": "[encoded data removed]",
      "text/plain": [
       "<Figure size 432x288 with 1 Axes>"
      ]
     },
     "metadata": {
      "needs_background": "light"
     },
     "output_type": "display_data"
    },
    {
     "name": "stdout",
     "output_type": "stream",
     "text": [
      "tensor(1.)\n",
      "tensor(0.0128)\n",
      "tensor(0.0118)\n",
      "tensor(0.0125)\n"
     ]
    }
   ],
   "source": [
    "mean, std = 40, 100\n",
    "x = torch.Tensor(range(0,80))\n",
    "\n",
    "p = normal_pdf(x, mean, std)\n",
    "\n",
    "markerline, stemlines, baseline = plt.stem(p, linefmt='-', use_line_collection=True)\n",
    "plt.show()\n",
    "print(torch.sum(p))\n",
    "print(torch.max(p))\n",
    "print(torch.min(p))\n",
    "print(torch.mean(p))"
   ]
  },
  {
   "cell_type": "code",
   "execution_count": 169,
   "metadata": {},
   "outputs": [
    {
     "data": {
      "image/png": "[encoded data removed]",
      "text/plain": [
       "<Figure size 432x288 with 1 Axes>"
      ]
     },
     "metadata": {
      "needs_background": "light"
     },
     "output_type": "display_data"
    },
    {
     "name": "stdout",
     "output_type": "stream",
     "text": [
      "tensor(1.0000)\n",
      "tensor(0.0125)\n",
      "tensor(0.0125)\n",
      "tensor(0.0125)\n"
     ]
    }
   ],
   "source": [
    "mean, std = 40, 400\n",
    "x = torch.Tensor(range(0,80))\n",
    "\n",
    "p = normal_pdf(x, mean, std)\n",
    "\n",
    "markerline, stemlines, baseline = plt.stem(p, linefmt='-', use_line_collection=True)\n",
    "plt.show()\n",
    "print(torch.sum(p))\n",
    "print(torch.max(p))\n",
    "print(torch.min(p))\n",
    "print(torch.mean(p))"
   ]
  },
  {
   "cell_type": "markdown",
   "metadata": {},
   "source": [
    "# 1.2. Finding min(STD) and max(STD)"
   ]
  },
  {
   "cell_type": "code",
   "execution_count": 173,
   "metadata": {},
   "outputs": [
    {
     "name": "stdout",
     "output_type": "stream",
     "text": [
      "std_min = 0.1430000094553634\n",
      "std_max = None\n"
     ]
    }
   ],
   "source": [
    "mean = 40\n",
    "txt_length = 80\n",
    "round_digit = 3\n",
    "x = torch.Tensor(range(0,txt_length))\n",
    "\n",
    "std_min = None\n",
    "std_max = None\n",
    "\n",
    "for std in np.arange(0.001, 400+0.001, 0.001):\n",
    "    p = normal_pdf(x, mean, std)\n",
    "    _max = round(torch.max(p).item(), round_digit)\n",
    "    _min = round(torch.min(p).item(), round_digit)\n",
    "    if _max == _min:\n",
    "        std_max = std\n",
    "        break\n",
    "        \n",
    "        \n",
    "for std in np.arange(400, 0.001, -0.001):\n",
    "    p = normal_pdf(x, mean, std)\n",
    "    if round(torch.max(p).item(), round_digit) == 1:\n",
    "        std_min = std\n",
    "        break\n",
    "        \n",
    "print(\"std_min =\", std_min)\n",
    "print(\"std_max =\", std_max)"
   ]
  },
  {
   "cell_type": "code",
   "execution_count": 174,
   "metadata": {},
   "outputs": [
    {
     "name": "stdout",
     "output_type": "stream",
     "text": [
      "std_max = 36.769999999999996\n"
     ]
    }
   ],
   "source": [
    "mean = 40\n",
    "txt_length = 80\n",
    "round_digit = 2\n",
    "x = torch.Tensor(range(0,txt_length))\n",
    "\n",
    "std_max = None\n",
    "\n",
    "for std in np.arange(0.001, 400+0.001, 0.001):\n",
    "    p = normal_pdf(x, mean, std)\n",
    "    _max = round(torch.max(p).item(), round_digit)\n",
    "    _min = round(torch.min(p).item(), round_digit)\n",
    "    if _max == _min:\n",
    "        std_max = std\n",
    "        break\n",
    "        \n",
    "print(\"std_max =\", std_max)"
   ]
  },
  {
   "cell_type": "code",
   "execution_count": 170,
   "metadata": {},
   "outputs": [
    {
     "data": {
      "image/png": "[encoded data removed]",
      "text/plain": [
       "<Figure size 432x288 with 1 Axes>"
      ]
     },
     "metadata": {
      "needs_background": "light"
     },
     "output_type": "display_data"
    },
    {
     "name": "stdout",
     "output_type": "stream",
     "text": [
      "tensor(1.0000)\n",
      "tensor(0.0150)\n",
      "tensor(0.0083)\n",
      "tensor(0.0125)\n"
     ]
    }
   ],
   "source": [
    "mean, std = 40, 36.770\n",
    "x = torch.Tensor(range(0,80))\n",
    "\n",
    "p = normal_pdf(x, mean, std)\n",
    "\n",
    "markerline, stemlines, baseline = plt.stem(p, linefmt='-', use_line_collection=True)\n",
    "plt.show()\n",
    "print(torch.sum(p))\n",
    "print(torch.max(p))\n",
    "print(torch.min(p))\n",
    "print(torch.mean(p))"
   ]
  },
  {
   "cell_type": "code",
   "execution_count": 172,
   "metadata": {},
   "outputs": [
    {
     "data": {
      "image/png": "[encoded data removed]",
      "text/plain": [
       "<Figure size 432x288 with 1 Axes>"
      ]
     },
     "metadata": {
      "needs_background": "light"
     },
     "output_type": "display_data"
    },
    {
     "name": "stdout",
     "output_type": "stream",
     "text": [
      "tensor(1.0000)\n",
      "tensor(0.0146)\n",
      "tensor(0.0089)\n",
      "tensor(0.0125)\n"
     ]
    }
   ],
   "source": [
    "mean, std = 40, 40\n",
    "x = torch.Tensor(range(0,80))\n",
    "\n",
    "p = normal_pdf(x, mean, std)\n",
    "\n",
    "markerline, stemlines, baseline = plt.stem(p, linefmt='-', use_line_collection=True)\n",
    "plt.show()\n",
    "print(torch.sum(p))\n",
    "print(torch.max(p))\n",
    "print(torch.min(p))\n",
    "print(torch.mean(p))"
   ]
  },
  {
   "cell_type": "code",
   "execution_count": 171,
   "metadata": {},
   "outputs": [
    {
     "data": {
      "image/png": "[encoded data removed]",
      "text/plain": [
       "<Figure size 432x288 with 1 Axes>"
      ]
     },
     "metadata": {
      "needs_background": "light"
     },
     "output_type": "display_data"
    },
    {
     "name": "stdout",
     "output_type": "stream",
     "text": [
      "tensor(1.)\n",
      "tensor(0.9995)\n",
      "tensor(0.)\n",
      "tensor(0.0125)\n"
     ]
    }
   ],
   "source": [
    "mean, std = 40, 0.143\n",
    "x = torch.Tensor(range(0,80))\n",
    "\n",
    "p = normal_pdf(x, mean, std)\n",
    "\n",
    "markerline, stemlines, baseline = plt.stem(p, linefmt='-', use_line_collection=True)\n",
    "plt.show()\n",
    "print(torch.sum(p))\n",
    "print(torch.max(p))\n",
    "print(torch.min(p))\n",
    "print(torch.mean(p))"
   ]
  },
  {
   "cell_type": "markdown",
   "metadata": {},
   "source": [
    "# 2. "
   ]
  }
 ],
 "metadata": {
  "kernelspec": {
   "display_name": "Python 3",
   "language": "python",
   "name": "python3"
  },
  "language_info": {
   "codemirror_mode": {
    "name": "ipython",
    "version": 3
   },
   "file_extension": ".py",
   "mimetype": "text/x-python",
   "name": "python",
   "nbconvert_exporter": "python",
   "pygments_lexer": "ipython3",
   "version": "3.7.4"
  }
 },
 "nbformat": 4,
 "nbformat_minor": 4
}
