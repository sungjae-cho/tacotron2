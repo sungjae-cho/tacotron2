{
 "cells": [
  {
   "cell_type": "code",
   "execution_count": 1,
   "metadata": {},
   "outputs": [
    {
     "name": "stdout",
     "output_type": "stream",
     "text": [
      "The working directory is moved from /data2/sungjaecho/Projects/tacotron2/dev_ipynb to /data2/sungjaecho/Projects/tacotron2.\n"
     ]
    }
   ],
   "source": [
    "import os\n",
    "cwd_old = os.getcwd()\n",
    "os.chdir('..')\n",
    "cwd_new = os.getcwd()\n",
    "print(\"The working directory is moved from {} to {}.\".format(cwd_old, cwd_new))"
   ]
  },
  {
   "cell_type": "markdown",
   "metadata": {},
   "source": [
    "# Inference"
   ]
  },
  {
   "cell_type": "markdown",
   "metadata": {},
   "source": [
    "## 1. Load a trained model"
   ]
  },
  {
   "cell_type": "code",
   "execution_count": 2,
   "metadata": {},
   "outputs": [],
   "source": [
    "# Hide warning to make the notebook clear.\n",
    "import warnings\n",
    "warnings.filterwarnings('ignore')"
   ]
  },
  {
   "cell_type": "code",
   "execution_count": 3,
   "metadata": {},
   "outputs": [],
   "source": [
    "import os\n",
    "os.environ[\"CUDA_VISIBLE_DEVICES\"]=\"3\""
   ]
  },
  {
   "cell_type": "markdown",
   "metadata": {},
   "source": [
    "#### Setup hparams"
   ]
  },
  {
   "cell_type": "markdown",
   "metadata": {},
   "source": [
    "#### Load model from checkpoint"
   ]
  },
  {
   "cell_type": "code",
   "execution_count": 5,
   "metadata": {},
   "outputs": [],
   "source": [
    "import torch"
   ]
  },
  {
   "cell_type": "code",
   "execution_count": 6,
   "metadata": {},
   "outputs": [],
   "source": [
    "#checkpoint_path = \"tacotron2_statedict.pt\"\n",
    "#checkpoint_path = \"outdir/checkpoint_24000\"\n",
    "prj_name = 'bc2013'\n",
    "run_name = 'pretrain_g2p_2gpus_v7_db_v2'\n",
    "checkpoint_name = 'checkpoint_70118-epoch_57.24'\n",
    "checkpoint_path = \"outdir/{}/{}/{}\".format(prj_name, run_name, checkpoint_name)\n",
    "#checkpoint_path = '/home/sungjaecho/pretrained/tacotron2_statedict.pt'\n",
    "state_dict = torch.load(checkpoint_path)['state_dict']"
   ]
  },
  {
   "cell_type": "code",
   "execution_count": 7,
   "metadata": {},
   "outputs": [
    {
     "data": {
      "text/plain": [
       "['decoder.attention_layer.location_layer.location_conv.conv.weight',\n",
       " 'decoder.attention_layer.location_layer.location_dense.linear_layer.weight',\n",
       " 'decoder.attention_layer.memory_layer.linear_layer.weight',\n",
       " 'decoder.attention_layer.query_layer.linear_layer.weight',\n",
       " 'decoder.attention_layer.v.linear_layer.weight',\n",
       " 'decoder.attention_rnn.bias_hh',\n",
       " 'decoder.attention_rnn.bias_ih',\n",
       " 'decoder.attention_rnn.weight_hh',\n",
       " 'decoder.attention_rnn.weight_ih',\n",
       " 'decoder.decoder_rnn.bias_hh',\n",
       " 'decoder.decoder_rnn.bias_ih',\n",
       " 'decoder.decoder_rnn.weight_hh',\n",
       " 'decoder.decoder_rnn.weight_ih',\n",
       " 'decoder.gate_layer.linear_layer.bias',\n",
       " 'decoder.gate_layer.linear_layer.weight',\n",
       " 'decoder.linear_projection.linear_layer.bias',\n",
       " 'decoder.linear_projection.linear_layer.weight',\n",
       " 'decoder.prenet.layers.0.linear_layer.weight',\n",
       " 'decoder.prenet.layers.1.linear_layer.weight',\n",
       " 'embedding.weight',\n",
       " 'encoder.convolutions.0.0.conv.bias',\n",
       " 'encoder.convolutions.0.0.conv.weight',\n",
       " 'encoder.convolutions.0.1.bias',\n",
       " 'encoder.convolutions.0.1.num_batches_tracked',\n",
       " 'encoder.convolutions.0.1.running_mean',\n",
       " 'encoder.convolutions.0.1.running_var',\n",
       " 'encoder.convolutions.0.1.weight',\n",
       " 'encoder.convolutions.1.0.conv.bias',\n",
       " 'encoder.convolutions.1.0.conv.weight',\n",
       " 'encoder.convolutions.1.1.bias',\n",
       " 'encoder.convolutions.1.1.num_batches_tracked',\n",
       " 'encoder.convolutions.1.1.running_mean',\n",
       " 'encoder.convolutions.1.1.running_var',\n",
       " 'encoder.convolutions.1.1.weight',\n",
       " 'encoder.convolutions.2.0.conv.bias',\n",
       " 'encoder.convolutions.2.0.conv.weight',\n",
       " 'encoder.convolutions.2.1.bias',\n",
       " 'encoder.convolutions.2.1.num_batches_tracked',\n",
       " 'encoder.convolutions.2.1.running_mean',\n",
       " 'encoder.convolutions.2.1.running_var',\n",
       " 'encoder.convolutions.2.1.weight',\n",
       " 'encoder.lstm.bias_hh_l0',\n",
       " 'encoder.lstm.bias_hh_l0_reverse',\n",
       " 'encoder.lstm.bias_ih_l0',\n",
       " 'encoder.lstm.bias_ih_l0_reverse',\n",
       " 'encoder.lstm.weight_hh_l0',\n",
       " 'encoder.lstm.weight_hh_l0_reverse',\n",
       " 'encoder.lstm.weight_ih_l0',\n",
       " 'encoder.lstm.weight_ih_l0_reverse',\n",
       " 'postnet.convolutions.0.0.conv.bias',\n",
       " 'postnet.convolutions.0.0.conv.weight',\n",
       " 'postnet.convolutions.0.1.bias',\n",
       " 'postnet.convolutions.0.1.num_batches_tracked',\n",
       " 'postnet.convolutions.0.1.running_mean',\n",
       " 'postnet.convolutions.0.1.running_var',\n",
       " 'postnet.convolutions.0.1.weight',\n",
       " 'postnet.convolutions.1.0.conv.bias',\n",
       " 'postnet.convolutions.1.0.conv.weight',\n",
       " 'postnet.convolutions.1.1.bias',\n",
       " 'postnet.convolutions.1.1.num_batches_tracked',\n",
       " 'postnet.convolutions.1.1.running_mean',\n",
       " 'postnet.convolutions.1.1.running_var',\n",
       " 'postnet.convolutions.1.1.weight',\n",
       " 'postnet.convolutions.2.0.conv.bias',\n",
       " 'postnet.convolutions.2.0.conv.weight',\n",
       " 'postnet.convolutions.2.1.bias',\n",
       " 'postnet.convolutions.2.1.num_batches_tracked',\n",
       " 'postnet.convolutions.2.1.running_mean',\n",
       " 'postnet.convolutions.2.1.running_var',\n",
       " 'postnet.convolutions.2.1.weight',\n",
       " 'postnet.convolutions.3.0.conv.bias',\n",
       " 'postnet.convolutions.3.0.conv.weight',\n",
       " 'postnet.convolutions.3.1.bias',\n",
       " 'postnet.convolutions.3.1.num_batches_tracked',\n",
       " 'postnet.convolutions.3.1.running_mean',\n",
       " 'postnet.convolutions.3.1.running_var',\n",
       " 'postnet.convolutions.3.1.weight',\n",
       " 'postnet.convolutions.4.0.conv.bias',\n",
       " 'postnet.convolutions.4.0.conv.weight',\n",
       " 'postnet.convolutions.4.1.bias',\n",
       " 'postnet.convolutions.4.1.num_batches_tracked',\n",
       " 'postnet.convolutions.4.1.running_mean',\n",
       " 'postnet.convolutions.4.1.running_var',\n",
       " 'postnet.convolutions.4.1.weight']"
      ]
     },
     "execution_count": 7,
     "metadata": {},
     "output_type": "execute_result"
    }
   ],
   "source": [
    "sorted(list(state_dict.keys()))"
   ]
  },
  {
   "cell_type": "code",
   "execution_count": 12,
   "metadata": {},
   "outputs": [
    {
     "name": "stdout",
     "output_type": "stream",
     "text": [
      "{'reference_encoder', 'postnet', 'decoder', 'embedding', 'encoder', 'temp_prosody_decoder'}\n"
     ]
    }
   ],
   "source": [
    "first_level_set = set()\n",
    "for key in state_dict.keys():\n",
    "    first_level_module = key.split('.')[0]\n",
    "    first_level_set.add(first_level_module)\n",
    "print(first_level_set)"
   ]
  }
 ],
 "metadata": {
  "kernelspec": {
   "display_name": "Python 3",
   "language": "python",
   "name": "python3"
  },
  "language_info": {
   "codemirror_mode": {
    "name": "ipython",
    "version": 3
   },
   "file_extension": ".py",
   "mimetype": "text/x-python",
   "name": "python",
   "nbconvert_exporter": "python",
   "pygments_lexer": "ipython3",
   "version": "3.7.4"
  }
 },
 "nbformat": 4,
 "nbformat_minor": 4
}
