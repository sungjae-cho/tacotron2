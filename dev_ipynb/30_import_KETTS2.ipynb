{
 "cells": [
  {
   "cell_type": "code",
   "execution_count": 1,
   "metadata": {},
   "outputs": [
    {
     "name": "stdout",
     "output_type": "stream",
     "text": [
      "The working directory is moved from /data2/sungjaecho/Projects/tacotron2/dev_ipynb to /data7/data.\n"
     ]
    }
   ],
   "source": [
    "import os\n",
    "cwd_old = os.getcwd()\n",
    "os.chdir('/data2/sungjaecho/data_tts')\n",
    "cwd_new = os.getcwd()\n",
    "print(\"The working directory is moved from {} to {}.\".format(cwd_old, cwd_new))"
   ]
  },
  {
   "cell_type": "code",
   "execution_count": 2,
   "metadata": {},
   "outputs": [],
   "source": [
    "import os\n",
    "import librosa\n",
    "import pandas as pd\n",
    "import shutil\n",
    "from tqdm.notebook import trange, tqdm"
   ]
  },
  {
   "cell_type": "markdown",
   "metadata": {},
   "source": [
    "# 1. KETTS2"
   ]
  },
  {
   "cell_type": "code",
   "execution_count": 4,
   "metadata": {},
   "outputs": [],
   "source": [
    "dir_database = 'KETTS2/KETTS2'"
   ]
  },
  {
   "cell_type": "code",
   "execution_count": 23,
   "metadata": {},
   "outputs": [],
   "source": [
    "str_db = 'ketts2'"
   ]
  },
  {
   "cell_type": "code",
   "execution_count": 5,
   "metadata": {},
   "outputs": [],
   "source": [
    "speakers = ['20m', '30f', '40m', '50f', '50m', '60f']\n",
    "emo_converter = {\n",
    "    'ang':'angry', \n",
    "    'dis':'disgusted', \n",
    "    'fea':'fearful', \n",
    "    'hap':'happy', \n",
    "    'neu':'neutral', \n",
    "    'sad':'sad', \n",
    "    'sur':'surprised',\n",
    "}"
   ]
  },
  {
   "cell_type": "markdown",
   "metadata": {},
   "source": [
    "## 1.1. Rename wav file names and move to one wav directory"
   ]
  },
  {
   "cell_type": "code",
   "execution_count": 26,
   "metadata": {},
   "outputs": [],
   "source": [
    "new_dir_wav = os.path.join(dir_database, 'wav')\n",
    "if not os.path.exists(new_dir_wav):\n",
    "    os.mkdir(new_dir_wav)"
   ]
  },
  {
   "cell_type": "code",
   "execution_count": 28,
   "metadata": {},
   "outputs": [
    {
     "name": "stdout",
     "output_type": "stream",
     "text": [
      "Rename | KETTS2/KETTS2/20m/neu_500/288.wav -> KETTS2/KETTS2/wav/ketts2-20m_neutral_288.wav\n",
      "Rename | KETTS2/KETTS2/20m/neu_500/335.wav -> KETTS2/KETTS2/wav/ketts2-20m_neutral_335.wav\n",
      "Rename | KETTS2/KETTS2/20m/neu_500/290.wav -> KETTS2/KETTS2/wav/ketts2-20m_neutral_290.wav\n",
      "Rename | KETTS2/KETTS2/20m/neu_500/308.wav -> KETTS2/KETTS2/wav/ketts2-20m_neutral_308.wav\n",
      "Rename | KETTS2/KETTS2/20m/neu_500/3.wav -> KETTS2/KETTS2/wav/ketts2-20m_neutral_003.wav\n",
      "Rename | KETTS2/KETTS2/20m/neu_500/191.wav -> KETTS2/KETTS2/wav/ketts2-20m_neutral_191.wav\n",
      "Rename | KETTS2/KETTS2/20m/neu_500/263.wav -> KETTS2/KETTS2/wav/ketts2-20m_neutral_263.wav\n",
      "Rename | KETTS2/KETTS2/20m/neu_500/81.wav -> KETTS2/KETTS2/wav/ketts2-20m_neutral_081.wav\n",
      "Rename | KETTS2/KETTS2/20m/neu_500/207.wav -> KETTS2/KETTS2/wav/ketts2-20m_neutral_207.wav\n",
      "Rename | KETTS2/KETTS2/20m/neu_500/256.wav -> KETTS2/KETTS2/wav/ketts2-20m_neutral_256.wav\n"
     ]
    }
   ],
   "source": [
    "cnt = 0\n",
    "for speaker in speakers:\n",
    "    emotion_dirs = os.listdir(os.path.join(dir_database, speaker))\n",
    "    for emotion_dir in emotion_dirs:\n",
    "        emotion = emo_converter[emotion_dir.split('_')[0]]\n",
    "        wav_dir = os.path.join(dir_database, speaker, emotion_dir)\n",
    "        wav_names = os.listdir(wav_dir)\n",
    "        for wav_name in wav_names:\n",
    "            wav_path = os.path.join(wav_dir, wav_name)\n",
    "            script_id, wav_ext = os.path.splitext(wav_name)\n",
    "            new_wav_name = '{}-{}_{}_{:03d}{}'.format(str_db, speaker, emotion, int(script_id), wav_ext)\n",
    "            new_wav_path = os.path.join(new_dir_wav, new_wav_name)\n",
    "            \n",
    "            os.rename(wav_path, new_wav_path)\n",
    "            \n",
    "            if cnt < 10:\n",
    "                print(\"Rename | {} -> {}\".format(wav_path, new_wav_path))\n",
    "            cnt += 1"
   ]
  },
  {
   "cell_type": "code",
   "execution_count": 32,
   "metadata": {},
   "outputs": [
    {
     "name": "stdout",
     "output_type": "stream",
     "text": [
      "/data7/data/KETTS2/KETTS2/20m\n",
      "/data7/data/KETTS2/KETTS2/30f\n",
      "/data7/data/KETTS2/KETTS2/40m\n",
      "/data7/data/KETTS2/KETTS2/50f\n",
      "/data7/data/KETTS2/KETTS2/50m\n",
      "/data7/data/KETTS2/KETTS2/60f\n"
     ]
    }
   ],
   "source": [
    "for speaker in speakers:\n",
    "    rm_dir_path = os.path.join(os.getcwd(), dir_database, speaker)\n",
    "    print(rm_dir_path)\n",
    "    shutil.rmtree(rm_dir_path)"
   ]
  },
  {
   "cell_type": "markdown",
   "metadata": {},
   "source": [
    "## 1.2. KETTS: Make DB"
   ]
  },
  {
   "cell_type": "code",
   "execution_count": 33,
   "metadata": {},
   "outputs": [
    {
     "name": "stdout",
     "output_type": "stream",
     "text": [
      "KETTS2/KETTS2/wav\n"
     ]
    }
   ],
   "source": [
    "dir_wav = os.path.join(dir_database, 'wav'); print(dir_wav)"
   ]
  },
  {
   "cell_type": "code",
   "execution_count": 63,
   "metadata": {},
   "outputs": [
    {
     "data": {
      "text/html": [
       "<div>\n",
       "<style scoped>\n",
       "    .dataframe tbody tr th:only-of-type {\n",
       "        vertical-align: middle;\n",
       "    }\n",
       "\n",
       "    .dataframe tbody tr th {\n",
       "        vertical-align: top;\n",
       "    }\n",
       "\n",
       "    .dataframe thead th {\n",
       "        text-align: right;\n",
       "    }\n",
       "</style>\n",
       "<table border=\"1\" class=\"dataframe\">\n",
       "  <thead>\n",
       "    <tr style=\"text-align: right;\">\n",
       "      <th></th>\n",
       "      <th>index</th>\n",
       "      <th>script</th>\n",
       "    </tr>\n",
       "  </thead>\n",
       "  <tbody>\n",
       "    <tr>\n",
       "      <td>0</td>\n",
       "      <td>1</td>\n",
       "      <td>잃어버린 서류가방을 동료가 찾아주었다.</td>\n",
       "    </tr>\n",
       "    <tr>\n",
       "      <td>1</td>\n",
       "      <td>2</td>\n",
       "      <td>엄마 절 낳아주셔서 감사해요.</td>\n",
       "    </tr>\n",
       "    <tr>\n",
       "      <td>2</td>\n",
       "      <td>3</td>\n",
       "      <td>그는 물걸레로 바닥을 계속 닦는다.</td>\n",
       "    </tr>\n",
       "    <tr>\n",
       "      <td>3</td>\n",
       "      <td>4</td>\n",
       "      <td>그건 정말 호랑이 입에 바쳐온 거나 같다.</td>\n",
       "    </tr>\n",
       "    <tr>\n",
       "      <td>4</td>\n",
       "      <td>5</td>\n",
       "      <td>그렇게 먹다가는 금방 돼지가 되고 말 걸.</td>\n",
       "    </tr>\n",
       "  </tbody>\n",
       "</table>\n",
       "</div>"
      ],
      "text/plain": [
       "   index                   script\n",
       "0      1    잃어버린 서류가방을 동료가 찾아주었다.\n",
       "1      2         엄마 절 낳아주셔서 감사해요.\n",
       "2      3      그는 물걸레로 바닥을 계속 닦는다.\n",
       "3      4  그건 정말 호랑이 입에 바쳐온 거나 같다.\n",
       "4      5  그렇게 먹다가는 금방 돼지가 되고 말 걸."
      ]
     },
     "execution_count": 63,
     "metadata": {},
     "output_type": "execute_result"
    }
   ],
   "source": [
    "df_script = pd.read_csv(os.path.join(dir_database, 'KETTS2_script.csv'), encoding='utf-8')\n",
    "df_script.head()"
   ]
  },
  {
   "cell_type": "code",
   "execution_count": 47,
   "metadata": {},
   "outputs": [
    {
     "name": "stdout",
     "output_type": "stream",
     "text": [
      "Total #wavs: 21000\n"
     ]
    }
   ],
   "source": [
    "wav_names = os.listdir(dir_wav)\n",
    "wav_paths = [os.path.join(dir_wav, wav) for wav in wav_names]\n",
    "print(\"Total #wavs:\", len(wav_names))"
   ]
  },
  {
   "cell_type": "code",
   "execution_count": 57,
   "metadata": {},
   "outputs": [],
   "source": [
    "str_database = 'ketts2'\n",
    "text_list = list()\n",
    "id_list = list()\n",
    "speaker_list = list()\n",
    "emotion_list = list()\n",
    "sex_list = list()\n",
    "for wav_name, wav_path in tqdm(zip(wav_names, wav_paths), total=len(wav_paths)):\n",
    "    str_id = os.path.splitext(wav_name)[0]\n",
    "    speaker, emotion, script_id = str_id.split('_')\n",
    "    \n",
    "    id_list.append(str_id)\n",
    "    speaker_list.append(speaker)\n",
    "    emotion_list.append(emotion)\n",
    "    if speaker[-1] == 'm':\n",
    "        sex_list.append('m')\n",
    "    if speaker[-1] == 'f':\n",
    "        sex_list.append('w')\n",
    "    \n",
    "    script = df[df['index'] == int(script_id)].script.values[0]\n",
    "    text_list.append(script)"
   ]
  },
  {
   "cell_type": "code",
   "execution_count": null,
   "metadata": {},
   "outputs": [],
   "source": [
    "duration_list = list()\n",
    "for i in tqdm(range(len(wav_paths))):\n",
    "    y, sr = librosa.load(wav_path)\n",
    "    duration = librosa.get_duration(y, sr)\n",
    "    duration = round(duration, 3)\n",
    "    duration_list.append(duration)"
   ]
  },
  {
   "cell_type": "code",
   "execution_count": 58,
   "metadata": {},
   "outputs": [],
   "source": [
    "n_samples = len(wav_paths)\n",
    "df = pd.DataFrame({\n",
    "    'database':[str_database]*n_samples,\n",
    "    'id':id_list,\n",
    "    'wav_path':wav_paths,\n",
    "    #'duration':duration_list,\n",
    "    'text':text_list,\n",
    "    'speaker':speaker_list,\n",
    "    'sex':sex_list,\n",
    "    'emotion':emotion_list,\n",
    "    'lang':['ko']*n_samples,\n",
    "})"
   ]
  },
  {
   "cell_type": "code",
   "execution_count": 60,
   "metadata": {},
   "outputs": [
    {
     "data": {
      "text/plain": [
       "(21000, 8)"
      ]
     },
     "execution_count": 60,
     "metadata": {},
     "output_type": "execute_result"
    }
   ],
   "source": [
    "df.shape"
   ]
  },
  {
   "cell_type": "code",
   "execution_count": 61,
   "metadata": {},
   "outputs": [
    {
     "data": {
      "text/html": [
       "<div>\n",
       "<style scoped>\n",
       "    .dataframe tbody tr th:only-of-type {\n",
       "        vertical-align: middle;\n",
       "    }\n",
       "\n",
       "    .dataframe tbody tr th {\n",
       "        vertical-align: top;\n",
       "    }\n",
       "\n",
       "    .dataframe thead th {\n",
       "        text-align: right;\n",
       "    }\n",
       "</style>\n",
       "<table border=\"1\" class=\"dataframe\">\n",
       "  <thead>\n",
       "    <tr style=\"text-align: right;\">\n",
       "      <th></th>\n",
       "      <th>database</th>\n",
       "      <th>id</th>\n",
       "      <th>wav_path</th>\n",
       "      <th>text</th>\n",
       "      <th>speaker</th>\n",
       "      <th>sex</th>\n",
       "      <th>emotion</th>\n",
       "      <th>lang</th>\n",
       "    </tr>\n",
       "  </thead>\n",
       "  <tbody>\n",
       "    <tr>\n",
       "      <td>0</td>\n",
       "      <td>ketts2</td>\n",
       "      <td>ketts2-40m_fearful_361</td>\n",
       "      <td>KETTS2/KETTS2/wav/ketts2-40m_fearful_361.wav</td>\n",
       "      <td>새로 익히고 있는 증권업무도 전혀 낯선 일입니다.</td>\n",
       "      <td>ketts2-40m</td>\n",
       "      <td>m</td>\n",
       "      <td>fearful</td>\n",
       "      <td>ko</td>\n",
       "    </tr>\n",
       "    <tr>\n",
       "      <td>1</td>\n",
       "      <td>ketts2</td>\n",
       "      <td>ketts2-50f_angry_237</td>\n",
       "      <td>KETTS2/KETTS2/wav/ketts2-50f_angry_237.wav</td>\n",
       "      <td>소원을 들어주는 요술램프가 있었으면 좋겠다.</td>\n",
       "      <td>ketts2-50f</td>\n",
       "      <td>w</td>\n",
       "      <td>angry</td>\n",
       "      <td>ko</td>\n",
       "    </tr>\n",
       "    <tr>\n",
       "      <td>2</td>\n",
       "      <td>ketts2</td>\n",
       "      <td>ketts2-60f_sad_277</td>\n",
       "      <td>KETTS2/KETTS2/wav/ketts2-60f_sad_277.wav</td>\n",
       "      <td>우리 앞에 어떤 가능성도 배제하지 말자.</td>\n",
       "      <td>ketts2-60f</td>\n",
       "      <td>w</td>\n",
       "      <td>sad</td>\n",
       "      <td>ko</td>\n",
       "    </tr>\n",
       "    <tr>\n",
       "      <td>3</td>\n",
       "      <td>ketts2</td>\n",
       "      <td>ketts2-30f_neutral_354</td>\n",
       "      <td>KETTS2/KETTS2/wav/ketts2-30f_neutral_354.wav</td>\n",
       "      <td>나는 정도를 걸으면서 양국은 하나라는 생각을 응원한다.</td>\n",
       "      <td>ketts2-30f</td>\n",
       "      <td>w</td>\n",
       "      <td>neutral</td>\n",
       "      <td>ko</td>\n",
       "    </tr>\n",
       "    <tr>\n",
       "      <td>4</td>\n",
       "      <td>ketts2</td>\n",
       "      <td>ketts2-40m_neutral_098</td>\n",
       "      <td>KETTS2/KETTS2/wav/ketts2-40m_neutral_098.wav</td>\n",
       "      <td>무엇이든 가장 보편적인 것이 사람들에게 사랑받는 법이다.</td>\n",
       "      <td>ketts2-40m</td>\n",
       "      <td>m</td>\n",
       "      <td>neutral</td>\n",
       "      <td>ko</td>\n",
       "    </tr>\n",
       "  </tbody>\n",
       "</table>\n",
       "</div>"
      ],
      "text/plain": [
       "  database                      id  \\\n",
       "0   ketts2  ketts2-40m_fearful_361   \n",
       "1   ketts2    ketts2-50f_angry_237   \n",
       "2   ketts2      ketts2-60f_sad_277   \n",
       "3   ketts2  ketts2-30f_neutral_354   \n",
       "4   ketts2  ketts2-40m_neutral_098   \n",
       "\n",
       "                                       wav_path  \\\n",
       "0  KETTS2/KETTS2/wav/ketts2-40m_fearful_361.wav   \n",
       "1    KETTS2/KETTS2/wav/ketts2-50f_angry_237.wav   \n",
       "2      KETTS2/KETTS2/wav/ketts2-60f_sad_277.wav   \n",
       "3  KETTS2/KETTS2/wav/ketts2-30f_neutral_354.wav   \n",
       "4  KETTS2/KETTS2/wav/ketts2-40m_neutral_098.wav   \n",
       "\n",
       "                              text     speaker sex  emotion lang  \n",
       "0      새로 익히고 있는 증권업무도 전혀 낯선 일입니다.  ketts2-40m   m  fearful   ko  \n",
       "1         소원을 들어주는 요술램프가 있었으면 좋겠다.  ketts2-50f   w    angry   ko  \n",
       "2           우리 앞에 어떤 가능성도 배제하지 말자.  ketts2-60f   w      sad   ko  \n",
       "3   나는 정도를 걸으면서 양국은 하나라는 생각을 응원한다.  ketts2-30f   w  neutral   ko  \n",
       "4  무엇이든 가장 보편적인 것이 사람들에게 사랑받는 법이다.  ketts2-40m   m  neutral   ko  "
      ]
     },
     "execution_count": 61,
     "metadata": {},
     "output_type": "execute_result"
    }
   ],
   "source": [
    "df.head()"
   ]
  }
 ],
 "metadata": {
  "kernelspec": {
   "display_name": "Python 3",
   "language": "python",
   "name": "python3"
  },
  "language_info": {
   "codemirror_mode": {
    "name": "ipython",
    "version": 3
   },
   "file_extension": ".py",
   "mimetype": "text/x-python",
   "name": "python",
   "nbconvert_exporter": "python",
   "pygments_lexer": "ipython3",
   "version": "3.7.4"
  }
 },
 "nbformat": 4,
 "nbformat_minor": 4
}
