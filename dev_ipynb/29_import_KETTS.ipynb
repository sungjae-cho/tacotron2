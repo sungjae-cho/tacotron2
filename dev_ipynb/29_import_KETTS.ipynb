{
 "cells": [
  {
   "cell_type": "code",
   "execution_count": 1,
   "metadata": {},
   "outputs": [
    {
     "name": "stdout",
     "output_type": "stream",
     "text": [
      "The working directory is moved from /data2/sungjaecho/Projects/tacotron2/dev_ipynb to /data7/data.\n"
     ]
    }
   ],
   "source": [
    "import os\n",
    "cwd_old = os.getcwd()\n",
    "os.chdir('/data2/sungjaecho/data_tts')\n",
    "cwd_new = os.getcwd()\n",
    "print(\"The working directory is moved from {} to {}.\".format(cwd_old, cwd_new))"
   ]
  },
  {
   "cell_type": "code",
   "execution_count": 25,
   "metadata": {},
   "outputs": [],
   "source": [
    "import os\n",
    "import librosa\n",
    "import pandas as pd\n",
    "import shutil\n",
    "from tqdm.notebook import trange, tqdm"
   ]
  },
  {
   "cell_type": "markdown",
   "metadata": {},
   "source": [
    "# 1. KETTS"
   ]
  },
  {
   "cell_type": "code",
   "execution_count": 3,
   "metadata": {},
   "outputs": [],
   "source": [
    "str_database = 'KETTS'"
   ]
  },
  {
   "cell_type": "markdown",
   "metadata": {},
   "source": [
    "## 1.1. KETTS-30f"
   ]
  },
  {
   "cell_type": "markdown",
   "metadata": {},
   "source": [
    "### 1.1.1. KETTS-30f rename"
   ]
  },
  {
   "cell_type": "code",
   "execution_count": 115,
   "metadata": {},
   "outputs": [
    {
     "name": "stdout",
     "output_type": "stream",
     "text": [
      "The working directory is moved from /data2/sungjaecho/Projects/tacotron2 to /data7/data.\n"
     ]
    }
   ],
   "source": [
    "import os\n",
    "cwd_old = os.getcwd()\n",
    "os.chdir('/data2/sungjaecho/data_tts')\n",
    "cwd_new = os.getcwd()\n",
    "print(\"The working directory is moved from {} to {}.\".format(cwd_old, cwd_new))"
   ]
  },
  {
   "cell_type": "code",
   "execution_count": 116,
   "metadata": {},
   "outputs": [],
   "source": [
    "dir_txt = 'KETTS/KETTS/30f/txt'\n",
    "dir_wav = 'KETTS/KETTS/30f/wav'"
   ]
  },
  {
   "cell_type": "code",
   "execution_count": 117,
   "metadata": {},
   "outputs": [],
   "source": [
    "speaker = 'ketts-30f'"
   ]
  },
  {
   "cell_type": "code",
   "execution_count": 8,
   "metadata": {},
   "outputs": [
    {
     "name": "stdout",
     "output_type": "stream",
     "text": [
      "Rename | KETTS/KETTS/30f/txt/acriil_sur_00000821.txt -> KETTS/KETTS/30f/txt/sur_00821.txt\n",
      "Rename | KETTS/KETTS/30f/txt/acriil_fea_00002330.txt -> KETTS/KETTS/30f/txt/fea_02330.txt\n",
      "Rename | KETTS/KETTS/30f/txt/acriil_dis_00002040.txt -> KETTS/KETTS/30f/txt/dis_02040.txt\n",
      "Rename | KETTS/KETTS/30f/txt/acriil_neu_00000021.txt -> KETTS/KETTS/30f/txt/neu_00021.txt\n",
      "Rename | KETTS/KETTS/30f/txt/acriil_neu_00000481.txt -> KETTS/KETTS/30f/txt/neu_00481.txt\n",
      "Rename | KETTS/KETTS/30f/txt/acriil_fea_00000136.txt -> KETTS/KETTS/30f/txt/fea_00136.txt\n",
      "Rename | KETTS/KETTS/30f/txt/acriil_sur_00000480.txt -> KETTS/KETTS/30f/txt/sur_00480.txt\n",
      "Rename | KETTS/KETTS/30f/txt/acriil_dis_00002703.txt -> KETTS/KETTS/30f/txt/dis_02703.txt\n",
      "Rename | KETTS/KETTS/30f/txt/acriil_hap_00001968.txt -> KETTS/KETTS/30f/txt/hap_01968.txt\n",
      "Rename | KETTS/KETTS/30f/txt/acriil_neu_00002007.txt -> KETTS/KETTS/30f/txt/neu_02007.txt\n"
     ]
    }
   ],
   "source": [
    "cnt = 0\n",
    "for txt_name in os.listdir(dir_txt):    \n",
    "    txt_path = os.path.join(dir_txt, txt_name)\n",
    "    name, ext = os.path.splitext(txt_name)\n",
    "    _, emotion, script_id = name.split('_')\n",
    "    new_txt_name = '{}_{:05d}{}'.format(emotion, int(script_id), ext)\n",
    "    new_txt_path = os.path.join(dir_txt, new_txt_name)\n",
    "    #os.rename(txt_path, new_txt_path)    \n",
    "    if cnt < 10:\n",
    "        print(\"Rename | {} -> {}\".format(txt_path, new_txt_path))\n",
    "    cnt += 1"
   ]
  },
  {
   "cell_type": "code",
   "execution_count": 10,
   "metadata": {},
   "outputs": [
    {
     "name": "stdout",
     "output_type": "stream",
     "text": [
      "Rename | KETTS/KETTS/30f/wav/acriil_sad_00002941.wav -> KETTS/KETTS/30f/wav/sad_02941.wav\n",
      "Rename | KETTS/KETTS/30f/wav/acriil_dis_00001659.wav -> KETTS/KETTS/30f/wav/dis_01659.wav\n",
      "Rename | KETTS/KETTS/30f/wav/acriil_fea_00002676.wav -> KETTS/KETTS/30f/wav/fea_02676.wav\n",
      "Rename | KETTS/KETTS/30f/wav/acriil_fea_00000858.wav -> KETTS/KETTS/30f/wav/fea_00858.wav\n",
      "Rename | KETTS/KETTS/30f/wav/acriil_fea_00000491.wav -> KETTS/KETTS/30f/wav/fea_00491.wav\n",
      "Rename | KETTS/KETTS/30f/wav/acriil_fea_00002039.wav -> KETTS/KETTS/30f/wav/fea_02039.wav\n",
      "Rename | KETTS/KETTS/30f/wav/acriil_fea_00000509.wav -> KETTS/KETTS/30f/wav/fea_00509.wav\n",
      "Rename | KETTS/KETTS/30f/wav/acriil_hap_00001956.wav -> KETTS/KETTS/30f/wav/hap_01956.wav\n",
      "Rename | KETTS/KETTS/30f/wav/acriil_hap_00000578.wav -> KETTS/KETTS/30f/wav/hap_00578.wav\n",
      "Rename | KETTS/KETTS/30f/wav/acriil_dis_00002425.wav -> KETTS/KETTS/30f/wav/dis_02425.wav\n"
     ]
    }
   ],
   "source": [
    "cnt = 0\n",
    "for wav_name in os.listdir(dir_wav):    \n",
    "    wav_path = os.path.join(dir_wav, wav_name)\n",
    "    name, ext = os.path.splitext(wav_name)\n",
    "    _, emotion, script_id = name.split('_')\n",
    "    new_wav_name = '{}_{:05d}{}'.format(emotion, int(script_id), ext)\n",
    "    new_wav_path = os.path.join(dir_wav, new_wav_name)\n",
    "    #os.rename(wav_path, new_wav_path)    \n",
    "    if cnt < 10:\n",
    "        print(\"Rename | {} -> {}\".format(wav_path, new_wav_path))\n",
    "    cnt += 1"
   ]
  },
  {
   "cell_type": "code",
   "execution_count": 118,
   "metadata": {},
   "outputs": [],
   "source": [
    "emo_converter = {\n",
    "    'ang':'angry', \n",
    "    'dis':'disgusted', \n",
    "    'fea':'fearful', \n",
    "    'hap':'happy', \n",
    "    'neu':'neutral', \n",
    "    'sad':'sad', \n",
    "    'sur':'surprised',\n",
    "}"
   ]
  },
  {
   "cell_type": "code",
   "execution_count": 123,
   "metadata": {},
   "outputs": [
    {
     "name": "stdout",
     "output_type": "stream",
     "text": [
      "Rename | KETTS/KETTS/30f/txt/dis_01293.txt -> KETTS/KETTS/30f/txt/ketts-30f_disgusted_01293.txt\n",
      "Rename | KETTS/KETTS/30f/txt/sur_01775.txt -> KETTS/KETTS/30f/txt/ketts-30f_surprised_01775.txt\n",
      "Rename | KETTS/KETTS/30f/txt/ang_00707.txt -> KETTS/KETTS/30f/txt/ketts-30f_angry_00707.txt\n",
      "Rename | KETTS/KETTS/30f/txt/sur_02547.txt -> KETTS/KETTS/30f/txt/ketts-30f_surprised_02547.txt\n",
      "Rename | KETTS/KETTS/30f/txt/neu_01485.txt -> KETTS/KETTS/30f/txt/ketts-30f_neutral_01485.txt\n",
      "Rename | KETTS/KETTS/30f/txt/fea_01330.txt -> KETTS/KETTS/30f/txt/ketts-30f_fearful_01330.txt\n",
      "Rename | KETTS/KETTS/30f/txt/sur_02549.txt -> KETTS/KETTS/30f/txt/ketts-30f_surprised_02549.txt\n",
      "Rename | KETTS/KETTS/30f/txt/hap_02522.txt -> KETTS/KETTS/30f/txt/ketts-30f_happy_02522.txt\n",
      "Rename | KETTS/KETTS/30f/txt/fea_02408.txt -> KETTS/KETTS/30f/txt/ketts-30f_fearful_02408.txt\n",
      "Rename | KETTS/KETTS/30f/txt/dis_00241.txt -> KETTS/KETTS/30f/txt/ketts-30f_disgusted_00241.txt\n"
     ]
    }
   ],
   "source": [
    "cnt = 0\n",
    "for txt_name in os.listdir(dir_txt):    \n",
    "    txt_path = os.path.join(dir_txt, txt_name)\n",
    "    name, ext = os.path.splitext(txt_name)\n",
    "    emotion, script_id = name.split('_')\n",
    "    emotion = emo_converter[emotion]\n",
    "    new_txt_name = '{}_{}_{:05d}{}'.format(speaker, emotion, int(script_id), ext)\n",
    "    new_txt_path = os.path.join(dir_txt, new_txt_name)\n",
    "    os.rename(txt_path, new_txt_path)    \n",
    "    if cnt < 10:\n",
    "        print(\"Rename | {} -> {}\".format(txt_path, new_txt_path))\n",
    "    cnt += 1"
   ]
  },
  {
   "cell_type": "code",
   "execution_count": 122,
   "metadata": {},
   "outputs": [
    {
     "name": "stdout",
     "output_type": "stream",
     "text": [
      "Rename | KETTS/KETTS/30f/wav/dis_00424.wav -> KETTS/KETTS/30f/wav/ketts-30f_disgusted_00424.wav\n",
      "Rename | KETTS/KETTS/30f/wav/sur_02229.wav -> KETTS/KETTS/30f/wav/ketts-30f_surprised_02229.wav\n",
      "Rename | KETTS/KETTS/30f/wav/hap_01573.wav -> KETTS/KETTS/30f/wav/ketts-30f_happy_01573.wav\n",
      "Rename | KETTS/KETTS/30f/wav/neu_01480.wav -> KETTS/KETTS/30f/wav/ketts-30f_neutral_01480.wav\n",
      "Rename | KETTS/KETTS/30f/wav/sur_01368.wav -> KETTS/KETTS/30f/wav/ketts-30f_surprised_01368.wav\n",
      "Rename | KETTS/KETTS/30f/wav/sur_02407.wav -> KETTS/KETTS/30f/wav/ketts-30f_surprised_02407.wav\n",
      "Rename | KETTS/KETTS/30f/wav/hap_02726.wav -> KETTS/KETTS/30f/wav/ketts-30f_happy_02726.wav\n",
      "Rename | KETTS/KETTS/30f/wav/hap_02637.wav -> KETTS/KETTS/30f/wav/ketts-30f_happy_02637.wav\n",
      "Rename | KETTS/KETTS/30f/wav/sad_01893.wav -> KETTS/KETTS/30f/wav/ketts-30f_sad_01893.wav\n",
      "Rename | KETTS/KETTS/30f/wav/dis_01374.wav -> KETTS/KETTS/30f/wav/ketts-30f_disgusted_01374.wav\n"
     ]
    }
   ],
   "source": [
    "cnt = 0\n",
    "for wav_name in os.listdir(dir_wav):    \n",
    "    wav_path = os.path.join(dir_wav, wav_name)\n",
    "    name, ext = os.path.splitext(wav_name)\n",
    "    emotion, script_id = name.split('_')\n",
    "    emotion = emo_converter[emotion]\n",
    "    new_wav_name = '{}_{}_{:05d}{}'.format(speaker, emotion, int(script_id), ext)\n",
    "    new_wav_path = os.path.join(dir_wav, new_wav_name)\n",
    "    os.rename(wav_path, new_wav_path)    \n",
    "    if cnt < 10:\n",
    "        print(\"Rename | {} -> {}\".format(wav_path, new_wav_path))\n",
    "    cnt += 1"
   ]
  },
  {
   "cell_type": "markdown",
   "metadata": {},
   "source": [
    "### 1.1.2. KETTS-30f: removing unpaired wavs and txts"
   ]
  },
  {
   "cell_type": "code",
   "execution_count": 19,
   "metadata": {},
   "outputs": [],
   "source": [
    "txt_name_set = set([os.path.splitext(txt_name)[0] for txt_name in os.listdir(dir_txt)])\n",
    "wav_name_set = set([os.path.splitext(wav_name)[0] for wav_name in os.listdir(dir_wav)])"
   ]
  },
  {
   "cell_type": "code",
   "execution_count": 23,
   "metadata": {},
   "outputs": [
    {
     "name": "stdout",
     "output_type": "stream",
     "text": [
      "22087\n",
      "22087\n"
     ]
    }
   ],
   "source": [
    "print(len(txt_name_set))\n",
    "print(len(wav_name_set))"
   ]
  },
  {
   "cell_type": "code",
   "execution_count": 21,
   "metadata": {},
   "outputs": [
    {
     "data": {
      "text/plain": [
       "set()"
      ]
     },
     "execution_count": 21,
     "metadata": {},
     "output_type": "execute_result"
    }
   ],
   "source": [
    "txt_name_set.difference(wav_name_set)"
   ]
  },
  {
   "cell_type": "code",
   "execution_count": 22,
   "metadata": {},
   "outputs": [
    {
     "data": {
      "text/plain": [
       "set()"
      ]
     },
     "execution_count": 22,
     "metadata": {},
     "output_type": "execute_result"
    }
   ],
   "source": [
    "wav_name_set.difference(txt_name_set)"
   ]
  },
  {
   "cell_type": "markdown",
   "metadata": {},
   "source": [
    "- __Result__: No disjoint unpaired txt-wav."
   ]
  },
  {
   "cell_type": "markdown",
   "metadata": {},
   "source": [
    "### 1.1.3. KETTS-30f: Move to one directory"
   ]
  },
  {
   "cell_type": "code",
   "execution_count": 11,
   "metadata": {},
   "outputs": [
    {
     "name": "stdout",
     "output_type": "stream",
     "text": [
      "The working directory is moved from /data2/sungjaecho/Projects/tacotron2 to /data7/data.\n"
     ]
    }
   ],
   "source": [
    "import os\n",
    "cwd_old = os.getcwd()\n",
    "os.chdir('/data2/sungjaecho/data_tts')\n",
    "cwd_new = os.getcwd()\n",
    "print(\"The working directory is moved from {} to {}.\".format(cwd_old, cwd_new))"
   ]
  },
  {
   "cell_type": "code",
   "execution_count": 12,
   "metadata": {},
   "outputs": [],
   "source": [
    "dir_txt = 'KETTS/KETTS/30f/txt'\n",
    "dir_wav = 'KETTS/KETTS/30f/wav'"
   ]
  },
  {
   "cell_type": "code",
   "execution_count": 13,
   "metadata": {},
   "outputs": [],
   "source": [
    "speaker = 'ketts-30f'"
   ]
  },
  {
   "cell_type": "code",
   "execution_count": 17,
   "metadata": {},
   "outputs": [],
   "source": [
    "new_dir_txt = 'KETTS/KETTS/txt'\n",
    "new_dir_wav = 'KETTS/KETTS/wav'\n",
    "if not os.path.exists(new_dir_txt):\n",
    "    os.mkdir(new_dir_txt)\n",
    "if not os.path.exists(new_dir_wav):\n",
    "    os.mkdir(new_dir_wav)"
   ]
  },
  {
   "cell_type": "code",
   "execution_count": 21,
   "metadata": {},
   "outputs": [
    {
     "name": "stdout",
     "output_type": "stream",
     "text": [
      "Rename | KETTS/KETTS/30f/txt/ketts-30f_neutral_01324.txt -> KETTS/KETTS/txt/ketts-30f_neutral_01324.txt\n",
      "Rename | KETTS/KETTS/30f/txt/ketts-30f_surprised_00367.txt -> KETTS/KETTS/txt/ketts-30f_surprised_00367.txt\n",
      "Rename | KETTS/KETTS/30f/txt/ketts-30f_disgusted_01862.txt -> KETTS/KETTS/txt/ketts-30f_disgusted_01862.txt\n",
      "Rename | KETTS/KETTS/30f/txt/ketts-30f_disgusted_02502.txt -> KETTS/KETTS/txt/ketts-30f_disgusted_02502.txt\n",
      "Rename | KETTS/KETTS/30f/txt/ketts-30f_disgusted_00180.txt -> KETTS/KETTS/txt/ketts-30f_disgusted_00180.txt\n",
      "Rename | KETTS/KETTS/30f/txt/ketts-30f_fearful_00035.txt -> KETTS/KETTS/txt/ketts-30f_fearful_00035.txt\n",
      "Rename | KETTS/KETTS/30f/txt/ketts-30f_happy_00715.txt -> KETTS/KETTS/txt/ketts-30f_happy_00715.txt\n",
      "Rename | KETTS/KETTS/30f/txt/ketts-30f_surprised_01483.txt -> KETTS/KETTS/txt/ketts-30f_surprised_01483.txt\n",
      "Rename | KETTS/KETTS/30f/txt/ketts-30f_neutral_01701.txt -> KETTS/KETTS/txt/ketts-30f_neutral_01701.txt\n",
      "Rename | KETTS/KETTS/30f/txt/ketts-30f_fearful_02616.txt -> KETTS/KETTS/txt/ketts-30f_fearful_02616.txt\n"
     ]
    }
   ],
   "source": [
    "cnt = 0\n",
    "for txt_name in os.listdir(dir_txt):    \n",
    "    txt_path = os.path.join(dir_txt, txt_name)\n",
    "    new_txt_path = os.path.join(new_dir_txt, txt_name)\n",
    "    os.rename(txt_path, new_txt_path)    \n",
    "    if cnt < 10:\n",
    "        print(\"Rename | {} -> {}\".format(txt_path, new_txt_path))\n",
    "    cnt += 1"
   ]
  },
  {
   "cell_type": "code",
   "execution_count": 22,
   "metadata": {},
   "outputs": [
    {
     "name": "stdout",
     "output_type": "stream",
     "text": [
      "Rename | KETTS/KETTS/30f/wav/ketts-30f_sad_02392.wav -> KETTS/KETTS/wav/ketts-30f_sad_02392.wav\n",
      "Rename | KETTS/KETTS/30f/wav/ketts-30f_disgusted_00485.wav -> KETTS/KETTS/wav/ketts-30f_disgusted_00485.wav\n",
      "Rename | KETTS/KETTS/30f/wav/ketts-30f_neutral_02537.wav -> KETTS/KETTS/wav/ketts-30f_neutral_02537.wav\n",
      "Rename | KETTS/KETTS/30f/wav/ketts-30f_happy_01442.wav -> KETTS/KETTS/wav/ketts-30f_happy_01442.wav\n",
      "Rename | KETTS/KETTS/30f/wav/ketts-30f_angry_01270.wav -> KETTS/KETTS/wav/ketts-30f_angry_01270.wav\n",
      "Rename | KETTS/KETTS/30f/wav/ketts-30f_happy_02165.wav -> KETTS/KETTS/wav/ketts-30f_happy_02165.wav\n",
      "Rename | KETTS/KETTS/30f/wav/ketts-30f_angry_02845.wav -> KETTS/KETTS/wav/ketts-30f_angry_02845.wav\n",
      "Rename | KETTS/KETTS/30f/wav/ketts-30f_fearful_01113.wav -> KETTS/KETTS/wav/ketts-30f_fearful_01113.wav\n",
      "Rename | KETTS/KETTS/30f/wav/ketts-30f_happy_02810.wav -> KETTS/KETTS/wav/ketts-30f_happy_02810.wav\n",
      "Rename | KETTS/KETTS/30f/wav/ketts-30f_disgusted_01643.wav -> KETTS/KETTS/wav/ketts-30f_disgusted_01643.wav\n"
     ]
    }
   ],
   "source": [
    "cnt = 0\n",
    "for wav_name in os.listdir(dir_wav):    \n",
    "    wav_path = os.path.join(dir_wav, wav_name)\n",
    "    new_wav_path = os.path.join(new_dir_wav, wav_name)\n",
    "    os.rename(wav_path, new_wav_path)    \n",
    "    if cnt < 10:\n",
    "        print(\"Rename | {} -> {}\".format(wav_path, new_wav_path))\n",
    "    cnt += 1"
   ]
  },
  {
   "cell_type": "code",
   "execution_count": 26,
   "metadata": {},
   "outputs": [],
   "source": [
    "shutil.rmtree('KETTS/KETTS/30f')"
   ]
  },
  {
   "cell_type": "markdown",
   "metadata": {},
   "source": [
    "## 1.2. KETTS-30m"
   ]
  },
  {
   "cell_type": "code",
   "execution_count": null,
   "metadata": {},
   "outputs": [],
   "source": [
    "import os\n",
    "cwd_old = os.getcwd()\n",
    "os.chdir('/data2/sungjaecho/data_tts')\n",
    "cwd_new = os.getcwd()\n",
    "print(\"The working directory is moved from {} to {}.\".format(cwd_old, cwd_new))"
   ]
  },
  {
   "cell_type": "code",
   "execution_count": 24,
   "metadata": {},
   "outputs": [],
   "source": [
    "dir_txt = 'KETTS/KETTS/30m/txt'\n",
    "dir_wav = 'KETTS/KETTS/30m/wav'"
   ]
  },
  {
   "cell_type": "markdown",
   "metadata": {},
   "source": [
    "### 1.2.1. KETTS-30m rename"
   ]
  },
  {
   "cell_type": "code",
   "execution_count": 25,
   "metadata": {},
   "outputs": [
    {
     "name": "stdout",
     "output_type": "stream",
     "text": [
      "KETTS/KETTS/30m/txt/dis_01293.txt\n"
     ]
    }
   ],
   "source": [
    "cnt = 0\n",
    "for txt_name in os.listdir(dir_txt):    \n",
    "    txt_path = os.path.join(dir_txt, txt_name)\n",
    "    print(txt_path)\n",
    "    if cnt < 10:\n",
    "        break\n",
    "    cnt += 1"
   ]
  },
  {
   "cell_type": "code",
   "execution_count": 26,
   "metadata": {},
   "outputs": [
    {
     "name": "stdout",
     "output_type": "stream",
     "text": [
      "KETTS/KETTS/30m/wav/dis_00424.wav\n"
     ]
    }
   ],
   "source": [
    "cnt = 0\n",
    "for wav_name in os.listdir(dir_wav):    \n",
    "    wav_path = os.path.join(dir_wav, wav_name)\n",
    "    print(wav_path)\n",
    "    if cnt < 10:\n",
    "        break\n",
    "    cnt += 1"
   ]
  },
  {
   "cell_type": "markdown",
   "metadata": {},
   "source": [
    "- Result: No need to rename"
   ]
  },
  {
   "cell_type": "code",
   "execution_count": 110,
   "metadata": {},
   "outputs": [],
   "source": [
    "speaker = 'ketts-30m'"
   ]
  },
  {
   "cell_type": "code",
   "execution_count": 101,
   "metadata": {},
   "outputs": [
    {
     "name": "stdout",
     "output_type": "stream",
     "text": [
      "Rename | /data2/sungjaecho/data_tts/KETTS/KETTS/30m/txt/dis_01293.txt -> /data2/sungjaecho/data_tts/KETTS/KETTS/30m/txt/ketts-30m_dis_01293.txt\n",
      "Rename | /data2/sungjaecho/data_tts/KETTS/KETTS/30m/txt/sur_01775.txt -> /data2/sungjaecho/data_tts/KETTS/KETTS/30m/txt/ketts-30m_sur_01775.txt\n",
      "Rename | /data2/sungjaecho/data_tts/KETTS/KETTS/30m/txt/ang_00707.txt -> /data2/sungjaecho/data_tts/KETTS/KETTS/30m/txt/ketts-30m_ang_00707.txt\n",
      "Rename | /data2/sungjaecho/data_tts/KETTS/KETTS/30m/txt/sur_02547.txt -> /data2/sungjaecho/data_tts/KETTS/KETTS/30m/txt/ketts-30m_sur_02547.txt\n",
      "Rename | /data2/sungjaecho/data_tts/KETTS/KETTS/30m/txt/neu_01485.txt -> /data2/sungjaecho/data_tts/KETTS/KETTS/30m/txt/ketts-30m_neu_01485.txt\n",
      "Rename | /data2/sungjaecho/data_tts/KETTS/KETTS/30m/txt/fea_01330.txt -> /data2/sungjaecho/data_tts/KETTS/KETTS/30m/txt/ketts-30m_fea_01330.txt\n",
      "Rename | /data2/sungjaecho/data_tts/KETTS/KETTS/30m/txt/sur_02549.txt -> /data2/sungjaecho/data_tts/KETTS/KETTS/30m/txt/ketts-30m_sur_02549.txt\n",
      "Rename | /data2/sungjaecho/data_tts/KETTS/KETTS/30m/txt/hap_02522.txt -> /data2/sungjaecho/data_tts/KETTS/KETTS/30m/txt/ketts-30m_hap_02522.txt\n",
      "Rename | /data2/sungjaecho/data_tts/KETTS/KETTS/30m/txt/fea_02408.txt -> /data2/sungjaecho/data_tts/KETTS/KETTS/30m/txt/ketts-30m_fea_02408.txt\n",
      "Rename | /data2/sungjaecho/data_tts/KETTS/KETTS/30m/txt/dis_00241.txt -> /data2/sungjaecho/data_tts/KETTS/KETTS/30m/txt/ketts-30m_dis_00241.txt\n"
     ]
    }
   ],
   "source": [
    "cnt = 0\n",
    "for txt_name in os.listdir(dir_txt):    \n",
    "    txt_path = os.path.join(dir_txt, txt_name)\n",
    "    name, ext = os.path.splitext(txt_name)\n",
    "    emotion, script_id = name.split('_')\n",
    "    new_txt_name = '{}_{}_{:05d}{}'.format(speaker, emotion, int(script_id), ext)\n",
    "    new_txt_path = os.path.join(dir_txt, new_txt_name)\n",
    "    os.rename(txt_path, new_txt_path)    \n",
    "    if cnt < 10:\n",
    "        print(\"Rename | {} -> {}\".format(txt_path, new_txt_path))\n",
    "    cnt += 1"
   ]
  },
  {
   "cell_type": "code",
   "execution_count": 103,
   "metadata": {},
   "outputs": [
    {
     "name": "stdout",
     "output_type": "stream",
     "text": [
      "Rename | /data2/sungjaecho/data_tts/KETTS/KETTS/30m/wav/dis_00424.wav -> /data2/sungjaecho/data_tts/KETTS/KETTS/30m/wav/ketts-30m_dis_00424.wav\n",
      "Rename | /data2/sungjaecho/data_tts/KETTS/KETTS/30m/wav/sur_02229.wav -> /data2/sungjaecho/data_tts/KETTS/KETTS/30m/wav/ketts-30m_sur_02229.wav\n",
      "Rename | /data2/sungjaecho/data_tts/KETTS/KETTS/30m/wav/hap_01573.wav -> /data2/sungjaecho/data_tts/KETTS/KETTS/30m/wav/ketts-30m_hap_01573.wav\n",
      "Rename | /data2/sungjaecho/data_tts/KETTS/KETTS/30m/wav/neu_01480.wav -> /data2/sungjaecho/data_tts/KETTS/KETTS/30m/wav/ketts-30m_neu_01480.wav\n",
      "Rename | /data2/sungjaecho/data_tts/KETTS/KETTS/30m/wav/sur_01368.wav -> /data2/sungjaecho/data_tts/KETTS/KETTS/30m/wav/ketts-30m_sur_01368.wav\n",
      "Rename | /data2/sungjaecho/data_tts/KETTS/KETTS/30m/wav/sur_02407.wav -> /data2/sungjaecho/data_tts/KETTS/KETTS/30m/wav/ketts-30m_sur_02407.wav\n",
      "Rename | /data2/sungjaecho/data_tts/KETTS/KETTS/30m/wav/hap_02726.wav -> /data2/sungjaecho/data_tts/KETTS/KETTS/30m/wav/ketts-30m_hap_02726.wav\n",
      "Rename | /data2/sungjaecho/data_tts/KETTS/KETTS/30m/wav/hap_02637.wav -> /data2/sungjaecho/data_tts/KETTS/KETTS/30m/wav/ketts-30m_hap_02637.wav\n",
      "Rename | /data2/sungjaecho/data_tts/KETTS/KETTS/30m/wav/sad_01893.wav -> /data2/sungjaecho/data_tts/KETTS/KETTS/30m/wav/ketts-30m_sad_01893.wav\n",
      "Rename | /data2/sungjaecho/data_tts/KETTS/KETTS/30m/wav/dis_01374.wav -> /data2/sungjaecho/data_tts/KETTS/KETTS/30m/wav/ketts-30m_dis_01374.wav\n"
     ]
    }
   ],
   "source": [
    "cnt = 0\n",
    "for wav_name in os.listdir(dir_wav):    \n",
    "    wav_path = os.path.join(dir_wav, wav_name)\n",
    "    name, ext = os.path.splitext(wav_name)\n",
    "    emotion, script_id = name.split('_')\n",
    "    new_wav_name = '{}_{}_{:05d}{}'.format(speaker, emotion, int(script_id), ext)\n",
    "    new_wav_path = os.path.join(dir_wav, new_wav_name)\n",
    "    os.rename(wav_path, new_wav_path)    \n",
    "    if cnt < 10:\n",
    "        print(\"Rename | {} -> {}\".format(wav_path, new_wav_path))\n",
    "    cnt += 1"
   ]
  },
  {
   "cell_type": "code",
   "execution_count": 104,
   "metadata": {},
   "outputs": [],
   "source": [
    "emo_converter = {\n",
    "    'ang':'angry', \n",
    "    'dis':'disgusted', \n",
    "    'fea':'fearful', \n",
    "    'hap':'happy', \n",
    "    'neu':'neutral', \n",
    "    'sad':'sad', \n",
    "    'sur':'surprised',\n",
    "}"
   ]
  },
  {
   "cell_type": "code",
   "execution_count": 106,
   "metadata": {},
   "outputs": [
    {
     "name": "stdout",
     "output_type": "stream",
     "text": [
      "Rename | /data2/sungjaecho/data_tts/KETTS/KETTS/30m/txt/ketts-30m_sad_02317.txt -> /data2/sungjaecho/data_tts/KETTS/KETTS/30m/txt/ketts-30m_sad_02317.txt\n",
      "Rename | /data2/sungjaecho/data_tts/KETTS/KETTS/30m/txt/ketts-30m_neu_00594.txt -> /data2/sungjaecho/data_tts/KETTS/KETTS/30m/txt/ketts-30m_neutral_00594.txt\n",
      "Rename | /data2/sungjaecho/data_tts/KETTS/KETTS/30m/txt/ketts-30m_sur_01211.txt -> /data2/sungjaecho/data_tts/KETTS/KETTS/30m/txt/ketts-30m_surprised_01211.txt\n",
      "Rename | /data2/sungjaecho/data_tts/KETTS/KETTS/30m/txt/ketts-30m_neu_00811.txt -> /data2/sungjaecho/data_tts/KETTS/KETTS/30m/txt/ketts-30m_neutral_00811.txt\n",
      "Rename | /data2/sungjaecho/data_tts/KETTS/KETTS/30m/txt/ketts-30m_dis_00222.txt -> /data2/sungjaecho/data_tts/KETTS/KETTS/30m/txt/ketts-30m_disgusted_00222.txt\n",
      "Rename | /data2/sungjaecho/data_tts/KETTS/KETTS/30m/txt/ketts-30m_fea_02269.txt -> /data2/sungjaecho/data_tts/KETTS/KETTS/30m/txt/ketts-30m_fearful_02269.txt\n",
      "Rename | /data2/sungjaecho/data_tts/KETTS/KETTS/30m/txt/ketts-30m_dis_02170.txt -> /data2/sungjaecho/data_tts/KETTS/KETTS/30m/txt/ketts-30m_disgusted_02170.txt\n",
      "Rename | /data2/sungjaecho/data_tts/KETTS/KETTS/30m/txt/ketts-30m_fea_02829.txt -> /data2/sungjaecho/data_tts/KETTS/KETTS/30m/txt/ketts-30m_fearful_02829.txt\n",
      "Rename | /data2/sungjaecho/data_tts/KETTS/KETTS/30m/txt/ketts-30m_ang_00131.txt -> /data2/sungjaecho/data_tts/KETTS/KETTS/30m/txt/ketts-30m_angry_00131.txt\n",
      "Rename | /data2/sungjaecho/data_tts/KETTS/KETTS/30m/txt/ketts-30m_sur_01893.txt -> /data2/sungjaecho/data_tts/KETTS/KETTS/30m/txt/ketts-30m_surprised_01893.txt\n"
     ]
    }
   ],
   "source": [
    "cnt = 0\n",
    "for txt_name in os.listdir(dir_txt):    \n",
    "    txt_path = os.path.join(dir_txt, txt_name)\n",
    "    name, ext = os.path.splitext(txt_name)\n",
    "    _, emotion, script_id = name.split('_')\n",
    "    emotion = emo_converter[emotion]\n",
    "    new_txt_name = '{}_{}_{:05d}{}'.format(speaker, emotion, int(script_id), ext)\n",
    "    new_txt_path = os.path.join(dir_txt, new_txt_name)\n",
    "    os.rename(txt_path, new_txt_path)    \n",
    "    if cnt < 10:\n",
    "        print(\"Rename | {} -> {}\".format(txt_path, new_txt_path))\n",
    "    cnt += 1"
   ]
  },
  {
   "cell_type": "code",
   "execution_count": 108,
   "metadata": {},
   "outputs": [
    {
     "name": "stdout",
     "output_type": "stream",
     "text": [
      "Rename | /data2/sungjaecho/data_tts/KETTS/KETTS/30m/wav/ketts-30m_fea_01028.wav -> /data2/sungjaecho/data_tts/KETTS/KETTS/30m/wav/ketts-30m_fearful_01028.wav\n",
      "Rename | /data2/sungjaecho/data_tts/KETTS/KETTS/30m/wav/ketts-30m_sad_01927.wav -> /data2/sungjaecho/data_tts/KETTS/KETTS/30m/wav/ketts-30m_sad_01927.wav\n",
      "Rename | /data2/sungjaecho/data_tts/KETTS/KETTS/30m/wav/ketts-30m_neu_02098.wav -> /data2/sungjaecho/data_tts/KETTS/KETTS/30m/wav/ketts-30m_neutral_02098.wav\n",
      "Rename | /data2/sungjaecho/data_tts/KETTS/KETTS/30m/wav/ketts-30m_neu_02523.wav -> /data2/sungjaecho/data_tts/KETTS/KETTS/30m/wav/ketts-30m_neutral_02523.wav\n",
      "Rename | /data2/sungjaecho/data_tts/KETTS/KETTS/30m/wav/ketts-30m_sur_00585.wav -> /data2/sungjaecho/data_tts/KETTS/KETTS/30m/wav/ketts-30m_surprised_00585.wav\n",
      "Rename | /data2/sungjaecho/data_tts/KETTS/KETTS/30m/wav/ketts-30m_neu_02230.wav -> /data2/sungjaecho/data_tts/KETTS/KETTS/30m/wav/ketts-30m_neutral_02230.wav\n",
      "Rename | /data2/sungjaecho/data_tts/KETTS/KETTS/30m/wav/ketts-30m_sad_02080.wav -> /data2/sungjaecho/data_tts/KETTS/KETTS/30m/wav/ketts-30m_sad_02080.wav\n",
      "Rename | /data2/sungjaecho/data_tts/KETTS/KETTS/30m/wav/ketts-30m_sur_02135.wav -> /data2/sungjaecho/data_tts/KETTS/KETTS/30m/wav/ketts-30m_surprised_02135.wav\n",
      "Rename | /data2/sungjaecho/data_tts/KETTS/KETTS/30m/wav/ketts-30m_hap_01035.wav -> /data2/sungjaecho/data_tts/KETTS/KETTS/30m/wav/ketts-30m_happy_01035.wav\n",
      "Rename | /data2/sungjaecho/data_tts/KETTS/KETTS/30m/wav/ketts-30m_dis_00581.wav -> /data2/sungjaecho/data_tts/KETTS/KETTS/30m/wav/ketts-30m_disgusted_00581.wav\n"
     ]
    }
   ],
   "source": [
    "cnt = 0\n",
    "for wav_name in os.listdir(dir_wav):    \n",
    "    wav_path = os.path.join(dir_wav, wav_name)\n",
    "    name, ext = os.path.splitext(wav_name)\n",
    "    _, emotion, script_id = name.split('_')\n",
    "    emotion = emo_converter[emotion]\n",
    "    new_wav_name = '{}_{}_{:05d}{}'.format(speaker, emotion, int(script_id), ext)\n",
    "    new_wav_path = os.path.join(dir_wav, new_wav_name)\n",
    "    os.rename(wav_path, new_wav_path)    \n",
    "    if cnt < 10:\n",
    "        print(\"Rename | {} -> {}\".format(wav_path, new_wav_path))\n",
    "    cnt += 1"
   ]
  },
  {
   "cell_type": "markdown",
   "metadata": {},
   "source": [
    "### 1.2.2. KETTS-30m: removing unpaired wavs and txts"
   ]
  },
  {
   "cell_type": "code",
   "execution_count": 28,
   "metadata": {},
   "outputs": [],
   "source": [
    "txt_name_set = set([os.path.splitext(txt_name)[0] for txt_name in os.listdir(dir_txt)])\n",
    "wav_name_set = set([os.path.splitext(wav_name)[0] for wav_name in os.listdir(dir_wav)])"
   ]
  },
  {
   "cell_type": "code",
   "execution_count": 29,
   "metadata": {},
   "outputs": [
    {
     "name": "stdout",
     "output_type": "stream",
     "text": [
      "20995\n",
      "20999\n"
     ]
    }
   ],
   "source": [
    "print(len(txt_name_set))\n",
    "print(len(wav_name_set))"
   ]
  },
  {
   "cell_type": "code",
   "execution_count": 30,
   "metadata": {},
   "outputs": [
    {
     "data": {
      "text/plain": [
       "set()"
      ]
     },
     "execution_count": 30,
     "metadata": {},
     "output_type": "execute_result"
    }
   ],
   "source": [
    "txt_name_set.difference(wav_name_set)"
   ]
  },
  {
   "cell_type": "code",
   "execution_count": 31,
   "metadata": {},
   "outputs": [
    {
     "data": {
      "text/plain": [
       "{'hap_01378', 'hap_02576', 'neu_02392', 'neu_02960'}"
      ]
     },
     "execution_count": 31,
     "metadata": {},
     "output_type": "execute_result"
    }
   ],
   "source": [
    "wav_name_set.difference(txt_name_set)"
   ]
  },
  {
   "cell_type": "code",
   "execution_count": 33,
   "metadata": {},
   "outputs": [
    {
     "name": "stdout",
     "output_type": "stream",
     "text": [
      "['KETTS/KETTS/30m/wav/neu_02960.wav', 'KETTS/KETTS/30m/wav/hap_01378.wav', 'KETTS/KETTS/30m/wav/neu_02392.wav', 'KETTS/KETTS/30m/wav/hap_02576.wav']\n"
     ]
    }
   ],
   "source": [
    "wav_name_to_rm_set = wav_name_set.difference(txt_name_set)\n",
    "wav_path_to_rm_list = [os.path.join(dir_wav, '{}.wav'.format(wav_name_to_rm)) for wav_name_to_rm in wav_name_to_rm_set]\n",
    "print(wav_path_to_rm_list)"
   ]
  },
  {
   "cell_type": "code",
   "execution_count": 34,
   "metadata": {},
   "outputs": [],
   "source": [
    "for wav_path_to_rm in wav_path_to_rm_list:\n",
    "    os.remove(wav_path_to_rm)"
   ]
  },
  {
   "cell_type": "markdown",
   "metadata": {},
   "source": [
    "### Check whether there is none of unpaired wav-txt"
   ]
  },
  {
   "cell_type": "code",
   "execution_count": 35,
   "metadata": {},
   "outputs": [
    {
     "name": "stdout",
     "output_type": "stream",
     "text": [
      "20995\n",
      "20995\n"
     ]
    }
   ],
   "source": [
    "txt_name_set = set([os.path.splitext(txt_name)[0] for txt_name in os.listdir(dir_txt)])\n",
    "wav_name_set = set([os.path.splitext(wav_name)[0] for wav_name in os.listdir(dir_wav)])\n",
    "print(len(txt_name_set))\n",
    "print(len(wav_name_set))"
   ]
  },
  {
   "cell_type": "code",
   "execution_count": 36,
   "metadata": {},
   "outputs": [
    {
     "data": {
      "text/plain": [
       "set()"
      ]
     },
     "execution_count": 36,
     "metadata": {},
     "output_type": "execute_result"
    }
   ],
   "source": [
    "txt_name_set.difference(wav_name_set)"
   ]
  },
  {
   "cell_type": "code",
   "execution_count": 37,
   "metadata": {},
   "outputs": [
    {
     "data": {
      "text/plain": [
       "set()"
      ]
     },
     "execution_count": 37,
     "metadata": {},
     "output_type": "execute_result"
    }
   ],
   "source": [
    "wav_name_set.difference(txt_name_set)"
   ]
  },
  {
   "cell_type": "markdown",
   "metadata": {},
   "source": [
    "- __Result__: No disjoint unpaired txt-wav."
   ]
  },
  {
   "cell_type": "markdown",
   "metadata": {},
   "source": [
    "### 1.1.3. KETTS-30f: Move to one directory"
   ]
  },
  {
   "cell_type": "code",
   "execution_count": 27,
   "metadata": {},
   "outputs": [
    {
     "name": "stdout",
     "output_type": "stream",
     "text": [
      "The working directory is moved from /data7/data to /data7/data.\n"
     ]
    }
   ],
   "source": [
    "import os\n",
    "cwd_old = os.getcwd()\n",
    "os.chdir('/data2/sungjaecho/data_tts')\n",
    "cwd_new = os.getcwd()\n",
    "print(\"The working directory is moved from {} to {}.\".format(cwd_old, cwd_new))"
   ]
  },
  {
   "cell_type": "code",
   "execution_count": 28,
   "metadata": {},
   "outputs": [],
   "source": [
    "dir_txt = 'KETTS/KETTS/30m/txt'\n",
    "dir_wav = 'KETTS/KETTS/30m/wav'"
   ]
  },
  {
   "cell_type": "code",
   "execution_count": 29,
   "metadata": {},
   "outputs": [],
   "source": [
    "speaker = 'ketts-30m'"
   ]
  },
  {
   "cell_type": "code",
   "execution_count": 30,
   "metadata": {},
   "outputs": [],
   "source": [
    "new_dir_txt = 'KETTS/KETTS/txt'\n",
    "new_dir_wav = 'KETTS/KETTS/wav'\n",
    "if not os.path.exists(new_dir_txt):\n",
    "    os.mkdir(new_dir_txt)\n",
    "if not os.path.exists(new_dir_wav):\n",
    "    os.mkdir(new_dir_wav)"
   ]
  },
  {
   "cell_type": "code",
   "execution_count": 32,
   "metadata": {},
   "outputs": [
    {
     "name": "stdout",
     "output_type": "stream",
     "text": [
      "Rename | KETTS/KETTS/30m/txt/ketts-30m_sad_02317.txt -> KETTS/KETTS/txt/ketts-30m_sad_02317.txt\n",
      "Rename | KETTS/KETTS/30m/txt/ketts-30m_neutral_01537.txt -> KETTS/KETTS/txt/ketts-30m_neutral_01537.txt\n",
      "Rename | KETTS/KETTS/30m/txt/ketts-30m_fearful_02617.txt -> KETTS/KETTS/txt/ketts-30m_fearful_02617.txt\n",
      "Rename | KETTS/KETTS/30m/txt/ketts-30m_disgusted_02196.txt -> KETTS/KETTS/txt/ketts-30m_disgusted_02196.txt\n",
      "Rename | KETTS/KETTS/30m/txt/ketts-30m_surprised_01189.txt -> KETTS/KETTS/txt/ketts-30m_surprised_01189.txt\n",
      "Rename | KETTS/KETTS/30m/txt/ketts-30m_happy_02471.txt -> KETTS/KETTS/txt/ketts-30m_happy_02471.txt\n",
      "Rename | KETTS/KETTS/30m/txt/ketts-30m_surprised_02475.txt -> KETTS/KETTS/txt/ketts-30m_surprised_02475.txt\n",
      "Rename | KETTS/KETTS/30m/txt/ketts-30m_surprised_02753.txt -> KETTS/KETTS/txt/ketts-30m_surprised_02753.txt\n",
      "Rename | KETTS/KETTS/30m/txt/ketts-30m_angry_00540.txt -> KETTS/KETTS/txt/ketts-30m_angry_00540.txt\n",
      "Rename | KETTS/KETTS/30m/txt/ketts-30m_fearful_02981.txt -> KETTS/KETTS/txt/ketts-30m_fearful_02981.txt\n"
     ]
    }
   ],
   "source": [
    "cnt = 0\n",
    "for txt_name in os.listdir(dir_txt):    \n",
    "    txt_path = os.path.join(dir_txt, txt_name)\n",
    "    new_txt_path = os.path.join(new_dir_txt, txt_name)\n",
    "    os.rename(txt_path, new_txt_path)    \n",
    "    if cnt < 10:\n",
    "        print(\"Rename | {} -> {}\".format(txt_path, new_txt_path))\n",
    "    cnt += 1"
   ]
  },
  {
   "cell_type": "code",
   "execution_count": 33,
   "metadata": {},
   "outputs": [
    {
     "name": "stdout",
     "output_type": "stream",
     "text": [
      "Rename | KETTS/KETTS/30m/wav/ketts-30m_sad_01927.wav -> KETTS/KETTS/wav/ketts-30m_sad_01927.wav\n",
      "Rename | KETTS/KETTS/30m/wav/ketts-30m_happy_00294.wav -> KETTS/KETTS/wav/ketts-30m_happy_00294.wav\n",
      "Rename | KETTS/KETTS/30m/wav/ketts-30m_fearful_00724.wav -> KETTS/KETTS/wav/ketts-30m_fearful_00724.wav\n",
      "Rename | KETTS/KETTS/30m/wav/ketts-30m_neutral_00302.wav -> KETTS/KETTS/wav/ketts-30m_neutral_00302.wav\n",
      "Rename | KETTS/KETTS/30m/wav/ketts-30m_angry_02137.wav -> KETTS/KETTS/wav/ketts-30m_angry_02137.wav\n",
      "Rename | KETTS/KETTS/30m/wav/ketts-30m_sad_02080.wav -> KETTS/KETTS/wav/ketts-30m_sad_02080.wav\n",
      "Rename | KETTS/KETTS/30m/wav/ketts-30m_happy_02102.wav -> KETTS/KETTS/wav/ketts-30m_happy_02102.wav\n",
      "Rename | KETTS/KETTS/30m/wav/ketts-30m_neutral_01035.wav -> KETTS/KETTS/wav/ketts-30m_neutral_01035.wav\n",
      "Rename | KETTS/KETTS/30m/wav/ketts-30m_happy_02391.wav -> KETTS/KETTS/wav/ketts-30m_happy_02391.wav\n",
      "Rename | KETTS/KETTS/30m/wav/ketts-30m_fearful_01454.wav -> KETTS/KETTS/wav/ketts-30m_fearful_01454.wav\n"
     ]
    }
   ],
   "source": [
    "cnt = 0\n",
    "for wav_name in os.listdir(dir_wav):    \n",
    "    wav_path = os.path.join(dir_wav, wav_name)\n",
    "    new_wav_path = os.path.join(new_dir_wav, wav_name)\n",
    "    os.rename(wav_path, new_wav_path)    \n",
    "    if cnt < 10:\n",
    "        print(\"Rename | {} -> {}\".format(wav_path, new_wav_path))\n",
    "    cnt += 1"
   ]
  },
  {
   "cell_type": "code",
   "execution_count": 34,
   "metadata": {},
   "outputs": [],
   "source": [
    "shutil.rmtree('KETTS/KETTS/30m')"
   ]
  },
  {
   "cell_type": "markdown",
   "metadata": {},
   "source": [
    "## 1.3. KETTS: Make DB"
   ]
  },
  {
   "cell_type": "code",
   "execution_count": 36,
   "metadata": {},
   "outputs": [
    {
     "name": "stdout",
     "output_type": "stream",
     "text": [
      "The working directory is moved from /data2/sungjaecho/Projects/tacotron2 to /data2/sungjaecho/Projects/tacotron2.\n"
     ]
    }
   ],
   "source": [
    "import os\n",
    "cwd_old = os.getcwd()\n",
    "os.chdir('/data2/sungjaecho/Projects/tacotron2')\n",
    "cwd_new = os.getcwd()\n",
    "print(\"The working directory is moved from {} to {}.\".format(cwd_old, cwd_new))"
   ]
  },
  {
   "cell_type": "code",
   "execution_count": 41,
   "metadata": {},
   "outputs": [],
   "source": [
    "dir_txt = '/data2/sungjaecho/data_tts/KETTS/KETTS/txt'\n",
    "dir_wav = '/data2/sungjaecho/data_tts/KETTS/KETTS/wav'\n",
    "txt_names = os.listdir(dir_txt)\n",
    "wav_names = os.listdir(dir_wav)\n",
    "txt_paths = [os.path.join(dir_txt, txt) for txt in txt_names]\n",
    "wav_paths = [os.path.join(dir_wav, wav) for wav in wav_names]"
   ]
  },
  {
   "cell_type": "code",
   "execution_count": 42,
   "metadata": {},
   "outputs": [
    {
     "data": {
      "text/plain": [
       "('ketts-30m_sad_02317.txt',\n",
       " '/data2/sungjaecho/data_tts/KETTS/KETTS/txt/ketts-30m_sad_02317.txt',\n",
       " 'ketts-30m_sad_02317.txt',\n",
       " '/data2/sungjaecho/data_tts/KETTS/KETTS/wav/ketts-30f_sad_02392.wav')"
      ]
     },
     "execution_count": 42,
     "metadata": {},
     "output_type": "execute_result"
    }
   ],
   "source": [
    "txt_names[0], txt_paths[0], txt_names[0], wav_paths[0]"
   ]
  },
  {
   "cell_type": "code",
   "execution_count": 43,
   "metadata": {},
   "outputs": [
    {
     "name": "stdout",
     "output_type": "stream",
     "text": [
      "Total #wavs: 43082\n"
     ]
    }
   ],
   "source": [
    "print(\"Total #wavs:\", len(wav_paths))"
   ]
  },
  {
   "cell_type": "code",
   "execution_count": 49,
   "metadata": {},
   "outputs": [],
   "source": [
    "str_database = 'ketts'\n",
    "text_list = list()\n",
    "id_list = list()\n",
    "speaker_list = list()\n",
    "emotion_list = list()\n",
    "sex_list = list()\n",
    "for txt_name, txt_path, wav_name, wav_path in zip(txt_names, txt_paths, wav_names, wav_paths):\n",
    "    str_id = os.path.splitext(wav_name)[0]\n",
    "    speaker, emotion, _ = str_id.split('_')\n",
    "    \n",
    "    id_list.append(str_id)\n",
    "    speaker_list.append(speaker)\n",
    "    emotion_list.append(emotion)\n",
    "    if speaker[-1] == 'm':\n",
    "        sex_list.append('m')\n",
    "    if speaker[-1] == 'f':\n",
    "        sex_list.append('w')\n",
    "\n",
    "    with open(txt_path, 'r') as f:\n",
    "        script = f.read().strip()\n",
    "\n",
    "    text_list.append(script)"
   ]
  },
  {
   "cell_type": "code",
   "execution_count": null,
   "metadata": {},
   "outputs": [
    {
     "data": {
      "application/vnd.jupyter.widget-view+json": {
       "model_id": "adf66244b03b47538da755aa7a321920",
       "version_major": 2,
       "version_minor": 0
      },
      "text/plain": [
       "HBox(children=(IntProgress(value=0, max=22087), HTML(value='')))"
      ]
     },
     "metadata": {},
     "output_type": "display_data"
    }
   ],
   "source": [
    "duration_list = list()\n",
    "for i in tqdm(range(len(wav_paths))):\n",
    "    y, sr = librosa.load(wav_path)\n",
    "    duration = librosa.get_duration(y, sr)\n",
    "    duration = round(duration, 3)"
   ]
  },
  {
   "cell_type": "code",
   "execution_count": 51,
   "metadata": {},
   "outputs": [],
   "source": [
    "n_samples = len(wav_paths)\n",
    "df = pd.DataFrame({\n",
    "    'database':[str_database]*n_samples,\n",
    "    'id':id_list,\n",
    "    'wav_path':wav_paths,\n",
    "    #'duration':duration_list,\n",
    "    'text':text_list,\n",
    "    'speaker':speaker_list,\n",
    "    'sex':sex_list,\n",
    "    'emotion':emotion_list,\n",
    "    'lang':['ko']*n_samples,\n",
    "})"
   ]
  }
 ],
 "metadata": {
  "kernelspec": {
   "display_name": "Python 3",
   "language": "python",
   "name": "python3"
  },
  "language_info": {
   "codemirror_mode": {
    "name": "ipython",
    "version": 3
   },
   "file_extension": ".py",
   "mimetype": "text/x-python",
   "name": "python",
   "nbconvert_exporter": "python",
   "pygments_lexer": "ipython3",
   "version": "3.7.4"
  }
 },
 "nbformat": 4,
 "nbformat_minor": 4
}
