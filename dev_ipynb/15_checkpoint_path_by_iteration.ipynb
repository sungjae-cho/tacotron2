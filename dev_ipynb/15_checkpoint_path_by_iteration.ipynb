{
 "cells": [
  {
   "cell_type": "markdown",
   "metadata": {},
   "source": [
    "**Procedure**\n",
    "1. Get checkpoint_path as an integer\n",
    "1. Make decision on whether `checkpoint_path` is a numerical string by using `String.isnumeric()`.\n",
    "1. Use `prj_name` and `run_name` to find the directory where check points are stored.\n",
    "1. List up all check point files in the directory.\n",
    "1. Iterate parsing and checking each training iteration until the same iteration number comes out. Iterations numbers are unique; therefore, no need for worrying duplicates.\n",
    "1. If it finds the iteration number, then import the check point of the number."
   ]
  },
  {
   "cell_type": "code",
   "execution_count": 1,
   "metadata": {},
   "outputs": [
    {
     "name": "stdout",
     "output_type": "stream",
     "text": [
      "The working directory is moved from /data2/sungjaecho/Projects/tacotron2/dev_ipynb to /data2/sungjaecho/Projects/tacotron2.\n"
     ]
    }
   ],
   "source": [
    "import os\n",
    "cwd_old = os.getcwd()\n",
    "os.chdir('..')\n",
    "cwd_new = os.getcwd()\n",
    "print(\"The working directory is moved from {} to {}.\".format(cwd_old, cwd_new))"
   ]
  },
  {
   "cell_type": "code",
   "execution_count": 2,
   "metadata": {},
   "outputs": [],
   "source": [
    "# Predefined lines\n",
    "# Copy these lines to utils.py\n",
    "from os import listdir\n",
    "from os.path import isfile, join\n",
    "\n",
    "def get_files(dir_path):\n",
    "    files = [f for f in listdir(dir_path) if isfile(join(dir_path, f))]\n",
    "    return files\n",
    "\n",
    "def get_checkpoint_iteration(checkpoint_name):\n",
    "    cp_iter = checkpoint_name.split('-')[0].split('_')[1]\n",
    "    return cp_iter"
   ]
  },
  {
   "cell_type": "code",
   "execution_count": 3,
   "metadata": {},
   "outputs": [],
   "source": [
    "# Functionalize\n",
    "# Copy these lines to utils.py\n",
    "# Import this function in train.py\n",
    "def get_checkpoint_iter2path(outdir, prj_name, run_name, cp_iter):\n",
    "    cp_dir_path = join(outdir, prj_name, run_name)\n",
    "    cp_files = get_files(cp_dir_path)\n",
    "    for cp_file in cp_files:\n",
    "        i = get_checkpoint_iteration(cp_file)\n",
    "        if int(i) == int(cp_iter):\n",
    "            cp_path = join(cp_dir_path, cp_file)\n",
    "            break\n",
    "            \n",
    "    return cp_path"
   ]
  },
  {
   "cell_type": "code",
   "execution_count": 4,
   "metadata": {},
   "outputs": [],
   "source": [
    "# Arguments\n",
    "outdir = 'outdir'\n",
    "prj_name = 'test_g2p'\n",
    "run_name = 'ljs_g'\n",
    "cp_iter = 26000"
   ]
  },
  {
   "cell_type": "code",
   "execution_count": 5,
   "metadata": {},
   "outputs": [
    {
     "data": {
      "text/plain": [
       "'outdir/test_g2p/ljs_g/checkpoint_26000-epoch_66.67'"
      ]
     },
     "execution_count": 5,
     "metadata": {},
     "output_type": "execute_result"
    }
   ],
   "source": [
    "get_checkpoint_iter2path(outdir, prj_name, run_name, cp_iter)"
   ]
  },
  {
   "cell_type": "markdown",
   "metadata": {},
   "source": [
    "**Test code**"
   ]
  },
  {
   "cell_type": "raw",
   "metadata": {},
   "source": [
    "python train.py --output_directory=outdir --log_directory=logdir --prj_name=test_g2p --run_name=ljs_g --hparams=batch_size=32,all_speakers=[ljs-w],speakers=[ljs-w],all_emotions=[neutral],emotions=[neutral],has_style_token_lstm_1=False,has_style_token_lstm_2=False,neutral_zero_vector=False,fp16_run=True,fp16_opt_level=O2,log_fr_test=True,txt_type=g --visible_gpus=4 -c=26000"
   ]
  }
 ],
 "metadata": {
  "kernelspec": {
   "display_name": "Python 3",
   "language": "python",
   "name": "python3"
  },
  "language_info": {
   "codemirror_mode": {
    "name": "ipython",
    "version": 3
   },
   "file_extension": ".py",
   "mimetype": "text/x-python",
   "name": "python",
   "nbconvert_exporter": "python",
   "pygments_lexer": "ipython3",
   "version": "3.7.4"
  }
 },
 "nbformat": 4,
 "nbformat_minor": 4
}
