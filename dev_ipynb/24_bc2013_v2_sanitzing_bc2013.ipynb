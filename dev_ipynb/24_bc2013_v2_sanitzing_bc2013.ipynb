{
 "cells": [
  {
   "cell_type": "markdown",
   "metadata": {},
   "source": [
    "# Sanitizing BC2013 with trained Tactoron2 on BC2013"
   ]
  },
  {
   "cell_type": "markdown",
   "metadata": {},
   "source": [
    "**Principle**\n",
    "- Teacher forcing results give some clues to find whether text-audio pairs are well matched.\n",
    "- If the pair is completely mismatched, the attention alignment graph show nothing disappears.\n",
    "  - This can be found out by the **attention quality**.\n",
    "- With this attention alignment, we can find audios full scripts of which are not spoken."
   ]
  },
  {
   "cell_type": "code",
   "execution_count": 1,
   "metadata": {},
   "outputs": [
    {
     "name": "stdout",
     "output_type": "stream",
     "text": [
      "The working directory is moved from /data2/sungjaecho/Projects/tacotron2/dev_ipynb to /data2/sungjaecho/Projects/tacotron2.\n"
     ]
    }
   ],
   "source": [
    "import os\n",
    "cwd_old = os.getcwd()\n",
    "os.chdir('..')\n",
    "cwd_new = os.getcwd()\n",
    "print(\"The working directory is moved from {} to {}.\".format(cwd_old, cwd_new))"
   ]
  },
  {
   "cell_type": "code",
   "execution_count": 9,
   "metadata": {},
   "outputs": [],
   "source": [
    "import pandas as pd\n",
    "from g2p_en import G2p\n",
    "from text import _clean_text\n",
    "from tqdm import tqdm"
   ]
  },
  {
   "cell_type": "code",
   "execution_count": 3,
   "metadata": {},
   "outputs": [],
   "source": [
    "from text import cmudict\n",
    "def get_p_range_len(p_seq):\n",
    "    n_nonphones = 0 \n",
    "    for p_symbol in p_seq:\n",
    "        if p_symbol in cmudict.valid_symbols:\n",
    "            break\n",
    "        else:\n",
    "            n_nonphones += 1\n",
    "    for p_symbol in reversed(p_seq):\n",
    "        if p_symbol in cmudict.valid_symbols:\n",
    "            break\n",
    "        else:\n",
    "            n_nonphones += 1\n",
    "    phone_range_len = len(p_seq) - n_nonphones\n",
    "    \n",
    "    return phone_range_len"
   ]
  },
  {
   "cell_type": "markdown",
   "metadata": {},
   "source": [
    "# 1. Import BC2013 metatdata: `bc2013_att_measures.csv` and `bc2013.csv`"
   ]
  },
  {
   "cell_type": "code",
   "execution_count": 4,
   "metadata": {},
   "outputs": [],
   "source": [
    "csv_path = 'metadata/bc2013_v1_att_measures.csv'\n",
    "df = pd.read_csv(csv_path)\n",
    "df_bc = pd.read_csv('metadata/bc2013_v1.csv')\n",
    "df = df.join(df_bc.set_index('wav_path'), on='wav_path')"
   ]
  },
  {
   "cell_type": "code",
   "execution_count": 5,
   "metadata": {},
   "outputs": [
    {
     "data": {
      "text/html": [
       "<div>\n",
       "<style scoped>\n",
       "    .dataframe tbody tr th:only-of-type {\n",
       "        vertical-align: middle;\n",
       "    }\n",
       "\n",
       "    .dataframe tbody tr th {\n",
       "        vertical-align: top;\n",
       "    }\n",
       "\n",
       "    .dataframe thead th {\n",
       "        text-align: right;\n",
       "    }\n",
       "</style>\n",
       "<table border=\"1\" class=\"dataframe\">\n",
       "  <thead>\n",
       "    <tr style=\"text-align: right;\">\n",
       "      <th></th>\n",
       "      <th>wav_path</th>\n",
       "      <th>aq</th>\n",
       "      <th>far</th>\n",
       "      <th>ar</th>\n",
       "      <th>letter_ar</th>\n",
       "      <th>punct_ar</th>\n",
       "      <th>blank_ar</th>\n",
       "      <th>arr</th>\n",
       "      <th>mar</th>\n",
       "      <th>database</th>\n",
       "      <th>...</th>\n",
       "      <th>duration</th>\n",
       "      <th>text</th>\n",
       "      <th>speaker</th>\n",
       "      <th>sex</th>\n",
       "      <th>emotion</th>\n",
       "      <th>lang</th>\n",
       "      <th>segmented</th>\n",
       "      <th>book</th>\n",
       "      <th>chapter</th>\n",
       "      <th>sentence_id</th>\n",
       "    </tr>\n",
       "  </thead>\n",
       "  <tbody>\n",
       "    <tr>\n",
       "      <td>0</td>\n",
       "      <td>/data2/sungjaecho/data_tts/BC2013/segments/per...</td>\n",
       "      <td>0.859909</td>\n",
       "      <td>0.984932</td>\n",
       "      <td>0.909774</td>\n",
       "      <td>0.921569</td>\n",
       "      <td>0.00</td>\n",
       "      <td>0.964286</td>\n",
       "      <td>0.984962</td>\n",
       "      <td>0.052632</td>\n",
       "      <td>bc2013</td>\n",
       "      <td>...</td>\n",
       "      <td>8.480</td>\n",
       "      <td>but the ten minutes only which now passed befo...</td>\n",
       "      <td>bc2013-w</td>\n",
       "      <td>w</td>\n",
       "      <td>neutral</td>\n",
       "      <td>en</td>\n",
       "      <td>False</td>\n",
       "      <td>persuasion</td>\n",
       "      <td>23.0</td>\n",
       "      <td>194.0</td>\n",
       "    </tr>\n",
       "    <tr>\n",
       "      <td>1</td>\n",
       "      <td>/data2/sungjaecho/data_tts/BC2013/segments/emm...</td>\n",
       "      <td>0.857064</td>\n",
       "      <td>0.979560</td>\n",
       "      <td>0.905172</td>\n",
       "      <td>0.939759</td>\n",
       "      <td>0.25</td>\n",
       "      <td>0.896552</td>\n",
       "      <td>1.000000</td>\n",
       "      <td>0.068966</td>\n",
       "      <td>bc2013</td>\n",
       "      <td>...</td>\n",
       "      <td>7.388</td>\n",
       "      <td>and it is natural to suppose that we should be...</td>\n",
       "      <td>bc2013-w</td>\n",
       "      <td>w</td>\n",
       "      <td>neutral</td>\n",
       "      <td>en</td>\n",
       "      <td>False</td>\n",
       "      <td>emma</td>\n",
       "      <td>24.0</td>\n",
       "      <td>163.0</td>\n",
       "    </tr>\n",
       "    <tr>\n",
       "      <td>2</td>\n",
       "      <td>/data2/sungjaecho/data_tts/BC2013/segments/pri...</td>\n",
       "      <td>0.865889</td>\n",
       "      <td>0.983580</td>\n",
       "      <td>0.827586</td>\n",
       "      <td>0.920000</td>\n",
       "      <td>0.00</td>\n",
       "      <td>0.771429</td>\n",
       "      <td>1.000000</td>\n",
       "      <td>0.043103</td>\n",
       "      <td>bc2013</td>\n",
       "      <td>...</td>\n",
       "      <td>7.075</td>\n",
       "      <td>I have, therefore, made up my mind to tell you...</td>\n",
       "      <td>bc2013-w</td>\n",
       "      <td>w</td>\n",
       "      <td>neutral</td>\n",
       "      <td>en</td>\n",
       "      <td>False</td>\n",
       "      <td>pride_and_prejudice</td>\n",
       "      <td>10.0</td>\n",
       "      <td>111.0</td>\n",
       "    </tr>\n",
       "    <tr>\n",
       "      <td>3</td>\n",
       "      <td>/data2/sungjaecho/data_tts/BC2013/segments/the...</td>\n",
       "      <td>0.872263</td>\n",
       "      <td>0.989181</td>\n",
       "      <td>0.878261</td>\n",
       "      <td>0.913580</td>\n",
       "      <td>0.25</td>\n",
       "      <td>0.866667</td>\n",
       "      <td>0.982609</td>\n",
       "      <td>0.034783</td>\n",
       "      <td>bc2013</td>\n",
       "      <td>...</td>\n",
       "      <td>7.519</td>\n",
       "      <td>And saintly men, who walk with God on earth, w...</td>\n",
       "      <td>bc2013-w</td>\n",
       "      <td>w</td>\n",
       "      <td>neutral</td>\n",
       "      <td>en</td>\n",
       "      <td>False</td>\n",
       "      <td>the_scarlet_letter</td>\n",
       "      <td>10.0</td>\n",
       "      <td>58.0</td>\n",
       "    </tr>\n",
       "    <tr>\n",
       "      <td>4</td>\n",
       "      <td>/data2/sungjaecho/data_tts/BC2013/segments/bla...</td>\n",
       "      <td>0.804223</td>\n",
       "      <td>0.975610</td>\n",
       "      <td>0.871287</td>\n",
       "      <td>0.885714</td>\n",
       "      <td>0.50</td>\n",
       "      <td>0.888889</td>\n",
       "      <td>1.000000</td>\n",
       "      <td>0.069307</td>\n",
       "      <td>bc2013</td>\n",
       "      <td>...</td>\n",
       "      <td>7.623</td>\n",
       "      <td>'Poor lassie! it was a bad business, a bad bus...</td>\n",
       "      <td>bc2013-w</td>\n",
       "      <td>w</td>\n",
       "      <td>neutral</td>\n",
       "      <td>en</td>\n",
       "      <td>False</td>\n",
       "      <td>black_beauty</td>\n",
       "      <td>7.0</td>\n",
       "      <td>62.0</td>\n",
       "    </tr>\n",
       "  </tbody>\n",
       "</table>\n",
       "<p>5 rows × 21 columns</p>\n",
       "</div>"
      ],
      "text/plain": [
       "                                            wav_path        aq       far  \\\n",
       "0  /data2/sungjaecho/data_tts/BC2013/segments/per...  0.859909  0.984932   \n",
       "1  /data2/sungjaecho/data_tts/BC2013/segments/emm...  0.857064  0.979560   \n",
       "2  /data2/sungjaecho/data_tts/BC2013/segments/pri...  0.865889  0.983580   \n",
       "3  /data2/sungjaecho/data_tts/BC2013/segments/the...  0.872263  0.989181   \n",
       "4  /data2/sungjaecho/data_tts/BC2013/segments/bla...  0.804223  0.975610   \n",
       "\n",
       "         ar  letter_ar  punct_ar  blank_ar       arr       mar database  ...  \\\n",
       "0  0.909774   0.921569      0.00  0.964286  0.984962  0.052632   bc2013  ...   \n",
       "1  0.905172   0.939759      0.25  0.896552  1.000000  0.068966   bc2013  ...   \n",
       "2  0.827586   0.920000      0.00  0.771429  1.000000  0.043103   bc2013  ...   \n",
       "3  0.878261   0.913580      0.25  0.866667  0.982609  0.034783   bc2013  ...   \n",
       "4  0.871287   0.885714      0.50  0.888889  1.000000  0.069307   bc2013  ...   \n",
       "\n",
       "  duration                                               text   speaker sex  \\\n",
       "0    8.480  but the ten minutes only which now passed befo...  bc2013-w   w   \n",
       "1    7.388  and it is natural to suppose that we should be...  bc2013-w   w   \n",
       "2    7.075  I have, therefore, made up my mind to tell you...  bc2013-w   w   \n",
       "3    7.519  And saintly men, who walk with God on earth, w...  bc2013-w   w   \n",
       "4    7.623  'Poor lassie! it was a bad business, a bad bus...  bc2013-w   w   \n",
       "\n",
       "   emotion lang segmented                 book chapter  sentence_id  \n",
       "0  neutral   en     False           persuasion    23.0        194.0  \n",
       "1  neutral   en     False                 emma    24.0        163.0  \n",
       "2  neutral   en     False  pride_and_prejudice    10.0        111.0  \n",
       "3  neutral   en     False   the_scarlet_letter    10.0         58.0  \n",
       "4  neutral   en     False         black_beauty     7.0         62.0  \n",
       "\n",
       "[5 rows x 21 columns]"
      ]
     },
     "execution_count": 5,
     "metadata": {},
     "output_type": "execute_result"
    }
   ],
   "source": [
    "df.head()"
   ]
  },
  {
   "cell_type": "markdown",
   "metadata": {},
   "source": [
    "# 2. Find audios full scripts of which are not spoken"
   ]
  },
  {
   "cell_type": "markdown",
   "metadata": {},
   "source": [
    "## 2.1. Find them"
   ]
  },
  {
   "cell_type": "code",
   "execution_count": 7,
   "metadata": {},
   "outputs": [],
   "source": [
    "g2p = G2p()"
   ]
  },
  {
   "cell_type": "code",
   "execution_count": 13,
   "metadata": {},
   "outputs": [
    {
     "name": "stderr",
     "output_type": "stream",
     "text": [
      "100%|██████████| 88111/88111 [21:13<00:00, 69.17it/s]  \n"
     ]
    }
   ],
   "source": [
    "i_rm_list = list()\n",
    "for i, row in tqdm(df.iterrows(), total=len(df)):\n",
    "    text = _clean_text(row.text, ['english_cleaners'])\n",
    "    phones = g2p(text)\n",
    "    phones = [' '] + phones + [' ']\n",
    "    p_range_len = get_p_range_len(phones)\n",
    "    \n",
    "    p_range_len_arr = row.arr * len(phones)\n",
    "    if p_range_len > p_range_len_arr and :\n",
    "        i_rm_list.append(i)"
   ]
  },
  {
   "cell_type": "code",
   "execution_count": 14,
   "metadata": {},
   "outputs": [
    {
     "name": "stdout",
     "output_type": "stream",
     "text": [
      "88111\n",
      "1003\n",
      "87108\n"
     ]
    }
   ],
   "source": [
    "print(len(df))\n",
    "print(len(i_rm_list))\n",
    "print(len(df) - len(i_rm_list))"
   ]
  },
  {
   "cell_type": "markdown",
   "metadata": {},
   "source": [
    "## 2.2. Delete them"
   ]
  },
  {
   "cell_type": "code",
   "execution_count": 26,
   "metadata": {},
   "outputs": [],
   "source": [
    "df_original = df"
   ]
  },
  {
   "cell_type": "code",
   "execution_count": 28,
   "metadata": {},
   "outputs": [],
   "source": [
    "df = df_original.drop(i_rm_list)\n",
    "df = df.reset_index(drop=True)"
   ]
  },
  {
   "cell_type": "code",
   "execution_count": 31,
   "metadata": {},
   "outputs": [
    {
     "name": "stdout",
     "output_type": "stream",
     "text": [
      "88111\n",
      "87108\n"
     ]
    }
   ],
   "source": [
    "print(len(df_original))\n",
    "print(len(df))"
   ]
  },
  {
   "cell_type": "markdown",
   "metadata": {},
   "source": [
    "# 3. Leave out low audios with letter attention ratio"
   ]
  },
  {
   "cell_type": "markdown",
   "metadata": {},
   "source": [
    "# 3.1. Exploration"
   ]
  },
  {
   "cell_type": "code",
   "execution_count": 34,
   "metadata": {},
   "outputs": [
    {
     "data": {
      "text/plain": [
       "array([[<matplotlib.axes._subplots.AxesSubplot object at 0x7fadc3efae50>]],\n",
       "      dtype=object)"
      ]
     },
     "execution_count": 34,
     "metadata": {},
     "output_type": "execute_result"
    },
    {
     "data": {
      "image/png": "[encoded data removed]",
      "text/plain": [
       "<Figure size 432x288 with 1 Axes>"
      ]
     },
     "metadata": {
      "needs_background": "light"
     },
     "output_type": "display_data"
    }
   ],
   "source": [
    "df.hist(column=['letter_ar'], bins=100)"
   ]
  },
  {
   "cell_type": "code",
   "execution_count": 36,
   "metadata": {},
   "outputs": [
    {
     "data": {
      "text/plain": [
       "array([[<matplotlib.axes._subplots.AxesSubplot object at 0x7fadc3d5a450>]],\n",
       "      dtype=object)"
      ]
     },
     "execution_count": 36,
     "metadata": {},
     "output_type": "execute_result"
    },
    {
     "data": {
      "image/png": "[encoded data removed]",
      "text/plain": [
       "<Figure size 432x288 with 1 Axes>"
      ]
     },
     "metadata": {
      "needs_background": "light"
     },
     "output_type": "display_data"
    }
   ],
   "source": [
    "df[df.letter_ar > 0.7].hist(column=['letter_ar'], bins=100)"
   ]
  },
  {
   "cell_type": "code",
   "execution_count": 37,
   "metadata": {},
   "outputs": [
    {
     "data": {
      "text/plain": [
       "array([[<matplotlib.axes._subplots.AxesSubplot object at 0x7fadc3bf2a10>]],\n",
       "      dtype=object)"
      ]
     },
     "execution_count": 37,
     "metadata": {},
     "output_type": "execute_result"
    },
    {
     "data": {
      "image/png": "[encoded data removed]",
      "text/plain": [
       "<Figure size 432x288 with 1 Axes>"
      ]
     },
     "metadata": {
      "needs_background": "light"
     },
     "output_type": "display_data"
    }
   ],
   "source": [
    "df[df.letter_ar > 0.8].hist(column=['letter_ar'], bins=100)"
   ]
  },
  {
   "cell_type": "code",
   "execution_count": 45,
   "metadata": {},
   "outputs": [
    {
     "data": {
      "text/plain": [
       "array([[<matplotlib.axes._subplots.AxesSubplot object at 0x7fadbf227a90>]],\n",
       "      dtype=object)"
      ]
     },
     "execution_count": 45,
     "metadata": {},
     "output_type": "execute_result"
    },
    {
     "data": {
      "image/png": "[encoded data removed]",
      "text/plain": [
       "<Figure size 432x288 with 1 Axes>"
      ]
     },
     "metadata": {
      "needs_background": "light"
     },
     "output_type": "display_data"
    }
   ],
   "source": [
    "df[df.letter_ar > 0.85].hist(column=['letter_ar'], bins=100)"
   ]
  },
  {
   "cell_type": "code",
   "execution_count": 38,
   "metadata": {},
   "outputs": [
    {
     "data": {
      "text/plain": [
       "5598"
      ]
     },
     "execution_count": 38,
     "metadata": {},
     "output_type": "execute_result"
    }
   ],
   "source": [
    "len(df[df.letter_ar == 1.0])"
   ]
  },
  {
   "cell_type": "code",
   "execution_count": 39,
   "metadata": {},
   "outputs": [
    {
     "data": {
      "text/plain": [
       "array([[<matplotlib.axes._subplots.AxesSubplot object at 0x7fadbf215f90>]],\n",
       "      dtype=object)"
      ]
     },
     "execution_count": 39,
     "metadata": {},
     "output_type": "execute_result"
    },
    {
     "data": {
      "image/png": "[encoded data removed]",
      "text/plain": [
       "<Figure size 432x288 with 1 Axes>"
      ]
     },
     "metadata": {
      "needs_background": "light"
     },
     "output_type": "display_data"
    }
   ],
   "source": [
    "df[df.split=='val'].hist(column=['letter_ar'], bins=100)"
   ]
  },
  {
   "cell_type": "code",
   "execution_count": 40,
   "metadata": {},
   "outputs": [
    {
     "data": {
      "text/plain": [
       "array([[<matplotlib.axes._subplots.AxesSubplot object at 0x7fadbf10c3d0>]],\n",
       "      dtype=object)"
      ]
     },
     "execution_count": 40,
     "metadata": {},
     "output_type": "execute_result"
    },
    {
     "data": {
      "image/png": "[encoded data removed]",
      "text/plain": [
       "<Figure size 432x288 with 1 Axes>"
      ]
     },
     "metadata": {
      "needs_background": "light"
     },
     "output_type": "display_data"
    }
   ],
   "source": [
    "df[df.split=='test'].hist(column=['letter_ar'], bins=100)"
   ]
  },
  {
   "cell_type": "code",
   "execution_count": 78,
   "metadata": {},
   "outputs": [
    {
     "name": "stdout",
     "output_type": "stream",
     "text": [
      "(7.0, 0.0, 35.14300000000367)\n",
      "(93.0, 0.0, 35.14300000000367)\n",
      "0.0698709110461458\n"
     ]
    }
   ],
   "source": [
    "duration = df[df.letter_ar <= 0.6].duration.sum()\n",
    "h, m, s = duration // (60*60),  (duration % (60*60)) // 60, duration % 60\n",
    "print((h,m,s))\n",
    "h, m, s = (df.duration.sum()-duration) // (60*60),  (duration % (60*60)) // 60, duration % 60\n",
    "print((h,m,s))\n",
    "print(duration / df.duration.sum())"
   ]
  },
  {
   "cell_type": "code",
   "execution_count": 77,
   "metadata": {},
   "outputs": [
    {
     "name": "stdout",
     "output_type": "stream",
     "text": [
      "(8.0, 30.0, 6.224000000001979)\n",
      "(91.0, 30.0, 6.224000000001979)\n",
      "0.08474232757715748\n"
     ]
    }
   ],
   "source": [
    "duration = df[df.letter_ar <= 0.8].duration.sum()\n",
    "h, m, s = duration // (60*60),  (duration % (60*60)) // 60, duration % 60\n",
    "print((h,m,s))\n",
    "h, m, s = (df.duration.sum()-duration) // (60*60),  (duration % (60*60)) // 60, duration % 60\n",
    "print((h,m,s))\n",
    "print(duration / df.duration.sum())"
   ]
  },
  {
   "cell_type": "code",
   "execution_count": 79,
   "metadata": {},
   "outputs": [
    {
     "name": "stdout",
     "output_type": "stream",
     "text": [
      "(14.0, 32.0, 51.57600000000093)\n",
      "(85.0, 32.0, 51.57600000000093)\n",
      "0.14500610232493885\n"
     ]
    }
   ],
   "source": [
    "duration = df[df.letter_ar <= 0.85].duration.sum()\n",
    "h, m, s = duration // (60*60),  (duration % (60*60)) // 60, duration % 60\n",
    "print((h,m,s))\n",
    "h, m, s = (df.duration.sum()-duration) // (60*60),  (duration % (60*60)) // 60, duration % 60\n",
    "print((h,m,s))\n",
    "print(duration / df.duration.sum())"
   ]
  },
  {
   "cell_type": "code",
   "execution_count": 46,
   "metadata": {},
   "outputs": [],
   "source": [
    "import IPython.display as ipd"
   ]
  },
  {
   "cell_type": "code",
   "execution_count": 47,
   "metadata": {},
   "outputs": [
    {
     "data": {
      "text/plain": [
       "Index(['wav_path', 'aq', 'far', 'ar', 'letter_ar', 'punct_ar', 'blank_ar',\n",
       "       'arr', 'mar', 'database', 'split', 'duration', 'text', 'speaker', 'sex',\n",
       "       'emotion', 'lang', 'segmented', 'book', 'chapter', 'sentence_id'],\n",
       "      dtype='object')"
      ]
     },
     "execution_count": 47,
     "metadata": {},
     "output_type": "execute_result"
    }
   ],
   "source": [
    "df.columns"
   ]
  },
  {
   "cell_type": "markdown",
   "metadata": {},
   "source": [
    "## 3.2. Listening"
   ]
  },
  {
   "cell_type": "code",
   "execution_count": null,
   "metadata": {},
   "outputs": [],
   "source": [
    "# 0.8 is a good threhold. \n",
    "# I've listened to Audios sorted by asceding letter_ar\n",
    "# Most of them have good quality.\n",
    "letter_ar_min = 0.8\n",
    "df_check = df[df.letter_ar > letter_ar_min].sort_values(by='letter_ar', ascending=True).reset_index(drop=True)\n",
    "\n",
    "for i, row in df_check.iterrows():\n",
    "    if i < 50 and i >= 40:\n",
    "        text = _clean_text(row.text, ['english_cleaners'])\n",
    "        phones = g2p(text)\n",
    "        phones = [' '] + phones + [' ']\n",
    "        p_range_len = get_p_range_len(phones)\n",
    "\n",
    "        p_range_len_arr = row.arr * len(phones)\n",
    "        unspoken_p_len = (p_range_len - p_range_len_arr)\n",
    "\n",
    "        print(\"Script:\", row.text)\n",
    "        print(\"AQ:\", row.aq)\n",
    "        print(\"LAR:\", row.letter_ar)\n",
    "        print(\"ARR:\", row.arr)\n",
    "        print(\"MAR:\", row.mar)\n",
    "        print(\"p_range_len\", p_range_len)\n",
    "        print(\"p_range_len_arr:\", p_range_len_arr)\n",
    "        print(\"len(phones)\", len(phones))\n",
    "        print(\"split\", row.split)\n",
    "        ipd.display(ipd.Audio(row.wav_path))\n",
    "    if i == 50:\n",
    "        break"
   ]
  },
  {
   "cell_type": "markdown",
   "metadata": {},
   "source": [
    "## 3.3. Leave audios of good quality"
   ]
  },
  {
   "cell_type": "code",
   "execution_count": 106,
   "metadata": {},
   "outputs": [],
   "source": [
    "letter_ar_min = 0.8\n",
    "df2 = df[df.letter_ar > letter_ar_min].reset_index(drop=True)"
   ]
  },
  {
   "cell_type": "markdown",
   "metadata": {},
   "source": [
    "# 4. Save it to be used"
   ]
  },
  {
   "cell_type": "code",
   "execution_count": 107,
   "metadata": {},
   "outputs": [
    {
     "name": "stdout",
     "output_type": "stream",
     "text": [
      "(91.0, 49.0, 21.859000000054948)\n"
     ]
    }
   ],
   "source": [
    "duration = df2.duration.sum()\n",
    "h, m, s = duration // (60*60),  (duration % (60*60)) // 60, duration % 60\n",
    "print((h, m, s))"
   ]
  },
  {
   "cell_type": "code",
   "execution_count": 108,
   "metadata": {},
   "outputs": [
    {
     "name": "stdout",
     "output_type": "stream",
     "text": [
      "(78956, 21)\n",
      "(78956, 13)\n"
     ]
    }
   ],
   "source": [
    "print(df2.shape)\n",
    "df2 = df2[df_bc.columns]\n",
    "print(df2.shape)"
   ]
  },
  {
   "cell_type": "code",
   "execution_count": 110,
   "metadata": {},
   "outputs": [
    {
     "name": "stdout",
     "output_type": "stream",
     "text": [
      "(100, 13)\n",
      "(400, 13)\n",
      "(78456, 13)\n"
     ]
    }
   ],
   "source": [
    "import random\n",
    "random.seed(1234)\n",
    "split_list = ['val'] * 100 + ['test'] * 400 + ['train'] * (len(df2) - 100 - 400)\n",
    "random.shuffle(split_list)\n",
    "\n",
    "df2.loc[:,'split'] = split_list\n",
    "\n",
    "print(df2[df2.split == 'val'].shape)\n",
    "print(df2[df2.split == 'test'].shape)\n",
    "print(df2[df2.split == 'train'].shape)"
   ]
  },
  {
   "cell_type": "code",
   "execution_count": 111,
   "metadata": {},
   "outputs": [],
   "source": [
    "df2.to_csv('metadata/bc2013_v2.csv', index=False)\n",
    "df2[df2.split == 'train'].to_csv('metadata/bc2013_v2_train.csv', index=False)\n",
    "df2[df2.split == 'val'].to_csv('metadata/bc2013_v2_val.csv', index=False)\n",
    "df2[df2.split == 'test'].to_csv('metadata/bc2013_v2_test.csv', index=False)"
   ]
  },
  {
   "cell_type": "code",
   "execution_count": 112,
   "metadata": {},
   "outputs": [],
   "source": [
    "df2.to_csv('metadata/bc2013.csv', index=False)\n",
    "df2[df2.split == 'train'].to_csv('metadata/bc2013_train.csv', index=False)\n",
    "df2[df2.split == 'val'].to_csv('metadata/bc2013_val.csv', index=False)\n",
    "df2[df2.split == 'test'].to_csv('metadata/bc2013_test.csv', index=False)"
   ]
  },
  {
   "cell_type": "code",
   "execution_count": 114,
   "metadata": {},
   "outputs": [
    {
     "name": "stdout",
     "output_type": "stream",
     "text": [
      "bc2013\n",
      "       wav_path    duration\n",
      "split                      \n",
      "test        400    1554.128\n",
      "train     78456  328609.053\n",
      "val         100     398.678\n",
      "                        wav_path    duration\n",
      "split speaker  emotion                      \n",
      "test  bc2013-w neutral       400    1554.128\n",
      "train bc2013-w neutral     78456  328609.053\n",
      "val   bc2013-w neutral       100     398.678\n"
     ]
    }
   ],
   "source": [
    "from metadata import MetaData, convert_sec\n",
    "\n",
    "db = \"bc2013\"\n",
    "md = MetaData(db)\n",
    "md.print_data_stat()"
   ]
  },
  {
   "cell_type": "code",
   "execution_count": 117,
   "metadata": {},
   "outputs": [
    {
     "name": "stdout",
     "output_type": "stream",
     "text": [
      "(0.0, 25.0, 54.12799999999993)\n",
      "(91.0, 16.0, 49.053000000014435)\n",
      "(0.0, 6.0, 38.678)\n"
     ]
    }
   ],
   "source": [
    "print(convert_sec(1554.128))\n",
    "print(convert_sec(328609.053))\n",
    "print(convert_sec(398.678))"
   ]
  }
 ],
 "metadata": {
  "kernelspec": {
   "display_name": "Python 3",
   "language": "python",
   "name": "python3"
  },
  "language_info": {
   "codemirror_mode": {
    "name": "ipython",
    "version": 3
   },
   "file_extension": ".py",
   "mimetype": "text/x-python",
   "name": "python",
   "nbconvert_exporter": "python",
   "pygments_lexer": "ipython3",
   "version": "3.7.4"
  }
 },
 "nbformat": 4,
 "nbformat_minor": 4
}
