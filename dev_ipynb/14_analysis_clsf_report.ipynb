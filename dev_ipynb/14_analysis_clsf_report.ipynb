{
 "cells": [
  {
   "cell_type": "code",
   "execution_count": 1,
   "metadata": {},
   "outputs": [],
   "source": [
    "from sklearn.metrics import classification_report\n",
    "from sklearn.metrics import confusion_matrix\n",
    "import numpy as np\n",
    "from pprint import pprint"
   ]
  },
  {
   "cell_type": "code",
   "execution_count": 26,
   "metadata": {},
   "outputs": [],
   "source": [
    "y_true = np.asarray([0, 1, 3, 3, 3])\n",
    "y_pred =  np.asarray([0, 0, 3, 3, 1])\n",
    "target_names = ['class 0', 'class 1', 'class 2']"
   ]
  },
  {
   "cell_type": "code",
   "execution_count": 27,
   "metadata": {},
   "outputs": [],
   "source": [
    "report_dict = classification_report(y_true, y_pred, target_names=target_names, output_dict=True)"
   ]
  },
  {
   "cell_type": "code",
   "execution_count": 28,
   "metadata": {},
   "outputs": [
    {
     "name": "stdout",
     "output_type": "stream",
     "text": [
      "{'accuracy': 0.6,\n",
      " 'class 0': {'f1-score': 0.6666666666666666,\n",
      "             'precision': 0.5,\n",
      "             'recall': 1.0,\n",
      "             'support': 1},\n",
      " 'class 1': {'f1-score': 0.0, 'precision': 0.0, 'recall': 0.0, 'support': 1},\n",
      " 'class 2': {'f1-score': 0.8,\n",
      "             'precision': 1.0,\n",
      "             'recall': 0.6666666666666666,\n",
      "             'support': 3},\n",
      " 'macro avg': {'f1-score': 0.48888888888888893,\n",
      "               'precision': 0.5,\n",
      "               'recall': 0.5555555555555555,\n",
      "               'support': 5},\n",
      " 'weighted avg': {'f1-score': 0.6133333333333334,\n",
      "                  'precision': 0.7,\n",
      "                  'recall': 0.6,\n",
      "                  'support': 5}}\n"
     ]
    }
   ],
   "source": [
    "pprint(report_dict)"
   ]
  },
  {
   "cell_type": "code",
   "execution_count": 29,
   "metadata": {},
   "outputs": [
    {
     "name": "stdout",
     "output_type": "stream",
     "text": [
      "array([[1, 0, 0],\n",
      "       [1, 0, 0],\n",
      "       [0, 1, 2]])\n"
     ]
    }
   ],
   "source": [
    "cm = confusion_matrix(y_true, y_pred)\n",
    "pprint(cm)"
   ]
  },
  {
   "cell_type": "code",
   "execution_count": 30,
   "metadata": {},
   "outputs": [
    {
     "name": "stdout",
     "output_type": "stream",
     "text": [
      "array([[1, 0, 0],\n",
      "       [1, 0, 0],\n",
      "       [0, 1, 2]])\n"
     ]
    }
   ],
   "source": [
    "cm = confusion_matrix(y_true, y_pred)\n",
    "pprint(cm)"
   ]
  },
  {
   "cell_type": "code",
   "execution_count": 31,
   "metadata": {},
   "outputs": [
    {
     "ename": "ValueError",
     "evalue": "operands could not be broadcast together with shapes (4,4) (3,3) (4,4) ",
     "output_type": "error",
     "traceback": [
      "\u001b[0;31m---------------------------------------------------------------------------\u001b[0m",
      "\u001b[0;31mValueError\u001b[0m                                Traceback (most recent call last)",
      "\u001b[0;32m<ipython-input-31-4d6b73c6c570>\u001b[0m in \u001b[0;36m<module>\u001b[0;34m\u001b[0m\n\u001b[1;32m      1\u001b[0m \u001b[0mtrue_labels\u001b[0m \u001b[0;34m=\u001b[0m \u001b[0mnp\u001b[0m\u001b[0;34m.\u001b[0m\u001b[0masarray\u001b[0m\u001b[0;34m(\u001b[0m\u001b[0;34m[\u001b[0m\u001b[0;36m0\u001b[0m\u001b[0;34m,\u001b[0m \u001b[0;36m1\u001b[0m\u001b[0;34m,\u001b[0m \u001b[0;36m2\u001b[0m\u001b[0;34m]\u001b[0m\u001b[0;34m)\u001b[0m\u001b[0;34m\u001b[0m\u001b[0;34m\u001b[0m\u001b[0m\n\u001b[1;32m      2\u001b[0m \u001b[0mcm\u001b[0m \u001b[0;34m=\u001b[0m \u001b[0mconfusion_matrix\u001b[0m\u001b[0;34m(\u001b[0m\u001b[0mnp\u001b[0m\u001b[0;34m.\u001b[0m\u001b[0mappend\u001b[0m\u001b[0;34m(\u001b[0m\u001b[0my_true\u001b[0m\u001b[0;34m,\u001b[0m \u001b[0mtrue_labels\u001b[0m\u001b[0;34m)\u001b[0m\u001b[0;34m,\u001b[0m \u001b[0mnp\u001b[0m\u001b[0;34m.\u001b[0m\u001b[0mappend\u001b[0m\u001b[0;34m(\u001b[0m\u001b[0my_pred\u001b[0m\u001b[0;34m,\u001b[0m \u001b[0mtrue_labels\u001b[0m\u001b[0;34m)\u001b[0m\u001b[0;34m)\u001b[0m\u001b[0;34m\u001b[0m\u001b[0;34m\u001b[0m\u001b[0m\n\u001b[0;32m----> 3\u001b[0;31m \u001b[0mcm\u001b[0m \u001b[0;34m-=\u001b[0m \u001b[0mnp\u001b[0m\u001b[0;34m.\u001b[0m\u001b[0meye\u001b[0m\u001b[0;34m(\u001b[0m\u001b[0mlen\u001b[0m\u001b[0;34m(\u001b[0m\u001b[0mtrue_labels\u001b[0m\u001b[0;34m)\u001b[0m\u001b[0;34m,\u001b[0m \u001b[0mdtype\u001b[0m\u001b[0;34m=\u001b[0m\u001b[0mcm\u001b[0m\u001b[0;34m.\u001b[0m\u001b[0mdtype\u001b[0m\u001b[0;34m)\u001b[0m\u001b[0;34m\u001b[0m\u001b[0;34m\u001b[0m\u001b[0m\n\u001b[0m\u001b[1;32m      4\u001b[0m \u001b[0mpprint\u001b[0m\u001b[0;34m(\u001b[0m\u001b[0mcm\u001b[0m\u001b[0;34m)\u001b[0m\u001b[0;34m\u001b[0m\u001b[0;34m\u001b[0m\u001b[0m\n",
      "\u001b[0;31mValueError\u001b[0m: operands could not be broadcast together with shapes (4,4) (3,3) (4,4) "
     ]
    }
   ],
   "source": [
    "true_labels = np.asarray([0, 1, 2])\n",
    "cm = confusion_matrix(np.append(y_true, true_labels), np.append(y_pred, true_labels))\n",
    "cm -= np.eye(len(true_labels), dtype=cm.dtype)\n",
    "pprint(cm)"
   ]
  },
  {
   "cell_type": "code",
   "execution_count": 15,
   "metadata": {},
   "outputs": [],
   "source": [
    "true_labels = np.asarray([0, 1, 2])"
   ]
  },
  {
   "cell_type": "code",
   "execution_count": 25,
   "metadata": {},
   "outputs": [
    {
     "data": {
      "text/plain": [
       "dtype('int64')"
      ]
     },
     "execution_count": 25,
     "metadata": {},
     "output_type": "execute_result"
    }
   ],
   "source": [
    "np.arange(5)"
   ]
  },
  {
   "cell_type": "code",
   "execution_count": 11,
   "metadata": {},
   "outputs": [
    {
     "name": "stdout",
     "output_type": "stream",
     "text": [
      "0.6\n"
     ]
    }
   ],
   "source": [
    "accuracy = cm.diagonal().sum() / cm.sum()\n",
    "print(accuracy)"
   ]
  },
  {
   "cell_type": "code",
   "execution_count": 26,
   "metadata": {},
   "outputs": [],
   "source": [
    "import numpy as np\n",
    "\n",
    "def get_accuracy(confusion_matrix):\n",
    "    cm = confusion_matrix\n",
    "    accuracy = cm.diagonal().sum() / cm.sum()\n",
    "    return accuracy\n",
    "\n",
    "def get_clsf_report(confusion_matrix, target_names):\n",
    "    report_dict = dict()\n",
    "    cm = confusion_matrix\n",
    "    \n",
    "    # Compute accuracy\n",
    "    accuracy = cm.diagonal().sum() / cm.sum()\n",
    "    report_dict['accuracy'] = accuracy\n",
    "    \n",
    "    for str_target in  target_names:\n",
    "        i_class = target_names.index(str_target)\n",
    "        tp = cm[i_class, i_class]\n",
    "        tn = cm[i_class,:].sum() - tp\n",
    "        fp = cm[:,i_class].sum() - tp\n",
    "        fn = cm.sum() - tp - tn - fp\n",
    "        if (tp + fp) == 0:\n",
    "            precision = 0.0\n",
    "        else:\n",
    "            precision = tp / (tp + fp)\n",
    "        if (tp + tn) == 0:\n",
    "            recall = 0.0\n",
    "        else:\n",
    "            recall = tp / (tp + tn)\n",
    "        if precision == 0 or recall == 0:\n",
    "            f1_score = 0.0\n",
    "        else:\n",
    "            f1_score = 2 / (1 / precision + 1 / recall)\n",
    "            \n",
    "        report_dict[str_target] = {\n",
    "            \"precision\":precision, \n",
    "            \"recall\":recall, \n",
    "            \"f1-score\":f1_score\n",
    "        }\n",
    "        \n",
    "    return report_dict"
   ]
  },
  {
   "cell_type": "code",
   "execution_count": 29,
   "metadata": {},
   "outputs": [
    {
     "data": {
      "text/plain": [
       "{'accuracy': 0.6,\n",
       " 'class 0': {'precision': 0.5, 'recall': 1.0, 'f1-score': 0.6666666666666666},\n",
       " 'class 1': {'precision': 0.0, 'recall': 0.0, 'f1-score': 0.0},\n",
       " 'class 2': {'precision': 1.0, 'recall': 0.6666666666666666, 'f1-score': 0.8}}"
      ]
     },
     "execution_count": 29,
     "metadata": {},
     "output_type": "execute_result"
    }
   ],
   "source": [
    "get_clsf_report(cm, target_names)"
   ]
  }
 ],
 "metadata": {
  "kernelspec": {
   "display_name": "Python 3",
   "language": "python",
   "name": "python3"
  },
  "language_info": {
   "codemirror_mode": {
    "name": "ipython",
    "version": 3
   },
   "file_extension": ".py",
   "mimetype": "text/x-python",
   "name": "python",
   "nbconvert_exporter": "python",
   "pygments_lexer": "ipython3",
   "version": "3.7.4"
  }
 },
 "nbformat": 4,
 "nbformat_minor": 4
}
