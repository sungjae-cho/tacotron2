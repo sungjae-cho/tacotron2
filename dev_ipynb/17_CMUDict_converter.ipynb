{
 "cells": [
  {
   "cell_type": "code",
   "execution_count": 1,
   "metadata": {},
   "outputs": [
    {
     "name": "stdout",
     "output_type": "stream",
     "text": [
      "The working directory is moved from /data2/sungjaecho/Projects/tacotron2/dev_ipynb to /data2/sungjaecho/Projects/tacotron2.\n"
     ]
    }
   ],
   "source": [
    "import os\n",
    "cwd_old = os.getcwd()\n",
    "os.chdir('..')\n",
    "cwd_new = os.getcwd()\n",
    "print(\"The working directory is moved from {} to {}.\".format(cwd_old, cwd_new))"
   ]
  },
  {
   "cell_type": "code",
   "execution_count": 2,
   "metadata": {},
   "outputs": [],
   "source": [
    "from text import text_to_cmu_arpabets\n",
    "from g2p_en import G2p\n",
    "\n",
    "g2p = G2p()\n",
    "text = \"This is a synthesized audio without teacher-forcing. Any question?\""
   ]
  },
  {
   "cell_type": "code",
   "execution_count": 3,
   "metadata": {},
   "outputs": [
    {
     "name": "stdout",
     "output_type": "stream",
     "text": [
      "['DH', 'IH1', 'S', ' ', 'IH1', 'Z', ' ', 'EY1', ' ', 'S', 'IH1', 'N', 'TH', 'IH0', 'S', 'AY2', 'Z', 'D', ' ', 'AO2', 'D', 'IY0', 'OW0', ' ', 'W', 'IH0', 'TH', 'AW1', 'T', ' ', 'T', 'IY1', 'CH', 'ER0', ' ', '-', ' ', 'F', 'AO1', 'R', 'S', 'IH0', 'NG', ' ', '.', ' ', 'EH1', 'N', 'IY0', ' ', 'K', 'W', 'EH1', 'S', 'CH', 'AH0', 'N', ' ', '?']\n"
     ]
    }
   ],
   "source": [
    "print(text_to_cmu_arpabets(text))"
   ]
  },
  {
   "cell_type": "code",
   "execution_count": 4,
   "metadata": {},
   "outputs": [
    {
     "name": "stdout",
     "output_type": "stream",
     "text": [
      "['DH', 'IH1', 'S', ' ', 'IH1', 'Z', ' ', 'AH0', ' ', 'S', 'IH1', 'N', 'TH', 'IH0', 'S', 'AY2', 'Z', 'D', ' ', 'AA1', 'D', 'IY0', 'OW2', ' ', 'W', 'IH0', 'TH', 'AW1', 'T', ' ', 'T', 'IY1', 'CH', 'ER0', 'F', 'ER0', 'S', 'IH0', 'NG', ' ', '.', ' ', 'EH1', 'N', 'IY0', ' ', 'K', 'W', 'EH1', 'S', 'CH', 'AH0', 'N', ' ', '?']\n"
     ]
    }
   ],
   "source": [
    "print(g2p(text))"
   ]
  }
 ],
 "metadata": {
  "kernelspec": {
   "display_name": "Python 3",
   "language": "python",
   "name": "python3"
  },
  "language_info": {
   "codemirror_mode": {
    "name": "ipython",
    "version": 3
   },
   "file_extension": ".py",
   "mimetype": "text/x-python",
   "name": "python",
   "nbconvert_exporter": "python",
   "pygments_lexer": "ipython3",
   "version": "3.7.4"
  }
 },
 "nbformat": 4,
 "nbformat_minor": 4
}
